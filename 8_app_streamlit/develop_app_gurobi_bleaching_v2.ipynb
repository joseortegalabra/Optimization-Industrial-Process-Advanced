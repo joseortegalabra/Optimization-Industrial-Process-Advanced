{
 "cells": [
  {
   "cell_type": "markdown",
   "id": "ec518247-2417-4eb6-bbde-41b6d6d3bc2a",
   "metadata": {},
   "source": [
    "# Gurobi multiple ml models\n",
    "Update previos notebook with the delta constraints in decision variables. As this problem try to represent an Industrial Process, physically there are some limitations in the dinamics of the process and the values of the decision process can't change too fast.\n",
    "\n",
    "**In this update adding a constraints to limite the rate of change of the decision variables (only the decision variables that are features of machine learning models, not the decision variables that are targets)**\n",
    "\n",
    "\n",
    "-------\n",
    "The constraints added are the follow:\n",
    "\n",
    "si quiero calcular el valor absoluto de una diferencia de variables de decisión se tiene la **variable auxiliar y** para representar el **valor absoluto de x1-x2**\n",
    "\n",
    "- y >= (x1 - x2)\n",
    "\n",
    "- y >= -(x1 - x2)\n",
    "\n",
    "- y <= delta"
   ]
  },
  {
   "cell_type": "markdown",
   "id": "09eeb8af-89b9-4db8-b879-8c47d6024697",
   "metadata": {},
   "source": [
    "## Root folder and read env variables"
   ]
  },
  {
   "cell_type": "code",
   "execution_count": 1,
   "id": "952fd7e6-61ba-40a3-8f70-facfeef0e8dd",
   "metadata": {},
   "outputs": [],
   "source": [
    "import os\n",
    "from dotenv import load_dotenv, find_dotenv # package used in jupyter notebook to read the variables in file .env\n",
    "\n",
    "\"\"\" get env variable from .env \"\"\"\n",
    "load_dotenv(find_dotenv())\n",
    "\n",
    "\"\"\" Read env variables and save it as python variable \"\"\"\n",
    "PROJECT_GCP = os.environ.get(\"PROJECT_GCP\", \"\")"
   ]
  },
  {
   "cell_type": "code",
   "execution_count": null,
   "id": "5b919963-78c6-4231-8a94-7726f0f40cfd",
   "metadata": {},
   "outputs": [],
   "source": []
  },
  {
   "cell_type": "markdown",
   "id": "681be18c-bd24-4469-91cc-5b97fbb7be93",
   "metadata": {},
   "source": [
    "## RUN"
   ]
  },
  {
   "cell_type": "code",
   "execution_count": 2,
   "id": "f13dc83a-84fa-43c6-a95f-9950d3f5f061",
   "metadata": {},
   "outputs": [],
   "source": [
    "import pickle\n",
    "import pandas as pd\n",
    "import numpy as np\n",
    "\n",
    "#gurobi\n",
    "import gurobipy_pandas as gppd\n",
    "from gurobi_ml import add_predictor_constr\n",
    "import gurobipy as gp"
   ]
  },
  {
   "cell_type": "code",
   "execution_count": null,
   "id": "699469b7-d017-4df8-9339-ddd7c6c9f508",
   "metadata": {},
   "outputs": [],
   "source": []
  },
  {
   "cell_type": "markdown",
   "id": "026f7a68-5d14-47a8-95a8-49c1ecfee307",
   "metadata": {},
   "source": [
    "## USER INPUT\n",
    "User input:\n",
    "- Actual values features no controlables\n",
    "- Actual values features controlables\n",
    "- Delta permitido features controlables"
   ]
  },
  {
   "cell_type": "code",
   "execution_count": 3,
   "id": "d1974f99-5de8-4b4a-9240-87459293ad84",
   "metadata": {},
   "outputs": [],
   "source": [
    "########## d0eop_microkappa\n",
    "\n",
    "############################### Actual values features no controlables ###############################\n",
    "input_kappa_d0 = 6.349346  # \"240AIT063A.PNT\"\n",
    "input_brillo_d0 = 61.826925 # \"240AIT063B.PNT\"\n",
    "input_calc_prod_d0 = 3346.85825 # \"calc_prod_d0\"\n",
    "input_dqo_evaporadores = 707.265937 # \"SSTRIPPING015\"\n",
    "input_concentracion_clo2_d0 = 11.516543 #\"S276PER002\"\n",
    "input_ph_a = 2.93846 # \"240AIC022.MEAS\"\n",
    "\n",
    "\n",
    "############################### Actual values features controlables ###############################\n",
    "input_actual_value_especifico_dioxido_d0 = 6.46 #\"240FY050.RO02\"\n",
    "input_actual_value_especifico_oxigeno_eop = 1.08 #\"240FY118B.RO01\"\n",
    "input_actual_value_especifico_peroxido_eop = 4.90 #\"240FY11PB.RO01\"\n",
    "input_actual_value_especifico_soda_eop = 8.84 #\"240FY107A.RO01\"\n",
    "\n",
    "\n",
    "############################### Delta permitido features controlables ############################### (it is neccesary the values be float to change decimals delta)\n",
    "input_delta_especifico_dioxido_d0 = 0.5\n",
    "input_delta_especifico_oxigeno_eop = 1.0\n",
    "input_delta_especifico_peroxido_eop = 1.0\n",
    "input_delta_especifico_soda_eop = 1.0"
   ]
  },
  {
   "cell_type": "code",
   "execution_count": 4,
   "id": "4844b6ca-3077-4df9-91b2-d61113e043c4",
   "metadata": {},
   "outputs": [],
   "source": [
    "########## d1_brillo\n",
    "\n",
    "############################### Actual values features no controlables ###############################\n",
    "input_blancura_d1 = 85.051634 #\"240AIT225B.PNT\"\n",
    "input_prod_bypass = 169.45041 #\"240FI108A.PNT\"\n",
    "input_calc_prod_d1 = 3347.664057 #\"calc_prod_d1\"\n",
    "input_temperatura_d1 = 77.212822 #\"240TIT223.PNT\"\n",
    "\n",
    "\n",
    "############################### Actual values features controlables ###############################\n",
    "input_actual_value_especifico_dioxido_d1 = 2.89 #\"240FY218.RO02\"\n",
    "input_actual_value_especifico_acido_d1 = 1.93 #\"240FY210A.RO01\"\n",
    "\n",
    "\n",
    "############################### Delta permitido features controlables ###############################\n",
    "input_delta_especifico_dioxido_d1 = 1.0\n",
    "input_delta_especifico_acido_d1 = 1.0"
   ]
  },
  {
   "cell_type": "code",
   "execution_count": 5,
   "id": "a476a3a7-95be-440c-82b6-e870313b6404",
   "metadata": {},
   "outputs": [],
   "source": [
    "########## p_blancura\n",
    "\n",
    "############################### Actual values features no controlables ###############################\n",
    "input_calc_prod_p = 3346.185561 #\"calc_prod_p\"\n",
    "input_ph_p = 10.382279 #\"240AIC324.MEAS\"\n",
    "\n",
    "\n",
    "############################### Actual values features controlables ###############################\n",
    "input_actual_value_especifico_soda_p = 2.65 #\"240FY312.RO01\"\n",
    "input_actual_value_especifico_peroxido_p = 0.78 #\"240FY397.RO01\"\n",
    "input_actual_value_especifico_acido_p = 2.01 #\"240FY430.RO01\"\n",
    "\n",
    "\n",
    "############################### Delta permitido features controlables ###############################\n",
    "input_delta_especifico_soda_p = 1.0\n",
    "input_delta_especifico_peroxido_p = 1.0\n",
    "input_delta_especifico_acido_p = 1.0"
   ]
  },
  {
   "cell_type": "code",
   "execution_count": null,
   "id": "d621a351-a9ec-4747-85f8-538ee528e402",
   "metadata": {},
   "outputs": [],
   "source": []
  },
  {
   "cell_type": "markdown",
   "id": "a88d5cfa-efee-436f-9f30-696a23517824",
   "metadata": {},
   "source": [
    "## PREPARATION"
   ]
  },
  {
   "cell_type": "markdown",
   "id": "dad1fc4c-2849-4383-a5c5-13ab26ceb5e5",
   "metadata": {},
   "source": [
    "### 2. Load model machine learning - MANUALLY - HARDCODED"
   ]
  },
  {
   "cell_type": "code",
   "execution_count": 6,
   "id": "0bd2a455-958a-4cfb-873b-930ab99ebc8a",
   "metadata": {},
   "outputs": [
    {
     "data": {
      "text/html": [
       "<style>#sk-container-id-1 {color: black;}#sk-container-id-1 pre{padding: 0;}#sk-container-id-1 div.sk-toggleable {background-color: white;}#sk-container-id-1 label.sk-toggleable__label {cursor: pointer;display: block;width: 100%;margin-bottom: 0;padding: 0.3em;box-sizing: border-box;text-align: center;}#sk-container-id-1 label.sk-toggleable__label-arrow:before {content: \"▸\";float: left;margin-right: 0.25em;color: #696969;}#sk-container-id-1 label.sk-toggleable__label-arrow:hover:before {color: black;}#sk-container-id-1 div.sk-estimator:hover label.sk-toggleable__label-arrow:before {color: black;}#sk-container-id-1 div.sk-toggleable__content {max-height: 0;max-width: 0;overflow: hidden;text-align: left;background-color: #f0f8ff;}#sk-container-id-1 div.sk-toggleable__content pre {margin: 0.2em;color: black;border-radius: 0.25em;background-color: #f0f8ff;}#sk-container-id-1 input.sk-toggleable__control:checked~div.sk-toggleable__content {max-height: 200px;max-width: 100%;overflow: auto;}#sk-container-id-1 input.sk-toggleable__control:checked~label.sk-toggleable__label-arrow:before {content: \"▾\";}#sk-container-id-1 div.sk-estimator input.sk-toggleable__control:checked~label.sk-toggleable__label {background-color: #d4ebff;}#sk-container-id-1 div.sk-label input.sk-toggleable__control:checked~label.sk-toggleable__label {background-color: #d4ebff;}#sk-container-id-1 input.sk-hidden--visually {border: 0;clip: rect(1px 1px 1px 1px);clip: rect(1px, 1px, 1px, 1px);height: 1px;margin: -1px;overflow: hidden;padding: 0;position: absolute;width: 1px;}#sk-container-id-1 div.sk-estimator {font-family: monospace;background-color: #f0f8ff;border: 1px dotted black;border-radius: 0.25em;box-sizing: border-box;margin-bottom: 0.5em;}#sk-container-id-1 div.sk-estimator:hover {background-color: #d4ebff;}#sk-container-id-1 div.sk-parallel-item::after {content: \"\";width: 100%;border-bottom: 1px solid gray;flex-grow: 1;}#sk-container-id-1 div.sk-label:hover label.sk-toggleable__label {background-color: #d4ebff;}#sk-container-id-1 div.sk-serial::before {content: \"\";position: absolute;border-left: 1px solid gray;box-sizing: border-box;top: 0;bottom: 0;left: 50%;z-index: 0;}#sk-container-id-1 div.sk-serial {display: flex;flex-direction: column;align-items: center;background-color: white;padding-right: 0.2em;padding-left: 0.2em;position: relative;}#sk-container-id-1 div.sk-item {position: relative;z-index: 1;}#sk-container-id-1 div.sk-parallel {display: flex;align-items: stretch;justify-content: center;background-color: white;position: relative;}#sk-container-id-1 div.sk-item::before, #sk-container-id-1 div.sk-parallel-item::before {content: \"\";position: absolute;border-left: 1px solid gray;box-sizing: border-box;top: 0;bottom: 0;left: 50%;z-index: -1;}#sk-container-id-1 div.sk-parallel-item {display: flex;flex-direction: column;z-index: 1;position: relative;background-color: white;}#sk-container-id-1 div.sk-parallel-item:first-child::after {align-self: flex-end;width: 50%;}#sk-container-id-1 div.sk-parallel-item:last-child::after {align-self: flex-start;width: 50%;}#sk-container-id-1 div.sk-parallel-item:only-child::after {width: 0;}#sk-container-id-1 div.sk-dashed-wrapped {border: 1px dashed gray;margin: 0 0.4em 0.5em 0.4em;box-sizing: border-box;padding-bottom: 0.4em;background-color: white;}#sk-container-id-1 div.sk-label label {font-family: monospace;font-weight: bold;display: inline-block;line-height: 1.2em;}#sk-container-id-1 div.sk-label-container {text-align: center;}#sk-container-id-1 div.sk-container {/* jupyter's `normalize.less` sets `[hidden] { display: none; }` but bootstrap.min.css set `[hidden] { display: none !important; }` so we also need the `!important` here to be able to override the default hidden behavior on the sphinx rendered scikit-learn.org. See: https://github.com/scikit-learn/scikit-learn/issues/21755 */display: inline-block !important;position: relative;}#sk-container-id-1 div.sk-text-repr-fallback {display: none;}</style><div id=\"sk-container-id-1\" class=\"sk-top-container\"><div class=\"sk-text-repr-fallback\"><pre>Pipeline(steps=[(&#x27;poly_feature_2&#x27;, PolynomialFeatures()),\n",
       "                (&#x27;lr&#x27;, LinearRegression())])</pre><b>In a Jupyter environment, please rerun this cell to show the HTML representation or trust the notebook. <br />On GitHub, the HTML representation is unable to render, please try loading this page with nbviewer.org.</b></div><div class=\"sk-container\" hidden><div class=\"sk-item sk-dashed-wrapped\"><div class=\"sk-label-container\"><div class=\"sk-label sk-toggleable\"><input class=\"sk-toggleable__control sk-hidden--visually\" id=\"sk-estimator-id-1\" type=\"checkbox\" ><label for=\"sk-estimator-id-1\" class=\"sk-toggleable__label sk-toggleable__label-arrow\">Pipeline</label><div class=\"sk-toggleable__content\"><pre>Pipeline(steps=[(&#x27;poly_feature_2&#x27;, PolynomialFeatures()),\n",
       "                (&#x27;lr&#x27;, LinearRegression())])</pre></div></div></div><div class=\"sk-serial\"><div class=\"sk-item\"><div class=\"sk-estimator sk-toggleable\"><input class=\"sk-toggleable__control sk-hidden--visually\" id=\"sk-estimator-id-2\" type=\"checkbox\" ><label for=\"sk-estimator-id-2\" class=\"sk-toggleable__label sk-toggleable__label-arrow\">PolynomialFeatures</label><div class=\"sk-toggleable__content\"><pre>PolynomialFeatures()</pre></div></div></div><div class=\"sk-item\"><div class=\"sk-estimator sk-toggleable\"><input class=\"sk-toggleable__control sk-hidden--visually\" id=\"sk-estimator-id-3\" type=\"checkbox\" ><label for=\"sk-estimator-id-3\" class=\"sk-toggleable__label sk-toggleable__label-arrow\">LinearRegression</label><div class=\"sk-toggleable__content\"><pre>LinearRegression()</pre></div></div></div></div></div></div></div>"
      ],
      "text/plain": [
       "Pipeline(steps=[('poly_feature_2', PolynomialFeatures()),\n",
       "                ('lr', LinearRegression())])"
      ]
     },
     "execution_count": 6,
     "metadata": {},
     "output_type": "execute_result"
    }
   ],
   "source": [
    "######################## read model d0eop_microkappa ########################\n",
    "path_model_d0eop_microkappa = f'models/d0eop_microkappa/lr.pkl'\n",
    "model_d0eop_microkappa = pd.read_pickle(path_model_d0eop_microkappa)\n",
    "model_d0eop_microkappa"
   ]
  },
  {
   "cell_type": "code",
   "execution_count": 7,
   "id": "20b49393-475b-4b45-9fcc-911ff09efc7a",
   "metadata": {},
   "outputs": [
    {
     "data": {
      "text/html": [
       "<style>#sk-container-id-2 {color: black;}#sk-container-id-2 pre{padding: 0;}#sk-container-id-2 div.sk-toggleable {background-color: white;}#sk-container-id-2 label.sk-toggleable__label {cursor: pointer;display: block;width: 100%;margin-bottom: 0;padding: 0.3em;box-sizing: border-box;text-align: center;}#sk-container-id-2 label.sk-toggleable__label-arrow:before {content: \"▸\";float: left;margin-right: 0.25em;color: #696969;}#sk-container-id-2 label.sk-toggleable__label-arrow:hover:before {color: black;}#sk-container-id-2 div.sk-estimator:hover label.sk-toggleable__label-arrow:before {color: black;}#sk-container-id-2 div.sk-toggleable__content {max-height: 0;max-width: 0;overflow: hidden;text-align: left;background-color: #f0f8ff;}#sk-container-id-2 div.sk-toggleable__content pre {margin: 0.2em;color: black;border-radius: 0.25em;background-color: #f0f8ff;}#sk-container-id-2 input.sk-toggleable__control:checked~div.sk-toggleable__content {max-height: 200px;max-width: 100%;overflow: auto;}#sk-container-id-2 input.sk-toggleable__control:checked~label.sk-toggleable__label-arrow:before {content: \"▾\";}#sk-container-id-2 div.sk-estimator input.sk-toggleable__control:checked~label.sk-toggleable__label {background-color: #d4ebff;}#sk-container-id-2 div.sk-label input.sk-toggleable__control:checked~label.sk-toggleable__label {background-color: #d4ebff;}#sk-container-id-2 input.sk-hidden--visually {border: 0;clip: rect(1px 1px 1px 1px);clip: rect(1px, 1px, 1px, 1px);height: 1px;margin: -1px;overflow: hidden;padding: 0;position: absolute;width: 1px;}#sk-container-id-2 div.sk-estimator {font-family: monospace;background-color: #f0f8ff;border: 1px dotted black;border-radius: 0.25em;box-sizing: border-box;margin-bottom: 0.5em;}#sk-container-id-2 div.sk-estimator:hover {background-color: #d4ebff;}#sk-container-id-2 div.sk-parallel-item::after {content: \"\";width: 100%;border-bottom: 1px solid gray;flex-grow: 1;}#sk-container-id-2 div.sk-label:hover label.sk-toggleable__label {background-color: #d4ebff;}#sk-container-id-2 div.sk-serial::before {content: \"\";position: absolute;border-left: 1px solid gray;box-sizing: border-box;top: 0;bottom: 0;left: 50%;z-index: 0;}#sk-container-id-2 div.sk-serial {display: flex;flex-direction: column;align-items: center;background-color: white;padding-right: 0.2em;padding-left: 0.2em;position: relative;}#sk-container-id-2 div.sk-item {position: relative;z-index: 1;}#sk-container-id-2 div.sk-parallel {display: flex;align-items: stretch;justify-content: center;background-color: white;position: relative;}#sk-container-id-2 div.sk-item::before, #sk-container-id-2 div.sk-parallel-item::before {content: \"\";position: absolute;border-left: 1px solid gray;box-sizing: border-box;top: 0;bottom: 0;left: 50%;z-index: -1;}#sk-container-id-2 div.sk-parallel-item {display: flex;flex-direction: column;z-index: 1;position: relative;background-color: white;}#sk-container-id-2 div.sk-parallel-item:first-child::after {align-self: flex-end;width: 50%;}#sk-container-id-2 div.sk-parallel-item:last-child::after {align-self: flex-start;width: 50%;}#sk-container-id-2 div.sk-parallel-item:only-child::after {width: 0;}#sk-container-id-2 div.sk-dashed-wrapped {border: 1px dashed gray;margin: 0 0.4em 0.5em 0.4em;box-sizing: border-box;padding-bottom: 0.4em;background-color: white;}#sk-container-id-2 div.sk-label label {font-family: monospace;font-weight: bold;display: inline-block;line-height: 1.2em;}#sk-container-id-2 div.sk-label-container {text-align: center;}#sk-container-id-2 div.sk-container {/* jupyter's `normalize.less` sets `[hidden] { display: none; }` but bootstrap.min.css set `[hidden] { display: none !important; }` so we also need the `!important` here to be able to override the default hidden behavior on the sphinx rendered scikit-learn.org. See: https://github.com/scikit-learn/scikit-learn/issues/21755 */display: inline-block !important;position: relative;}#sk-container-id-2 div.sk-text-repr-fallback {display: none;}</style><div id=\"sk-container-id-2\" class=\"sk-top-container\"><div class=\"sk-text-repr-fallback\"><pre>LinearRegression()</pre><b>In a Jupyter environment, please rerun this cell to show the HTML representation or trust the notebook. <br />On GitHub, the HTML representation is unable to render, please try loading this page with nbviewer.org.</b></div><div class=\"sk-container\" hidden><div class=\"sk-item\"><div class=\"sk-estimator sk-toggleable\"><input class=\"sk-toggleable__control sk-hidden--visually\" id=\"sk-estimator-id-4\" type=\"checkbox\" checked><label for=\"sk-estimator-id-4\" class=\"sk-toggleable__label sk-toggleable__label-arrow\">LinearRegression</label><div class=\"sk-toggleable__content\"><pre>LinearRegression()</pre></div></div></div></div></div>"
      ],
      "text/plain": [
       "LinearRegression()"
      ]
     },
     "execution_count": 7,
     "metadata": {},
     "output_type": "execute_result"
    }
   ],
   "source": [
    "######################## read model d1_brillo ########################\n",
    "path_model_d1_brillo = f'models/d1_brillo/lr.pkl'\n",
    "model_d1_brillo = pd.read_pickle(path_model_d1_brillo)\n",
    "model_d1_brillo"
   ]
  },
  {
   "cell_type": "code",
   "execution_count": 8,
   "id": "3ef4e144-084f-4fd4-9144-152cdae04916",
   "metadata": {},
   "outputs": [
    {
     "data": {
      "text/html": [
       "<style>#sk-container-id-3 {color: black;}#sk-container-id-3 pre{padding: 0;}#sk-container-id-3 div.sk-toggleable {background-color: white;}#sk-container-id-3 label.sk-toggleable__label {cursor: pointer;display: block;width: 100%;margin-bottom: 0;padding: 0.3em;box-sizing: border-box;text-align: center;}#sk-container-id-3 label.sk-toggleable__label-arrow:before {content: \"▸\";float: left;margin-right: 0.25em;color: #696969;}#sk-container-id-3 label.sk-toggleable__label-arrow:hover:before {color: black;}#sk-container-id-3 div.sk-estimator:hover label.sk-toggleable__label-arrow:before {color: black;}#sk-container-id-3 div.sk-toggleable__content {max-height: 0;max-width: 0;overflow: hidden;text-align: left;background-color: #f0f8ff;}#sk-container-id-3 div.sk-toggleable__content pre {margin: 0.2em;color: black;border-radius: 0.25em;background-color: #f0f8ff;}#sk-container-id-3 input.sk-toggleable__control:checked~div.sk-toggleable__content {max-height: 200px;max-width: 100%;overflow: auto;}#sk-container-id-3 input.sk-toggleable__control:checked~label.sk-toggleable__label-arrow:before {content: \"▾\";}#sk-container-id-3 div.sk-estimator input.sk-toggleable__control:checked~label.sk-toggleable__label {background-color: #d4ebff;}#sk-container-id-3 div.sk-label input.sk-toggleable__control:checked~label.sk-toggleable__label {background-color: #d4ebff;}#sk-container-id-3 input.sk-hidden--visually {border: 0;clip: rect(1px 1px 1px 1px);clip: rect(1px, 1px, 1px, 1px);height: 1px;margin: -1px;overflow: hidden;padding: 0;position: absolute;width: 1px;}#sk-container-id-3 div.sk-estimator {font-family: monospace;background-color: #f0f8ff;border: 1px dotted black;border-radius: 0.25em;box-sizing: border-box;margin-bottom: 0.5em;}#sk-container-id-3 div.sk-estimator:hover {background-color: #d4ebff;}#sk-container-id-3 div.sk-parallel-item::after {content: \"\";width: 100%;border-bottom: 1px solid gray;flex-grow: 1;}#sk-container-id-3 div.sk-label:hover label.sk-toggleable__label {background-color: #d4ebff;}#sk-container-id-3 div.sk-serial::before {content: \"\";position: absolute;border-left: 1px solid gray;box-sizing: border-box;top: 0;bottom: 0;left: 50%;z-index: 0;}#sk-container-id-3 div.sk-serial {display: flex;flex-direction: column;align-items: center;background-color: white;padding-right: 0.2em;padding-left: 0.2em;position: relative;}#sk-container-id-3 div.sk-item {position: relative;z-index: 1;}#sk-container-id-3 div.sk-parallel {display: flex;align-items: stretch;justify-content: center;background-color: white;position: relative;}#sk-container-id-3 div.sk-item::before, #sk-container-id-3 div.sk-parallel-item::before {content: \"\";position: absolute;border-left: 1px solid gray;box-sizing: border-box;top: 0;bottom: 0;left: 50%;z-index: -1;}#sk-container-id-3 div.sk-parallel-item {display: flex;flex-direction: column;z-index: 1;position: relative;background-color: white;}#sk-container-id-3 div.sk-parallel-item:first-child::after {align-self: flex-end;width: 50%;}#sk-container-id-3 div.sk-parallel-item:last-child::after {align-self: flex-start;width: 50%;}#sk-container-id-3 div.sk-parallel-item:only-child::after {width: 0;}#sk-container-id-3 div.sk-dashed-wrapped {border: 1px dashed gray;margin: 0 0.4em 0.5em 0.4em;box-sizing: border-box;padding-bottom: 0.4em;background-color: white;}#sk-container-id-3 div.sk-label label {font-family: monospace;font-weight: bold;display: inline-block;line-height: 1.2em;}#sk-container-id-3 div.sk-label-container {text-align: center;}#sk-container-id-3 div.sk-container {/* jupyter's `normalize.less` sets `[hidden] { display: none; }` but bootstrap.min.css set `[hidden] { display: none !important; }` so we also need the `!important` here to be able to override the default hidden behavior on the sphinx rendered scikit-learn.org. See: https://github.com/scikit-learn/scikit-learn/issues/21755 */display: inline-block !important;position: relative;}#sk-container-id-3 div.sk-text-repr-fallback {display: none;}</style><div id=\"sk-container-id-3\" class=\"sk-top-container\"><div class=\"sk-text-repr-fallback\"><pre>Pipeline(steps=[(&#x27;poly_feature_2&#x27;, PolynomialFeatures()),\n",
       "                (&#x27;lr&#x27;, LinearRegression())])</pre><b>In a Jupyter environment, please rerun this cell to show the HTML representation or trust the notebook. <br />On GitHub, the HTML representation is unable to render, please try loading this page with nbviewer.org.</b></div><div class=\"sk-container\" hidden><div class=\"sk-item sk-dashed-wrapped\"><div class=\"sk-label-container\"><div class=\"sk-label sk-toggleable\"><input class=\"sk-toggleable__control sk-hidden--visually\" id=\"sk-estimator-id-5\" type=\"checkbox\" ><label for=\"sk-estimator-id-5\" class=\"sk-toggleable__label sk-toggleable__label-arrow\">Pipeline</label><div class=\"sk-toggleable__content\"><pre>Pipeline(steps=[(&#x27;poly_feature_2&#x27;, PolynomialFeatures()),\n",
       "                (&#x27;lr&#x27;, LinearRegression())])</pre></div></div></div><div class=\"sk-serial\"><div class=\"sk-item\"><div class=\"sk-estimator sk-toggleable\"><input class=\"sk-toggleable__control sk-hidden--visually\" id=\"sk-estimator-id-6\" type=\"checkbox\" ><label for=\"sk-estimator-id-6\" class=\"sk-toggleable__label sk-toggleable__label-arrow\">PolynomialFeatures</label><div class=\"sk-toggleable__content\"><pre>PolynomialFeatures()</pre></div></div></div><div class=\"sk-item\"><div class=\"sk-estimator sk-toggleable\"><input class=\"sk-toggleable__control sk-hidden--visually\" id=\"sk-estimator-id-7\" type=\"checkbox\" ><label for=\"sk-estimator-id-7\" class=\"sk-toggleable__label sk-toggleable__label-arrow\">LinearRegression</label><div class=\"sk-toggleable__content\"><pre>LinearRegression()</pre></div></div></div></div></div></div></div>"
      ],
      "text/plain": [
       "Pipeline(steps=[('poly_feature_2', PolynomialFeatures()),\n",
       "                ('lr', LinearRegression())])"
      ]
     },
     "execution_count": 8,
     "metadata": {},
     "output_type": "execute_result"
    }
   ],
   "source": [
    "######################## read model p_blancura ########################\n",
    "path_model_p_blancura = f'models/p_blancura/lr.pkl'\n",
    "model_p_blancura = pd.read_pickle(path_model_p_blancura)\n",
    "model_p_blancura"
   ]
  },
  {
   "cell_type": "code",
   "execution_count": null,
   "id": "32c0edc4-eb75-420f-8e79-06bae2e2a742",
   "metadata": {},
   "outputs": [],
   "source": []
  },
  {
   "cell_type": "code",
   "execution_count": null,
   "id": "0f542c69-8f55-4c44-8204-8ddb7a9517db",
   "metadata": {},
   "outputs": [],
   "source": []
  },
  {
   "cell_type": "markdown",
   "id": "4e7ca182-cda4-4e96-a89e-99c2e0a55b4b",
   "metadata": {},
   "source": [
    "### 3. Define list of features and target for each model"
   ]
  },
  {
   "cell_type": "code",
   "execution_count": 9,
   "id": "40869954-a278-49e8-b9f8-1d7635257b82",
   "metadata": {},
   "outputs": [],
   "source": [
    "######################## model d0eop_microkappa ########################\n",
    "\n",
    "list_features_d0eop_microkappa = [\n",
    "    \"240AIT063A.PNT\", #kappa_d0\n",
    "    \"240AIT063B.PNT\", #brillo_d0\n",
    "    \"calc_prod_d0\", #calc_prod_d0\n",
    "    \"240FY050.RO02\", #especifico_dioxido_d0 - VC\n",
    "    \"SSTRIPPING015\", #dqo_evaporadores\n",
    "    \"S276PER002\", #concentracion_clo2_d0\n",
    "    \"240AIC022.MEAS\", #ph_a\n",
    "    \"240FY118B.RO01\", #especifico_oxigeno_eop - VC\n",
    "    \"240FY11PB.RO01\", #especifico_peroxido_eop - VC\n",
    "    \"240FY107A.RO01\", #especifico_soda_eop - VC\n",
    "]\n",
    "\n",
    "list_features_controlables_d0eop_microkappa = [\n",
    "    \"240FY050.RO02\", #especifico_dioxido_d0 - VC,\n",
    "    \"240FY118B.RO01\", #especifico_oxigeno_eop - VC\n",
    "    \"240FY11PB.RO01\", #especifico_peroxido_eop - VC\n",
    "    \"240FY107A.RO01\", #especifico_soda_eop - VC\n",
    "]\n",
    "\n",
    "list_target_d0eop_microkappa = ['240AIT225A.PNT'] # microkappa_d1"
   ]
  },
  {
   "cell_type": "code",
   "execution_count": 10,
   "id": "8d8adac8-33c3-4fab-b455-f6d9c1ff3121",
   "metadata": {},
   "outputs": [],
   "source": [
    "######################## model d1_brillo ########################\n",
    "\n",
    "list_features_d1_brillo = [\n",
    "    \"240AIT225B.PNT\", # blancura_d1\n",
    "    \"240AIT225A.PNT\", # microkappa_d1\n",
    "    \"240FI108A.PNT\", # prod_bypass\n",
    "    \"calc_prod_d1\", #calc_prod_d1\n",
    "    \"240FY218.RO02\", #especifico_dioxido_d1 - VC\n",
    "    \"240TIT223.PNT\", #temperatura_d1\n",
    "    \"240FY210A.RO01\", # especifico_acido_d1 - vc\n",
    "]\n",
    "\n",
    "list_features_controlables_d1_brillo = [\n",
    "    \"240FY218.RO02\", #especifico_dioxido_d1 - VC\n",
    "    \"240FY210A.RO01\", # especifico_acido_d1 - vc\n",
    "]\n",
    "\n",
    "list_target_d1_brillo = ['240AIT322B.PNT'] # brillo_entrada_p"
   ]
  },
  {
   "cell_type": "code",
   "execution_count": 11,
   "id": "3a7f0b13-7f9b-4cb0-aa02-a8b7704e416c",
   "metadata": {},
   "outputs": [],
   "source": [
    "######################## model p_blancura ########################\n",
    "\n",
    "list_features_p_blancura = [\n",
    "    \"240AIT322B.PNT\", #brillo_p\n",
    "    \"calc_prod_p\", #calc_prod_p\n",
    "    \"240FY312.RO01\", # especifico_soda_p - VC\n",
    "    \"240FY397.RO01\", #especifico_peroxido_p - VC\n",
    "    \"240AIC324.MEAS\", #ph_p,\n",
    "    \"240FY430.RO01\", #especifico_acido_p - VC\n",
    "]\n",
    "\n",
    "list_features_controlables_p_blancura = [    \n",
    "    \"240FY312.RO01\", # especifico_soda_p - VC\n",
    "    \"240FY397.RO01\", #especifico_peroxido_p - VC\n",
    "    \"240FY430.RO01\", #especifico_acido_p - VC\n",
    "]\n",
    "\n",
    "list_target_p_blancura = ['240AIT416B.PNT'] #blancura_salida_p"
   ]
  },
  {
   "cell_type": "code",
   "execution_count": null,
   "id": "42a3e81f-d09c-4594-a2c9-bfbba578df46",
   "metadata": {},
   "outputs": [],
   "source": []
  },
  {
   "cell_type": "markdown",
   "id": "356f3aa5-bc0c-4723-92d4-e2e810d4ffaf",
   "metadata": {},
   "source": [
    "### 4. Load tables parameters for optimization - bounds"
   ]
  },
  {
   "cell_type": "code",
   "execution_count": 12,
   "id": "2c8c8833-4131-403f-b32e-02d1e2279b6a",
   "metadata": {},
   "outputs": [
    {
     "data": {
      "text/html": [
       "<div>\n",
       "<style scoped>\n",
       "    .dataframe tbody tr th:only-of-type {\n",
       "        vertical-align: middle;\n",
       "    }\n",
       "\n",
       "    .dataframe tbody tr th {\n",
       "        vertical-align: top;\n",
       "    }\n",
       "\n",
       "    .dataframe thead th {\n",
       "        text-align: right;\n",
       "    }\n",
       "</style>\n",
       "<table border=\"1\" class=\"dataframe\">\n",
       "  <thead>\n",
       "    <tr style=\"text-align: right;\">\n",
       "      <th></th>\n",
       "      <th>MODEL</th>\n",
       "      <th>TAG</th>\n",
       "      <th>TAG_DESCRIPTION</th>\n",
       "      <th>DESCRIPCION</th>\n",
       "      <th>MIN_VALUE</th>\n",
       "      <th>MAX_VALUE</th>\n",
       "    </tr>\n",
       "  </thead>\n",
       "  <tbody>\n",
       "    <tr>\n",
       "      <th>0</th>\n",
       "      <td>d0eop_microkappa</td>\n",
       "      <td>240FY050.RO02</td>\n",
       "      <td>especifico_dioxido_d0</td>\n",
       "      <td>Específico ClO2</td>\n",
       "      <td>2</td>\n",
       "      <td>11</td>\n",
       "    </tr>\n",
       "    <tr>\n",
       "      <th>1</th>\n",
       "      <td>d0eop_microkappa</td>\n",
       "      <td>240FY118B.RO01</td>\n",
       "      <td>especifico_oxigeno_eop</td>\n",
       "      <td>Esp. Oxígeno</td>\n",
       "      <td>0</td>\n",
       "      <td>2</td>\n",
       "    </tr>\n",
       "    <tr>\n",
       "      <th>2</th>\n",
       "      <td>d0eop_microkappa</td>\n",
       "      <td>240FY11PB.RO01</td>\n",
       "      <td>especifico_peroxido_eop</td>\n",
       "      <td>Esp. Peróxido</td>\n",
       "      <td>1</td>\n",
       "      <td>15</td>\n",
       "    </tr>\n",
       "    <tr>\n",
       "      <th>3</th>\n",
       "      <td>d0eop_microkappa</td>\n",
       "      <td>240FY107A.RO01</td>\n",
       "      <td>especifico_soda_eop</td>\n",
       "      <td>Esp. Soda EOP</td>\n",
       "      <td>4</td>\n",
       "      <td>20</td>\n",
       "    </tr>\n",
       "    <tr>\n",
       "      <th>4</th>\n",
       "      <td>d1_brillo</td>\n",
       "      <td>240FY218.RO02</td>\n",
       "      <td>especifico_dioxido_d1</td>\n",
       "      <td>Esp Dióxido</td>\n",
       "      <td>1</td>\n",
       "      <td>10</td>\n",
       "    </tr>\n",
       "    <tr>\n",
       "      <th>5</th>\n",
       "      <td>d1_brillo</td>\n",
       "      <td>240FY210A.RO01</td>\n",
       "      <td>especifico_acido_d1</td>\n",
       "      <td>Esp Acido</td>\n",
       "      <td>0</td>\n",
       "      <td>10</td>\n",
       "    </tr>\n",
       "    <tr>\n",
       "      <th>6</th>\n",
       "      <td>p_blancura</td>\n",
       "      <td>240FY312.RO01</td>\n",
       "      <td>especifico_soda_p</td>\n",
       "      <td>Esp Soda</td>\n",
       "      <td>0</td>\n",
       "      <td>10</td>\n",
       "    </tr>\n",
       "    <tr>\n",
       "      <th>7</th>\n",
       "      <td>p_blancura</td>\n",
       "      <td>240FY397.RO01</td>\n",
       "      <td>especifico_peroxido_p</td>\n",
       "      <td>Esp Peróxido P</td>\n",
       "      <td>0</td>\n",
       "      <td>10</td>\n",
       "    </tr>\n",
       "    <tr>\n",
       "      <th>8</th>\n",
       "      <td>p_blancura</td>\n",
       "      <td>240FY430.RO01</td>\n",
       "      <td>especifico_acido_p</td>\n",
       "      <td>Esp Acido tac blanca</td>\n",
       "      <td>0</td>\n",
       "      <td>10</td>\n",
       "    </tr>\n",
       "  </tbody>\n",
       "</table>\n",
       "</div>"
      ],
      "text/plain": [
       "              MODEL             TAG          TAG_DESCRIPTION  \\\n",
       "0  d0eop_microkappa   240FY050.RO02    especifico_dioxido_d0   \n",
       "1  d0eop_microkappa  240FY118B.RO01   especifico_oxigeno_eop   \n",
       "2  d0eop_microkappa  240FY11PB.RO01  especifico_peroxido_eop   \n",
       "3  d0eop_microkappa  240FY107A.RO01      especifico_soda_eop   \n",
       "4         d1_brillo   240FY218.RO02    especifico_dioxido_d1   \n",
       "5         d1_brillo  240FY210A.RO01      especifico_acido_d1   \n",
       "6        p_blancura   240FY312.RO01        especifico_soda_p   \n",
       "7        p_blancura   240FY397.RO01    especifico_peroxido_p   \n",
       "8        p_blancura   240FY430.RO01       especifico_acido_p   \n",
       "\n",
       "            DESCRIPCION  MIN_VALUE  MAX_VALUE  \n",
       "0       Específico ClO2          2         11  \n",
       "1         Esp. Oxígeno           0          2  \n",
       "2         Esp. Peróxido          1         15  \n",
       "3         Esp. Soda EOP          4         20  \n",
       "4           Esp Dióxido          1         10  \n",
       "5             Esp Acido          0         10  \n",
       "6              Esp Soda          0         10  \n",
       "7        Esp Peróxido P          0         10  \n",
       "8  Esp Acido tac blanca          0         10  "
      ]
     },
     "execution_count": 12,
     "metadata": {},
     "output_type": "execute_result"
    }
   ],
   "source": [
    "# load bounds of decision variables in optimization that also are FEATURES in machine learning models\n",
    "\n",
    "path_bounds_decision_var_features = 'config/Optimization-Bounds-DecisionVar.xlsx'\n",
    "bounds_decision_var_features = pd.read_excel(path_bounds_decision_var_features)\n",
    "bounds_decision_var_features"
   ]
  },
  {
   "cell_type": "code",
   "execution_count": 13,
   "id": "6d854e26-d1f4-41f6-bd6a-9c35144208a7",
   "metadata": {},
   "outputs": [
    {
     "data": {
      "text/html": [
       "<div>\n",
       "<style scoped>\n",
       "    .dataframe tbody tr th:only-of-type {\n",
       "        vertical-align: middle;\n",
       "    }\n",
       "\n",
       "    .dataframe tbody tr th {\n",
       "        vertical-align: top;\n",
       "    }\n",
       "\n",
       "    .dataframe thead th {\n",
       "        text-align: right;\n",
       "    }\n",
       "</style>\n",
       "<table border=\"1\" class=\"dataframe\">\n",
       "  <thead>\n",
       "    <tr style=\"text-align: right;\">\n",
       "      <th></th>\n",
       "      <th>MODEL</th>\n",
       "      <th>TAG</th>\n",
       "      <th>TAG_DESCRIPTION</th>\n",
       "      <th>DESCRIPCION</th>\n",
       "      <th>MIN_VALUE</th>\n",
       "      <th>MAX_VALUE</th>\n",
       "    </tr>\n",
       "  </thead>\n",
       "  <tbody>\n",
       "    <tr>\n",
       "      <th>0</th>\n",
       "      <td>d0eop_microkappa</td>\n",
       "      <td>240AIT225A.PNT</td>\n",
       "      <td>microkappa_d1</td>\n",
       "      <td>mKappa salida EOP (entrada D1 )</td>\n",
       "      <td>1.9</td>\n",
       "      <td>2.4</td>\n",
       "    </tr>\n",
       "    <tr>\n",
       "      <th>1</th>\n",
       "      <td>d1_brillo</td>\n",
       "      <td>240AIT322B.PNT</td>\n",
       "      <td>brillo_entrada_p</td>\n",
       "      <td>Brillo salida D1 (entrada P)</td>\n",
       "      <td>89.2</td>\n",
       "      <td>100.0</td>\n",
       "    </tr>\n",
       "    <tr>\n",
       "      <th>2</th>\n",
       "      <td>p_blancura</td>\n",
       "      <td>240AIT416B.PNT</td>\n",
       "      <td>blancura_salida_p</td>\n",
       "      <td>Blancura Salida P linea</td>\n",
       "      <td>90.0</td>\n",
       "      <td>91.0</td>\n",
       "    </tr>\n",
       "  </tbody>\n",
       "</table>\n",
       "</div>"
      ],
      "text/plain": [
       "              MODEL             TAG    TAG_DESCRIPTION  \\\n",
       "0  d0eop_microkappa  240AIT225A.PNT      microkappa_d1   \n",
       "1         d1_brillo  240AIT322B.PNT   brillo_entrada_p   \n",
       "2        p_blancura  240AIT416B.PNT  blancura_salida_p   \n",
       "\n",
       "                       DESCRIPCION  MIN_VALUE  MAX_VALUE  \n",
       "0  mKappa salida EOP (entrada D1 )        1.9        2.4  \n",
       "1     Brillo salida D1 (entrada P)       89.2      100.0  \n",
       "2          Blancura Salida P linea       90.0       91.0  "
      ]
     },
     "execution_count": 13,
     "metadata": {},
     "output_type": "execute_result"
    }
   ],
   "source": [
    "# load bounds of decision variables in optimization that also are TARGETS in machine learning models\n",
    "# obs: the targets of one model are features in the next model. They are defined once\n",
    "\n",
    "path_bounds_decison_var_target = 'config/Optimization-Bounds-Target.xlsx'\n",
    "bounds_decison_var_target = pd.read_excel(path_bounds_decison_var_target)\n",
    "bounds_decison_var_target"
   ]
  },
  {
   "cell_type": "code",
   "execution_count": null,
   "id": "892167b7-305b-4d5c-9d8e-bb6a9d590ada",
   "metadata": {},
   "outputs": [],
   "source": []
  },
  {
   "cell_type": "code",
   "execution_count": null,
   "id": "42215a10-d6a3-4217-904b-4767d998e2e7",
   "metadata": {},
   "outputs": [],
   "source": []
  },
  {
   "cell_type": "code",
   "execution_count": null,
   "id": "ea615e52-57be-4df9-bc96-a0d3d4724fcb",
   "metadata": {},
   "outputs": [],
   "source": []
  },
  {
   "cell_type": "markdown",
   "id": "ac24172a-a3c7-4fae-be99-f418af04c5e7",
   "metadata": {},
   "source": [
    "### 5. Load Prices\n",
    "Parameters in Optimization"
   ]
  },
  {
   "cell_type": "code",
   "execution_count": 14,
   "id": "90b4752f-cd6e-4b5c-9928-ec3502154c62",
   "metadata": {},
   "outputs": [
    {
     "data": {
      "text/html": [
       "<div>\n",
       "<style scoped>\n",
       "    .dataframe tbody tr th:only-of-type {\n",
       "        vertical-align: middle;\n",
       "    }\n",
       "\n",
       "    .dataframe tbody tr th {\n",
       "        vertical-align: top;\n",
       "    }\n",
       "\n",
       "    .dataframe thead th {\n",
       "        text-align: right;\n",
       "    }\n",
       "</style>\n",
       "<table border=\"1\" class=\"dataframe\">\n",
       "  <thead>\n",
       "    <tr style=\"text-align: right;\">\n",
       "      <th></th>\n",
       "      <th>acido</th>\n",
       "      <th>peroxido</th>\n",
       "      <th>soda</th>\n",
       "      <th>oxigeno</th>\n",
       "      <th>dioxido</th>\n",
       "    </tr>\n",
       "  </thead>\n",
       "  <tbody>\n",
       "    <tr>\n",
       "      <th>0</th>\n",
       "      <td>0.275</td>\n",
       "      <td>0.698</td>\n",
       "      <td>0.655</td>\n",
       "      <td>0.092</td>\n",
       "      <td>1.4</td>\n",
       "    </tr>\n",
       "  </tbody>\n",
       "</table>\n",
       "</div>"
      ],
      "text/plain": [
       "   acido  peroxido   soda  oxigeno  dioxido\n",
       "0  0.275     0.698  0.655    0.092      1.4"
      ]
     },
     "execution_count": 14,
     "metadata": {},
     "output_type": "execute_result"
    }
   ],
   "source": [
    "path_prices = 'config/price-chemicals.xlsx'\n",
    "prices = pd.read_excel(path_prices)\n",
    "prices"
   ]
  },
  {
   "cell_type": "code",
   "execution_count": null,
   "id": "7ce57a80-6acf-4c35-9f54-6ce9c06e0cb1",
   "metadata": {},
   "outputs": [],
   "source": []
  },
  {
   "cell_type": "code",
   "execution_count": null,
   "id": "d7d9d1f1-fee8-4288-b5fc-1be02c1bda94",
   "metadata": {},
   "outputs": [],
   "source": []
  },
  {
   "cell_type": "markdown",
   "id": "dec2d181-1424-455f-b7a1-2b35ad47fbfa",
   "metadata": {},
   "source": [
    "## RUN OPTIMIZATION"
   ]
  },
  {
   "cell_type": "markdown",
   "id": "03bcf94f-2240-4a7a-a6d4-76d869e86a19",
   "metadata": {},
   "source": [
    "### 0. Load transversal params - sets of optimization model\n",
    "Transversal all codes, not only this code. For example order in features in the data.\n",
    "\n",
    "Save the sets of optimization model as pandas index"
   ]
  },
  {
   "cell_type": "code",
   "execution_count": 15,
   "id": "10470f02-cb77-4655-ba50-278846141f50",
   "metadata": {},
   "outputs": [
    {
     "data": {
      "text/plain": [
       "Index(['bleaching'], dtype='object')"
      ]
     },
     "execution_count": 15,
     "metadata": {},
     "output_type": "execute_result"
    }
   ],
   "source": [
    "# define set to models. In this example there is a set with only one element\n",
    "list_bleaching = ['bleaching']\n",
    "index_bleaching = pd.Index(list_bleaching)\n",
    "index_bleaching"
   ]
  },
  {
   "cell_type": "code",
   "execution_count": null,
   "id": "c3f7bd84-3fd6-4fa3-a062-6f1954b52e15",
   "metadata": {},
   "outputs": [],
   "source": []
  },
  {
   "cell_type": "code",
   "execution_count": null,
   "id": "39afd60b-4b57-4787-b53e-ac03d869af21",
   "metadata": {},
   "outputs": [],
   "source": []
  },
  {
   "cell_type": "markdown",
   "id": "3857e7c6-5f08-4220-a4a3-571f29ee9ab1",
   "metadata": {},
   "source": [
    "### 1. Create guroby optimization model\n",
    "Documentation: https://www.gurobi.com/documentation/current/refman/py_model.html"
   ]
  },
  {
   "cell_type": "code",
   "execution_count": 16,
   "id": "d0be0947-0bd6-4f6b-8f12-a9bd8c2ca3ef",
   "metadata": {},
   "outputs": [
    {
     "name": "stdout",
     "output_type": "stream",
     "text": [
      "Restricted license - for non-production use only - expires 2025-11-24\n"
     ]
    }
   ],
   "source": [
    "# env = gp.Env(params=params)\n",
    "\n",
    "#Create the model within the Gurobi environment\n",
    "m = gp.Model(name = \"Bleaching Optimization v2\")"
   ]
  },
  {
   "cell_type": "code",
   "execution_count": null,
   "id": "bdd2ced3-f0fc-45cb-9937-e13280af8a48",
   "metadata": {},
   "outputs": [],
   "source": []
  },
  {
   "cell_type": "markdown",
   "id": "97dec9f4-559b-40dd-98a7-4e4e9fa29cf0",
   "metadata": {},
   "source": [
    "### 2. Upper bounds and lower bounds of decision variables"
   ]
  },
  {
   "cell_type": "code",
   "execution_count": null,
   "id": "8d1e1404-438a-4ec2-9d53-ad90e0015d79",
   "metadata": {},
   "outputs": [],
   "source": []
  },
  {
   "cell_type": "markdown",
   "id": "71476d65-cbb9-4c58-8fbf-48c6bc0a6bae",
   "metadata": {},
   "source": [
    "### 3. Input parameters of optimization model\n",
    "- Actual values of decision variables and delta rate of change (Get the actual values of decision variables that are features of machine learning models and define a rate of change of these variables)"
   ]
  },
  {
   "cell_type": "markdown",
   "id": "ea6be04e-6f1e-4574-8d41-e3aefbfc1344",
   "metadata": {},
   "source": [
    "#### 3.1 Actual values of decision variables\n",
    "\n",
    "Get the actual values of decision variables that are features of machine learning models"
   ]
  },
  {
   "cell_type": "code",
   "execution_count": 17,
   "id": "f5804542-1fec-45e7-8ba3-339bdc18642c",
   "metadata": {},
   "outputs": [],
   "source": [
    "######################## actual values for model d0eop_microkappa ########################\n",
    "### IMPORTANTE ASEGURSE QUE EL TAG CORRESPONDE CON EL NOMBRE DEFINIDO\n",
    "\n",
    "\n",
    "#especifico_dioxido_d0\n",
    "actual_value_especifico_dioxido_d0 = input_actual_value_especifico_dioxido_d0\n",
    "\n",
    "#especifico_oxigeno_eop\n",
    "actual_value_especifico_oxigeno_eop = input_actual_value_especifico_oxigeno_eop\n",
    "\n",
    "#especifico_peroxido_eop\n",
    "actual_value_especifico_peroxido_eop = input_actual_value_especifico_peroxido_eop\n",
    "\n",
    "#especifico_soda_eop\n",
    "actual_value_especifico_soda_eop = input_actual_value_especifico_soda_eop"
   ]
  },
  {
   "cell_type": "code",
   "execution_count": 18,
   "id": "8ad5b0a7-4b2b-4ad5-8505-4f50cb799b90",
   "metadata": {},
   "outputs": [],
   "source": [
    "######################## actual values for model d1_brillo ########################\n",
    "\n",
    "#especifico_dioxido_d1\n",
    "actual_value_especifico_dioxido_d1 = input_actual_value_especifico_dioxido_d1\n",
    "\n",
    "#especifico_acido_d1\n",
    "actual_value_especifico_acido_d1 = input_actual_value_especifico_acido_d1"
   ]
  },
  {
   "cell_type": "code",
   "execution_count": 19,
   "id": "b348fefc-e252-402d-8211-284f3ca53baf",
   "metadata": {},
   "outputs": [],
   "source": [
    "######################## actual values for model p_blancura ########################\n",
    "list_features_controlables_p_blancura\n",
    "\n",
    "\n",
    "#especifico_soda_p\n",
    "actual_value_especifico_soda_p = input_actual_value_especifico_soda_p\n",
    "\n",
    "\n",
    "#especifico_peroxido_p\n",
    "actual_value_especifico_peroxido_p = input_actual_value_especifico_peroxido_p\n",
    "\n",
    "\n",
    "#especifico_acido_p\n",
    "actual_value_especifico_acido_p = input_actual_value_especifico_acido_p"
   ]
  },
  {
   "cell_type": "markdown",
   "id": "5145233c-ffa5-4c35-a06b-0d98cd28cc38",
   "metadata": {},
   "source": [
    "#### 3.2 Parameters Rate of Change decision variables\n",
    "TODO: IMPORTANT. THIS SHOULD BE DEFINED IN A EXCEL AS A CONFIG FILE. but for now, is hardocoded"
   ]
  },
  {
   "cell_type": "code",
   "execution_count": 20,
   "id": "fff1923b-f2f6-4f73-a185-7c8bde837a9b",
   "metadata": {},
   "outputs": [],
   "source": [
    "######################## actual values for model d0eop_microkappa ########################\n",
    "\n",
    "#especifico_dioxido_d0\n",
    "delta_especifico_dioxido_d0 = input_delta_especifico_dioxido_d0\n",
    "\n",
    "#especifico_oxigeno_eop\n",
    "delta_especifico_oxigeno_eop = input_delta_especifico_oxigeno_eop\n",
    "\n",
    "#especifico_peroxido_eop\n",
    "delta_especifico_peroxido_eop = input_delta_especifico_peroxido_eop\n",
    "\n",
    "#especifico_soda_eop\n",
    "delta_especifico_soda_eop = input_delta_especifico_soda_eop"
   ]
  },
  {
   "cell_type": "code",
   "execution_count": 21,
   "id": "2f0f2a8b-94be-4ba5-9338-abb5f512eb80",
   "metadata": {},
   "outputs": [],
   "source": [
    "######################## actual values for model d1_brillo ########################\n",
    "\n",
    "#especifico_dioxido_d1\n",
    "delta_especifico_dioxido_d1 = input_delta_especifico_dioxido_d1\n",
    "\n",
    "#especifico_acido_d1\n",
    "delta_especifico_acido_d1 = input_delta_especifico_acido_d1"
   ]
  },
  {
   "cell_type": "code",
   "execution_count": 22,
   "id": "fd61e37d-dc31-4663-95d1-b27394762796",
   "metadata": {},
   "outputs": [],
   "source": [
    "######################## actual values for model p_blancura ########################\n",
    "\n",
    "#especifico_soda_p\n",
    "delta_especifico_soda_p = input_delta_especifico_soda_p\n",
    "\n",
    "\n",
    "#especifico_peroxido_p\n",
    "delta_especifico_peroxido_p = input_delta_especifico_peroxido_p\n",
    "\n",
    "#especifico_acido_p\n",
    "delta_especifico_acido_p = input_delta_especifico_acido_p"
   ]
  },
  {
   "cell_type": "code",
   "execution_count": null,
   "id": "1171a6ac-944d-4aed-8048-fcd6f1277c2c",
   "metadata": {},
   "outputs": [],
   "source": []
  },
  {
   "cell_type": "code",
   "execution_count": 23,
   "id": "349f1935-e96c-4b40-bc22-67c2de1e80ac",
   "metadata": {},
   "outputs": [
    {
     "data": {
      "text/html": [
       "<div>\n",
       "<style scoped>\n",
       "    .dataframe tbody tr th:only-of-type {\n",
       "        vertical-align: middle;\n",
       "    }\n",
       "\n",
       "    .dataframe tbody tr th {\n",
       "        vertical-align: top;\n",
       "    }\n",
       "\n",
       "    .dataframe thead th {\n",
       "        text-align: right;\n",
       "    }\n",
       "</style>\n",
       "<table border=\"1\" class=\"dataframe\">\n",
       "  <thead>\n",
       "    <tr style=\"text-align: right;\">\n",
       "      <th></th>\n",
       "      <th>acido</th>\n",
       "      <th>peroxido</th>\n",
       "      <th>soda</th>\n",
       "      <th>oxigeno</th>\n",
       "      <th>dioxido</th>\n",
       "    </tr>\n",
       "  </thead>\n",
       "  <tbody>\n",
       "    <tr>\n",
       "      <th>0</th>\n",
       "      <td>0.275</td>\n",
       "      <td>0.698</td>\n",
       "      <td>0.655</td>\n",
       "      <td>0.092</td>\n",
       "      <td>1.4</td>\n",
       "    </tr>\n",
       "  </tbody>\n",
       "</table>\n",
       "</div>"
      ],
      "text/plain": [
       "   acido  peroxido   soda  oxigeno  dioxido\n",
       "0  0.275     0.698  0.655    0.092      1.4"
      ]
     },
     "execution_count": 23,
     "metadata": {},
     "output_type": "execute_result"
    }
   ],
   "source": [
    "# price parameters\n",
    "prices"
   ]
  },
  {
   "cell_type": "code",
   "execution_count": null,
   "id": "fbc26f12-9f19-422a-9986-d0e2eeee1171",
   "metadata": {},
   "outputs": [],
   "source": []
  },
  {
   "cell_type": "markdown",
   "id": "c11376a0-0796-4e1c-9c56-5f89e6cbc283",
   "metadata": {},
   "source": [
    "### 4. Features input machine learning model fixed (that are not decision variables or parameters in optimization model)\n",
    "Define the features that are inputs of machine learning model that are not decision variables of optimization model (so this values doesn't change). And also, this features that are not parameters of optimization model, so this values are not used in the restrictions\n",
    "\n",
    "**Generar una instancia a partir de los datos para las feautures de los modelos de ML que no son variables de decisión ni targets. La instancia generada se hace a partir de los datos. Para este ejemplo se va a considerar la media**"
   ]
  },
  {
   "cell_type": "code",
   "execution_count": 24,
   "id": "ece4f27c-884c-4a82-b55b-2a334476c6c4",
   "metadata": {},
   "outputs": [
    {
     "data": {
      "text/html": [
       "<div>\n",
       "<style scoped>\n",
       "    .dataframe tbody tr th:only-of-type {\n",
       "        vertical-align: middle;\n",
       "    }\n",
       "\n",
       "    .dataframe tbody tr th {\n",
       "        vertical-align: top;\n",
       "    }\n",
       "\n",
       "    .dataframe thead th {\n",
       "        text-align: right;\n",
       "    }\n",
       "</style>\n",
       "<table border=\"1\" class=\"dataframe\">\n",
       "  <thead>\n",
       "    <tr style=\"text-align: right;\">\n",
       "      <th></th>\n",
       "      <th>240AIT063A.PNT</th>\n",
       "      <th>240AIT063B.PNT</th>\n",
       "      <th>calc_prod_d0</th>\n",
       "      <th>SSTRIPPING015</th>\n",
       "      <th>S276PER002</th>\n",
       "      <th>240AIC022.MEAS</th>\n",
       "    </tr>\n",
       "  </thead>\n",
       "  <tbody>\n",
       "    <tr>\n",
       "      <th>0</th>\n",
       "      <td>6.349346</td>\n",
       "      <td>61.826925</td>\n",
       "      <td>3346.85825</td>\n",
       "      <td>707.265937</td>\n",
       "      <td>11.516543</td>\n",
       "      <td>2.93846</td>\n",
       "    </tr>\n",
       "  </tbody>\n",
       "</table>\n",
       "</div>"
      ],
      "text/plain": [
       "   240AIT063A.PNT  240AIT063B.PNT  calc_prod_d0  SSTRIPPING015  S276PER002  \\\n",
       "0        6.349346       61.826925    3346.85825     707.265937   11.516543   \n",
       "\n",
       "   240AIC022.MEAS  \n",
       "0         2.93846  "
      ]
     },
     "execution_count": 24,
     "metadata": {},
     "output_type": "execute_result"
    }
   ],
   "source": [
    "######################## generate instance for model d0eop_microkappa ########################\n",
    "\n",
    "# list feature NC\n",
    "list_features_d0eop_microkappa_no_vc = list(set(list_features_d0eop_microkappa) - set(list_features_controlables_d0eop_microkappa))\n",
    "\n",
    "# generate dataframe with the mean\n",
    "#instance_no_controlables_d0eop_microkappa = data[list_features_d0eop_microkappa_no_vc].mean().to_frame().T\n",
    "instance_no_controlables_d0eop_microkappa = pd.DataFrame()\n",
    "instance_no_controlables_d0eop_microkappa[\"240AIT063A.PNT\"] = [input_kappa_d0]\n",
    "instance_no_controlables_d0eop_microkappa[\"240AIT063B.PNT\"] = [input_brillo_d0]\n",
    "instance_no_controlables_d0eop_microkappa[\"calc_prod_d0\"] = [input_calc_prod_d0]\n",
    "instance_no_controlables_d0eop_microkappa[\"SSTRIPPING015\"] = [input_dqo_evaporadores]\n",
    "instance_no_controlables_d0eop_microkappa[\"S276PER002\"] = [input_concentracion_clo2_d0]\n",
    "instance_no_controlables_d0eop_microkappa[\"240AIC022.MEAS\"] = [input_ph_a]\n",
    "\n",
    "instance_no_controlables_d0eop_microkappa"
   ]
  },
  {
   "cell_type": "code",
   "execution_count": null,
   "id": "91fcfc43-40c0-4593-930f-6ff50d196fc5",
   "metadata": {},
   "outputs": [],
   "source": []
  },
  {
   "cell_type": "code",
   "execution_count": 25,
   "id": "f2c3a5cb-e718-4f55-8fc9-eb9557037801",
   "metadata": {},
   "outputs": [
    {
     "data": {
      "text/html": [
       "<div>\n",
       "<style scoped>\n",
       "    .dataframe tbody tr th:only-of-type {\n",
       "        vertical-align: middle;\n",
       "    }\n",
       "\n",
       "    .dataframe tbody tr th {\n",
       "        vertical-align: top;\n",
       "    }\n",
       "\n",
       "    .dataframe thead th {\n",
       "        text-align: right;\n",
       "    }\n",
       "</style>\n",
       "<table border=\"1\" class=\"dataframe\">\n",
       "  <thead>\n",
       "    <tr style=\"text-align: right;\">\n",
       "      <th></th>\n",
       "      <th>240AIT225B.PNT</th>\n",
       "      <th>240FI108A.PNT</th>\n",
       "      <th>calc_prod_d1</th>\n",
       "      <th>240TIT223.PNT</th>\n",
       "    </tr>\n",
       "  </thead>\n",
       "  <tbody>\n",
       "    <tr>\n",
       "      <th>0</th>\n",
       "      <td>85.051634</td>\n",
       "      <td>169.45041</td>\n",
       "      <td>3347.664057</td>\n",
       "      <td>77.212822</td>\n",
       "    </tr>\n",
       "  </tbody>\n",
       "</table>\n",
       "</div>"
      ],
      "text/plain": [
       "   240AIT225B.PNT  240FI108A.PNT  calc_prod_d1  240TIT223.PNT\n",
       "0       85.051634      169.45041   3347.664057      77.212822"
      ]
     },
     "execution_count": 25,
     "metadata": {},
     "output_type": "execute_result"
    }
   ],
   "source": [
    "######################## generate instance for model d1_brillo ########################\n",
    "\n",
    "# list features NC\n",
    "list_features_d1_brillo_no_vc = list(set(list_features_d1_brillo) - set(list_features_controlables_d1_brillo)) # substract vc d1_brillo\n",
    "list_features_d1_brillo_no_vc = list(set(list_features_d1_brillo_no_vc) - set(list_target_d0eop_microkappa))# substract target d0eop_microkappa\n",
    "\n",
    "# generate dataframe with the mean\n",
    "#instance_no_controlables_d1_brillo = data[list_features_d1_brillo_no_vc].mean().to_frame().T\n",
    "instance_no_controlables_d1_brillo = pd.DataFrame()\n",
    "instance_no_controlables_d1_brillo[\"240AIT225B.PNT\"] = [input_blancura_d1]\n",
    "instance_no_controlables_d1_brillo[\"240FI108A.PNT\"] = [input_prod_bypass]\n",
    "instance_no_controlables_d1_brillo[\"calc_prod_d1\"] = [input_calc_prod_d1]\n",
    "instance_no_controlables_d1_brillo[\"240TIT223.PNT\"] = [input_temperatura_d1]\n",
    "\n",
    "instance_no_controlables_d1_brillo"
   ]
  },
  {
   "cell_type": "code",
   "execution_count": 26,
   "id": "9bd3c1ef-d232-477e-9b72-e5b7dcf62c27",
   "metadata": {},
   "outputs": [
    {
     "data": {
      "text/html": [
       "<div>\n",
       "<style scoped>\n",
       "    .dataframe tbody tr th:only-of-type {\n",
       "        vertical-align: middle;\n",
       "    }\n",
       "\n",
       "    .dataframe tbody tr th {\n",
       "        vertical-align: top;\n",
       "    }\n",
       "\n",
       "    .dataframe thead th {\n",
       "        text-align: right;\n",
       "    }\n",
       "</style>\n",
       "<table border=\"1\" class=\"dataframe\">\n",
       "  <thead>\n",
       "    <tr style=\"text-align: right;\">\n",
       "      <th></th>\n",
       "      <th>calc_prod_p</th>\n",
       "      <th>240AIC324.MEAS</th>\n",
       "    </tr>\n",
       "  </thead>\n",
       "  <tbody>\n",
       "    <tr>\n",
       "      <th>0</th>\n",
       "      <td>3346.185561</td>\n",
       "      <td>10.382279</td>\n",
       "    </tr>\n",
       "  </tbody>\n",
       "</table>\n",
       "</div>"
      ],
      "text/plain": [
       "   calc_prod_p  240AIC324.MEAS\n",
       "0  3346.185561       10.382279"
      ]
     },
     "execution_count": 26,
     "metadata": {},
     "output_type": "execute_result"
    }
   ],
   "source": [
    "######################## generate instance for model p_blancura ########################\n",
    "\n",
    "# list features NC\n",
    "list_features_p_blancura_no_vc = list(set(list_features_p_blancura) - set(list_features_controlables_p_blancura)) # substract vc p_blancura\n",
    "list_features_p_blancura_no_vc = list(set(list_features_p_blancura_no_vc) - set(list_target_d1_brillo))# substract target d1_brillo\n",
    "\n",
    "# generate dataframe with the mean\n",
    "#instance_no_controlables_p_blancura = data[list_features_p_blancura_no_vc].mean().to_frame().T\n",
    "instance_no_controlables_p_blancura = pd.DataFrame()\n",
    "instance_no_controlables_p_blancura[\"calc_prod_p\"] = [input_calc_prod_p]\n",
    "instance_no_controlables_p_blancura[\"240AIC324.MEAS\"] = [input_ph_p]\n",
    "\n",
    "instance_no_controlables_p_blancura"
   ]
  },
  {
   "cell_type": "markdown",
   "id": "2bb0c10b-a341-468a-a8ce-a33e89f7174e",
   "metadata": {},
   "source": [
    "IMPORTANT: En los modelos de las etapas siguientes se deben borrar las features que son variables controlables (variables de decisión optimizador) y además los target de etapas previas que se vuelven variables no controlables de la etapa siguiente (ya que también son variables de decisión del optimizador)"
   ]
  },
  {
   "cell_type": "code",
   "execution_count": null,
   "id": "f27f2ed8-d4fe-4122-ae6c-02c6a518ccb2",
   "metadata": {},
   "outputs": [],
   "source": []
  },
  {
   "cell_type": "markdown",
   "id": "e03f732d-f128-461c-b30d-2f6908fbcbad",
   "metadata": {},
   "source": [
    "### 5. Decision variables of optimization model\n",
    "\n",
    "Let us now define the decision variables. In our model, we want to store the price and number of avocados allocated to each region. We also want variables that track how many avocados are predicted to be sold and how many are predicted to be wasted. \n",
    "\n",
    "All those variables are created using gurobipy-pandas, with the function `gppd.add_vars`. To use this function it is necessary to define:\n",
    "- model: optimization model of gurobi\n",
    "- index: pandas index. With this index it can defined the sets of the decision variables\n",
    "- name: name of the decision variable\n",
    "- Example: x = gppd.add_vars(model, index, name=\"x\")"
   ]
  },
  {
   "cell_type": "code",
   "execution_count": 27,
   "id": "c362a3d8-bd76-4af5-95ec-55cd7cca7c09",
   "metadata": {},
   "outputs": [],
   "source": [
    "######################## decision variables that are FEATURES in Machiine Learning Models ########################\n",
    "\n",
    "# model d0eop_microkappa\n",
    "especifico_dioxido_d0 = gppd.add_vars(m, index_bleaching, name = \"especifico_dioxido_d0\", \n",
    "                                      lb = bounds_decision_var_features[bounds_decision_var_features['TAG_DESCRIPTION'] == 'especifico_dioxido_d0']['MIN_VALUE'].values[0], \n",
    "                                      ub = bounds_decision_var_features[bounds_decision_var_features['TAG_DESCRIPTION'] == 'especifico_dioxido_d0']['MAX_VALUE'].values[0]\n",
    "                                     )\n",
    "\n",
    "especifico_oxigeno_eop = gppd.add_vars(m, index_bleaching, name = \"especifico_oxigeno_eop\", \n",
    "                                      lb = bounds_decision_var_features[bounds_decision_var_features['TAG_DESCRIPTION'] == 'especifico_oxigeno_eop']['MIN_VALUE'].values[0], \n",
    "                                      ub = bounds_decision_var_features[bounds_decision_var_features['TAG_DESCRIPTION'] == 'especifico_oxigeno_eop']['MAX_VALUE'].values[0]\n",
    "                                     )\n",
    "\n",
    "especifico_peroxido_eop = gppd.add_vars(m, index_bleaching, name = \"especifico_peroxido_eop\", \n",
    "                                      lb = bounds_decision_var_features[bounds_decision_var_features['TAG_DESCRIPTION'] == 'especifico_peroxido_eop']['MIN_VALUE'].values[0], \n",
    "                                      ub = bounds_decision_var_features[bounds_decision_var_features['TAG_DESCRIPTION'] == 'especifico_peroxido_eop']['MAX_VALUE'].values[0]\n",
    "                                     )\n",
    "\n",
    "especifico_soda_eop = gppd.add_vars(m, index_bleaching, name = \"especifico_soda_eop\", \n",
    "                                      lb = bounds_decision_var_features[bounds_decision_var_features['TAG_DESCRIPTION'] == 'especifico_soda_eop']['MIN_VALUE'].values[0], \n",
    "                                      ub = bounds_decision_var_features[bounds_decision_var_features['TAG_DESCRIPTION'] == 'especifico_soda_eop']['MAX_VALUE'].values[0]\n",
    "                                     )\n",
    "\n",
    "\n",
    "\n",
    "# model d1_brillo\n",
    "especifico_dioxido_d1 = gppd.add_vars(m, index_bleaching, name = \"especifico_dioxido_d1\", \n",
    "                                      lb = bounds_decision_var_features[bounds_decision_var_features['TAG_DESCRIPTION'] == 'especifico_dioxido_d1']['MIN_VALUE'].values[0], \n",
    "                                      ub = bounds_decision_var_features[bounds_decision_var_features['TAG_DESCRIPTION'] == 'especifico_dioxido_d1']['MAX_VALUE'].values[0]\n",
    "                                     )\n",
    "\n",
    "especifico_acido_d1 = gppd.add_vars(m, index_bleaching, name = \"especifico_acido_d1\", \n",
    "                                      lb = bounds_decision_var_features[bounds_decision_var_features['TAG_DESCRIPTION'] == 'especifico_acido_d1']['MIN_VALUE'].values[0], \n",
    "                                      ub = bounds_decision_var_features[bounds_decision_var_features['TAG_DESCRIPTION'] == 'especifico_acido_d1']['MAX_VALUE'].values[0]\n",
    "                                     )\n",
    "\n",
    "\n",
    "\n",
    "# model p_blancura\n",
    "especifico_soda_p = gppd.add_vars(m, index_bleaching, name = \"especifico_soda_p\", \n",
    "                                      lb = bounds_decision_var_features[bounds_decision_var_features['TAG_DESCRIPTION'] == 'especifico_soda_p']['MIN_VALUE'].values[0], \n",
    "                                      ub = bounds_decision_var_features[bounds_decision_var_features['TAG_DESCRIPTION'] == 'especifico_soda_p']['MAX_VALUE'].values[0]\n",
    "                                     )\n",
    "\n",
    "especifico_peroxido_p = gppd.add_vars(m, index_bleaching, name = \"especifico_peroxido_p\", \n",
    "                                      lb = bounds_decision_var_features[bounds_decision_var_features['TAG_DESCRIPTION'] == 'especifico_peroxido_p']['MIN_VALUE'].values[0], \n",
    "                                      ub = bounds_decision_var_features[bounds_decision_var_features['TAG_DESCRIPTION'] == 'especifico_peroxido_p']['MAX_VALUE'].values[0]\n",
    "                                     )\n",
    "\n",
    "especifico_acido_p = gppd.add_vars(m, index_bleaching, name = \"especifico_acido_p\", \n",
    "                                      lb = bounds_decision_var_features[bounds_decision_var_features['TAG_DESCRIPTION'] == 'especifico_acido_p']['MIN_VALUE'].values[0], \n",
    "                                      ub = bounds_decision_var_features[bounds_decision_var_features['TAG_DESCRIPTION'] == 'especifico_acido_p']['MAX_VALUE'].values[0]\n",
    "                                     )"
   ]
  },
  {
   "cell_type": "code",
   "execution_count": 28,
   "id": "0cf40168-8031-4120-b89a-66906cfe4821",
   "metadata": {},
   "outputs": [],
   "source": [
    "######################## decision variables that are TARGETS in Machiine Learning Models ########################\n",
    "\n",
    "# model d0eop_microkappa\n",
    "microkappa_d1 = gppd.add_vars(m, index_bleaching, name = \"especifico_dioxido_d0\", \n",
    "                                      lb = bounds_decison_var_target[bounds_decison_var_target['TAG_DESCRIPTION'] == 'microkappa_d1']['MIN_VALUE'].values[0], \n",
    "                                      ub = bounds_decison_var_target[bounds_decison_var_target['TAG_DESCRIPTION'] == 'microkappa_d1']['MAX_VALUE'].values[0]\n",
    "                                     )\n",
    "\n",
    "# model d1_brillo\n",
    "brillo_entrada_p = gppd.add_vars(m, index_bleaching, name = \"especifico_dioxido_d0\", \n",
    "                                      lb = bounds_decison_var_target[bounds_decison_var_target['TAG_DESCRIPTION'] == 'brillo_entrada_p']['MIN_VALUE'].values[0], \n",
    "                                      ub = bounds_decison_var_target[bounds_decison_var_target['TAG_DESCRIPTION'] == 'brillo_entrada_p']['MAX_VALUE'].values[0]\n",
    "                                     )\n",
    "# model p_blancura\n",
    "blancura_salida_p = gppd.add_vars(m, index_bleaching, name = \"especifico_dioxido_d0\", \n",
    "                                      lb = bounds_decison_var_target[bounds_decison_var_target['TAG_DESCRIPTION'] == 'blancura_salida_p']['MIN_VALUE'].values[0], \n",
    "                                      ub = bounds_decison_var_target[bounds_decison_var_target['TAG_DESCRIPTION'] == 'blancura_salida_p']['MAX_VALUE'].values[0]\n",
    "                                     )"
   ]
  },
  {
   "cell_type": "code",
   "execution_count": 29,
   "id": "c5bcbf4b-4fd3-4baa-b552-6f1e4167067c",
   "metadata": {},
   "outputs": [],
   "source": [
    "############ decision variables that represent the difference between actual value FEATURES in Machine Learning Models and optimal value ############\n",
    "\n",
    "\n",
    "# model d0eop_microkappa\n",
    "diff_especifico_dioxido_d0 = gppd.add_vars(m, index_bleaching, name = \"diff_especifico_dioxido_d0\", \n",
    "                                      lb = -gp.GRB.INFINITY,\n",
    "                                      ub = gp.GRB.INFINITY\n",
    "                                     )\n",
    "\n",
    "diff_especifico_oxigeno_eop = gppd.add_vars(m, index_bleaching, name = \"diff_especifico_oxigeno_eop\", \n",
    "                                      lb = -gp.GRB.INFINITY,\n",
    "                                      ub = gp.GRB.INFINITY\n",
    "                                     )\n",
    "\n",
    "diff_especifico_peroxido_eop = gppd.add_vars(m, index_bleaching, name = \"diff_especifico_peroxido_eop\", \n",
    "                                      lb = -gp.GRB.INFINITY,\n",
    "                                      ub = gp.GRB.INFINITY\n",
    "                                     )\n",
    "\n",
    "diff_especifico_soda_eop = gppd.add_vars(m, index_bleaching, name = \"diff_especifico_soda_eop\", \n",
    "                                      lb = -gp.GRB.INFINITY,\n",
    "                                      ub = gp.GRB.INFINITY\n",
    "                                     )\n",
    "\n",
    "\n",
    "\n",
    "# model d1_brillo\n",
    "diff_especifico_dioxido_d1 = gppd.add_vars(m, index_bleaching, name = \"diff_especifico_dioxido_d1\", \n",
    "                                      lb = -gp.GRB.INFINITY,\n",
    "                                      ub = gp.GRB.INFINITY\n",
    "                                     )\n",
    "\n",
    "diff_especifico_acido_d1 = gppd.add_vars(m, index_bleaching, name = \"diff_especifico_acido_d1\", \n",
    "                                      lb = -gp.GRB.INFINITY,\n",
    "                                      ub = gp.GRB.INFINITY\n",
    "                                     )\n",
    "\n",
    "\n",
    "\n",
    "# model p_blancura\n",
    "diff_especifico_soda_p = gppd.add_vars(m, index_bleaching, name = \"diff_especifico_soda_p\", \n",
    "                                      lb = -gp.GRB.INFINITY,\n",
    "                                      ub = gp.GRB.INFINITY\n",
    "                                     )\n",
    "\n",
    "diff_especifico_peroxido_p = gppd.add_vars(m, index_bleaching, name = \"diff_especifico_peroxido_p\", \n",
    "                                      lb = -gp.GRB.INFINITY,\n",
    "                                      ub = gp.GRB.INFINITY\n",
    "                                     )\n",
    "\n",
    "diff_especifico_acido_p = gppd.add_vars(m, index_bleaching, name = \"diff_especifico_acido_p\", \n",
    "                                      lb = -gp.GRB.INFINITY,\n",
    "                                      ub = gp.GRB.INFINITY\n",
    "                                     )"
   ]
  },
  {
   "cell_type": "code",
   "execution_count": null,
   "id": "cebc6f8c-4533-4d58-a336-24af53d36a5b",
   "metadata": {},
   "outputs": [],
   "source": []
  },
  {
   "cell_type": "code",
   "execution_count": null,
   "id": "211d78c7-3a62-4221-b08f-5bbded5fd332",
   "metadata": {},
   "outputs": [],
   "source": []
  },
  {
   "cell_type": "markdown",
   "id": "6455507f-2965-48c4-adb4-338b1b80e6f3",
   "metadata": {},
   "source": [
    "### 6. Constraints (constraints that are not generated by a ml model)\n",
    "Nota: para que tomen las restricciones es necesario pasar el arg [0] de la variable de decisión"
   ]
  },
  {
   "cell_type": "code",
   "execution_count": 30,
   "id": "e5c02af0-b17d-4f48-a444-c61665e218e2",
   "metadata": {},
   "outputs": [
    {
     "data": {
      "text/plain": [
       "<gurobi.Constr *Awaiting Model Update*>"
      ]
     },
     "execution_count": 30,
     "metadata": {},
     "output_type": "execute_result"
    }
   ],
   "source": [
    "######################## decision variables that are FEATURES in Machiine Learning Models ########################\n",
    "\n",
    "###### model d0eop_microkappa ######\n",
    "# especifico_dioxido_d0\n",
    "m.addConstr(diff_especifico_dioxido_d0[0] >= (especifico_dioxido_d0[0] - actual_value_especifico_dioxido_d0), name = 'diff_especifico_dioxido_d0 positive segment')\n",
    "m.addConstr(diff_especifico_dioxido_d0[0] >= -(especifico_dioxido_d0[0] - actual_value_especifico_dioxido_d0), name = 'diff_especifico_dioxido_d0 negative segment')\n",
    "m.addConstr(diff_especifico_dioxido_d0[0] <= delta_especifico_dioxido_d0, name = 'diff_especifico_dioxido_d0 delta')\n",
    "\n",
    "\n",
    "# especifico_oxigeno_eop\n",
    "m.addConstr(diff_especifico_oxigeno_eop[0] >= (especifico_oxigeno_eop[0] - actual_value_especifico_oxigeno_eop), name = 'diff_especifico_oxigeno_eop positive segment')\n",
    "m.addConstr(diff_especifico_oxigeno_eop[0] >= -(especifico_oxigeno_eop[0] - actual_value_especifico_oxigeno_eop), name = 'diff_especifico_oxigeno_eop negative segment')\n",
    "m.addConstr(diff_especifico_oxigeno_eop[0] <= delta_especifico_oxigeno_eop, name = 'diff_especifico_oxigeno_eop delta')\n",
    "\n",
    "\n",
    "# especifico_peroxido_eop\n",
    "m.addConstr(diff_especifico_peroxido_eop[0] >= (especifico_peroxido_eop[0] - actual_value_especifico_peroxido_eop), name = 'diff_especifico_peroxido_eop positive segment')\n",
    "m.addConstr(diff_especifico_peroxido_eop[0] >= -(especifico_peroxido_eop[0] - actual_value_especifico_peroxido_eop), name = 'diff_especifico_peroxido_eop negative segment')\n",
    "m.addConstr(diff_especifico_peroxido_eop[0] <= delta_especifico_peroxido_eop, name = 'diff_especifico_peroxido_eop delta')\n",
    "\n",
    "\n",
    "# especifico_soda_eop\n",
    "m.addConstr(diff_especifico_soda_eop[0] >= (especifico_soda_eop[0] - actual_value_especifico_soda_eop), name = 'diff_especifico_soda_eop positive segment')\n",
    "m.addConstr(diff_especifico_soda_eop[0] >= -(especifico_soda_eop[0] - actual_value_especifico_soda_eop), name = 'diff_especifico_soda_eop negative segment')\n",
    "m.addConstr(diff_especifico_soda_eop[0] <= delta_especifico_soda_eop, name = 'diff_especifico_soda_eop delta')\n",
    "\n",
    "\n",
    "###### model d1_brillo ######\n",
    "# especifico_dioxido_d1\n",
    "m.addConstr(diff_especifico_dioxido_d1[0] >= (especifico_dioxido_d1[0] - actual_value_especifico_dioxido_d1), name = 'diff_especifico_dioxido_d1 positive segment')\n",
    "m.addConstr(diff_especifico_dioxido_d1[0] >= -(especifico_dioxido_d1[0] - actual_value_especifico_dioxido_d1), name = 'diff_especifico_dioxido_d1 negative segment')\n",
    "m.addConstr(diff_especifico_dioxido_d1[0] <= delta_especifico_dioxido_d1, name = 'diff_especifico_dioxido_d1 delta')\n",
    "\n",
    "\n",
    "# especifico_acido_d1\n",
    "m.addConstr(diff_especifico_acido_d1[0] >= (especifico_acido_d1[0] - actual_value_especifico_acido_d1), name = 'diff_especifico_acido_d1 positive segment')\n",
    "m.addConstr(diff_especifico_acido_d1[0] >= -(especifico_acido_d1[0] - actual_value_especifico_acido_d1), name = 'diff_especifico_acido_d1 negative segment')\n",
    "m.addConstr(diff_especifico_acido_d1[0] <= delta_especifico_acido_d1, name = 'diff_especifico_acido_d1 delta')\n",
    "\n",
    "\n",
    "###### model p_blancura ######\n",
    "# especifico_soda_p\n",
    "m.addConstr(diff_especifico_soda_p[0] >= (especifico_soda_p[0] - actual_value_especifico_soda_p), name = 'diff_especifico_soda_p positive segment')\n",
    "m.addConstr(diff_especifico_soda_p[0] >= -(especifico_soda_p[0] - actual_value_especifico_soda_p), name = 'diff_especifico_soda_p negative segment')\n",
    "m.addConstr(diff_especifico_soda_p[0] <= delta_especifico_soda_p, name = 'diff_especifico_soda_p delta')\n",
    "\n",
    "\n",
    "# especifico_peroxido_p\n",
    "m.addConstr(diff_especifico_peroxido_p[0] >= (especifico_peroxido_p[0] - actual_value_especifico_peroxido_p), name = 'diff_especifico_peroxido_p positive segment')\n",
    "m.addConstr(diff_especifico_peroxido_p[0] >= -(especifico_peroxido_p[0] - actual_value_especifico_peroxido_p), name = 'diff_especifico_peroxido_p negative segment')\n",
    "m.addConstr(diff_especifico_peroxido_p[0] <= delta_especifico_peroxido_p, name = 'diff_especifico_peroxido_p delta')\n",
    "\n",
    "\n",
    "# especifico_acido_p\n",
    "m.addConstr(diff_especifico_acido_p[0] >= (especifico_acido_p[0] - actual_value_especifico_acido_p), name = 'diff_especifico_acido_p positive segment')\n",
    "m.addConstr(diff_especifico_acido_p[0] >= -(especifico_acido_p[0] - actual_value_especifico_acido_p), name = 'diff_especifico_acido_p negative segment')\n",
    "m.addConstr(diff_especifico_acido_p[0] <= delta_especifico_acido_p, name = 'diff_especifico_acido_p delta')"
   ]
  },
  {
   "cell_type": "code",
   "execution_count": 31,
   "id": "18c6d932-989d-4b18-b522-6bd316ee5dc1",
   "metadata": {},
   "outputs": [
    {
     "data": {
      "text/plain": [
       "<gurobi.Model Continuous instance Bleaching Optimization v2: 0 constrs, 0 vars, No parameter changes>"
      ]
     },
     "execution_count": 31,
     "metadata": {},
     "output_type": "execute_result"
    }
   ],
   "source": [
    "m"
   ]
  },
  {
   "cell_type": "code",
   "execution_count": 32,
   "id": "2bdd362f-d857-49b2-abf3-7f7ea7bcc4e3",
   "metadata": {},
   "outputs": [],
   "source": [
    "# update model\n",
    "m.update()"
   ]
  },
  {
   "cell_type": "code",
   "execution_count": 33,
   "id": "b2d08bd8-445b-48e6-91e3-b3c5f887d153",
   "metadata": {},
   "outputs": [
    {
     "data": {
      "text/plain": [
       "<gurobi.Model Continuous instance Bleaching Optimization v2: 27 constrs, 21 vars, No parameter changes>"
      ]
     },
     "execution_count": 33,
     "metadata": {},
     "output_type": "execute_result"
    }
   ],
   "source": [
    "m"
   ]
  },
  {
   "cell_type": "code",
   "execution_count": null,
   "id": "7a8acdfd-18c8-417b-85b0-8b7f84bd0d49",
   "metadata": {},
   "outputs": [],
   "source": []
  },
  {
   "cell_type": "markdown",
   "id": "d00c9c20-5457-4875-bb44-558c4e010ea4",
   "metadata": {},
   "source": [
    "### 7. Add constraints that are machine learning models\n",
    "To add constraints that have machine learning models it is necessary define a dataframe that are the instance of prediction (it has columns as gurobi decision variables) and then create the constraint in gurobi.\n",
    "\n",
    "In this example, where each region has its own model, the dataframe instance also needs to be defined indidually. For the decision variable that are defined in the set \"regions\" it is important filter the dataframe instance with the correct element of the set region\n",
    "\n",
    "**So, for each element in set region will be defined the instance dataframe and a constraint. Each region has it own model**Also, the instance has only one row, so now it is possible define a optimization model with set \"time\" and each row of the dataframe could be the instance of time t, t+1, t+2, etc\n",
    "\n",
    "\n",
    "**IMPORTANT: LOGICALLY, FOR THIS EXAMPLE, TO DEFINE THE CONSTRAINTS OF ML MODELS, A FOR COULD HAVE BEEN MADE IN THE SET \"REGIONS\" BUT IT WAS NOT DONE CONSCIOUSLY THINKING OF AN EXAMPLE IN WHICH RESTRICTIONS HAVE TO BE DEFINED IN DIFFERENT SETS**"
   ]
  },
  {
   "cell_type": "markdown",
   "id": "554346ab-7750-4c04-b2cf-7487cfd389f6",
   "metadata": {},
   "source": [
    "#### 7.1 d0eop_microkappa"
   ]
  },
  {
   "cell_type": "code",
   "execution_count": 34,
   "id": "4ae2ac49-132c-4de7-a4d3-60e5b98fbc2c",
   "metadata": {},
   "outputs": [
    {
     "data": {
      "text/html": [
       "<div>\n",
       "<style scoped>\n",
       "    .dataframe tbody tr th:only-of-type {\n",
       "        vertical-align: middle;\n",
       "    }\n",
       "\n",
       "    .dataframe tbody tr th {\n",
       "        vertical-align: top;\n",
       "    }\n",
       "\n",
       "    .dataframe thead th {\n",
       "        text-align: right;\n",
       "    }\n",
       "</style>\n",
       "<table border=\"1\" class=\"dataframe\">\n",
       "  <thead>\n",
       "    <tr style=\"text-align: right;\">\n",
       "      <th></th>\n",
       "      <th>240AIT063A.PNT</th>\n",
       "      <th>240AIT063B.PNT</th>\n",
       "      <th>calc_prod_d0</th>\n",
       "      <th>240FY050.RO02</th>\n",
       "      <th>SSTRIPPING015</th>\n",
       "      <th>S276PER002</th>\n",
       "      <th>240AIC022.MEAS</th>\n",
       "      <th>240FY118B.RO01</th>\n",
       "      <th>240FY11PB.RO01</th>\n",
       "      <th>240FY107A.RO01</th>\n",
       "    </tr>\n",
       "  </thead>\n",
       "  <tbody>\n",
       "    <tr>\n",
       "      <th>bleaching</th>\n",
       "      <td>6.349346</td>\n",
       "      <td>61.826925</td>\n",
       "      <td>3346.85825</td>\n",
       "      <td>&lt;gurobi.Var especifico_dioxido_d0[bleaching]&gt;</td>\n",
       "      <td>707.265937</td>\n",
       "      <td>11.516543</td>\n",
       "      <td>2.93846</td>\n",
       "      <td>&lt;gurobi.Var especifico_oxigeno_eop[bleaching]&gt;</td>\n",
       "      <td>&lt;gurobi.Var especifico_peroxido_eop[bleaching]&gt;</td>\n",
       "      <td>&lt;gurobi.Var especifico_soda_eop[bleaching]&gt;</td>\n",
       "    </tr>\n",
       "  </tbody>\n",
       "</table>\n",
       "</div>"
      ],
      "text/plain": [
       "           240AIT063A.PNT  240AIT063B.PNT  calc_prod_d0  \\\n",
       "bleaching        6.349346       61.826925    3346.85825   \n",
       "\n",
       "                                           240FY050.RO02  SSTRIPPING015  \\\n",
       "bleaching  <gurobi.Var especifico_dioxido_d0[bleaching]>     707.265937   \n",
       "\n",
       "           S276PER002  240AIC022.MEAS  \\\n",
       "bleaching   11.516543         2.93846   \n",
       "\n",
       "                                           240FY118B.RO01  \\\n",
       "bleaching  <gurobi.Var especifico_oxigeno_eop[bleaching]>   \n",
       "\n",
       "                                            240FY11PB.RO01  \\\n",
       "bleaching  <gurobi.Var especifico_peroxido_eop[bleaching]>   \n",
       "\n",
       "                                        240FY107A.RO01  \n",
       "bleaching  <gurobi.Var especifico_soda_eop[bleaching]>  "
      ]
     },
     "execution_count": 34,
     "metadata": {},
     "output_type": "execute_result"
    }
   ],
   "source": [
    "######################## instance model d0eop_microkappa ########################\n",
    "\n",
    "# create instance with controlables variables. sorted according the list of features. ES MUY IMPORTANTE QUE ESTÉ ORDENADO LAS VARIABLES DE DECUISIÓN DE ACUERDO A LA LISTA DE FEATURES\n",
    "instance_controlables_d0eop_microkappa = pd.DataFrame([especifico_dioxido_d0, especifico_oxigeno_eop, especifico_peroxido_eop, especifico_soda_eop]).T\n",
    "instance_controlables_d0eop_microkappa.columns = list_features_controlables_d0eop_microkappa # rename columns\n",
    "instance_controlables_d0eop_microkappa.reset_index(inplace = True)\n",
    "instance_controlables_d0eop_microkappa.drop(columns = 'index', inplace = True)\n",
    "\n",
    "# append features controlables with no controlables\n",
    "instance_d0eop_microkappa = pd.concat([instance_no_controlables_d0eop_microkappa, instance_controlables_d0eop_microkappa], axis = 1)\n",
    "instance_d0eop_microkappa = instance_d0eop_microkappa[list_features_d0eop_microkappa] # sort features\n",
    "\n",
    "# set index - optimization set\n",
    "instance_d0eop_microkappa.index = index_bleaching\n",
    "\n",
    "instance_d0eop_microkappa"
   ]
  },
  {
   "cell_type": "code",
   "execution_count": 35,
   "id": "3ce16bb1-6d83-46ce-a539-3883e6a3e3a1",
   "metadata": {},
   "outputs": [
    {
     "name": "stdout",
     "output_type": "stream",
     "text": [
      "Model for model_predict_d0eop_microkappa:\n",
      "72 variables\n",
      "1 constraints\n",
      "66 quadratic constraints\n",
      "Input has shape (1, 10)\n",
      "Output has shape (1, 1)\n",
      "\n",
      "Pipeline has 2 steps:\n",
      "\n",
      "--------------------------------------------------------------------------------\n",
      "Step            Output Shape    Variables              Constraints              \n",
      "                                                Linear    Quadratic      General\n",
      "================================================================================\n",
      "poly_feat            (1, 66)           72            0           66            0\n",
      "\n",
      "lin_reg               (1, 1)            0            1            0            0\n",
      "\n",
      "--------------------------------------------------------------------------------\n"
     ]
    }
   ],
   "source": [
    "###### load ml constraint ######\n",
    "pred_constr_d0eop_microkappa = add_predictor_constr(gp_model = m, \n",
    "                                   predictor = model_d0eop_microkappa, \n",
    "                                   input_vars = instance_d0eop_microkappa, \n",
    "                                   output_vars = microkappa_d1,\n",
    "                                   name = f'model_predict_d0eop_microkappa'\n",
    "                                  )\n",
    "pred_constr_d0eop_microkappa.print_stats()"
   ]
  },
  {
   "cell_type": "code",
   "execution_count": null,
   "id": "8efe1f77-5367-40bd-b345-ab45f4a3c8ff",
   "metadata": {},
   "outputs": [],
   "source": []
  },
  {
   "cell_type": "markdown",
   "id": "5e55d86d-092a-4dd5-8f56-06a805c48973",
   "metadata": {},
   "source": [
    "#### 7.2 d1_brillo"
   ]
  },
  {
   "cell_type": "code",
   "execution_count": 36,
   "id": "d78c2980-2496-45d2-a943-0fc2e77a383c",
   "metadata": {},
   "outputs": [
    {
     "data": {
      "text/html": [
       "<div>\n",
       "<style scoped>\n",
       "    .dataframe tbody tr th:only-of-type {\n",
       "        vertical-align: middle;\n",
       "    }\n",
       "\n",
       "    .dataframe tbody tr th {\n",
       "        vertical-align: top;\n",
       "    }\n",
       "\n",
       "    .dataframe thead th {\n",
       "        text-align: right;\n",
       "    }\n",
       "</style>\n",
       "<table border=\"1\" class=\"dataframe\">\n",
       "  <thead>\n",
       "    <tr style=\"text-align: right;\">\n",
       "      <th></th>\n",
       "      <th>240AIT225B.PNT</th>\n",
       "      <th>240AIT225A.PNT</th>\n",
       "      <th>240FI108A.PNT</th>\n",
       "      <th>calc_prod_d1</th>\n",
       "      <th>240FY218.RO02</th>\n",
       "      <th>240TIT223.PNT</th>\n",
       "      <th>240FY210A.RO01</th>\n",
       "    </tr>\n",
       "  </thead>\n",
       "  <tbody>\n",
       "    <tr>\n",
       "      <th>bleaching</th>\n",
       "      <td>85.051634</td>\n",
       "      <td>&lt;gurobi.Var especifico_dioxido_d0[bleaching]&gt;</td>\n",
       "      <td>169.45041</td>\n",
       "      <td>3347.664057</td>\n",
       "      <td>&lt;gurobi.Var especifico_dioxido_d1[bleaching]&gt;</td>\n",
       "      <td>77.212822</td>\n",
       "      <td>&lt;gurobi.Var especifico_acido_d1[bleaching]&gt;</td>\n",
       "    </tr>\n",
       "  </tbody>\n",
       "</table>\n",
       "</div>"
      ],
      "text/plain": [
       "           240AIT225B.PNT                                 240AIT225A.PNT  \\\n",
       "bleaching       85.051634  <gurobi.Var especifico_dioxido_d0[bleaching]>   \n",
       "\n",
       "           240FI108A.PNT  calc_prod_d1  \\\n",
       "bleaching      169.45041   3347.664057   \n",
       "\n",
       "                                           240FY218.RO02  240TIT223.PNT  \\\n",
       "bleaching  <gurobi.Var especifico_dioxido_d1[bleaching]>      77.212822   \n",
       "\n",
       "                                        240FY210A.RO01  \n",
       "bleaching  <gurobi.Var especifico_acido_d1[bleaching]>  "
      ]
     },
     "execution_count": 36,
     "metadata": {},
     "output_type": "execute_result"
    }
   ],
   "source": [
    "# (reemplazar \"d0eop_microkappa\" por \"d1_brillo\")\n",
    "######################## instance model d1_brillo ########################\n",
    "\n",
    "# create instance with controlables variables. sorted according the list of features. ES MUY IMPORTANTE QUE ESTÉ ORDENADO LAS VARIABLES DE DECUISIÓN DE ACUERDO A LA LISTA DE FEATURES\n",
    "instance_controlables_d1_brillo = pd.DataFrame([especifico_dioxido_d1, especifico_acido_d1]).T # <---- change ---------<--------<--------\n",
    "instance_controlables_d1_brillo.columns = list_features_controlables_d1_brillo # rename columns\n",
    "instance_controlables_d1_brillo.reset_index(inplace = True)\n",
    "instance_controlables_d1_brillo.drop(columns = 'index', inplace = True)\n",
    "\n",
    "# create instance with target of previos model\n",
    "instance_previos_target_d1_brillo = pd.DataFrame([microkappa_d1]).T # <---- change ---------<--------<--------\n",
    "instance_previos_target_d1_brillo.columns  = list_target_d0eop_microkappa # rename columns\n",
    "instance_previos_target_d1_brillo.reset_index(inplace = True)\n",
    "instance_previos_target_d1_brillo.drop(columns = 'index', inplace = True)\n",
    "\n",
    "# append features controlables with no controlables\n",
    "instance_d1_brillo = pd.concat([instance_no_controlables_d1_brillo, instance_controlables_d1_brillo, instance_previos_target_d1_brillo], axis = 1)\n",
    "instance_d1_brillo = instance_d1_brillo[list_features_d1_brillo] # sort features\n",
    "\n",
    "# set index - optimization set\n",
    "instance_d1_brillo.index = index_bleaching\n",
    "\n",
    "instance_d1_brillo"
   ]
  },
  {
   "cell_type": "code",
   "execution_count": 37,
   "id": "8513c9c0-c82d-4aa6-bdf2-731f538751e7",
   "metadata": {},
   "outputs": [
    {
     "name": "stdout",
     "output_type": "stream",
     "text": [
      "Model for model_predict_d1_brillo:\n",
      "4 variables\n",
      "1 constraints\n",
      "Input has shape (1, 7)\n",
      "Output has shape (1, 1)\n"
     ]
    }
   ],
   "source": [
    "###### load ml constraint ######\n",
    "pred_constr_d1_brillo = add_predictor_constr(gp_model = m, \n",
    "                                   predictor = model_d1_brillo, \n",
    "                                   input_vars = instance_d1_brillo, \n",
    "                                   output_vars = brillo_entrada_p,\n",
    "                                   name = f'model_predict_d1_brillo'\n",
    "                                  )\n",
    "\n",
    "pred_constr_d1_brillo.print_stats()"
   ]
  },
  {
   "cell_type": "code",
   "execution_count": null,
   "id": "739bad78-8c80-4210-a965-0630cd0e664e",
   "metadata": {},
   "outputs": [],
   "source": []
  },
  {
   "cell_type": "markdown",
   "id": "3cfb2c28-dfc5-4be5-a420-df3359e862e0",
   "metadata": {},
   "source": [
    "#### 7.3 model p_blancura"
   ]
  },
  {
   "cell_type": "code",
   "execution_count": 38,
   "id": "3c6545ee-227c-45db-9476-0012b1862846",
   "metadata": {},
   "outputs": [
    {
     "data": {
      "text/html": [
       "<div>\n",
       "<style scoped>\n",
       "    .dataframe tbody tr th:only-of-type {\n",
       "        vertical-align: middle;\n",
       "    }\n",
       "\n",
       "    .dataframe tbody tr th {\n",
       "        vertical-align: top;\n",
       "    }\n",
       "\n",
       "    .dataframe thead th {\n",
       "        text-align: right;\n",
       "    }\n",
       "</style>\n",
       "<table border=\"1\" class=\"dataframe\">\n",
       "  <thead>\n",
       "    <tr style=\"text-align: right;\">\n",
       "      <th></th>\n",
       "      <th>240AIT322B.PNT</th>\n",
       "      <th>calc_prod_p</th>\n",
       "      <th>240FY312.RO01</th>\n",
       "      <th>240FY397.RO01</th>\n",
       "      <th>240AIC324.MEAS</th>\n",
       "      <th>240FY430.RO01</th>\n",
       "    </tr>\n",
       "  </thead>\n",
       "  <tbody>\n",
       "    <tr>\n",
       "      <th>bleaching</th>\n",
       "      <td>&lt;gurobi.Var especifico_dioxido_d0[bleaching]&gt;</td>\n",
       "      <td>3346.185561</td>\n",
       "      <td>&lt;gurobi.Var especifico_soda_p[bleaching]&gt;</td>\n",
       "      <td>&lt;gurobi.Var especifico_peroxido_p[bleaching]&gt;</td>\n",
       "      <td>10.382279</td>\n",
       "      <td>&lt;gurobi.Var especifico_acido_p[bleaching]&gt;</td>\n",
       "    </tr>\n",
       "  </tbody>\n",
       "</table>\n",
       "</div>"
      ],
      "text/plain": [
       "                                          240AIT322B.PNT  calc_prod_p  \\\n",
       "bleaching  <gurobi.Var especifico_dioxido_d0[bleaching]>  3346.185561   \n",
       "\n",
       "                                       240FY312.RO01  \\\n",
       "bleaching  <gurobi.Var especifico_soda_p[bleaching]>   \n",
       "\n",
       "                                           240FY397.RO01  240AIC324.MEAS  \\\n",
       "bleaching  <gurobi.Var especifico_peroxido_p[bleaching]>       10.382279   \n",
       "\n",
       "                                        240FY430.RO01  \n",
       "bleaching  <gurobi.Var especifico_acido_p[bleaching]>  "
      ]
     },
     "execution_count": 38,
     "metadata": {},
     "output_type": "execute_result"
    }
   ],
   "source": [
    "# (reemplazar \"d1_brillo\" por \"p_blancura\")\n",
    "######################## instance model p_blancura ########################\n",
    "\n",
    "# create instance with controlables variables. sorted according the list of features. ES MUY IMPORTANTE QUE ESTÉ ORDENADO LAS VARIABLES DE DECUISIÓN DE ACUERDO A LA LISTA DE FEATURES\n",
    "instance_controlables_p_blancura = pd.DataFrame([especifico_soda_p, especifico_peroxido_p, especifico_acido_p]).T # <---- change ---------<--------<--------\n",
    "instance_controlables_p_blancura.columns = list_features_controlables_p_blancura # rename columns\n",
    "instance_controlables_p_blancura.reset_index(inplace = True)\n",
    "instance_controlables_p_blancura.drop(columns = 'index', inplace = True)\n",
    "\n",
    "# create instance with target of previos model\n",
    "instance_previos_target_p_blancura = pd.DataFrame([brillo_entrada_p]).T # <---- change ---------<--------<--------\n",
    "instance_previos_target_p_blancura.columns  = list_target_d1_brillo # rename columns\n",
    "instance_previos_target_p_blancura.reset_index(inplace = True)\n",
    "instance_previos_target_p_blancura.drop(columns = 'index', inplace = True)\n",
    "\n",
    "# append features controlables with no controlables\n",
    "instance_p_blancura = pd.concat([instance_no_controlables_p_blancura, instance_controlables_p_blancura, instance_previos_target_p_blancura], axis = 1)\n",
    "instance_p_blancura = instance_p_blancura[list_features_p_blancura] # sort features\n",
    "\n",
    "# set index - optimization set\n",
    "instance_p_blancura.index = index_bleaching\n",
    "\n",
    "instance_p_blancura"
   ]
  },
  {
   "cell_type": "code",
   "execution_count": 39,
   "id": "b57bfc75-3015-47cd-b767-9d05590d652a",
   "metadata": {},
   "outputs": [
    {
     "name": "stdout",
     "output_type": "stream",
     "text": [
      "Model for model_predict_p_blancura:\n",
      "30 variables\n",
      "1 constraints\n",
      "28 quadratic constraints\n",
      "Input has shape (1, 6)\n",
      "Output has shape (1, 1)\n",
      "\n",
      "Pipeline has 2 steps:\n",
      "\n",
      "--------------------------------------------------------------------------------\n",
      "Step            Output Shape    Variables              Constraints              \n",
      "                                                Linear    Quadratic      General\n",
      "================================================================================\n",
      "poly_feat            (1, 28)           30            0           28            0\n",
      "\n",
      "lin_reg               (1, 1)            0            1            0            0\n",
      "\n",
      "--------------------------------------------------------------------------------\n"
     ]
    }
   ],
   "source": [
    "###### load ml constraint ######\n",
    "pred_constr_p_blancura = add_predictor_constr(gp_model = m, \n",
    "                                   predictor = model_p_blancura, \n",
    "                                   input_vars = instance_p_blancura, \n",
    "                                   output_vars = blancura_salida_p,\n",
    "                                   name = f'model_predict_p_blancura'\n",
    "                                  )\n",
    "\n",
    "pred_constr_p_blancura.print_stats()"
   ]
  },
  {
   "cell_type": "code",
   "execution_count": null,
   "id": "b49ad44e-06c8-4822-9160-affb4c998334",
   "metadata": {},
   "outputs": [],
   "source": []
  },
  {
   "cell_type": "code",
   "execution_count": null,
   "id": "41aad436-b673-4c07-a934-af91312691c2",
   "metadata": {},
   "outputs": [],
   "source": []
  },
  {
   "cell_type": "markdown",
   "id": "eae2618c-b69f-4c54-b63b-91ea6a0f6c56",
   "metadata": {},
   "source": [
    "### 8. Define Objetive Function\n",
    "The goal is to maximize the **net revenue**, which is the product of price and quantity, minus costs over all regions. This model assumes the purchase costs are fixed (since the amount $B$ is fixed) and are therefore not incorporated.\n",
    "\n",
    "\\begin{align} \\textrm{maximize} &  \\sum_{r}  (p_r * s_r - c_{waste} * u_r -\n",
    "c^r_{transport} * x_r)& \\end{align}"
   ]
  },
  {
   "cell_type": "code",
   "execution_count": 40,
   "id": "8c903f49-0303-4ee4-be41-858078a9c0a6",
   "metadata": {},
   "outputs": [],
   "source": [
    "# ######################## define variable of costs of each stage ########################\n",
    "costs_d0 = especifico_dioxido_d0*prices['dioxido'].values[0]\n",
    "costs_eop = especifico_soda_eop*prices['soda'].values[0] + especifico_peroxido_eop*prices['peroxido'].values[0] + especifico_oxigeno_eop*prices['oxigeno'].values[0]\n",
    "costs_d1 = especifico_acido_d1*prices['acido'].values[0] + especifico_dioxido_d1*prices['dioxido'].values[0]\n",
    "costs_p = especifico_acido_p*prices['acido'].values[0] + especifico_soda_p*prices['soda'].values[0] + especifico_peroxido_p*prices['peroxido'].values[0]"
   ]
  },
  {
   "cell_type": "code",
   "execution_count": 41,
   "id": "befdc727-9963-4242-b14b-e29e28508bad",
   "metadata": {},
   "outputs": [
    {
     "data": {
      "text/plain": [
       "bleaching    1.4 especifico_dioxido_d0[bleaching]\n",
       "Name: especifico_dioxido_d0, dtype: object"
      ]
     },
     "execution_count": 41,
     "metadata": {},
     "output_type": "execute_result"
    }
   ],
   "source": [
    "costs_d0"
   ]
  },
  {
   "cell_type": "code",
   "execution_count": 42,
   "id": "3f064e8c-27e3-4456-a2a3-2d5da87be3c5",
   "metadata": {},
   "outputs": [
    {
     "data": {
      "text/plain": [
       "<gurobi.LinExpr: 1.4 especifico_dioxido_d0[bleaching]>"
      ]
     },
     "execution_count": 42,
     "metadata": {},
     "output_type": "execute_result"
    }
   ],
   "source": [
    "costs_d0.sum()"
   ]
  },
  {
   "cell_type": "code",
   "execution_count": 43,
   "id": "51993c17-745d-405c-ac75-091c0017ecc8",
   "metadata": {},
   "outputs": [],
   "source": [
    "######################## set objetive minimize costs ########################\n",
    "\n",
    "# it is necesary define with .sum() to get a guroli linear expression\n",
    "m.setObjective(costs_d0.sum()+ costs_eop.sum() + costs_d1.sum() + costs_p.sum(),\n",
    "               gp.GRB.MAXIMIZE)"
   ]
  },
  {
   "cell_type": "code",
   "execution_count": null,
   "id": "cb95abac-c6f0-4885-915b-9c48b1c9859f",
   "metadata": {},
   "outputs": [],
   "source": []
  },
  {
   "cell_type": "code",
   "execution_count": null,
   "id": "6b02898c-4b8a-4db7-a689-57a3af81904f",
   "metadata": {},
   "outputs": [],
   "source": []
  },
  {
   "cell_type": "markdown",
   "id": "14bfbd7e-ff7a-48b6-8dab-5d5c8e832f8c",
   "metadata": {},
   "source": [
    "### 9. Solve optimization problem\n",
    "The objective is **quadratic** since we take the product of price and the predicted sales, both of which are variables. Maximizing a quadratic\n",
    "term is said to be **non-convex**, and we specify this by setting the value of the [Gurobi NonConvex\n",
    "parameter](https://www.gurobi.com/documentation/10.0/refman/nonconvex.html) to be $2$."
   ]
  },
  {
   "cell_type": "markdown",
   "id": "d35e6d5e-ee76-413e-a02b-6f45d14c382b",
   "metadata": {},
   "source": [
    "#### 9.1 Solve optimization problem"
   ]
  },
  {
   "cell_type": "code",
   "execution_count": 44,
   "id": "d524177d-48cd-4252-b31c-c19c4a03bb36",
   "metadata": {},
   "outputs": [
    {
     "name": "stdout",
     "output_type": "stream",
     "text": [
      "Gurobi Optimizer version 11.0.0 build v11.0.0rc2 (win64 - Windows 10.0 (19043.2))\n",
      "\n",
      "CPU model: Intel(R) Core(TM) i7-10750H CPU @ 2.60GHz, instruction set [SSE2|AVX|AVX2]\n",
      "Thread count: 6 physical cores, 12 logical processors, using up to 12 threads\n",
      "\n",
      "Optimize a model with 30 rows, 127 columns and 149 nonzeros\n",
      "Model fingerprint: 0x64439bf8\n",
      "Model has 94 quadratic constraints\n",
      "Coefficient statistics:\n",
      "  Matrix range     [2e-09, 3e+01]\n",
      "  QMatrix range    [1e+00, 1e+00]\n",
      "  QLMatrix range   [1e+00, 1e+00]\n",
      "  Objective range  [9e-02, 1e+00]\n",
      "  Bounds range     [1e+00, 3e+03]\n",
      "  RHS range        [5e-01, 4e+02]\n",
      "  QRHS range       [1e+00, 1e+00]\n",
      "Presolve removed 27 rows and 55 columns\n",
      "\n",
      "Continuous model is non-convex -- solving as a MIP\n",
      "\n",
      "Presolve removed 27 rows and 95 columns\n",
      "Presolve time: 0.00s\n",
      "Presolved: 75 rows, 32 columns, 219 nonzeros\n",
      "Presolved model has 20 bilinear constraint(s)\n",
      "Variable types: 32 continuous, 0 integer (0 binary)\n",
      "Found heuristic solution: objective 31.1837048\n",
      "\n",
      "Root relaxation: interrupted, 14 iterations, 0.00 seconds (0.00 work units)\n",
      "\n",
      "    Nodes    |    Current Node    |     Objective Bounds      |     Work\n",
      " Expl Unexpl |  Obj  Depth IntInf | Incumbent    BestBd   Gap | It/Node Time\n",
      "\n",
      "     0     0          -    0        31.18370   31.18380  0.00%     -    0s\n",
      "\n",
      "Explored 1 nodes (14 simplex iterations) in 0.05 seconds (0.00 work units)\n",
      "Thread count was 12 (of 12 available processors)\n",
      "\n",
      "Solution count 1: 31.1837 \n",
      "\n",
      "Optimal solution found (tolerance 1.00e-04)\n",
      "Best objective 3.118370479776e+01, best bound 3.118379792559e+01, gap 0.0003%\n"
     ]
    }
   ],
   "source": [
    "# solve\n",
    "m.optimize()"
   ]
  },
  {
   "cell_type": "code",
   "execution_count": 45,
   "id": "9ae2eaf7-4195-4d5a-8917-cab6bb066be8",
   "metadata": {},
   "outputs": [
    {
     "data": {
      "text/plain": [
       "2"
      ]
     },
     "execution_count": 45,
     "metadata": {},
     "output_type": "execute_result"
    }
   ],
   "source": [
    "#### know the status of the model - 2 a optimal solution was founded\n",
    "# docu: https://www.gurobi.com/documentation/current/refman/optimization_status_codes.html#sec:StatusCodes\n",
    "m.Status"
   ]
  },
  {
   "cell_type": "code",
   "execution_count": null,
   "id": "5d4f53be-760d-444d-b01d-8a7daa75f0da",
   "metadata": {},
   "outputs": [],
   "source": []
  },
  {
   "cell_type": "code",
   "execution_count": null,
   "id": "795d5cc6-07e7-4c5a-9db2-cce34f92cbef",
   "metadata": {},
   "outputs": [],
   "source": []
  },
  {
   "cell_type": "markdown",
   "id": "35408af3-867e-42b7-8191-8b58e237205b",
   "metadata": {},
   "source": [
    "#### 9.2 Save optimal values in a dataframe\n",
    "To get the optimal values of decision variables it is neccesary call \"var.gppd.X\""
   ]
  },
  {
   "cell_type": "code",
   "execution_count": 46,
   "id": "65b34b2c-86a9-409b-b367-d3945290fb67",
   "metadata": {},
   "outputs": [],
   "source": [
    "######## create a dataframe with set as index\n",
    "solution = pd.DataFrame(index = index_bleaching)\n",
    "\n",
    "######################## save optimal values - features of models (only the features) ########################\n",
    "\n",
    "# model d0eop_microkappa\n",
    "solution[\"especifico_dioxido_d0\"] = especifico_dioxido_d0.gppd.X\n",
    "solution[\"especifico_oxigeno_eop\"] = especifico_oxigeno_eop.gppd.X\n",
    "solution[\"especifico_peroxido_eop\"] = especifico_peroxido_eop.gppd.X\n",
    "solution[\"especifico_soda_eop\"] = especifico_soda_eop.gppd.X\n",
    "\n",
    "# model d1_brillo\n",
    "solution[\"especifico_dioxido_d1\"] = especifico_dioxido_d1.gppd.X\n",
    "solution[\"especifico_acido_d1\"] = especifico_acido_d1.gppd.X\n",
    "\n",
    "# model p_blancura\n",
    "solution[\"especifico_soda_p\"] = especifico_soda_p.gppd.X\n",
    "solution[\"especifico_peroxido_p\"] = especifico_peroxido_p.gppd.X\n",
    "solution[\"especifico_acido_p\"] = especifico_acido_p.gppd.X\n",
    "\n",
    "\n",
    "######################## save optimal values - targets of models (some targets are features of the model of the next step) ########################\n",
    "solution[\"microkappa_d1\"] = microkappa_d1.gppd.X  # model d0eop_microkappa\n",
    "solution[\"brillo_entrada_p\"] = brillo_entrada_p.gppd.X  # model d1_brillo\n",
    "solution[\"blancura_salida_p\"] = blancura_salida_p.gppd.X  # model p_blancura\n",
    "\n",
    "\n",
    "######################## round values ########################\n",
    "solution = solution.round(3)\n",
    "\n",
    "\n",
    "######################## # get value objetive function ########################\n",
    "opt_cost = m.ObjVal"
   ]
  },
  {
   "cell_type": "code",
   "execution_count": 47,
   "id": "c542883a-f36d-4efb-a187-601c93760cf9",
   "metadata": {},
   "outputs": [
    {
     "name": "stdout",
     "output_type": "stream",
     "text": [
      "\n",
      " The optimal net revenue: $31.183705 K dolars\n"
     ]
    }
   ],
   "source": [
    "# show value objetive function\n",
    "print(\"\\n The optimal net revenue: $%f K dolars\" % opt_cost)"
   ]
  },
  {
   "cell_type": "code",
   "execution_count": 48,
   "id": "2f72543c-2194-4d7c-acf4-567924fa962c",
   "metadata": {},
   "outputs": [
    {
     "data": {
      "text/html": [
       "<div>\n",
       "<style scoped>\n",
       "    .dataframe tbody tr th:only-of-type {\n",
       "        vertical-align: middle;\n",
       "    }\n",
       "\n",
       "    .dataframe tbody tr th {\n",
       "        vertical-align: top;\n",
       "    }\n",
       "\n",
       "    .dataframe thead th {\n",
       "        text-align: right;\n",
       "    }\n",
       "</style>\n",
       "<table border=\"1\" class=\"dataframe\">\n",
       "  <thead>\n",
       "    <tr style=\"text-align: right;\">\n",
       "      <th></th>\n",
       "      <th>especifico_dioxido_d0</th>\n",
       "      <th>especifico_oxigeno_eop</th>\n",
       "      <th>especifico_peroxido_eop</th>\n",
       "      <th>especifico_soda_eop</th>\n",
       "      <th>especifico_dioxido_d1</th>\n",
       "      <th>especifico_acido_d1</th>\n",
       "      <th>especifico_soda_p</th>\n",
       "      <th>especifico_peroxido_p</th>\n",
       "      <th>especifico_acido_p</th>\n",
       "      <th>microkappa_d1</th>\n",
       "      <th>brillo_entrada_p</th>\n",
       "      <th>blancura_salida_p</th>\n",
       "    </tr>\n",
       "  </thead>\n",
       "  <tbody>\n",
       "    <tr>\n",
       "      <th>bleaching</th>\n",
       "      <td>6.96</td>\n",
       "      <td>1.778</td>\n",
       "      <td>5.9</td>\n",
       "      <td>9.84</td>\n",
       "      <td>3.89</td>\n",
       "      <td>2.93</td>\n",
       "      <td>3.65</td>\n",
       "      <td>1.78</td>\n",
       "      <td>3.01</td>\n",
       "      <td>1.9</td>\n",
       "      <td>90.267</td>\n",
       "      <td>90.915</td>\n",
       "    </tr>\n",
       "  </tbody>\n",
       "</table>\n",
       "</div>"
      ],
      "text/plain": [
       "           especifico_dioxido_d0  especifico_oxigeno_eop  \\\n",
       "bleaching                   6.96                   1.778   \n",
       "\n",
       "           especifico_peroxido_eop  especifico_soda_eop  \\\n",
       "bleaching                      5.9                 9.84   \n",
       "\n",
       "           especifico_dioxido_d1  especifico_acido_d1  especifico_soda_p  \\\n",
       "bleaching                   3.89                 2.93               3.65   \n",
       "\n",
       "           especifico_peroxido_p  especifico_acido_p  microkappa_d1  \\\n",
       "bleaching                   1.78                3.01            1.9   \n",
       "\n",
       "           brillo_entrada_p  blancura_salida_p  \n",
       "bleaching            90.267             90.915  "
      ]
     },
     "execution_count": 48,
     "metadata": {},
     "output_type": "execute_result"
    }
   ],
   "source": [
    "# show value decision variables\n",
    "solution"
   ]
  },
  {
   "cell_type": "markdown",
   "id": "11f207fe-ee4c-4a17-81c7-fd817fe5e6f6",
   "metadata": {},
   "source": [
    "We can also check the error in the estimate of the Gurobi solution for the regression model."
   ]
  },
  {
   "cell_type": "code",
   "execution_count": null,
   "id": "95189ca5-8a6c-401a-b568-8fb574c48ded",
   "metadata": {},
   "outputs": [],
   "source": []
  },
  {
   "cell_type": "markdown",
   "id": "a058d085-a261-4ea8-afef-0962b0223e69",
   "metadata": {},
   "source": [
    "### 9.3 Show actual values"
   ]
  },
  {
   "cell_type": "code",
   "execution_count": 49,
   "id": "31c51a2b-f7af-4b4b-a0fe-fcfac0c55018",
   "metadata": {},
   "outputs": [],
   "source": [
    "######## create a dataframe with set as index\n",
    "actual_values = pd.DataFrame(index = index_bleaching)\n",
    "\n",
    "######################## save optimal values - features of models (only the features) ########################\n",
    "\n",
    "# model d0eop_microkappa\n",
    "actual_values[\"especifico_dioxido_d0\"] = actual_value_especifico_dioxido_d0\n",
    "actual_values[\"especifico_oxigeno_eop\"] = actual_value_especifico_oxigeno_eop\n",
    "actual_values[\"especifico_peroxido_eop\"] = actual_value_especifico_peroxido_eop\n",
    "actual_values[\"especifico_soda_eop\"] = actual_value_especifico_soda_eop\n",
    "\n",
    "# model d1_brillo\n",
    "actual_values[\"especifico_dioxido_d1\"] = actual_value_especifico_dioxido_d1\n",
    "actual_values[\"especifico_acido_d1\"] = actual_value_especifico_acido_d1\n",
    "\n",
    "# model p_blancura\n",
    "actual_values[\"especifico_soda_p\"] = actual_value_especifico_soda_p\n",
    "actual_values[\"especifico_peroxido_p\"] = actual_value_especifico_peroxido_p\n",
    "actual_values[\"especifico_acido_p\"] = actual_value_especifico_acido_p"
   ]
  },
  {
   "cell_type": "code",
   "execution_count": 50,
   "id": "aff15202-787d-494c-b928-58cba2ef2467",
   "metadata": {},
   "outputs": [
    {
     "data": {
      "text/html": [
       "<div>\n",
       "<style scoped>\n",
       "    .dataframe tbody tr th:only-of-type {\n",
       "        vertical-align: middle;\n",
       "    }\n",
       "\n",
       "    .dataframe tbody tr th {\n",
       "        vertical-align: top;\n",
       "    }\n",
       "\n",
       "    .dataframe thead th {\n",
       "        text-align: right;\n",
       "    }\n",
       "</style>\n",
       "<table border=\"1\" class=\"dataframe\">\n",
       "  <thead>\n",
       "    <tr style=\"text-align: right;\">\n",
       "      <th></th>\n",
       "      <th>especifico_dioxido_d0</th>\n",
       "      <th>especifico_oxigeno_eop</th>\n",
       "      <th>especifico_peroxido_eop</th>\n",
       "      <th>especifico_soda_eop</th>\n",
       "      <th>especifico_dioxido_d1</th>\n",
       "      <th>especifico_acido_d1</th>\n",
       "      <th>especifico_soda_p</th>\n",
       "      <th>especifico_peroxido_p</th>\n",
       "      <th>especifico_acido_p</th>\n",
       "    </tr>\n",
       "  </thead>\n",
       "  <tbody>\n",
       "    <tr>\n",
       "      <th>bleaching</th>\n",
       "      <td>6.46</td>\n",
       "      <td>1.08</td>\n",
       "      <td>4.9</td>\n",
       "      <td>8.84</td>\n",
       "      <td>2.89</td>\n",
       "      <td>1.93</td>\n",
       "      <td>2.65</td>\n",
       "      <td>0.78</td>\n",
       "      <td>2.01</td>\n",
       "    </tr>\n",
       "  </tbody>\n",
       "</table>\n",
       "</div>"
      ],
      "text/plain": [
       "           especifico_dioxido_d0  especifico_oxigeno_eop  \\\n",
       "bleaching                   6.46                    1.08   \n",
       "\n",
       "           especifico_peroxido_eop  especifico_soda_eop  \\\n",
       "bleaching                      4.9                 8.84   \n",
       "\n",
       "           especifico_dioxido_d1  especifico_acido_d1  especifico_soda_p  \\\n",
       "bleaching                   2.89                 1.93               2.65   \n",
       "\n",
       "           especifico_peroxido_p  especifico_acido_p  \n",
       "bleaching                   0.78                2.01  "
      ]
     },
     "execution_count": 50,
     "metadata": {},
     "output_type": "execute_result"
    }
   ],
   "source": [
    "actual_values"
   ]
  },
  {
   "cell_type": "code",
   "execution_count": null,
   "id": "b5101924-59c1-4460-9d3c-31e70ef7ca7e",
   "metadata": {},
   "outputs": [],
   "source": []
  },
  {
   "cell_type": "code",
   "execution_count": 51,
   "id": "890b0d1b-9277-454c-a46d-fdac5d87cbc1",
   "metadata": {},
   "outputs": [],
   "source": [
    "#### show deltas - ej especifico de oxigeno que da bien"
   ]
  },
  {
   "cell_type": "code",
   "execution_count": 52,
   "id": "eb456a6c-e720-4054-bda2-4dcb8883e02d",
   "metadata": {},
   "outputs": [
    {
     "data": {
      "text/plain": [
       "<gurobi.Constr *Awaiting Model Update*>"
      ]
     },
     "execution_count": 52,
     "metadata": {},
     "output_type": "execute_result"
    }
   ],
   "source": [
    "m.addConstr(diff_especifico_oxigeno_eop[0] >= (especifico_oxigeno_eop[0] - actual_value_especifico_oxigeno_eop), name = 'diff_especifico_oxigeno_eop positive segment')\n",
    "m.addConstr(diff_especifico_oxigeno_eop[0] >= -(especifico_oxigeno_eop[0] - actual_value_especifico_oxigeno_eop), name = 'diff_especifico_oxigeno_eop negative segment')\n",
    "m.addConstr(diff_especifico_oxigeno_eop[0] <= delta_especifico_oxigeno_eop, name = 'diff_especifico_oxigeno_eop delta')"
   ]
  },
  {
   "cell_type": "code",
   "execution_count": 53,
   "id": "7062485f-04e4-44c0-b121-4af19e2561cd",
   "metadata": {},
   "outputs": [
    {
     "data": {
      "text/plain": [
       "bleaching    1.778422\n",
       "Name: especifico_oxigeno_eop, dtype: float64"
      ]
     },
     "execution_count": 53,
     "metadata": {},
     "output_type": "execute_result"
    }
   ],
   "source": [
    "especifico_oxigeno_eop.gppd.X"
   ]
  },
  {
   "cell_type": "code",
   "execution_count": 54,
   "id": "2c85d70b-2755-42fb-9f09-a74c8bf0fd9d",
   "metadata": {},
   "outputs": [
    {
     "data": {
      "text/plain": [
       "1.08"
      ]
     },
     "execution_count": 54,
     "metadata": {},
     "output_type": "execute_result"
    }
   ],
   "source": [
    "actual_value_especifico_oxigeno_eop"
   ]
  },
  {
   "cell_type": "code",
   "execution_count": 55,
   "id": "abc8678c-f111-453c-9f8d-2992273e0225",
   "metadata": {},
   "outputs": [
    {
     "data": {
      "text/plain": [
       "bleaching    0.698422\n",
       "Name: especifico_oxigeno_eop, dtype: float64"
      ]
     },
     "execution_count": 55,
     "metadata": {},
     "output_type": "execute_result"
    }
   ],
   "source": [
    "(especifico_oxigeno_eop.gppd.X - actual_value_especifico_oxigeno_eop)  # el valor de la diferencia es"
   ]
  },
  {
   "cell_type": "code",
   "execution_count": 56,
   "id": "85cde4e8-0d39-4d92-be17-0d8f21c4a554",
   "metadata": {},
   "outputs": [
    {
     "data": {
      "text/plain": [
       "bleaching   -0.698422\n",
       "Name: especifico_oxigeno_eop, dtype: float64"
      ]
     },
     "execution_count": 56,
     "metadata": {},
     "output_type": "execute_result"
    }
   ],
   "source": [
    "- (especifico_oxigeno_eop.gppd.X - actual_value_especifico_oxigeno_eop)"
   ]
  },
  {
   "cell_type": "code",
   "execution_count": 57,
   "id": "de4f786c-e86b-4770-8307-ff4a165ee5a6",
   "metadata": {},
   "outputs": [
    {
     "data": {
      "text/plain": [
       "bleaching    1.0\n",
       "Name: diff_especifico_oxigeno_eop, dtype: float64"
      ]
     },
     "execution_count": 57,
     "metadata": {},
     "output_type": "execute_result"
    }
   ],
   "source": [
    "diff_especifico_oxigeno_eop.gppd.X"
   ]
  },
  {
   "cell_type": "code",
   "execution_count": null,
   "id": "47bcc780-6fdf-4dc2-aaf1-6b7d2c1c6871",
   "metadata": {},
   "outputs": [],
   "source": []
  },
  {
   "cell_type": "code",
   "execution_count": null,
   "id": "34d880bb-1997-4245-b00b-c90cf9c53632",
   "metadata": {},
   "outputs": [],
   "source": []
  },
  {
   "cell_type": "code",
   "execution_count": null,
   "id": "b30b2217-df9f-4b4c-983a-0abf83b2011e",
   "metadata": {},
   "outputs": [],
   "source": []
  }
 ],
 "metadata": {
  "kernelspec": {
   "display_name": "Python 3 (ipykernel)",
   "language": "python",
   "name": "python3"
  },
  "language_info": {
   "codemirror_mode": {
    "name": "ipython",
    "version": 3
   },
   "file_extension": ".py",
   "mimetype": "text/x-python",
   "name": "python",
   "nbconvert_exporter": "python",
   "pygments_lexer": "ipython3",
   "version": "3.10.12"
  }
 },
 "nbformat": 4,
 "nbformat_minor": 5
}
