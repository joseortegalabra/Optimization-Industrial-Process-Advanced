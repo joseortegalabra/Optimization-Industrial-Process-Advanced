{
 "cells": [
  {
   "cell_type": "markdown",
   "id": "840ee274-c437-407d-89d7-1f397ad239a8",
   "metadata": {},
   "source": [
    "# Test constraint abs value\n",
    "Test add a constraint with absolute value\n",
    "\n",
    "### Context\n",
    "There are 2 features X(t=1) and X(t=2) and I want that the difference between X(t=1) and X(t=2) will not be upper to certain delta. \n",
    "Note that the difference between the variables could be positive or negative, so to compare the difference with the delta it is neccesary that the difference to be in absolute value\n",
    "\n",
    "### Solution\n",
    "It is necessary to create an auxiliar variable defined as the difference"
   ]
  },
  {
   "cell_type": "markdown",
   "id": "735b00d9-5f08-4bfa-9474-b53cb70e27ed",
   "metadata": {},
   "source": [
    "## RUN TEST"
   ]
  },
  {
   "cell_type": "markdown",
   "id": "e7073bf6-6e15-4e78-a7fc-9aef837b5679",
   "metadata": {},
   "source": [
    "### Idea 1"
   ]
  },
  {
   "cell_type": "code",
   "execution_count": 9,
   "id": "9311a5d7-d60a-429f-99aa-c08ada93977c",
   "metadata": {},
   "outputs": [
    {
     "name": "stdout",
     "output_type": "stream",
     "text": [
      "Gurobi Optimizer version 11.0.0 build v11.0.0rc2 (win64 - Windows 10.0 (19043.2))\n",
      "\n",
      "CPU model: Intel(R) Core(TM) i7-10750H CPU @ 2.60GHz, instruction set [SSE2|AVX|AVX2]\n",
      "Thread count: 6 physical cores, 12 logical processors, using up to 12 threads\n",
      "\n",
      "Optimize a model with 3 rows, 3 columns and 5 nonzeros\n",
      "Model fingerprint: 0x2d66992e\n",
      "Coefficient statistics:\n",
      "  Matrix range     [1e+00, 1e+00]\n",
      "  Objective range  [1e+00, 1e+00]\n",
      "  Bounds range     [0e+00, 0e+00]\n",
      "  RHS range        [1e+01, 1e+01]\n",
      "Presolve removed 3 rows and 3 columns\n",
      "Presolve time: 0.02s\n",
      "Presolve: All rows and columns removed\n",
      "Iteration    Objective       Primal Inf.    Dual Inf.      Time\n",
      "       0    0.0000000e+00   0.000000e+00   0.000000e+00      0s\n",
      "\n",
      "Solved in 0 iterations and 0.03 seconds (0.00 work units)\n",
      "Optimal objective  0.000000000e+00\n",
      "x1: 0.0\n",
      "x2: 0.0\n",
      "d: 0.0\n"
     ]
    }
   ],
   "source": [
    "import gurobipy as gp\n",
    "\n",
    "# Crear el modelo\n",
    "m = gp.Model('modelo')\n",
    "\n",
    "# Variables de decisión\n",
    "x1 = m.addVar(name='x1')\n",
    "x2 = m.addVar(name='x2')\n",
    "\n",
    "# Diferencia entre x1 y x2\n",
    "d = m.addVar(name='d')\n",
    "\n",
    "# Restricción de diferencia\n",
    "delta = 10  # Valor de delta\n",
    "m.addConstr(d == x1 - x2, name='d_definition')\n",
    "m.addConstr(d <= delta, name='upper_bound')\n",
    "m.addConstr(d >= -delta, name='lower_bound')\n",
    "\n",
    "# Función objetivo y resolución\n",
    "m.setObjective(x1 + x2, sense=gp.GRB.MINIMIZE)\n",
    "m.optimize()\n",
    "\n",
    "# Imprimir resultados\n",
    "print('x1:', x1.x)\n",
    "print('x2:', x2.x)\n",
    "print('d:', d.x)"
   ]
  },
  {
   "cell_type": "code",
   "execution_count": null,
   "id": "ebf42717-42b6-4ed5-8643-35aeb3253bd0",
   "metadata": {},
   "outputs": [],
   "source": []
  },
  {
   "cell_type": "markdown",
   "id": "f2fa4153-b7ee-4584-b99e-b61020ed8f25",
   "metadata": {},
   "source": [
    "### Idea 2"
   ]
  },
  {
   "cell_type": "markdown",
   "id": "b10faea0-b02b-4526-a10d-1f9dd3ee4d55",
   "metadata": {},
   "source": [
    "SOLUCION\n",
    "\n",
    "Usando variables auxiliares:\n",
    "Puedes introducir una **variable auxiliar y** para **representar el valor absoluto de x**:\n",
    "\n",
    "- y >= x\n",
    "\n",
    "- y >= -x\n",
    "\n",
    "- y <= b\n",
    "\n",
    "Esto asegura que y es el máximo de x y -x, por lo que y representa efectivamente |x|.\n",
    "\n",
    "--------\n",
    "Luego, si quiero calcular el valor absoluto de una diferencia de variables de decisión se tiene la **variable auxiliar y** para representar el **valor absoluto de x1-x2**\n",
    "\n",
    "- y >= (x1 - x2)\n",
    "\n",
    "- y >= -(x1 - x2)\n",
    "\n",
    "- y <= delta"
   ]
  },
  {
   "cell_type": "code",
   "execution_count": 12,
   "id": "0b7b22f7-821a-4584-ad61-2f950d3a0a6f",
   "metadata": {},
   "outputs": [
    {
     "name": "stdout",
     "output_type": "stream",
     "text": [
      "Gurobi Optimizer version 11.0.0 build v11.0.0rc2 (win64 - Windows 10.0 (19043.2))\n",
      "\n",
      "CPU model: Intel(R) Core(TM) i7-10750H CPU @ 2.60GHz, instruction set [SSE2|AVX|AVX2]\n",
      "Thread count: 6 physical cores, 12 logical processors, using up to 12 threads\n",
      "\n",
      "Optimize a model with 3 rows, 3 columns and 7 nonzeros\n",
      "Model fingerprint: 0x4ad33390\n",
      "Coefficient statistics:\n",
      "  Matrix range     [1e+00, 1e+00]\n",
      "  Objective range  [1e+00, 1e+00]\n",
      "  Bounds range     [0e+00, 0e+00]\n",
      "  RHS range        [1e+01, 1e+01]\n",
      "Presolve removed 3 rows and 3 columns\n",
      "Presolve time: 0.01s\n",
      "Presolve: All rows and columns removed\n",
      "Iteration    Objective       Primal Inf.    Dual Inf.      Time\n",
      "       0    0.0000000e+00   0.000000e+00   0.000000e+00      0s\n",
      "\n",
      "Solved in 0 iterations and 0.02 seconds (0.00 work units)\n",
      "Optimal objective  0.000000000e+00\n",
      "x1: 0.0\n",
      "x2: 0.0\n",
      "abs_diff: 10.0\n"
     ]
    }
   ],
   "source": [
    "import gurobipy as gp\n",
    "\n",
    "# Crear el modelo\n",
    "m = gp.Model('modelo')\n",
    "\n",
    "# Variables de decisión\n",
    "x1 = m.addVar(name = 'x1')\n",
    "x2 = m.addVar(name = 'x2')\n",
    "\n",
    "# Diferencia entre x1 y x2\n",
    "abs_diff = m.addVar(name = 'abs(x1-x2)')\n",
    "\n",
    "# Restricción de diferencia\n",
    "delta = 10  # Valor de delta\n",
    "m.addConstr(abs_diff >= (x1 - x2), name = '|x1 - x2| positive segment')\n",
    "m.addConstr(abs_diff >= -(x1 - x2), name = '|x1 - x2| negative segment')\n",
    "m.addConstr(abs_diff <= delta, name = 'delta')\n",
    "\n",
    "\n",
    "# Función objetivo y resolución\n",
    "m.setObjective(x1 + x2, sense=gp.GRB.MINIMIZE)\n",
    "m.optimize()\n",
    "\n",
    "# Imprimir resultados\n",
    "print('x1:', x1.x)\n",
    "print('x2:', x2.x)\n",
    "print('abs_diff:', abs_diff.x)"
   ]
  },
  {
   "cell_type": "code",
   "execution_count": null,
   "id": "c20b4595-51e1-4c50-bfc8-30f7b6b41694",
   "metadata": {},
   "outputs": [],
   "source": []
  },
  {
   "cell_type": "code",
   "execution_count": null,
   "id": "cc59c1cd-8622-46a5-b512-34925f8cf84c",
   "metadata": {},
   "outputs": [],
   "source": []
  },
  {
   "cell_type": "markdown",
   "id": "5aadf294-9e1e-4f89-be97-8ed1eaa648c0",
   "metadata": {},
   "source": [
    "### Forma que quiero usar x2 sea un parámetro"
   ]
  },
  {
   "cell_type": "code",
   "execution_count": 14,
   "id": "59c1a54e-e6bf-48c1-9f95-78d8599aaff5",
   "metadata": {},
   "outputs": [
    {
     "name": "stdout",
     "output_type": "stream",
     "text": [
      "Gurobi Optimizer version 11.0.0 build v11.0.0rc2 (win64 - Windows 10.0 (19043.2))\n",
      "\n",
      "CPU model: Intel(R) Core(TM) i7-10750H CPU @ 2.60GHz, instruction set [SSE2|AVX|AVX2]\n",
      "Thread count: 6 physical cores, 12 logical processors, using up to 12 threads\n",
      "\n",
      "Optimize a model with 3 rows, 2 columns and 5 nonzeros\n",
      "Model fingerprint: 0xc6091b14\n",
      "Coefficient statistics:\n",
      "  Matrix range     [1e+00, 1e+00]\n",
      "  Objective range  [1e+00, 1e+00]\n",
      "  Bounds range     [0e+00, 0e+00]\n",
      "  RHS range        [3e+00, 1e+01]\n",
      "Presolve removed 3 rows and 2 columns\n",
      "Presolve time: 0.01s\n",
      "Presolve: All rows and columns removed\n",
      "Iteration    Objective       Primal Inf.    Dual Inf.      Time\n",
      "       0    3.0000000e+00   0.000000e+00   0.000000e+00      0s\n",
      "\n",
      "Solved in 0 iterations and 0.02 seconds (0.00 work units)\n",
      "Optimal objective  3.000000000e+00\n",
      "x1: 0.0\n",
      "abs_diff: 10.0\n"
     ]
    }
   ],
   "source": [
    "import gurobipy as gp\n",
    "\n",
    "# Crear el modelo\n",
    "m = gp.Model('modelo')\n",
    "\n",
    "# Variables de decisión\n",
    "x1 = m.addVar(name = 'x1')\n",
    "x2 = 3\n",
    "\n",
    "# Diferencia entre x1 y x2\n",
    "abs_diff = m.addVar(name = 'abs(x1-x2)')\n",
    "\n",
    "# Restricción de diferencia\n",
    "delta = 10  # Valor de delta\n",
    "m.addConstr(abs_diff >= (x1 - x2), name = '|x1 - x2| positive segment')\n",
    "m.addConstr(abs_diff >= -(x1 - x2), name = '|x1 - x2| negative segment')\n",
    "m.addConstr(abs_diff <= delta, name = 'delta')\n",
    "\n",
    "\n",
    "# Función objetivo y resolución\n",
    "m.setObjective(x1 + x2, sense=gp.GRB.MINIMIZE)\n",
    "m.optimize()\n",
    "\n",
    "# Imprimir resultados\n",
    "print('x1:', x1.x)\n",
    "print('abs_diff:', abs_diff.x)"
   ]
  },
  {
   "cell_type": "code",
   "execution_count": null,
   "id": "f874789f-670d-4cf6-8c32-0afec9caf824",
   "metadata": {},
   "outputs": [],
   "source": []
  },
  {
   "cell_type": "code",
   "execution_count": 16,
   "id": "ce648a1f-f316-4fe0-9b89-a5ba4ff7b706",
   "metadata": {},
   "outputs": [
    {
     "name": "stdout",
     "output_type": "stream",
     "text": [
      "Gurobi Optimizer version 11.0.0 build v11.0.0rc2 (win64 - Windows 10.0 (19043.2))\n",
      "\n",
      "CPU model: Intel(R) Core(TM) i7-10750H CPU @ 2.60GHz, instruction set [SSE2|AVX|AVX2]\n",
      "Thread count: 6 physical cores, 12 logical processors, using up to 12 threads\n",
      "\n",
      "Optimize a model with 3 rows, 2 columns and 4 nonzeros\n",
      "Model fingerprint: 0x2d16cdaf\n",
      "Coefficient statistics:\n",
      "  Matrix range     [1e+00, 1e+00]\n",
      "  Objective range  [1e+00, 1e+00]\n",
      "  Bounds range     [0e+00, 0e+00]\n",
      "  RHS range        [3e+00, 1e+01]\n",
      "Presolve removed 3 rows and 2 columns\n",
      "Presolve time: 0.01s\n",
      "Presolve: All rows and columns removed\n",
      "Iteration    Objective       Primal Inf.    Dual Inf.      Time\n",
      "       0    6.0000000e+00   0.000000e+00   0.000000e+00      0s\n",
      "\n",
      "Solved in 0 iterations and 0.02 seconds (0.00 work units)\n",
      "Optimal objective  6.000000000e+00\n",
      "x1: 3.0\n",
      "d: 0.0\n"
     ]
    }
   ],
   "source": [
    "import gurobipy as gp\n",
    "\n",
    "# Crear el modelo\n",
    "m = gp.Model('modelo')\n",
    "x2 = 3\n",
    "\n",
    "# Variables de decisión\n",
    "x1 = m.addVar(name='x1')\n",
    "\n",
    "\n",
    "# Diferencia entre x1 y x2\n",
    "d = m.addVar(name='d')\n",
    "\n",
    "# Restricción de diferencia\n",
    "delta = 10  # Valor de delta\n",
    "m.addConstr(d == x1 - x2, name='d_definition')\n",
    "m.addConstr(d <= delta, name='upper_bound')\n",
    "m.addConstr(d >= -delta, name='lower_bound')\n",
    "\n",
    "# Función objetivo y resolución\n",
    "m.setObjective(x1 + x2, sense=gp.GRB.MINIMIZE)\n",
    "m.optimize()\n",
    "\n",
    "# Imprimir resultados\n",
    "print('x1:', x1.x)\n",
    "#print('x2:', x2.x)\n",
    "print('d:', d.x)"
   ]
  },
  {
   "cell_type": "code",
   "execution_count": null,
   "id": "97bf3de3-c612-47b9-b15e-5c8234bb75a1",
   "metadata": {},
   "outputs": [],
   "source": []
  },
  {
   "cell_type": "code",
   "execution_count": null,
   "id": "9b7821b1-9b06-42c7-9115-6dbb43ba2c46",
   "metadata": {},
   "outputs": [],
   "source": []
  }
 ],
 "metadata": {
  "kernelspec": {
   "display_name": "Python 3 (ipykernel)",
   "language": "python",
   "name": "python3"
  },
  "language_info": {
   "codemirror_mode": {
    "name": "ipython",
    "version": 3
   },
   "file_extension": ".py",
   "mimetype": "text/x-python",
   "name": "python",
   "nbconvert_exporter": "python",
   "pygments_lexer": "ipython3",
   "version": "3.10.12"
  }
 },
 "nbformat": 4,
 "nbformat_minor": 5
}
