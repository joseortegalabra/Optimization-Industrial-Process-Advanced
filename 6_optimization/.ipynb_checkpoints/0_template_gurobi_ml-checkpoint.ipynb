{
 "cells": [
  {
   "cell_type": "markdown",
   "id": "ec518247-2417-4eb6-bbde-41b6d6d3bc2a",
   "metadata": {},
   "source": [
    "# Gurobi optimization using multiple machine learning models\n",
    "## Optimize for Price and Supply of Avocados\n",
    "- In this example there multiple linear regressions, but gurobi machine learning acept multiple models. Documentation **\"gurobi-machinelearning\"**\n",
    "\n",
    "https://gurobi-machinelearning.readthedocs.io/en/stable/api.html\n",
    "\n",
    "\n",
    "- In addition, to define the decision variables, parameters, restriction, etc of the optimization model are used **\"gurobipy-pandas\"**. Using this package is possible define the optimization model using pandas DataFrames\n",
    "\n",
    "https://gurobipy-pandas.readthedocs.io/en/stable/"
   ]
  },
  {
   "cell_type": "code",
   "execution_count": 1,
   "id": "f13dc83a-84fa-43c6-a95f-9950d3f5f061",
   "metadata": {},
   "outputs": [],
   "source": [
    "import pickle\n",
    "import pandas as pd\n",
    "import numpy as np\n",
    "\n",
    "#gurobi\n",
    "import gurobipy_pandas as gppd\n",
    "from gurobi_ml import add_predictor_constr\n",
    "import gurobipy as gp"
   ]
  },
  {
   "cell_type": "code",
   "execution_count": null,
   "id": "fe000d94-8818-46fa-aad1-8f4ec76e9877",
   "metadata": {},
   "outputs": [],
   "source": []
  },
  {
   "cell_type": "markdown",
   "id": "d81b8287-8b66-4e5d-b1c1-a8bbc8c3a3f4",
   "metadata": {},
   "source": [
    "### 0. Root repo"
   ]
  },
  {
   "cell_type": "code",
   "execution_count": 2,
   "id": "00faa458-a860-4445-84c0-2d7eb32102b9",
   "metadata": {},
   "outputs": [
    {
     "name": "stdout",
     "output_type": "stream",
     "text": [
      "root path:  D:\\github-mi-repo\\Examples-Gurobi-ML\n"
     ]
    }
   ],
   "source": [
    "import os\n",
    "# fix root path to save outputs\n",
    "actual_path = os.path.abspath(os.getcwd())\n",
    "list_root_path = actual_path.split('\\\\')[:-1]\n",
    "root_path = '\\\\'.join(list_root_path)\n",
    "os.chdir(root_path)\n",
    "print('root path: ', root_path)"
   ]
  },
  {
   "cell_type": "code",
   "execution_count": null,
   "id": "699469b7-d017-4df8-9339-ddd7c6c9f508",
   "metadata": {},
   "outputs": [],
   "source": []
  },
  {
   "cell_type": "markdown",
   "id": "a88d5cfa-efee-436f-9f30-696a23517824",
   "metadata": {},
   "source": [
    "## PREPARATION"
   ]
  },
  {
   "cell_type": "markdown",
   "id": "9279de0e-974a-4aff-9967-3e3e3554791e",
   "metadata": {},
   "source": [
    "### 1. Load data needs to use\n",
    "In this example data is loaded because it is necesary to generate parameters of optimization model"
   ]
  },
  {
   "cell_type": "code",
   "execution_count": 3,
   "id": "4878f497-6db5-4101-b237-d15d80614ea2",
   "metadata": {},
   "outputs": [],
   "source": [
    "# read data that have all the units sold for each region\n",
    "path_data_basic_features = 'artifacts/data/data_basic_features.pkl'\n",
    "data_units_sold = pd.read_pickle(path_data_basic_features)"
   ]
  },
  {
   "cell_type": "code",
   "execution_count": 4,
   "id": "64d13119-ce3c-45f0-92ef-b224afa0448d",
   "metadata": {},
   "outputs": [],
   "source": [
    "##### use data to generate parameters for optimization model\n",
    "\n",
    "# min, max deliry each region\n",
    "data_min_delivery = data_units_sold.groupby(\"region\")[\"units_sold\"].min().rename('min_delivery')\n",
    "data_max_delivery = data_units_sold.groupby(\"region\")[\"units_sold\"].max().rename('max_delivery')\n",
    "\n",
    "# historical distribution of price each region\n",
    "data_historical_max_price = data_units_sold.groupby(\"region\")[\"price\"].max().rename('max_price')"
   ]
  },
  {
   "cell_type": "code",
   "execution_count": null,
   "id": "2b34d060-e03e-41e5-bb14-b914d886d121",
   "metadata": {},
   "outputs": [],
   "source": []
  },
  {
   "cell_type": "markdown",
   "id": "dad1fc4c-2849-4383-a5c5-13ab26ceb5e5",
   "metadata": {},
   "source": [
    "### 2. Load model machine learning - MANUALLY - HARDCODED\n",
    "Load models that given an input (price of each regions and other features) predict the price (One different model to predict the price of each region)\n",
    "\n",
    "The model was trained in the notebook \"models/5_prices_regions_multiple_lr\""
   ]
  },
  {
   "cell_type": "code",
   "execution_count": 5,
   "id": "561f5640-ebbe-46ef-8255-0afab5472be2",
   "metadata": {},
   "outputs": [],
   "source": [
    "# params\n",
    "path_folder_artifacts = 'artifacts/models/5_prices_regions_multiple_lr/'\n",
    "\n",
    "\n",
    "# list models names \"model_name\".pkl\n",
    "list_models_names = ['Great_Lakes', 'Midsouth', 'Northeast', 'Northern_New_England', 'Plains', 'SouthCentral', 'Southeast', 'West']"
   ]
  },
  {
   "cell_type": "code",
   "execution_count": 6,
   "id": "e720e745-89a2-4101-978f-6a1e96ee282d",
   "metadata": {},
   "outputs": [
    {
     "name": "stdout",
     "output_type": "stream",
     "text": [
      "loading model: Great_Lakes\n",
      "loading model: Midsouth\n",
      "loading model: Northeast\n",
      "loading model: Northern_New_England\n",
      "loading model: Plains\n",
      "loading model: SouthCentral\n",
      "loading model: Southeast\n",
      "loading model: West\n"
     ]
    }
   ],
   "source": [
    "### load models\n",
    "dict_models = {}\n",
    "for model_name in list_models_names:\n",
    "    print(f'loading model: {model_name}')\n",
    "    path_model = path_folder_artifacts + f'model_{model_name}.pkl'\n",
    "    with open(path_model, 'rb') as artifact:\n",
    "        dict_models[model_name] = pickle.load(artifact)"
   ]
  },
  {
   "cell_type": "code",
   "execution_count": null,
   "id": "2d652cbc-a893-4076-9ba8-aad84f8f3700",
   "metadata": {},
   "outputs": [],
   "source": []
  },
  {
   "cell_type": "code",
   "execution_count": null,
   "id": "cbeba7b5-9d88-4b1f-a8f3-8b49a03212d2",
   "metadata": {},
   "outputs": [],
   "source": []
  },
  {
   "cell_type": "markdown",
   "id": "dec2d181-1424-455f-b7a1-2b35ad47fbfa",
   "metadata": {},
   "source": [
    "## RUN OPTIMIZATION"
   ]
  },
  {
   "cell_type": "markdown",
   "id": "03bcf94f-2240-4a7a-a6d4-76d869e86a19",
   "metadata": {},
   "source": [
    "### 0. Load transversal params - sets of optimization model\n",
    "Transversal all codes, not only this code. For example order in features in the data.\n",
    "\n",
    "Save the sets of optimization model as pandas index"
   ]
  },
  {
   "cell_type": "code",
   "execution_count": 7,
   "id": "92e27017-176c-4017-ab0e-d974eefe8d2d",
   "metadata": {},
   "outputs": [
    {
     "data": {
      "text/plain": [
       "['Great_Lakes',\n",
       " 'Midsouth',\n",
       " 'Northeast',\n",
       " 'Northern_New_England',\n",
       " 'Plains',\n",
       " 'SouthCentral',\n",
       " 'Southeast',\n",
       " 'West']"
      ]
     },
     "execution_count": 7,
     "metadata": {},
     "output_type": "execute_result"
    }
   ],
   "source": [
    "list_regions = ['Great_Lakes',\n",
    "                'Midsouth',\n",
    "                'Northeast',\n",
    "                'Northern_New_England',\n",
    "                'Plains',\n",
    "                'SouthCentral',\n",
    "                'Southeast',\n",
    "                'West']\n",
    "regions = list_regions\n",
    "\n",
    "regions"
   ]
  },
  {
   "cell_type": "code",
   "execution_count": 8,
   "id": "c3f7bd84-3fd6-4fa3-a062-6f1954b52e15",
   "metadata": {},
   "outputs": [],
   "source": [
    "# generate a pandas index with the values of the regions. This works as sets of optimization model\n",
    "index_regions = pd.Index(regions)"
   ]
  },
  {
   "cell_type": "code",
   "execution_count": null,
   "id": "39afd60b-4b57-4787-b53e-ac03d869af21",
   "metadata": {},
   "outputs": [],
   "source": []
  },
  {
   "cell_type": "markdown",
   "id": "3857e7c6-5f08-4220-a4a3-571f29ee9ab1",
   "metadata": {},
   "source": [
    "### 1. Create guroby optimization model\n",
    "Documentation: https://www.gurobi.com/documentation/current/refman/py_model.html"
   ]
  },
  {
   "cell_type": "code",
   "execution_count": 9,
   "id": "d0be0947-0bd6-4f6b-8f12-a9bd8c2ca3ef",
   "metadata": {},
   "outputs": [
    {
     "name": "stdout",
     "output_type": "stream",
     "text": [
      "Restricted license - for non-production use only - expires 2025-11-24\n"
     ]
    }
   ],
   "source": [
    "# env = gp.Env(params=params)\n",
    "\n",
    "#Create the model within the Gurobi environment\n",
    "m = gp.Model(name = \"Avocado_Price_Allocation\")"
   ]
  },
  {
   "cell_type": "code",
   "execution_count": null,
   "id": "bdd2ced3-f0fc-45cb-9937-e13280af8a48",
   "metadata": {},
   "outputs": [],
   "source": []
  },
  {
   "cell_type": "markdown",
   "id": "97dec9f4-559b-40dd-98a7-4e4e9fa29cf0",
   "metadata": {},
   "source": [
    "### 2. Upper bounds and lower bounds of decision variables\n",
    "Values that are boundss in decision variables. In gurobi the upper and lower boundss could be defined in the same moment that variables are created and not are defined as restrictions explicitly \n",
    "\n",
    "- $a_{min},a_{max}$: minimum and maximum price ($\\$$) per avocado (price is a input of machine learning model)\n",
    "- $b^r_{min},b^r_{max}$: minimum and maximum number of avocados allocated to region $r$"
   ]
  },
  {
   "cell_type": "code",
   "execution_count": 10,
   "id": "29d7894e-3713-4894-ad04-9a9d34935291",
   "metadata": {},
   "outputs": [],
   "source": [
    "# a_min, a_max: min and max price of product A\n",
    "a_min = 0\n",
    "a_max = 2\n",
    "\n",
    "\n",
    "# b_min(r), b_max(r): min and max historical products send to each region (value get from historical data)\n",
    "b_min = data_min_delivery\n",
    "b_max = data_max_delivery"
   ]
  },
  {
   "cell_type": "code",
   "execution_count": null,
   "id": "8d1e1404-438a-4ec2-9d53-ad90e0015d79",
   "metadata": {},
   "outputs": [],
   "source": []
  },
  {
   "cell_type": "markdown",
   "id": "71476d65-cbb9-4c58-8fbf-48c6bc0a6bae",
   "metadata": {},
   "source": [
    "### 3. Input parameters of optimization model\n",
    "##### That are not decision variables either parameters of machine learning model)\n",
    "\n",
    "**Set**\n",
    "- $r$ : will be used to denote each region\n",
    "\n",
    "\n",
    "**Parameters Optimization Model**\n",
    "- $B$: available avocados to be distributed across the regions.Total amount of avocado supply\n",
    "\n",
    "- $c_{waste}$: cost ($\\$$) per wasted avocado\n",
    "\n",
    "- $c^r_{transport}$: cost ($\\$$) of transporting a avocado to region $r$"
   ]
  },
  {
   "cell_type": "code",
   "execution_count": 11,
   "id": "99fa181c-08e1-4a07-a0a6-85ecffcbf27b",
   "metadata": {},
   "outputs": [],
   "source": [
    "# B: supply product\n",
    "B = 25\n",
    "\n",
    "\n",
    "# c_waste: cost of waste product\n",
    "c_waste = 0.1\n",
    "\n",
    "\n",
    "# c_transport(r): cost transport for each region\n",
    "c_transport = pd.Series(\n",
    "    {\n",
    "        \"Great_Lakes\": 0.3,\n",
    "        \"Midsouth\": 0.1,\n",
    "        \"Northeast\": 0.4,\n",
    "        \"Northern_New_England\": 0.5,\n",
    "        \"SouthCentral\": 0.3,\n",
    "        \"Southeast\": 0.2,\n",
    "        \"West\": 0.2,\n",
    "        \"Plains\": 0.2,\n",
    "    }, name='transport_cost')\n",
    "c_transport = c_transport.loc[regions]"
   ]
  },
  {
   "cell_type": "code",
   "execution_count": null,
   "id": "fbc26f12-9f19-422a-9986-d0e2eeee1171",
   "metadata": {},
   "outputs": [],
   "source": []
  },
  {
   "cell_type": "markdown",
   "id": "c11376a0-0796-4e1c-9c56-5f89e6cbc283",
   "metadata": {},
   "source": [
    "### 4. Features input machine learning model fixed (that are not decision variables or parameters in optimization model)\n",
    "Define the features that are inputs of machine learning model that are not decision variables of optimization model (so this values doesn't change). And also, this features that are not parameters of optimization model, so this values are not used in the restrictions"
   ]
  },
  {
   "cell_type": "code",
   "execution_count": 12,
   "id": "82268367-4e18-4ae7-9eb7-ea827037e9fe",
   "metadata": {},
   "outputs": [
    {
     "data": {
      "text/plain": [
       "0"
      ]
     },
     "execution_count": 12,
     "metadata": {},
     "output_type": "execute_result"
    }
   ],
   "source": [
    "# seasonality: 1 if it is the peak season; 0 if isn't\n",
    "peak_or_not = 0\n",
    "peak_or_not"
   ]
  },
  {
   "cell_type": "code",
   "execution_count": 13,
   "id": "1726e100-16d3-4f82-9372-5dcebeded641",
   "metadata": {},
   "outputs": [
    {
     "data": {
      "text/plain": [
       "['Great_Lakes',\n",
       " 'Midsouth',\n",
       " 'Northeast',\n",
       " 'Northern_New_England',\n",
       " 'Plains',\n",
       " 'SouthCentral',\n",
       " 'Southeast',\n",
       " 'West']"
      ]
     },
     "execution_count": 13,
     "metadata": {},
     "output_type": "execute_result"
    }
   ],
   "source": [
    "# list of regions\n",
    "regions # in this example the regions is also a feature of machine learning model - and we want to know the price for each region(r)"
   ]
  },
  {
   "cell_type": "code",
   "execution_count": 14,
   "id": "615bf8fd-3999-403b-85da-4b84ba3d9de2",
   "metadata": {},
   "outputs": [
    {
     "data": {
      "text/html": [
       "<div>\n",
       "<style scoped>\n",
       "    .dataframe tbody tr th:only-of-type {\n",
       "        vertical-align: middle;\n",
       "    }\n",
       "\n",
       "    .dataframe tbody tr th {\n",
       "        vertical-align: top;\n",
       "    }\n",
       "\n",
       "    .dataframe thead th {\n",
       "        text-align: right;\n",
       "    }\n",
       "</style>\n",
       "<table border=\"1\" class=\"dataframe\">\n",
       "  <thead>\n",
       "    <tr style=\"text-align: right;\">\n",
       "      <th></th>\n",
       "      <th>peak</th>\n",
       "    </tr>\n",
       "  </thead>\n",
       "  <tbody>\n",
       "    <tr>\n",
       "      <th>Great_Lakes</th>\n",
       "      <td>0</td>\n",
       "    </tr>\n",
       "    <tr>\n",
       "      <th>Midsouth</th>\n",
       "      <td>0</td>\n",
       "    </tr>\n",
       "    <tr>\n",
       "      <th>Northeast</th>\n",
       "      <td>0</td>\n",
       "    </tr>\n",
       "    <tr>\n",
       "      <th>Northern_New_England</th>\n",
       "      <td>0</td>\n",
       "    </tr>\n",
       "    <tr>\n",
       "      <th>Plains</th>\n",
       "      <td>0</td>\n",
       "    </tr>\n",
       "    <tr>\n",
       "      <th>SouthCentral</th>\n",
       "      <td>0</td>\n",
       "    </tr>\n",
       "    <tr>\n",
       "      <th>Southeast</th>\n",
       "      <td>0</td>\n",
       "    </tr>\n",
       "    <tr>\n",
       "      <th>West</th>\n",
       "      <td>0</td>\n",
       "    </tr>\n",
       "  </tbody>\n",
       "</table>\n",
       "</div>"
      ],
      "text/plain": [
       "                      peak\n",
       "Great_Lakes              0\n",
       "Midsouth                 0\n",
       "Northeast                0\n",
       "Northern_New_England     0\n",
       "Plains                   0\n",
       "SouthCentral             0\n",
       "Southeast                0\n",
       "West                     0"
      ]
     },
     "execution_count": 14,
     "metadata": {},
     "output_type": "execute_result"
    }
   ],
   "source": [
    "# generate a dataframe with the \"fixed\" features of optimization model. \n",
    "# This is an instance of machine learning model. In this part only have the features that have fixed values for this optimization\n",
    "instance_ml_model = pd.DataFrame(\n",
    "    data={\n",
    "        \"peak\": peak_or_not\n",
    "    },\n",
    "    index=regions\n",
    ")\n",
    "instance_ml_model"
   ]
  },
  {
   "cell_type": "code",
   "execution_count": null,
   "id": "f27f2ed8-d4fe-4122-ae6c-02c6a518ccb2",
   "metadata": {},
   "outputs": [],
   "source": []
  },
  {
   "cell_type": "markdown",
   "id": "e03f732d-f128-461c-b30d-2f6908fbcbad",
   "metadata": {},
   "source": [
    "### 5. Decision variables of optimization model\n",
    "\n",
    "Let us now define the decision variables. In our model, we want to store the price and number of avocados allocated to each region. We also want variables that track how many avocados are predicted to be sold and how many are predicted to be wasted. \n",
    "\n",
    "- $p(r)$ the price of an avocado ($\\$$) in each region. The maxium price. It is a feature of machine learning model\n",
    "- $x(r)$ the number of avocados supplied to each region\n",
    "- $s(r)$ the predicted number of avocados sold in each region\n",
    "- $u(r)$ the predicted number of avocados unsold (wasted) in each region\n",
    "- $d(r)$ the predicted demand in each region. It is the target of machine learning model (because this value change according the input, it is a decision variable)\n",
    "\n",
    "All those variables are created using gurobipy-pandas, with the function `gppd.add_vars`. To use this function it is necessary to define:\n",
    "- model: optimization model of gurobi\n",
    "- index: pandas index. With this index it can defined the sets of the decision variables\n",
    "- name: name of the decision variable\n",
    "- Example: x = gppd.add_vars(model, index, name=\"x\")"
   ]
  },
  {
   "cell_type": "code",
   "execution_count": 15,
   "id": "8145e863-8cc2-4492-b00d-2d0a48e97a4a",
   "metadata": {},
   "outputs": [],
   "source": [
    "# p(r): price. feature of machine learning model\n",
    "p = gppd.add_vars(m, index_regions, name = \"price\", lb = a_min, ub = a_max) # bounds prices\n",
    "\n",
    "\n",
    "# x(r): supply\n",
    "x = gppd.add_vars(m, index_regions, name = \"x\", lb = b_min, ub= b_max) # bounds supply - using historical data\n",
    "\n",
    "\n",
    "# s(r): solds given a certain price\n",
    "s = gppd.add_vars(m, index_regions, name = \"s\")\n",
    "\n",
    "\n",
    "# u(r): inventary. units not sold. waste.\n",
    "u = gppd.add_vars(m, index_regions, name = \"w\") \n",
    "\n",
    "\n",
    "# d(r): demand. output of machine learning model\n",
    "d = gppd.add_vars(m, index_regions, lb = -gp.GRB.INFINITY, name = \"demand\") # BY DEFULT LOWER BOUND IS ZERO\n",
    "\n"
   ]
  },
  {
   "cell_type": "code",
   "execution_count": null,
   "id": "211d78c7-3a62-4221-b08f-5bbded5fd332",
   "metadata": {},
   "outputs": [],
   "source": []
  },
  {
   "cell_type": "markdown",
   "id": "6455507f-2965-48c4-adb4-338b1b80e6f3",
   "metadata": {},
   "source": [
    "### 6. Constraints (constraints that are not generated by a ml model)"
   ]
  },
  {
   "cell_type": "markdown",
   "id": "18b2d0d5-e11b-488e-ae0a-308d5cf2fa24",
   "metadata": {},
   "source": [
    "#### 6.1 Add the Supply Constraint\n",
    "Make sure that the total number of avocados supplied is equal to $B$\n",
    "\\begin{align*} \\sum_{r} x_r &= B \\end{align*}"
   ]
  },
  {
   "cell_type": "code",
   "execution_count": 16,
   "id": "8a4a1bc4-69a7-46eb-a3d7-c704aa92f8ce",
   "metadata": {},
   "outputs": [
    {
     "data": {
      "text/plain": [
       "<gurobi.Constr *Awaiting Model Update*>"
      ]
     },
     "execution_count": 16,
     "metadata": {},
     "output_type": "execute_result"
    }
   ],
   "source": [
    "m.addConstr(x.sum() == B, name = 'supply')\n",
    "\n",
    "# addConstr write the constraint implicitly"
   ]
  },
  {
   "cell_type": "markdown",
   "id": "f45578d8-a427-4732-9e7a-99877087cbd2",
   "metadata": {},
   "source": [
    "#### 6.2 Add Constraints That Define Sales Quantity\n",
    "The sales quantity is the minimum of the allocated quantity and the predicted demand, i.e., $s_r = \\min \\{x_r,d_r(p_r)\\}$ This relationship can be modeled by the following two constraints for each region $r$.\n",
    "\n",
    "\\begin{align*} s_r &\\leq x_r                \\:\\:\\:\\:\\forall r\\\\\n",
    "s_r &\\leq d(p_r,r)                   \\:\\:\\:\\:\\forall r\\end{align*}"
   ]
  },
  {
   "cell_type": "code",
   "execution_count": 17,
   "id": "956b018f-7d6a-431b-ac79-8d5dcde4a026",
   "metadata": {},
   "outputs": [
    {
     "data": {
      "text/plain": [
       "Great_Lakes             <gurobi.Constr *Awaiting Model Update*>\n",
       "Midsouth                <gurobi.Constr *Awaiting Model Update*>\n",
       "Northeast               <gurobi.Constr *Awaiting Model Update*>\n",
       "Northern_New_England    <gurobi.Constr *Awaiting Model Update*>\n",
       "Plains                  <gurobi.Constr *Awaiting Model Update*>\n",
       "SouthCentral            <gurobi.Constr *Awaiting Model Update*>\n",
       "Southeast               <gurobi.Constr *Awaiting Model Update*>\n",
       "West                    <gurobi.Constr *Awaiting Model Update*>\n",
       "Name: solds <= demand, dtype: object"
      ]
     },
     "execution_count": 17,
     "metadata": {},
     "output_type": "execute_result"
    }
   ],
   "source": [
    "gppd.add_constrs(m, s, gp.GRB.LESS_EQUAL, x, name = 'solds <= supply') # for each region (8 constraints)\n",
    "gppd.add_constrs(m, s, gp.GRB.LESS_EQUAL, d, name = 'solds <= demand')\n",
    "\n",
    "# add_constrs: write the constraint with left side, \"operator\", right side"
   ]
  },
  {
   "cell_type": "code",
   "execution_count": 18,
   "id": "7982de2f-6bd2-488e-81f7-b31a2def09a3",
   "metadata": {},
   "outputs": [
    {
     "data": {
      "text/plain": [
       "<gurobi.Model Continuous instance Avocado_Price_Allocation: 0 constrs, 0 vars, No parameter changes>"
      ]
     },
     "execution_count": 18,
     "metadata": {},
     "output_type": "execute_result"
    }
   ],
   "source": [
    "m"
   ]
  },
  {
   "cell_type": "markdown",
   "id": "d2b3f1c9-7df1-434c-af68-f2674687879a",
   "metadata": {},
   "source": [
    "#### 6.3 Add the Wastage Constraints\n",
    "Define the predicted unsold number of avocados in each region, given by the supplied quantity that is not sold. For each region $r$.\n",
    "\n",
    "\\begin{align*} u_r &= x_r - s_r                 \\:\\:\\:\\:\\forall r\\end{align*}"
   ]
  },
  {
   "cell_type": "code",
   "execution_count": 19,
   "id": "37157007-53d2-4a67-a49c-6650581bda74",
   "metadata": {},
   "outputs": [
    {
     "data": {
      "text/plain": [
       "Great_Lakes             <gurobi.Constr *Awaiting Model Update*>\n",
       "Midsouth                <gurobi.Constr *Awaiting Model Update*>\n",
       "Northeast               <gurobi.Constr *Awaiting Model Update*>\n",
       "Northern_New_England    <gurobi.Constr *Awaiting Model Update*>\n",
       "Plains                  <gurobi.Constr *Awaiting Model Update*>\n",
       "SouthCentral            <gurobi.Constr *Awaiting Model Update*>\n",
       "Southeast               <gurobi.Constr *Awaiting Model Update*>\n",
       "West                    <gurobi.Constr *Awaiting Model Update*>\n",
       "Name: waste, dtype: object"
      ]
     },
     "execution_count": 19,
     "metadata": {},
     "output_type": "execute_result"
    }
   ],
   "source": [
    "gppd.add_constrs(m, u, gp.GRB.EQUAL, x - s, name = 'waste')"
   ]
  },
  {
   "cell_type": "code",
   "execution_count": null,
   "id": "3648bad7-0c50-45a6-bc28-bf30d0ebbb37",
   "metadata": {},
   "outputs": [],
   "source": []
  },
  {
   "cell_type": "markdown",
   "id": "d6459a34-7dd5-4639-83f1-4707fd790544",
   "metadata": {},
   "source": [
    "#### 6.4 Model update - add the constraint to gurobi model"
   ]
  },
  {
   "cell_type": "code",
   "execution_count": 20,
   "id": "d91f7a5e-fa55-4fc6-84e1-b1238c1a2917",
   "metadata": {},
   "outputs": [],
   "source": [
    "m.update()"
   ]
  },
  {
   "cell_type": "code",
   "execution_count": 21,
   "id": "b43d31fd-65e0-4cad-99d3-f37dcea471b0",
   "metadata": {},
   "outputs": [
    {
     "data": {
      "text/plain": [
       "Great_Lakes             0.0\n",
       "Midsouth                0.0\n",
       "Northeast               0.0\n",
       "Northern_New_England    0.0\n",
       "Plains                  0.0\n",
       "SouthCentral            0.0\n",
       "Southeast               0.0\n",
       "West                    0.0\n",
       "Name: price, dtype: float64"
      ]
     },
     "execution_count": 21,
     "metadata": {},
     "output_type": "execute_result"
    }
   ],
   "source": [
    "### show all decision variables - debugging problems - validate after compile decision varaibles\n",
    "p.gppd.VarName  # see name\n",
    "p.gppd.ub # upper bound\n",
    "p.gppd.lb # lowe bound\n",
    "\n",
    "#p.gbpd.X # see value of decision variable - only works after optimization"
   ]
  },
  {
   "cell_type": "code",
   "execution_count": 22,
   "id": "d0c758c2-4460-469c-a870-b40e60f9a521",
   "metadata": {},
   "outputs": [
    {
     "data": {
      "text/plain": [
       "<gurobi.Model Continuous instance Avocado_Price_Allocation: 25 constrs, 40 vars, No parameter changes>"
      ]
     },
     "execution_count": 22,
     "metadata": {},
     "output_type": "execute_result"
    }
   ],
   "source": [
    "m"
   ]
  },
  {
   "cell_type": "markdown",
   "id": "d00c9c20-5457-4875-bb44-558c4e010ea4",
   "metadata": {},
   "source": [
    "### 7. Add constraints that are machine learning models\n",
    "To add constraints that have machine learning models it is necessary define a dataframe that are the instance of prediction (it has columns as gurobi decision variables) and then create the constraint in gurobi.\n",
    "\n",
    "In this example, where each region has its own model, the dataframe instance also needs to be defined indidually. For the decision variable that are defined in the set \"regions\" it is important filter the dataframe instance with the correct element of the set region\n",
    "\n",
    "**So, for each element in set region will be defined the instance dataframe and a constraint. Each region has it own model**Also, the instance has only one row, so now it is possible define a optimization model with set \"time\" and each row of the dataframe could be the instance of time t, t+1, t+2, etc\n",
    "\n",
    "\n",
    "**IMPORTANT: LOGICALLY, FOR THIS EXAMPLE, TO DEFINE THE CONSTRAINTS OF ML MODELS, A FOR COULD HAVE BEEN MADE IN THE SET \"REGIONS\" BUT IT WAS NOT DONE CONSCIOUSLY THINKING OF AN EXAMPLE IN WHICH RESTRICTIONS HAVE TO BE DEFINED IN DIFFERENT SETS**"
   ]
  },
  {
   "cell_type": "code",
   "execution_count": 23,
   "id": "f021829e-3c21-47eb-9d62-749a23496458",
   "metadata": {},
   "outputs": [
    {
     "data": {
      "text/plain": [
       "['Great_Lakes',\n",
       " 'Midsouth',\n",
       " 'Northeast',\n",
       " 'Northern_New_England',\n",
       " 'Plains',\n",
       " 'SouthCentral',\n",
       " 'Southeast',\n",
       " 'West']"
      ]
     },
     "execution_count": 23,
     "metadata": {},
     "output_type": "execute_result"
    }
   ],
   "source": [
    "## show list elements in set region\n",
    "regions"
   ]
  },
  {
   "cell_type": "code",
   "execution_count": 24,
   "id": "e4926a8f-8b9e-44f4-9270-86e508420749",
   "metadata": {},
   "outputs": [
    {
     "name": "stdout",
     "output_type": "stream",
     "text": [
      "-- loading constraints machine learning models --\n",
      "\n",
      "\n",
      "loading constraints of demand of region: Great_Lakes\n",
      "Model for model_predict_Great_Lakes:\n",
      "9 variables\n",
      "9 constraints\n",
      "Input has shape (1, 9)\n",
      "Output has shape (1, 1)\n",
      "\n",
      "Pipeline has 2 steps:\n",
      "\n",
      "--------------------------------------------------------------------------------\n",
      "Step            Output Shape    Variables              Constraints              \n",
      "                                                Linear    Quadratic      General\n",
      "================================================================================\n",
      "col_trans             (1, 9)            8            8            0            0\n",
      "\n",
      "lin_reg               (1, 1)            1            1            0            0\n",
      "\n",
      "--------------------------------------------------------------------------------\n",
      "\n",
      "\n",
      "loading constraints of demand of region: Midsouth\n",
      "Model for model_predict_Midsouth:\n",
      "9 variables\n",
      "9 constraints\n",
      "Input has shape (1, 9)\n",
      "Output has shape (1, 1)\n",
      "\n",
      "Pipeline has 2 steps:\n",
      "\n",
      "--------------------------------------------------------------------------------\n",
      "Step            Output Shape    Variables              Constraints              \n",
      "                                                Linear    Quadratic      General\n",
      "================================================================================\n",
      "col_trans             (1, 9)            8            8            0            0\n",
      "\n",
      "lin_reg               (1, 1)            1            1            0            0\n",
      "\n",
      "--------------------------------------------------------------------------------\n",
      "\n",
      "\n",
      "loading constraints of demand of region: Northeast\n",
      "Model for model_predict_Northeast:\n",
      "9 variables\n",
      "9 constraints\n",
      "Input has shape (1, 9)\n",
      "Output has shape (1, 1)\n",
      "\n",
      "Pipeline has 2 steps:\n",
      "\n",
      "--------------------------------------------------------------------------------\n",
      "Step            Output Shape    Variables              Constraints              \n",
      "                                                Linear    Quadratic      General\n",
      "================================================================================\n",
      "col_trans             (1, 9)            8            8            0            0\n",
      "\n",
      "lin_reg               (1, 1)            1            1            0            0\n",
      "\n",
      "--------------------------------------------------------------------------------\n",
      "\n",
      "\n",
      "loading constraints of demand of region: Northern_New_England\n",
      "Model for model_predict_Northern_New_England:\n",
      "9 variables\n",
      "9 constraints\n",
      "Input has shape (1, 9)\n",
      "Output has shape (1, 1)\n",
      "\n",
      "Pipeline has 2 steps:\n",
      "\n",
      "--------------------------------------------------------------------------------\n",
      "Step            Output Shape    Variables              Constraints              \n",
      "                                                Linear    Quadratic      General\n",
      "================================================================================\n",
      "col_trans             (1, 9)            8            8            0            0\n",
      "\n",
      "lin_reg               (1, 1)            1            1            0            0\n",
      "\n",
      "--------------------------------------------------------------------------------\n",
      "\n",
      "\n",
      "loading constraints of demand of region: Plains\n",
      "Model for model_predict_Plains:\n",
      "9 variables\n",
      "9 constraints\n",
      "Input has shape (1, 9)\n",
      "Output has shape (1, 1)\n",
      "\n",
      "Pipeline has 2 steps:\n",
      "\n",
      "--------------------------------------------------------------------------------\n",
      "Step            Output Shape    Variables              Constraints              \n",
      "                                                Linear    Quadratic      General\n",
      "================================================================================\n",
      "col_trans             (1, 9)            8            8            0            0\n",
      "\n",
      "lin_reg               (1, 1)            1            1            0            0\n",
      "\n",
      "--------------------------------------------------------------------------------\n",
      "\n",
      "\n",
      "loading constraints of demand of region: SouthCentral\n",
      "Model for model_predict_SouthCentral:\n",
      "9 variables\n",
      "9 constraints\n",
      "Input has shape (1, 9)\n",
      "Output has shape (1, 1)\n",
      "\n",
      "Pipeline has 2 steps:\n",
      "\n",
      "--------------------------------------------------------------------------------\n",
      "Step            Output Shape    Variables              Constraints              \n",
      "                                                Linear    Quadratic      General\n",
      "================================================================================\n",
      "col_trans             (1, 9)            8            8            0            0\n",
      "\n",
      "lin_reg               (1, 1)            1            1            0            0\n",
      "\n",
      "--------------------------------------------------------------------------------\n",
      "\n",
      "\n",
      "loading constraints of demand of region: Southeast\n",
      "Model for model_predict_Southeast:\n",
      "9 variables\n",
      "9 constraints\n",
      "Input has shape (1, 9)\n",
      "Output has shape (1, 1)\n",
      "\n",
      "Pipeline has 2 steps:\n",
      "\n",
      "--------------------------------------------------------------------------------\n",
      "Step            Output Shape    Variables              Constraints              \n",
      "                                                Linear    Quadratic      General\n",
      "================================================================================\n",
      "col_trans             (1, 9)            8            8            0            0\n",
      "\n",
      "lin_reg               (1, 1)            1            1            0            0\n",
      "\n",
      "--------------------------------------------------------------------------------\n",
      "\n",
      "\n",
      "loading constraints of demand of region: West\n",
      "Model for model_predict_West:\n",
      "9 variables\n",
      "9 constraints\n",
      "Input has shape (1, 9)\n",
      "Output has shape (1, 1)\n",
      "\n",
      "Pipeline has 2 steps:\n",
      "\n",
      "--------------------------------------------------------------------------------\n",
      "Step            Output Shape    Variables              Constraints              \n",
      "                                                Linear    Quadratic      General\n",
      "================================================================================\n",
      "col_trans             (1, 9)            8            8            0            0\n",
      "\n",
      "lin_reg               (1, 1)            1            1            0            0\n",
      "\n",
      "--------------------------------------------------------------------------------\n"
     ]
    }
   ],
   "source": [
    "############ create instance for predict demand fo each region ############\n",
    "\n",
    "print('-- loading constraints machine learning models --')\n",
    "for region in regions:\n",
    "    print(f'\\n\\nloading constraints of demand of region: {region}')\n",
    "\n",
    "\n",
    "    # there is a dataframe with features fixed (no decision variables). filter it by region\n",
    "    aux_features_fixed = instance_ml_model.loc[[region]]  \n",
    "    \n",
    "    # create a dataframe with decision variables gurobi. filter it by region. In this example the price of all regions are features of the ml model\n",
    "    aux_features_decision =  pd.DataFrame(p).T\n",
    "    aux_features_decision.index = [region]\n",
    "    \n",
    "    #name_columns_feature_decision = aux_features_decision.columns # CORRECTION NAME COLUMNS TO BE THE SAME COLUMNS NAMES IN DATAFRAME USED TO TRAIN\n",
    "    name_columns_feature_decision = ['price_' + name_region for name_region in list_regions]\n",
    "    name_columns_feature_decision = [column.lower() for column in name_columns_feature_decision]\n",
    "    aux_features_decision.columns = name_columns_feature_decision\n",
    "    \n",
    "    # join into a dataframe instance\n",
    "    instance = pd.concat([aux_features_fixed, aux_features_decision], axis=1) # generate instance\n",
    "    \n",
    "    \n",
    "    ############ create constraint based in machine learning model ############\n",
    "    # load model\n",
    "    model_ml = dict_models[region]\n",
    "    \n",
    "    ## add model to predict the demand for each region with the SAME MODEL\n",
    "    pred_constr = add_predictor_constr(gp_model = m, \n",
    "                                       predictor = model_ml, \n",
    "                                       input_vars = instance, \n",
    "                                       output_vars = d[region], # filter decision variable for the element of the set region,\n",
    "                                       name = f'model_predict_{region}'\n",
    "                                      )\n",
    "    pred_constr.print_stats()"
   ]
  },
  {
   "cell_type": "code",
   "execution_count": 25,
   "id": "1b65375e-c106-461a-8df0-85c1c496b25d",
   "metadata": {},
   "outputs": [
    {
     "data": {
      "text/html": [
       "<div>\n",
       "<style scoped>\n",
       "    .dataframe tbody tr th:only-of-type {\n",
       "        vertical-align: middle;\n",
       "    }\n",
       "\n",
       "    .dataframe tbody tr th {\n",
       "        vertical-align: top;\n",
       "    }\n",
       "\n",
       "    .dataframe thead th {\n",
       "        text-align: right;\n",
       "    }\n",
       "</style>\n",
       "<table border=\"1\" class=\"dataframe\">\n",
       "  <thead>\n",
       "    <tr style=\"text-align: right;\">\n",
       "      <th></th>\n",
       "      <th>peak</th>\n",
       "      <th>price_great_lakes</th>\n",
       "      <th>price_midsouth</th>\n",
       "      <th>price_northeast</th>\n",
       "      <th>price_northern_new_england</th>\n",
       "      <th>price_plains</th>\n",
       "      <th>price_southcentral</th>\n",
       "      <th>price_southeast</th>\n",
       "      <th>price_west</th>\n",
       "    </tr>\n",
       "  </thead>\n",
       "  <tbody>\n",
       "    <tr>\n",
       "      <th>West</th>\n",
       "      <td>0</td>\n",
       "      <td>&lt;gurobi.Var price[Great_Lakes]&gt;</td>\n",
       "      <td>&lt;gurobi.Var price[Midsouth]&gt;</td>\n",
       "      <td>&lt;gurobi.Var price[Northeast]&gt;</td>\n",
       "      <td>&lt;gurobi.Var price[Northern_New_England]&gt;</td>\n",
       "      <td>&lt;gurobi.Var price[Plains]&gt;</td>\n",
       "      <td>&lt;gurobi.Var price[SouthCentral]&gt;</td>\n",
       "      <td>&lt;gurobi.Var price[Southeast]&gt;</td>\n",
       "      <td>&lt;gurobi.Var price[West]&gt;</td>\n",
       "    </tr>\n",
       "  </tbody>\n",
       "</table>\n",
       "</div>"
      ],
      "text/plain": [
       "      peak                price_great_lakes                price_midsouth  \\\n",
       "West     0  <gurobi.Var price[Great_Lakes]>  <gurobi.Var price[Midsouth]>   \n",
       "\n",
       "                    price_northeast                price_northern_new_england  \\\n",
       "West  <gurobi.Var price[Northeast]>  <gurobi.Var price[Northern_New_England]>   \n",
       "\n",
       "                    price_plains                price_southcentral  \\\n",
       "West  <gurobi.Var price[Plains]>  <gurobi.Var price[SouthCentral]>   \n",
       "\n",
       "                    price_southeast                price_west  \n",
       "West  <gurobi.Var price[Southeast]>  <gurobi.Var price[West]>  "
      ]
     },
     "execution_count": 25,
     "metadata": {},
     "output_type": "execute_result"
    }
   ],
   "source": [
    "instance"
   ]
  },
  {
   "cell_type": "code",
   "execution_count": null,
   "id": "7a5eb010-5e7a-4a9d-a272-8c6d5db10404",
   "metadata": {},
   "outputs": [],
   "source": []
  },
  {
   "cell_type": "code",
   "execution_count": null,
   "id": "4435d3aa-7a67-415e-b5bc-c591c99ba7b0",
   "metadata": {},
   "outputs": [],
   "source": []
  },
  {
   "cell_type": "code",
   "execution_count": null,
   "id": "062476d5-8324-47f4-85b8-dcb2f31f22f8",
   "metadata": {},
   "outputs": [],
   "source": []
  },
  {
   "cell_type": "markdown",
   "id": "2e102749-f327-4307-9608-43fb04c4ed3b",
   "metadata": {},
   "source": [
    "#### DOCUMENTATION GUROBI MACHINE LEARNING\n",
    "\n",
    "Call\n",
    "[add_predictor_constr](https://gurobi-machinelearning.readthedocs.io/en/stable/auto_generated/gurobi_ml.add_predictor_constr.html)\n",
    "to insert the constraints linking the features and the demand into the model `m`.\n",
    "\n",
    "It is important that you keep the columns in the order above, otherwise you will see an error. The columns must be in the same order as the training data.\n",
    "\n",
    "Obs: to add this constraints the way is little different and it is not neccesary call model.update()\n",
    "\n",
    "**Documentation - parameters**\n",
    "\n",
    "- gp_model (gurobipy model) – The gurobipy model where the predictor should be inserted.\n",
    "\n",
    "- predictor – The predictor to insert.\n",
    "\n",
    "- input_vars (mvar_array_like) – Decision variables used as input for predictor in gp_model.\n",
    "\n",
    "- output_vars (mvar_array_like, optional) – Decision variables used as output for predictor in gp_model."
   ]
  },
  {
   "cell_type": "code",
   "execution_count": null,
   "id": "e39045b4-7757-42f5-b589-0293f6ef2c12",
   "metadata": {},
   "outputs": [],
   "source": []
  },
  {
   "cell_type": "code",
   "execution_count": null,
   "id": "41aad436-b673-4c07-a934-af91312691c2",
   "metadata": {},
   "outputs": [],
   "source": []
  },
  {
   "cell_type": "markdown",
   "id": "eae2618c-b69f-4c54-b63b-91ea6a0f6c56",
   "metadata": {},
   "source": [
    "### 8. Define Objetive Function\n",
    "The goal is to maximize the **net revenue**, which is the product of price and quantity, minus costs over all regions. This model assumes the purchase costs are fixed (since the amount $B$ is fixed) and are therefore not incorporated.\n",
    "\n",
    "\\begin{align} \\textrm{maximize} &  \\sum_{r}  (p_r * s_r - c_{waste} * u_r -\n",
    "c^r_{transport} * x_r)& \\end{align}"
   ]
  },
  {
   "cell_type": "code",
   "execution_count": 26,
   "id": "062427d8-df20-45bb-be94-869cde638c9f",
   "metadata": {},
   "outputs": [],
   "source": [
    "m.setObjective((p * s).sum() - c_waste * u.sum() - (c_transport * x).sum(),\n",
    "               gp.GRB.MAXIMIZE)"
   ]
  },
  {
   "cell_type": "code",
   "execution_count": null,
   "id": "6b02898c-4b8a-4db7-a689-57a3af81904f",
   "metadata": {},
   "outputs": [],
   "source": []
  },
  {
   "cell_type": "markdown",
   "id": "14bfbd7e-ff7a-48b6-8dab-5d5c8e832f8c",
   "metadata": {},
   "source": [
    "### 9. Solve optimization problem\n",
    "The objective is **quadratic** since we take the product of price and the predicted sales, both of which are variables. Maximizing a quadratic\n",
    "term is said to be **non-convex**, and we specify this by setting the value of the [Gurobi NonConvex\n",
    "parameter](https://www.gurobi.com/documentation/10.0/refman/nonconvex.html) to be $2$."
   ]
  },
  {
   "cell_type": "markdown",
   "id": "d35e6d5e-ee76-413e-a02b-6f45d14c382b",
   "metadata": {},
   "source": [
    "#### 9.1 Solve optimization problem"
   ]
  },
  {
   "cell_type": "code",
   "execution_count": 27,
   "id": "b645dcf1-b3bc-4a78-947d-294263bc5acd",
   "metadata": {},
   "outputs": [
    {
     "name": "stdout",
     "output_type": "stream",
     "text": [
      "Set parameter NonConvex to value 2\n"
     ]
    }
   ],
   "source": [
    "# solve cuadratic problems\n",
    "m.Params.NonConvex = 2"
   ]
  },
  {
   "cell_type": "code",
   "execution_count": 28,
   "id": "d524177d-48cd-4252-b31c-c19c4a03bb36",
   "metadata": {},
   "outputs": [
    {
     "name": "stdout",
     "output_type": "stream",
     "text": [
      "Gurobi Optimizer version 11.0.0 build v11.0.0rc2 (win64 - Windows 10.0 (19043.2))\n",
      "\n",
      "CPU model: Intel(R) Core(TM) i7-10750H CPU @ 2.60GHz, instruction set [SSE2|AVX|AVX2]\n",
      "Thread count: 6 physical cores, 12 logical processors, using up to 12 threads\n",
      "\n",
      "Optimize a model with 97 rows, 112 columns and 272 nonzeros\n",
      "Model fingerprint: 0x1faccfac\n",
      "Model has 8 quadratic objective terms\n",
      "Coefficient statistics:\n",
      "  Matrix range     [2e-03, 1e+00]\n",
      "  Objective range  [1e-01, 5e-01]\n",
      "  QObjective range [2e+00, 2e+00]\n",
      "  Bounds range     [2e-01, 1e+01]\n",
      "  RHS range        [4e-01, 3e+01]\n",
      "Presolve removed 72 rows and 80 columns\n",
      "\n",
      "Continuous model is non-convex -- solving as a MIP\n",
      "\n",
      "Presolve removed 80 rows and 88 columns\n",
      "Presolve time: 0.00s\n",
      "Presolved: 34 rows, 33 columns, 137 nonzeros\n",
      "Presolved model has 8 bilinear constraint(s)\n",
      "Variable types: 33 continuous, 0 integer (0 binary)\n",
      "Found heuristic solution: objective 40.9945372\n",
      "\n",
      "Root relaxation: objective 4.442443e+01, 34 iterations, 0.00 seconds (0.00 work units)\n",
      "\n",
      "    Nodes    |    Current Node    |     Objective Bounds      |     Work\n",
      " Expl Unexpl |  Obj  Depth IntInf | Incumbent    BestBd   Gap | It/Node Time\n",
      "\n",
      "     0     0   44.42443    0    4   40.99454   44.42443  8.37%     -    0s\n",
      "     0     0   41.87293    0    3   40.99454   41.87293  2.14%     -    0s\n",
      "     0     0   41.68770    0    3   40.99454   41.68770  1.69%     -    0s\n",
      "     0     0   41.59732    0    3   40.99454   41.59732  1.47%     -    0s\n",
      "     0     0   41.59013    0    3   40.99454   41.59013  1.45%     -    0s\n",
      "     0     0   41.58826    0    3   40.99454   41.58826  1.45%     -    0s\n",
      "     0     0   41.58807    0    3   40.99454   41.58807  1.45%     -    0s\n",
      "     0     0   41.58798    0    3   40.99454   41.58798  1.45%     -    0s\n",
      "     0     0   41.58798    0    3   40.99454   41.58798  1.45%     -    0s\n",
      "     0     2   41.58798    0    3   40.99454   41.58798  1.45%     -    0s\n",
      "H   86    26                      40.9945372   41.07909  0.21%   1.0    0s\n",
      "*  220    11              12      40.9945373   40.99591  0.00%   0.5    0s\n",
      "\n",
      "Cutting planes:\n",
      "  RLT: 10\n",
      "\n",
      "Explored 226 nodes (182 simplex iterations) in 0.12 seconds (0.01 work units)\n",
      "Thread count was 12 (of 12 available processors)\n",
      "\n",
      "Solution count 1: 40.9945 \n",
      "\n",
      "Optimal solution found (tolerance 1.00e-04)\n",
      "Best objective 4.099453704786e+01, best bound 4.099590739351e+01, gap 0.0033%\n"
     ]
    }
   ],
   "source": [
    "# solve\n",
    "m.optimize()"
   ]
  },
  {
   "cell_type": "code",
   "execution_count": 29,
   "id": "9ae2eaf7-4195-4d5a-8917-cab6bb066be8",
   "metadata": {},
   "outputs": [
    {
     "data": {
      "text/plain": [
       "2"
      ]
     },
     "execution_count": 29,
     "metadata": {},
     "output_type": "execute_result"
    }
   ],
   "source": [
    "#### know the status of the model - 2 a optimal solution was founded\n",
    "# docu: https://www.gurobi.com/documentation/current/refman/optimization_status_codes.html#sec:StatusCodes\n",
    "m.Status"
   ]
  },
  {
   "cell_type": "code",
   "execution_count": null,
   "id": "f0ab0967-e4b3-4346-b85a-31f31d16cc69",
   "metadata": {},
   "outputs": [],
   "source": []
  },
  {
   "cell_type": "code",
   "execution_count": null,
   "id": "b54e4944-8471-4659-9747-49ecf5b782ec",
   "metadata": {},
   "outputs": [],
   "source": []
  },
  {
   "cell_type": "markdown",
   "id": "35408af3-867e-42b7-8191-8b58e237205b",
   "metadata": {},
   "source": [
    "#### 9.2 Save optimal values in a dataframe\n",
    "To get the optimal values of decision variables it is neccesary call \"var.gppd.X\""
   ]
  },
  {
   "cell_type": "code",
   "execution_count": 30,
   "id": "92c62a68-2364-456c-af2f-792908179173",
   "metadata": {},
   "outputs": [],
   "source": [
    "# create dataframe with index\n",
    "solution = pd.DataFrame(index=index_regions)\n",
    "\n",
    "# save optimal values\n",
    "solution[\"Price\"] = p.gppd.X\n",
    "solution[\"Historical_Max_Price\"] = data_historical_max_price  # this is informative value get from historical data\n",
    "solution[\"Allocated\"] = x.gppd.X\n",
    "solution[\"Sold\"] = s.gppd.X\n",
    "solution[\"Wasted\"] = u.gppd.X\n",
    "solution[\"Pred_demand\"] = d.gppd.X\n",
    "\n",
    "# round values\n",
    "solution = solution.round(3)\n",
    "\n",
    "\n",
    "# get value objetive function\n",
    "opt_revenue = m.ObjVal"
   ]
  },
  {
   "cell_type": "code",
   "execution_count": 31,
   "id": "c542883a-f36d-4efb-a187-601c93760cf9",
   "metadata": {},
   "outputs": [
    {
     "name": "stdout",
     "output_type": "stream",
     "text": [
      "\n",
      " The optimal net revenue: $40.994537 million\n"
     ]
    }
   ],
   "source": [
    "# show value objetive function\n",
    "print(\"\\n The optimal net revenue: $%f million\" % opt_revenue)"
   ]
  },
  {
   "cell_type": "code",
   "execution_count": 32,
   "id": "2f72543c-2194-4d7c-acf4-567924fa962c",
   "metadata": {},
   "outputs": [
    {
     "data": {
      "text/html": [
       "<div>\n",
       "<style scoped>\n",
       "    .dataframe tbody tr th:only-of-type {\n",
       "        vertical-align: middle;\n",
       "    }\n",
       "\n",
       "    .dataframe tbody tr th {\n",
       "        vertical-align: top;\n",
       "    }\n",
       "\n",
       "    .dataframe thead th {\n",
       "        text-align: right;\n",
       "    }\n",
       "</style>\n",
       "<table border=\"1\" class=\"dataframe\">\n",
       "  <thead>\n",
       "    <tr style=\"text-align: right;\">\n",
       "      <th></th>\n",
       "      <th>Price</th>\n",
       "      <th>Historical_Max_Price</th>\n",
       "      <th>Allocated</th>\n",
       "      <th>Sold</th>\n",
       "      <th>Wasted</th>\n",
       "      <th>Pred_demand</th>\n",
       "    </tr>\n",
       "  </thead>\n",
       "  <tbody>\n",
       "    <tr>\n",
       "      <th>Great_Lakes</th>\n",
       "      <td>2.000</td>\n",
       "      <td>1.980</td>\n",
       "      <td>3.965</td>\n",
       "      <td>3.965</td>\n",
       "      <td>0.0</td>\n",
       "      <td>3.965</td>\n",
       "    </tr>\n",
       "    <tr>\n",
       "      <th>Midsouth</th>\n",
       "      <td>1.097</td>\n",
       "      <td>1.720</td>\n",
       "      <td>1.845</td>\n",
       "      <td>1.845</td>\n",
       "      <td>0.0</td>\n",
       "      <td>6.067</td>\n",
       "    </tr>\n",
       "    <tr>\n",
       "      <th>Northeast</th>\n",
       "      <td>2.000</td>\n",
       "      <td>1.750</td>\n",
       "      <td>2.364</td>\n",
       "      <td>2.364</td>\n",
       "      <td>0.0</td>\n",
       "      <td>6.142</td>\n",
       "    </tr>\n",
       "    <tr>\n",
       "      <th>Northern_New_England</th>\n",
       "      <td>2.000</td>\n",
       "      <td>1.880</td>\n",
       "      <td>0.220</td>\n",
       "      <td>0.220</td>\n",
       "      <td>0.0</td>\n",
       "      <td>0.535</td>\n",
       "    </tr>\n",
       "    <tr>\n",
       "      <th>Plains</th>\n",
       "      <td>2.000</td>\n",
       "      <td>1.810</td>\n",
       "      <td>1.735</td>\n",
       "      <td>1.735</td>\n",
       "      <td>0.0</td>\n",
       "      <td>1.735</td>\n",
       "    </tr>\n",
       "    <tr>\n",
       "      <th>SouthCentral</th>\n",
       "      <td>1.669</td>\n",
       "      <td>1.366</td>\n",
       "      <td>3.687</td>\n",
       "      <td>3.687</td>\n",
       "      <td>0.0</td>\n",
       "      <td>3.687</td>\n",
       "    </tr>\n",
       "    <tr>\n",
       "      <th>Southeast</th>\n",
       "      <td>2.000</td>\n",
       "      <td>1.820</td>\n",
       "      <td>5.856</td>\n",
       "      <td>5.856</td>\n",
       "      <td>0.0</td>\n",
       "      <td>5.856</td>\n",
       "    </tr>\n",
       "    <tr>\n",
       "      <th>West</th>\n",
       "      <td>2.000</td>\n",
       "      <td>1.648</td>\n",
       "      <td>5.327</td>\n",
       "      <td>5.327</td>\n",
       "      <td>0.0</td>\n",
       "      <td>5.327</td>\n",
       "    </tr>\n",
       "  </tbody>\n",
       "</table>\n",
       "</div>"
      ],
      "text/plain": [
       "                      Price  Historical_Max_Price  Allocated   Sold  Wasted  \\\n",
       "Great_Lakes           2.000                 1.980      3.965  3.965     0.0   \n",
       "Midsouth              1.097                 1.720      1.845  1.845     0.0   \n",
       "Northeast             2.000                 1.750      2.364  2.364     0.0   \n",
       "Northern_New_England  2.000                 1.880      0.220  0.220     0.0   \n",
       "Plains                2.000                 1.810      1.735  1.735     0.0   \n",
       "SouthCentral          1.669                 1.366      3.687  3.687     0.0   \n",
       "Southeast             2.000                 1.820      5.856  5.856     0.0   \n",
       "West                  2.000                 1.648      5.327  5.327     0.0   \n",
       "\n",
       "                      Pred_demand  \n",
       "Great_Lakes                 3.965  \n",
       "Midsouth                    6.067  \n",
       "Northeast                   6.142  \n",
       "Northern_New_England        0.535  \n",
       "Plains                      1.735  \n",
       "SouthCentral                3.687  \n",
       "Southeast                   5.856  \n",
       "West                        5.327  "
      ]
     },
     "execution_count": 32,
     "metadata": {},
     "output_type": "execute_result"
    }
   ],
   "source": [
    "# show value decision variables\n",
    "solution"
   ]
  },
  {
   "cell_type": "markdown",
   "id": "11f207fe-ee4c-4a17-81c7-fd817fe5e6f6",
   "metadata": {},
   "source": [
    "We can also check the error in the estimate of the Gurobi solution for the regression model."
   ]
  },
  {
   "cell_type": "code",
   "execution_count": 33,
   "id": "02c1c2a3-5acd-4f78-bc23-ce45f71d909c",
   "metadata": {},
   "outputs": [
    {
     "name": "stdout",
     "output_type": "stream",
     "text": [
      "Maximum error in approximating the regression 8.88178e-16\n"
     ]
    }
   ],
   "source": [
    "print(\n",
    "    \"Maximum error in approximating the regression {:.6}\".format(\n",
    "        np.max(pred_constr.get_error())\n",
    "    )\n",
    ")"
   ]
  },
  {
   "cell_type": "code",
   "execution_count": null,
   "id": "81704fed-ae72-49f8-880c-99ccd1adf5c7",
   "metadata": {},
   "outputs": [],
   "source": []
  },
  {
   "cell_type": "code",
   "execution_count": null,
   "id": "0ef49c31-98d0-4edb-8ed5-9564b974efa1",
   "metadata": {},
   "outputs": [],
   "source": []
  },
  {
   "cell_type": "code",
   "execution_count": 34,
   "id": "d5178463-0160-4445-a0b2-848b47f71cfe",
   "metadata": {},
   "outputs": [
    {
     "data": {
      "text/plain": [
       "[<gurobi.Constr supply>,\n",
       " <gurobi.Constr solds <= supply[Great_Lakes]>,\n",
       " <gurobi.Constr solds <= supply[Midsouth]>,\n",
       " <gurobi.Constr solds <= supply[Northeast]>,\n",
       " <gurobi.Constr solds <= supply[Northern_New_England]>,\n",
       " <gurobi.Constr solds <= supply[Plains]>,\n",
       " <gurobi.Constr solds <= supply[SouthCentral]>,\n",
       " <gurobi.Constr solds <= supply[Southeast]>,\n",
       " <gurobi.Constr solds <= supply[West]>,\n",
       " <gurobi.Constr solds <= demand[Great_Lakes]>,\n",
       " <gurobi.Constr solds <= demand[Midsouth]>,\n",
       " <gurobi.Constr solds <= demand[Northeast]>,\n",
       " <gurobi.Constr solds <= demand[Northern_New_England]>,\n",
       " <gurobi.Constr solds <= demand[Plains]>,\n",
       " <gurobi.Constr solds <= demand[SouthCentral]>,\n",
       " <gurobi.Constr solds <= demand[Southeast]>,\n",
       " <gurobi.Constr solds <= demand[West]>,\n",
       " <gurobi.Constr waste[Great_Lakes]>,\n",
       " <gurobi.Constr waste[Midsouth]>,\n",
       " <gurobi.Constr waste[Northeast]>,\n",
       " <gurobi.Constr waste[Northern_New_England]>,\n",
       " <gurobi.Constr waste[Plains]>,\n",
       " <gurobi.Constr waste[SouthCentral]>,\n",
       " <gurobi.Constr waste[Southeast]>,\n",
       " <gurobi.Constr waste[West]>,\n",
       " <gurobi.Constr model_predict_Great_Lakes.col_trans.std_scaler.s[0,0]>,\n",
       " <gurobi.Constr model_predict_Great_Lakes.col_trans.std_scaler.s[0,1]>,\n",
       " <gurobi.Constr model_predict_Great_Lakes.col_trans.std_scaler.s[0,2]>,\n",
       " <gurobi.Constr model_predict_Great_Lakes.col_trans.std_scaler.s[0,3]>,\n",
       " <gurobi.Constr model_predict_Great_Lakes.col_trans.std_scaler.s[0,4]>,\n",
       " <gurobi.Constr model_predict_Great_Lakes.col_trans.std_scaler.s[0,5]>,\n",
       " <gurobi.Constr model_predict_Great_Lakes.col_trans.std_scaler.s[0,6]>,\n",
       " <gurobi.Constr model_predict_Great_Lakes.col_trans.std_scaler.s[0,7]>,\n",
       " <gurobi.Constr model_predict_Great_Lakes.lin_reg.linreg[0,0]>,\n",
       " <gurobi.Constr model_predict_Midsouth.col_trans.std_scaler.s[0,0]>,\n",
       " <gurobi.Constr model_predict_Midsouth.col_trans.std_scaler.s[0,1]>,\n",
       " <gurobi.Constr model_predict_Midsouth.col_trans.std_scaler.s[0,2]>,\n",
       " <gurobi.Constr model_predict_Midsouth.col_trans.std_scaler.s[0,3]>,\n",
       " <gurobi.Constr model_predict_Midsouth.col_trans.std_scaler.s[0,4]>,\n",
       " <gurobi.Constr model_predict_Midsouth.col_trans.std_scaler.s[0,5]>,\n",
       " <gurobi.Constr model_predict_Midsouth.col_trans.std_scaler.s[0,6]>,\n",
       " <gurobi.Constr model_predict_Midsouth.col_trans.std_scaler.s[0,7]>,\n",
       " <gurobi.Constr model_predict_Midsouth.lin_reg.linreg[0,0]>,\n",
       " <gurobi.Constr model_predict_Northeast.col_trans.std_scaler.s[0,0]>,\n",
       " <gurobi.Constr model_predict_Northeast.col_trans.std_scaler.s[0,1]>,\n",
       " <gurobi.Constr model_predict_Northeast.col_trans.std_scaler.s[0,2]>,\n",
       " <gurobi.Constr model_predict_Northeast.col_trans.std_scaler.s[0,3]>,\n",
       " <gurobi.Constr model_predict_Northeast.col_trans.std_scaler.s[0,4]>,\n",
       " <gurobi.Constr model_predict_Northeast.col_trans.std_scaler.s[0,5]>,\n",
       " <gurobi.Constr model_predict_Northeast.col_trans.std_scaler.s[0,6]>,\n",
       " <gurobi.Constr model_predict_Northeast.col_trans.std_scaler.s[0,7]>,\n",
       " <gurobi.Constr model_predict_Northeast.lin_reg.linreg[0,0]>,\n",
       " <gurobi.Constr model_predict_Northern_New_England.col_trans.std_scaler.s[0,0]>,\n",
       " <gurobi.Constr model_predict_Northern_New_England.col_trans.std_scaler.s[0,1]>,\n",
       " <gurobi.Constr model_predict_Northern_New_England.col_trans.std_scaler.s[0,2]>,\n",
       " <gurobi.Constr model_predict_Northern_New_England.col_trans.std_scaler.s[0,3]>,\n",
       " <gurobi.Constr model_predict_Northern_New_England.col_trans.std_scaler.s[0,4]>,\n",
       " <gurobi.Constr model_predict_Northern_New_England.col_trans.std_scaler.s[0,5]>,\n",
       " <gurobi.Constr model_predict_Northern_New_England.col_trans.std_scaler.s[0,6]>,\n",
       " <gurobi.Constr model_predict_Northern_New_England.col_trans.std_scaler.s[0,7]>,\n",
       " <gurobi.Constr model_predict_Northern_New_England.lin_reg.linreg[0,0]>,\n",
       " <gurobi.Constr model_predict_Plains.col_trans.std_scaler.s[0,0]>,\n",
       " <gurobi.Constr model_predict_Plains.col_trans.std_scaler.s[0,1]>,\n",
       " <gurobi.Constr model_predict_Plains.col_trans.std_scaler.s[0,2]>,\n",
       " <gurobi.Constr model_predict_Plains.col_trans.std_scaler.s[0,3]>,\n",
       " <gurobi.Constr model_predict_Plains.col_trans.std_scaler.s[0,4]>,\n",
       " <gurobi.Constr model_predict_Plains.col_trans.std_scaler.s[0,5]>,\n",
       " <gurobi.Constr model_predict_Plains.col_trans.std_scaler.s[0,6]>,\n",
       " <gurobi.Constr model_predict_Plains.col_trans.std_scaler.s[0,7]>,\n",
       " <gurobi.Constr model_predict_Plains.lin_reg.linreg[0,0]>,\n",
       " <gurobi.Constr model_predict_SouthCentral.col_trans.std_scaler.s[0,0]>,\n",
       " <gurobi.Constr model_predict_SouthCentral.col_trans.std_scaler.s[0,1]>,\n",
       " <gurobi.Constr model_predict_SouthCentral.col_trans.std_scaler.s[0,2]>,\n",
       " <gurobi.Constr model_predict_SouthCentral.col_trans.std_scaler.s[0,3]>,\n",
       " <gurobi.Constr model_predict_SouthCentral.col_trans.std_scaler.s[0,4]>,\n",
       " <gurobi.Constr model_predict_SouthCentral.col_trans.std_scaler.s[0,5]>,\n",
       " <gurobi.Constr model_predict_SouthCentral.col_trans.std_scaler.s[0,6]>,\n",
       " <gurobi.Constr model_predict_SouthCentral.col_trans.std_scaler.s[0,7]>,\n",
       " <gurobi.Constr model_predict_SouthCentral.lin_reg.linreg[0,0]>,\n",
       " <gurobi.Constr model_predict_Southeast.col_trans.std_scaler.s[0,0]>,\n",
       " <gurobi.Constr model_predict_Southeast.col_trans.std_scaler.s[0,1]>,\n",
       " <gurobi.Constr model_predict_Southeast.col_trans.std_scaler.s[0,2]>,\n",
       " <gurobi.Constr model_predict_Southeast.col_trans.std_scaler.s[0,3]>,\n",
       " <gurobi.Constr model_predict_Southeast.col_trans.std_scaler.s[0,4]>,\n",
       " <gurobi.Constr model_predict_Southeast.col_trans.std_scaler.s[0,5]>,\n",
       " <gurobi.Constr model_predict_Southeast.col_trans.std_scaler.s[0,6]>,\n",
       " <gurobi.Constr model_predict_Southeast.col_trans.std_scaler.s[0,7]>,\n",
       " <gurobi.Constr model_predict_Southeast.lin_reg.linreg[0,0]>,\n",
       " <gurobi.Constr model_predict_West.col_trans.std_scaler.s[0,0]>,\n",
       " <gurobi.Constr model_predict_West.col_trans.std_scaler.s[0,1]>,\n",
       " <gurobi.Constr model_predict_West.col_trans.std_scaler.s[0,2]>,\n",
       " <gurobi.Constr model_predict_West.col_trans.std_scaler.s[0,3]>,\n",
       " <gurobi.Constr model_predict_West.col_trans.std_scaler.s[0,4]>,\n",
       " <gurobi.Constr model_predict_West.col_trans.std_scaler.s[0,5]>,\n",
       " <gurobi.Constr model_predict_West.col_trans.std_scaler.s[0,6]>,\n",
       " <gurobi.Constr model_predict_West.col_trans.std_scaler.s[0,7]>,\n",
       " <gurobi.Constr model_predict_West.lin_reg.linreg[0,0]>]"
      ]
     },
     "execution_count": 34,
     "metadata": {},
     "output_type": "execute_result"
    }
   ],
   "source": [
    "# show all constraints\n",
    "m.getConstrs()"
   ]
  },
  {
   "cell_type": "code",
   "execution_count": null,
   "id": "5dfcc5cc-97c3-4544-95aa-21017aa264d4",
   "metadata": {},
   "outputs": [],
   "source": []
  },
  {
   "cell_type": "markdown",
   "id": "b9acd4b2-d3cf-446a-85f3-5d413c2c9d0a",
   "metadata": {},
   "source": [
    "## Important question\n",
    "If it is a real use case, and I want to train different models more complex that the previous models, how I can to know the impact to have a better model (better metrics, upper r2 or lower rmse) in the output of optimization and get better values of optimal net revenue"
   ]
  },
  {
   "cell_type": "code",
   "execution_count": null,
   "id": "24265fc1-5b3e-4d12-b08e-a56517f778f8",
   "metadata": {},
   "outputs": [],
   "source": []
  }
 ],
 "metadata": {
  "kernelspec": {
   "display_name": "Python 3 (ipykernel)",
   "language": "python",
   "name": "python3"
  },
  "language_info": {
   "codemirror_mode": {
    "name": "ipython",
    "version": 3
   },
   "file_extension": ".py",
   "mimetype": "text/x-python",
   "name": "python",
   "nbconvert_exporter": "python",
   "pygments_lexer": "ipython3",
   "version": "3.10.12"
  }
 },
 "nbformat": 4,
 "nbformat_minor": 5
}
