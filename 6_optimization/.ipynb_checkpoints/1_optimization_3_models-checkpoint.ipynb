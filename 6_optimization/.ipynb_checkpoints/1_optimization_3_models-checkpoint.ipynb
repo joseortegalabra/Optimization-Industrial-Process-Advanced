{
 "cells": [
  {
   "cell_type": "markdown",
   "id": "ec518247-2417-4eb6-bbde-41b6d6d3bc2a",
   "metadata": {},
   "source": [
    "# Gurobi multiple ml models\n",
    "Optimize the costs of chemicals using gurobi ml models"
   ]
  },
  {
   "cell_type": "markdown",
   "id": "09eeb8af-89b9-4db8-b879-8c47d6024697",
   "metadata": {},
   "source": [
    "## Root folder and read env variables"
   ]
  },
  {
   "cell_type": "code",
   "execution_count": 1,
   "id": "0b616faf-c5d1-480d-8b69-399c110aa1fa",
   "metadata": {},
   "outputs": [
    {
     "name": "stdout",
     "output_type": "stream",
     "text": [
      "root path:  D:\\github-mi-repo\\Optimization-Industrial-Process\n"
     ]
    }
   ],
   "source": [
    "import os\n",
    "# fix root path to save outputs\n",
    "actual_path = os.path.abspath(os.getcwd())\n",
    "list_root_path = actual_path.split('\\\\')[:-1]\n",
    "root_path = '\\\\'.join(list_root_path)\n",
    "os.chdir(root_path)\n",
    "print('root path: ', root_path)"
   ]
  },
  {
   "cell_type": "code",
   "execution_count": 2,
   "id": "952fd7e6-61ba-40a3-8f70-facfeef0e8dd",
   "metadata": {},
   "outputs": [],
   "source": [
    "import os\n",
    "from dotenv import load_dotenv, find_dotenv # package used in jupyter notebook to read the variables in file .env\n",
    "\n",
    "\"\"\" get env variable from .env \"\"\"\n",
    "load_dotenv(find_dotenv())\n",
    "\n",
    "\"\"\" Read env variables and save it as python variable \"\"\"\n",
    "PROJECT_GCP = os.environ.get(\"PROJECT_GCP\", \"\")"
   ]
  },
  {
   "cell_type": "code",
   "execution_count": null,
   "id": "5b919963-78c6-4231-8a94-7726f0f40cfd",
   "metadata": {},
   "outputs": [],
   "source": []
  },
  {
   "cell_type": "markdown",
   "id": "681be18c-bd24-4469-91cc-5b97fbb7be93",
   "metadata": {},
   "source": [
    "## RUN"
   ]
  },
  {
   "cell_type": "code",
   "execution_count": 3,
   "id": "f13dc83a-84fa-43c6-a95f-9950d3f5f061",
   "metadata": {},
   "outputs": [],
   "source": [
    "import pickle\n",
    "import pandas as pd\n",
    "import numpy as np\n",
    "\n",
    "#gurobi\n",
    "import gurobipy_pandas as gppd\n",
    "from gurobi_ml import add_predictor_constr\n",
    "import gurobipy as gp"
   ]
  },
  {
   "cell_type": "code",
   "execution_count": null,
   "id": "fe000d94-8818-46fa-aad1-8f4ec76e9877",
   "metadata": {},
   "outputs": [],
   "source": []
  },
  {
   "cell_type": "code",
   "execution_count": null,
   "id": "699469b7-d017-4df8-9339-ddd7c6c9f508",
   "metadata": {},
   "outputs": [],
   "source": []
  },
  {
   "cell_type": "markdown",
   "id": "a88d5cfa-efee-436f-9f30-696a23517824",
   "metadata": {},
   "source": [
    "## PREPARATION"
   ]
  },
  {
   "cell_type": "markdown",
   "id": "9279de0e-974a-4aff-9967-3e3e3554791e",
   "metadata": {},
   "source": [
    "### 1. Load data needs to use"
   ]
  },
  {
   "cell_type": "code",
   "execution_count": 4,
   "id": "e01d22b1-ecf1-44e4-9c30-3d572e7a7936",
   "metadata": {},
   "outputs": [
    {
     "data": {
      "text/html": [
       "<div>\n",
       "<style scoped>\n",
       "    .dataframe tbody tr th:only-of-type {\n",
       "        vertical-align: middle;\n",
       "    }\n",
       "\n",
       "    .dataframe tbody tr th {\n",
       "        vertical-align: top;\n",
       "    }\n",
       "\n",
       "    .dataframe thead th {\n",
       "        text-align: right;\n",
       "    }\n",
       "</style>\n",
       "<table border=\"1\" class=\"dataframe\">\n",
       "  <thead>\n",
       "    <tr style=\"text-align: right;\">\n",
       "      <th></th>\n",
       "      <th>230AIT446.PNT</th>\n",
       "      <th>240AIC022.MEAS</th>\n",
       "      <th>240AIC126.MEAS</th>\n",
       "      <th>240AIC224.MEAS</th>\n",
       "      <th>240AIC286.MEAS</th>\n",
       "      <th>240AIC324.MEAS</th>\n",
       "      <th>240AIC433.MEAS</th>\n",
       "      <th>240AIT063A.PNT</th>\n",
       "      <th>240AIT063B.PNT</th>\n",
       "      <th>240AIT225A.PNT</th>\n",
       "      <th>...</th>\n",
       "      <th>S240ALDP022</th>\n",
       "      <th>S240ALDP031</th>\n",
       "      <th>S240ALDP032</th>\n",
       "      <th>S276PER002</th>\n",
       "      <th>S2MAQUINAT07</th>\n",
       "      <th>S76ALE017</th>\n",
       "      <th>SSTRIPPING015</th>\n",
       "      <th>calc_prod_d0</th>\n",
       "      <th>calc_prod_d1</th>\n",
       "      <th>calc_prod_p</th>\n",
       "    </tr>\n",
       "    <tr>\n",
       "      <th>datetime</th>\n",
       "      <th></th>\n",
       "      <th></th>\n",
       "      <th></th>\n",
       "      <th></th>\n",
       "      <th></th>\n",
       "      <th></th>\n",
       "      <th></th>\n",
       "      <th></th>\n",
       "      <th></th>\n",
       "      <th></th>\n",
       "      <th></th>\n",
       "      <th></th>\n",
       "      <th></th>\n",
       "      <th></th>\n",
       "      <th></th>\n",
       "      <th></th>\n",
       "      <th></th>\n",
       "      <th></th>\n",
       "      <th></th>\n",
       "      <th></th>\n",
       "      <th></th>\n",
       "    </tr>\n",
       "  </thead>\n",
       "  <tbody>\n",
       "    <tr>\n",
       "      <th>2021-01-01 00:05:00</th>\n",
       "      <td>11.555040</td>\n",
       "      <td>2.983948</td>\n",
       "      <td>11.346645</td>\n",
       "      <td>4.413519</td>\n",
       "      <td>4.352375</td>\n",
       "      <td>10.441675</td>\n",
       "      <td>4.292521</td>\n",
       "      <td>5.869320</td>\n",
       "      <td>62.37495</td>\n",
       "      <td>1.837519</td>\n",
       "      <td>...</td>\n",
       "      <td>91.49</td>\n",
       "      <td>1.8</td>\n",
       "      <td>11.4</td>\n",
       "      <td>11.77</td>\n",
       "      <td>1.5712</td>\n",
       "      <td>173.6</td>\n",
       "      <td>964.0</td>\n",
       "      <td>3240.8635</td>\n",
       "      <td>3313.6215</td>\n",
       "      <td>3259.3745</td>\n",
       "    </tr>\n",
       "    <tr>\n",
       "      <th>2021-01-01 00:10:00</th>\n",
       "      <td>11.552320</td>\n",
       "      <td>3.015669</td>\n",
       "      <td>11.353215</td>\n",
       "      <td>4.413179</td>\n",
       "      <td>4.347186</td>\n",
       "      <td>10.432170</td>\n",
       "      <td>4.289684</td>\n",
       "      <td>5.869320</td>\n",
       "      <td>62.37495</td>\n",
       "      <td>1.814020</td>\n",
       "      <td>...</td>\n",
       "      <td>91.49</td>\n",
       "      <td>1.8</td>\n",
       "      <td>11.4</td>\n",
       "      <td>11.77</td>\n",
       "      <td>1.5712</td>\n",
       "      <td>173.6</td>\n",
       "      <td>964.0</td>\n",
       "      <td>3260.7475</td>\n",
       "      <td>3301.6920</td>\n",
       "      <td>3208.6785</td>\n",
       "    </tr>\n",
       "    <tr>\n",
       "      <th>2021-01-01 00:15:00</th>\n",
       "      <td>11.549955</td>\n",
       "      <td>3.018903</td>\n",
       "      <td>11.355525</td>\n",
       "      <td>4.408321</td>\n",
       "      <td>4.355828</td>\n",
       "      <td>10.410115</td>\n",
       "      <td>4.284427</td>\n",
       "      <td>5.869320</td>\n",
       "      <td>62.37495</td>\n",
       "      <td>1.814020</td>\n",
       "      <td>...</td>\n",
       "      <td>91.49</td>\n",
       "      <td>1.8</td>\n",
       "      <td>11.4</td>\n",
       "      <td>11.77</td>\n",
       "      <td>1.5712</td>\n",
       "      <td>173.6</td>\n",
       "      <td>964.0</td>\n",
       "      <td>3265.5765</td>\n",
       "      <td>3284.1330</td>\n",
       "      <td>3210.7790</td>\n",
       "    </tr>\n",
       "    <tr>\n",
       "      <th>2021-01-01 00:20:00</th>\n",
       "      <td>11.547145</td>\n",
       "      <td>3.001164</td>\n",
       "      <td>11.326725</td>\n",
       "      <td>4.408659</td>\n",
       "      <td>4.361292</td>\n",
       "      <td>10.379145</td>\n",
       "      <td>4.285478</td>\n",
       "      <td>5.835750</td>\n",
       "      <td>62.37495</td>\n",
       "      <td>1.814020</td>\n",
       "      <td>...</td>\n",
       "      <td>91.49</td>\n",
       "      <td>1.7</td>\n",
       "      <td>11.3</td>\n",
       "      <td>11.77</td>\n",
       "      <td>1.5712</td>\n",
       "      <td>173.6</td>\n",
       "      <td>964.0</td>\n",
       "      <td>3253.7750</td>\n",
       "      <td>3271.9260</td>\n",
       "      <td>3221.7745</td>\n",
       "    </tr>\n",
       "    <tr>\n",
       "      <th>2021-01-01 00:25:00</th>\n",
       "      <td>11.543160</td>\n",
       "      <td>3.017393</td>\n",
       "      <td>11.336345</td>\n",
       "      <td>4.408596</td>\n",
       "      <td>4.356374</td>\n",
       "      <td>10.387205</td>\n",
       "      <td>4.304148</td>\n",
       "      <td>5.802179</td>\n",
       "      <td>62.37495</td>\n",
       "      <td>1.814020</td>\n",
       "      <td>...</td>\n",
       "      <td>91.49</td>\n",
       "      <td>1.6</td>\n",
       "      <td>11.2</td>\n",
       "      <td>11.77</td>\n",
       "      <td>1.5712</td>\n",
       "      <td>173.6</td>\n",
       "      <td>964.0</td>\n",
       "      <td>3236.9790</td>\n",
       "      <td>3267.3050</td>\n",
       "      <td>3227.6935</td>\n",
       "    </tr>\n",
       "  </tbody>\n",
       "</table>\n",
       "<p>5 rows × 64 columns</p>\n",
       "</div>"
      ],
      "text/plain": [
       "                     230AIT446.PNT  240AIC022.MEAS  240AIC126.MEAS  \\\n",
       "datetime                                                             \n",
       "2021-01-01 00:05:00      11.555040        2.983948       11.346645   \n",
       "2021-01-01 00:10:00      11.552320        3.015669       11.353215   \n",
       "2021-01-01 00:15:00      11.549955        3.018903       11.355525   \n",
       "2021-01-01 00:20:00      11.547145        3.001164       11.326725   \n",
       "2021-01-01 00:25:00      11.543160        3.017393       11.336345   \n",
       "\n",
       "                     240AIC224.MEAS  240AIC286.MEAS  240AIC324.MEAS  \\\n",
       "datetime                                                              \n",
       "2021-01-01 00:05:00        4.413519        4.352375       10.441675   \n",
       "2021-01-01 00:10:00        4.413179        4.347186       10.432170   \n",
       "2021-01-01 00:15:00        4.408321        4.355828       10.410115   \n",
       "2021-01-01 00:20:00        4.408659        4.361292       10.379145   \n",
       "2021-01-01 00:25:00        4.408596        4.356374       10.387205   \n",
       "\n",
       "                     240AIC433.MEAS  240AIT063A.PNT  240AIT063B.PNT  \\\n",
       "datetime                                                              \n",
       "2021-01-01 00:05:00        4.292521        5.869320        62.37495   \n",
       "2021-01-01 00:10:00        4.289684        5.869320        62.37495   \n",
       "2021-01-01 00:15:00        4.284427        5.869320        62.37495   \n",
       "2021-01-01 00:20:00        4.285478        5.835750        62.37495   \n",
       "2021-01-01 00:25:00        4.304148        5.802179        62.37495   \n",
       "\n",
       "                     240AIT225A.PNT  ...  S240ALDP022  S240ALDP031  \\\n",
       "datetime                             ...                             \n",
       "2021-01-01 00:05:00        1.837519  ...        91.49          1.8   \n",
       "2021-01-01 00:10:00        1.814020  ...        91.49          1.8   \n",
       "2021-01-01 00:15:00        1.814020  ...        91.49          1.8   \n",
       "2021-01-01 00:20:00        1.814020  ...        91.49          1.7   \n",
       "2021-01-01 00:25:00        1.814020  ...        91.49          1.6   \n",
       "\n",
       "                     S240ALDP032  S276PER002  S2MAQUINAT07  S76ALE017  \\\n",
       "datetime                                                                \n",
       "2021-01-01 00:05:00         11.4       11.77        1.5712      173.6   \n",
       "2021-01-01 00:10:00         11.4       11.77        1.5712      173.6   \n",
       "2021-01-01 00:15:00         11.4       11.77        1.5712      173.6   \n",
       "2021-01-01 00:20:00         11.3       11.77        1.5712      173.6   \n",
       "2021-01-01 00:25:00         11.2       11.77        1.5712      173.6   \n",
       "\n",
       "                     SSTRIPPING015  calc_prod_d0  calc_prod_d1  calc_prod_p  \n",
       "datetime                                                                     \n",
       "2021-01-01 00:05:00          964.0     3240.8635     3313.6215    3259.3745  \n",
       "2021-01-01 00:10:00          964.0     3260.7475     3301.6920    3208.6785  \n",
       "2021-01-01 00:15:00          964.0     3265.5765     3284.1330    3210.7790  \n",
       "2021-01-01 00:20:00          964.0     3253.7750     3271.9260    3221.7745  \n",
       "2021-01-01 00:25:00          964.0     3236.9790     3267.3050    3227.6935  \n",
       "\n",
       "[5 rows x 64 columns]"
      ]
     },
     "execution_count": 4,
     "metadata": {},
     "output_type": "execute_result"
    }
   ],
   "source": [
    "path_data = 'artifacts/data/data.pkl'\n",
    "data = pd.read_pickle(path_data)\n",
    "data.head()"
   ]
  },
  {
   "cell_type": "code",
   "execution_count": null,
   "id": "19ff5fff-ce0c-4953-ba9d-cf80ddb0df55",
   "metadata": {},
   "outputs": [],
   "source": []
  },
  {
   "cell_type": "code",
   "execution_count": null,
   "id": "2b34d060-e03e-41e5-bb14-b914d886d121",
   "metadata": {},
   "outputs": [],
   "source": []
  },
  {
   "cell_type": "markdown",
   "id": "dad1fc4c-2849-4383-a5c5-13ab26ceb5e5",
   "metadata": {},
   "source": [
    "### 2. Load model machine learning - MANUALLY - HARDCODED"
   ]
  },
  {
   "cell_type": "code",
   "execution_count": 5,
   "id": "0bd2a455-958a-4cfb-873b-930ab99ebc8a",
   "metadata": {},
   "outputs": [
    {
     "data": {
      "text/html": [
       "<style>#sk-container-id-1 {color: black;}#sk-container-id-1 pre{padding: 0;}#sk-container-id-1 div.sk-toggleable {background-color: white;}#sk-container-id-1 label.sk-toggleable__label {cursor: pointer;display: block;width: 100%;margin-bottom: 0;padding: 0.3em;box-sizing: border-box;text-align: center;}#sk-container-id-1 label.sk-toggleable__label-arrow:before {content: \"▸\";float: left;margin-right: 0.25em;color: #696969;}#sk-container-id-1 label.sk-toggleable__label-arrow:hover:before {color: black;}#sk-container-id-1 div.sk-estimator:hover label.sk-toggleable__label-arrow:before {color: black;}#sk-container-id-1 div.sk-toggleable__content {max-height: 0;max-width: 0;overflow: hidden;text-align: left;background-color: #f0f8ff;}#sk-container-id-1 div.sk-toggleable__content pre {margin: 0.2em;color: black;border-radius: 0.25em;background-color: #f0f8ff;}#sk-container-id-1 input.sk-toggleable__control:checked~div.sk-toggleable__content {max-height: 200px;max-width: 100%;overflow: auto;}#sk-container-id-1 input.sk-toggleable__control:checked~label.sk-toggleable__label-arrow:before {content: \"▾\";}#sk-container-id-1 div.sk-estimator input.sk-toggleable__control:checked~label.sk-toggleable__label {background-color: #d4ebff;}#sk-container-id-1 div.sk-label input.sk-toggleable__control:checked~label.sk-toggleable__label {background-color: #d4ebff;}#sk-container-id-1 input.sk-hidden--visually {border: 0;clip: rect(1px 1px 1px 1px);clip: rect(1px, 1px, 1px, 1px);height: 1px;margin: -1px;overflow: hidden;padding: 0;position: absolute;width: 1px;}#sk-container-id-1 div.sk-estimator {font-family: monospace;background-color: #f0f8ff;border: 1px dotted black;border-radius: 0.25em;box-sizing: border-box;margin-bottom: 0.5em;}#sk-container-id-1 div.sk-estimator:hover {background-color: #d4ebff;}#sk-container-id-1 div.sk-parallel-item::after {content: \"\";width: 100%;border-bottom: 1px solid gray;flex-grow: 1;}#sk-container-id-1 div.sk-label:hover label.sk-toggleable__label {background-color: #d4ebff;}#sk-container-id-1 div.sk-serial::before {content: \"\";position: absolute;border-left: 1px solid gray;box-sizing: border-box;top: 0;bottom: 0;left: 50%;z-index: 0;}#sk-container-id-1 div.sk-serial {display: flex;flex-direction: column;align-items: center;background-color: white;padding-right: 0.2em;padding-left: 0.2em;position: relative;}#sk-container-id-1 div.sk-item {position: relative;z-index: 1;}#sk-container-id-1 div.sk-parallel {display: flex;align-items: stretch;justify-content: center;background-color: white;position: relative;}#sk-container-id-1 div.sk-item::before, #sk-container-id-1 div.sk-parallel-item::before {content: \"\";position: absolute;border-left: 1px solid gray;box-sizing: border-box;top: 0;bottom: 0;left: 50%;z-index: -1;}#sk-container-id-1 div.sk-parallel-item {display: flex;flex-direction: column;z-index: 1;position: relative;background-color: white;}#sk-container-id-1 div.sk-parallel-item:first-child::after {align-self: flex-end;width: 50%;}#sk-container-id-1 div.sk-parallel-item:last-child::after {align-self: flex-start;width: 50%;}#sk-container-id-1 div.sk-parallel-item:only-child::after {width: 0;}#sk-container-id-1 div.sk-dashed-wrapped {border: 1px dashed gray;margin: 0 0.4em 0.5em 0.4em;box-sizing: border-box;padding-bottom: 0.4em;background-color: white;}#sk-container-id-1 div.sk-label label {font-family: monospace;font-weight: bold;display: inline-block;line-height: 1.2em;}#sk-container-id-1 div.sk-label-container {text-align: center;}#sk-container-id-1 div.sk-container {/* jupyter's `normalize.less` sets `[hidden] { display: none; }` but bootstrap.min.css set `[hidden] { display: none !important; }` so we also need the `!important` here to be able to override the default hidden behavior on the sphinx rendered scikit-learn.org. See: https://github.com/scikit-learn/scikit-learn/issues/21755 */display: inline-block !important;position: relative;}#sk-container-id-1 div.sk-text-repr-fallback {display: none;}</style><div id=\"sk-container-id-1\" class=\"sk-top-container\"><div class=\"sk-text-repr-fallback\"><pre>Pipeline(steps=[(&#x27;poly_feature_2&#x27;, PolynomialFeatures()),\n",
       "                (&#x27;lr&#x27;, LinearRegression())])</pre><b>In a Jupyter environment, please rerun this cell to show the HTML representation or trust the notebook. <br />On GitHub, the HTML representation is unable to render, please try loading this page with nbviewer.org.</b></div><div class=\"sk-container\" hidden><div class=\"sk-item sk-dashed-wrapped\"><div class=\"sk-label-container\"><div class=\"sk-label sk-toggleable\"><input class=\"sk-toggleable__control sk-hidden--visually\" id=\"sk-estimator-id-1\" type=\"checkbox\" ><label for=\"sk-estimator-id-1\" class=\"sk-toggleable__label sk-toggleable__label-arrow\">Pipeline</label><div class=\"sk-toggleable__content\"><pre>Pipeline(steps=[(&#x27;poly_feature_2&#x27;, PolynomialFeatures()),\n",
       "                (&#x27;lr&#x27;, LinearRegression())])</pre></div></div></div><div class=\"sk-serial\"><div class=\"sk-item\"><div class=\"sk-estimator sk-toggleable\"><input class=\"sk-toggleable__control sk-hidden--visually\" id=\"sk-estimator-id-2\" type=\"checkbox\" ><label for=\"sk-estimator-id-2\" class=\"sk-toggleable__label sk-toggleable__label-arrow\">PolynomialFeatures</label><div class=\"sk-toggleable__content\"><pre>PolynomialFeatures()</pre></div></div></div><div class=\"sk-item\"><div class=\"sk-estimator sk-toggleable\"><input class=\"sk-toggleable__control sk-hidden--visually\" id=\"sk-estimator-id-3\" type=\"checkbox\" ><label for=\"sk-estimator-id-3\" class=\"sk-toggleable__label sk-toggleable__label-arrow\">LinearRegression</label><div class=\"sk-toggleable__content\"><pre>LinearRegression()</pre></div></div></div></div></div></div></div>"
      ],
      "text/plain": [
       "Pipeline(steps=[('poly_feature_2', PolynomialFeatures()),\n",
       "                ('lr', LinearRegression())])"
      ]
     },
     "execution_count": 5,
     "metadata": {},
     "output_type": "execute_result"
    }
   ],
   "source": [
    "######################## read model d0eop_microkappa ########################\n",
    "path_model_d0eop_microkappa = f'artifacts/models/d0eop_microkappa/lr.pkl'\n",
    "model_d0eop_microkappa = pd.read_pickle(path_model_d0eop_microkappa)\n",
    "model_d0eop_microkappa"
   ]
  },
  {
   "cell_type": "code",
   "execution_count": 6,
   "id": "20b49393-475b-4b45-9fcc-911ff09efc7a",
   "metadata": {},
   "outputs": [
    {
     "data": {
      "text/html": [
       "<style>#sk-container-id-2 {color: black;}#sk-container-id-2 pre{padding: 0;}#sk-container-id-2 div.sk-toggleable {background-color: white;}#sk-container-id-2 label.sk-toggleable__label {cursor: pointer;display: block;width: 100%;margin-bottom: 0;padding: 0.3em;box-sizing: border-box;text-align: center;}#sk-container-id-2 label.sk-toggleable__label-arrow:before {content: \"▸\";float: left;margin-right: 0.25em;color: #696969;}#sk-container-id-2 label.sk-toggleable__label-arrow:hover:before {color: black;}#sk-container-id-2 div.sk-estimator:hover label.sk-toggleable__label-arrow:before {color: black;}#sk-container-id-2 div.sk-toggleable__content {max-height: 0;max-width: 0;overflow: hidden;text-align: left;background-color: #f0f8ff;}#sk-container-id-2 div.sk-toggleable__content pre {margin: 0.2em;color: black;border-radius: 0.25em;background-color: #f0f8ff;}#sk-container-id-2 input.sk-toggleable__control:checked~div.sk-toggleable__content {max-height: 200px;max-width: 100%;overflow: auto;}#sk-container-id-2 input.sk-toggleable__control:checked~label.sk-toggleable__label-arrow:before {content: \"▾\";}#sk-container-id-2 div.sk-estimator input.sk-toggleable__control:checked~label.sk-toggleable__label {background-color: #d4ebff;}#sk-container-id-2 div.sk-label input.sk-toggleable__control:checked~label.sk-toggleable__label {background-color: #d4ebff;}#sk-container-id-2 input.sk-hidden--visually {border: 0;clip: rect(1px 1px 1px 1px);clip: rect(1px, 1px, 1px, 1px);height: 1px;margin: -1px;overflow: hidden;padding: 0;position: absolute;width: 1px;}#sk-container-id-2 div.sk-estimator {font-family: monospace;background-color: #f0f8ff;border: 1px dotted black;border-radius: 0.25em;box-sizing: border-box;margin-bottom: 0.5em;}#sk-container-id-2 div.sk-estimator:hover {background-color: #d4ebff;}#sk-container-id-2 div.sk-parallel-item::after {content: \"\";width: 100%;border-bottom: 1px solid gray;flex-grow: 1;}#sk-container-id-2 div.sk-label:hover label.sk-toggleable__label {background-color: #d4ebff;}#sk-container-id-2 div.sk-serial::before {content: \"\";position: absolute;border-left: 1px solid gray;box-sizing: border-box;top: 0;bottom: 0;left: 50%;z-index: 0;}#sk-container-id-2 div.sk-serial {display: flex;flex-direction: column;align-items: center;background-color: white;padding-right: 0.2em;padding-left: 0.2em;position: relative;}#sk-container-id-2 div.sk-item {position: relative;z-index: 1;}#sk-container-id-2 div.sk-parallel {display: flex;align-items: stretch;justify-content: center;background-color: white;position: relative;}#sk-container-id-2 div.sk-item::before, #sk-container-id-2 div.sk-parallel-item::before {content: \"\";position: absolute;border-left: 1px solid gray;box-sizing: border-box;top: 0;bottom: 0;left: 50%;z-index: -1;}#sk-container-id-2 div.sk-parallel-item {display: flex;flex-direction: column;z-index: 1;position: relative;background-color: white;}#sk-container-id-2 div.sk-parallel-item:first-child::after {align-self: flex-end;width: 50%;}#sk-container-id-2 div.sk-parallel-item:last-child::after {align-self: flex-start;width: 50%;}#sk-container-id-2 div.sk-parallel-item:only-child::after {width: 0;}#sk-container-id-2 div.sk-dashed-wrapped {border: 1px dashed gray;margin: 0 0.4em 0.5em 0.4em;box-sizing: border-box;padding-bottom: 0.4em;background-color: white;}#sk-container-id-2 div.sk-label label {font-family: monospace;font-weight: bold;display: inline-block;line-height: 1.2em;}#sk-container-id-2 div.sk-label-container {text-align: center;}#sk-container-id-2 div.sk-container {/* jupyter's `normalize.less` sets `[hidden] { display: none; }` but bootstrap.min.css set `[hidden] { display: none !important; }` so we also need the `!important` here to be able to override the default hidden behavior on the sphinx rendered scikit-learn.org. See: https://github.com/scikit-learn/scikit-learn/issues/21755 */display: inline-block !important;position: relative;}#sk-container-id-2 div.sk-text-repr-fallback {display: none;}</style><div id=\"sk-container-id-2\" class=\"sk-top-container\"><div class=\"sk-text-repr-fallback\"><pre>LinearRegression()</pre><b>In a Jupyter environment, please rerun this cell to show the HTML representation or trust the notebook. <br />On GitHub, the HTML representation is unable to render, please try loading this page with nbviewer.org.</b></div><div class=\"sk-container\" hidden><div class=\"sk-item\"><div class=\"sk-estimator sk-toggleable\"><input class=\"sk-toggleable__control sk-hidden--visually\" id=\"sk-estimator-id-4\" type=\"checkbox\" checked><label for=\"sk-estimator-id-4\" class=\"sk-toggleable__label sk-toggleable__label-arrow\">LinearRegression</label><div class=\"sk-toggleable__content\"><pre>LinearRegression()</pre></div></div></div></div></div>"
      ],
      "text/plain": [
       "LinearRegression()"
      ]
     },
     "execution_count": 6,
     "metadata": {},
     "output_type": "execute_result"
    }
   ],
   "source": [
    "######################## read model d1_brillo ########################\n",
    "path_model_d1_brillo = f'artifacts/models/d1_brillo/lr.pkl'\n",
    "model_d1_brillo = pd.read_pickle(path_model_d1_brillo)\n",
    "model_d1_brillo"
   ]
  },
  {
   "cell_type": "code",
   "execution_count": 7,
   "id": "3ef4e144-084f-4fd4-9144-152cdae04916",
   "metadata": {},
   "outputs": [
    {
     "data": {
      "text/html": [
       "<style>#sk-container-id-3 {color: black;}#sk-container-id-3 pre{padding: 0;}#sk-container-id-3 div.sk-toggleable {background-color: white;}#sk-container-id-3 label.sk-toggleable__label {cursor: pointer;display: block;width: 100%;margin-bottom: 0;padding: 0.3em;box-sizing: border-box;text-align: center;}#sk-container-id-3 label.sk-toggleable__label-arrow:before {content: \"▸\";float: left;margin-right: 0.25em;color: #696969;}#sk-container-id-3 label.sk-toggleable__label-arrow:hover:before {color: black;}#sk-container-id-3 div.sk-estimator:hover label.sk-toggleable__label-arrow:before {color: black;}#sk-container-id-3 div.sk-toggleable__content {max-height: 0;max-width: 0;overflow: hidden;text-align: left;background-color: #f0f8ff;}#sk-container-id-3 div.sk-toggleable__content pre {margin: 0.2em;color: black;border-radius: 0.25em;background-color: #f0f8ff;}#sk-container-id-3 input.sk-toggleable__control:checked~div.sk-toggleable__content {max-height: 200px;max-width: 100%;overflow: auto;}#sk-container-id-3 input.sk-toggleable__control:checked~label.sk-toggleable__label-arrow:before {content: \"▾\";}#sk-container-id-3 div.sk-estimator input.sk-toggleable__control:checked~label.sk-toggleable__label {background-color: #d4ebff;}#sk-container-id-3 div.sk-label input.sk-toggleable__control:checked~label.sk-toggleable__label {background-color: #d4ebff;}#sk-container-id-3 input.sk-hidden--visually {border: 0;clip: rect(1px 1px 1px 1px);clip: rect(1px, 1px, 1px, 1px);height: 1px;margin: -1px;overflow: hidden;padding: 0;position: absolute;width: 1px;}#sk-container-id-3 div.sk-estimator {font-family: monospace;background-color: #f0f8ff;border: 1px dotted black;border-radius: 0.25em;box-sizing: border-box;margin-bottom: 0.5em;}#sk-container-id-3 div.sk-estimator:hover {background-color: #d4ebff;}#sk-container-id-3 div.sk-parallel-item::after {content: \"\";width: 100%;border-bottom: 1px solid gray;flex-grow: 1;}#sk-container-id-3 div.sk-label:hover label.sk-toggleable__label {background-color: #d4ebff;}#sk-container-id-3 div.sk-serial::before {content: \"\";position: absolute;border-left: 1px solid gray;box-sizing: border-box;top: 0;bottom: 0;left: 50%;z-index: 0;}#sk-container-id-3 div.sk-serial {display: flex;flex-direction: column;align-items: center;background-color: white;padding-right: 0.2em;padding-left: 0.2em;position: relative;}#sk-container-id-3 div.sk-item {position: relative;z-index: 1;}#sk-container-id-3 div.sk-parallel {display: flex;align-items: stretch;justify-content: center;background-color: white;position: relative;}#sk-container-id-3 div.sk-item::before, #sk-container-id-3 div.sk-parallel-item::before {content: \"\";position: absolute;border-left: 1px solid gray;box-sizing: border-box;top: 0;bottom: 0;left: 50%;z-index: -1;}#sk-container-id-3 div.sk-parallel-item {display: flex;flex-direction: column;z-index: 1;position: relative;background-color: white;}#sk-container-id-3 div.sk-parallel-item:first-child::after {align-self: flex-end;width: 50%;}#sk-container-id-3 div.sk-parallel-item:last-child::after {align-self: flex-start;width: 50%;}#sk-container-id-3 div.sk-parallel-item:only-child::after {width: 0;}#sk-container-id-3 div.sk-dashed-wrapped {border: 1px dashed gray;margin: 0 0.4em 0.5em 0.4em;box-sizing: border-box;padding-bottom: 0.4em;background-color: white;}#sk-container-id-3 div.sk-label label {font-family: monospace;font-weight: bold;display: inline-block;line-height: 1.2em;}#sk-container-id-3 div.sk-label-container {text-align: center;}#sk-container-id-3 div.sk-container {/* jupyter's `normalize.less` sets `[hidden] { display: none; }` but bootstrap.min.css set `[hidden] { display: none !important; }` so we also need the `!important` here to be able to override the default hidden behavior on the sphinx rendered scikit-learn.org. See: https://github.com/scikit-learn/scikit-learn/issues/21755 */display: inline-block !important;position: relative;}#sk-container-id-3 div.sk-text-repr-fallback {display: none;}</style><div id=\"sk-container-id-3\" class=\"sk-top-container\"><div class=\"sk-text-repr-fallback\"><pre>Pipeline(steps=[(&#x27;poly_feature_2&#x27;, PolynomialFeatures()),\n",
       "                (&#x27;lr&#x27;, LinearRegression())])</pre><b>In a Jupyter environment, please rerun this cell to show the HTML representation or trust the notebook. <br />On GitHub, the HTML representation is unable to render, please try loading this page with nbviewer.org.</b></div><div class=\"sk-container\" hidden><div class=\"sk-item sk-dashed-wrapped\"><div class=\"sk-label-container\"><div class=\"sk-label sk-toggleable\"><input class=\"sk-toggleable__control sk-hidden--visually\" id=\"sk-estimator-id-5\" type=\"checkbox\" ><label for=\"sk-estimator-id-5\" class=\"sk-toggleable__label sk-toggleable__label-arrow\">Pipeline</label><div class=\"sk-toggleable__content\"><pre>Pipeline(steps=[(&#x27;poly_feature_2&#x27;, PolynomialFeatures()),\n",
       "                (&#x27;lr&#x27;, LinearRegression())])</pre></div></div></div><div class=\"sk-serial\"><div class=\"sk-item\"><div class=\"sk-estimator sk-toggleable\"><input class=\"sk-toggleable__control sk-hidden--visually\" id=\"sk-estimator-id-6\" type=\"checkbox\" ><label for=\"sk-estimator-id-6\" class=\"sk-toggleable__label sk-toggleable__label-arrow\">PolynomialFeatures</label><div class=\"sk-toggleable__content\"><pre>PolynomialFeatures()</pre></div></div></div><div class=\"sk-item\"><div class=\"sk-estimator sk-toggleable\"><input class=\"sk-toggleable__control sk-hidden--visually\" id=\"sk-estimator-id-7\" type=\"checkbox\" ><label for=\"sk-estimator-id-7\" class=\"sk-toggleable__label sk-toggleable__label-arrow\">LinearRegression</label><div class=\"sk-toggleable__content\"><pre>LinearRegression()</pre></div></div></div></div></div></div></div>"
      ],
      "text/plain": [
       "Pipeline(steps=[('poly_feature_2', PolynomialFeatures()),\n",
       "                ('lr', LinearRegression())])"
      ]
     },
     "execution_count": 7,
     "metadata": {},
     "output_type": "execute_result"
    }
   ],
   "source": [
    "######################## read model p_blancura ########################\n",
    "path_model_p_blancura = f'artifacts/models/p_blancura/lr.pkl'\n",
    "model_p_blancura = pd.read_pickle(path_model_p_blancura)\n",
    "model_p_blancura"
   ]
  },
  {
   "cell_type": "code",
   "execution_count": null,
   "id": "32c0edc4-eb75-420f-8e79-06bae2e2a742",
   "metadata": {},
   "outputs": [],
   "source": []
  },
  {
   "cell_type": "code",
   "execution_count": null,
   "id": "0f542c69-8f55-4c44-8204-8ddb7a9517db",
   "metadata": {},
   "outputs": [],
   "source": []
  },
  {
   "cell_type": "markdown",
   "id": "4e7ca182-cda4-4e96-a89e-99c2e0a55b4b",
   "metadata": {},
   "source": [
    "### 3. Define list of features and target for each model\n",
    "Load master table of configuration and load data"
   ]
  },
  {
   "cell_type": "code",
   "execution_count": 8,
   "id": "780fa65c-ef03-44a9-8006-93c749945269",
   "metadata": {},
   "outputs": [
    {
     "data": {
      "text/html": [
       "<div>\n",
       "<style scoped>\n",
       "    .dataframe tbody tr th:only-of-type {\n",
       "        vertical-align: middle;\n",
       "    }\n",
       "\n",
       "    .dataframe tbody tr th {\n",
       "        vertical-align: top;\n",
       "    }\n",
       "\n",
       "    .dataframe thead th {\n",
       "        text-align: right;\n",
       "    }\n",
       "</style>\n",
       "<table border=\"1\" class=\"dataframe\">\n",
       "  <thead>\n",
       "    <tr style=\"text-align: right;\">\n",
       "      <th></th>\n",
       "      <th>TAG</th>\n",
       "      <th>TAG_DESCRIPTION</th>\n",
       "      <th>DESCRIPCION</th>\n",
       "      <th>ETAPA</th>\n",
       "      <th>CLASIFICACION</th>\n",
       "      <th>USE_PREVIOUS_MODEL</th>\n",
       "      <th>USE_NEXT_MODEL</th>\n",
       "    </tr>\n",
       "  </thead>\n",
       "  <tbody>\n",
       "    <tr>\n",
       "      <th>0</th>\n",
       "      <td>calc_prod_d0</td>\n",
       "      <td>calc_prod_d0</td>\n",
       "      <td>Producción entrada D0 (prod entrada A dezplazada)</td>\n",
       "      <td>D0</td>\n",
       "      <td>NC</td>\n",
       "      <td>NaN</td>\n",
       "      <td>NaN</td>\n",
       "    </tr>\n",
       "    <tr>\n",
       "      <th>1</th>\n",
       "      <td>240AIC022.MEAS</td>\n",
       "      <td>ph_a</td>\n",
       "      <td>pH  entrada etapa Acida</td>\n",
       "      <td>A</td>\n",
       "      <td>NC</td>\n",
       "      <td>NaN</td>\n",
       "      <td>NaN</td>\n",
       "    </tr>\n",
       "    <tr>\n",
       "      <th>2</th>\n",
       "      <td>240AIT063B.PNT</td>\n",
       "      <td>brillo_d0</td>\n",
       "      <td>Brillo salida etapa A (entrada D0)</td>\n",
       "      <td>D0</td>\n",
       "      <td>NC</td>\n",
       "      <td>NaN</td>\n",
       "      <td>NaN</td>\n",
       "    </tr>\n",
       "    <tr>\n",
       "      <th>3</th>\n",
       "      <td>240AIT063A.PNT</td>\n",
       "      <td>kappa_d0</td>\n",
       "      <td>Kappa salida etapa A (entrada D0)</td>\n",
       "      <td>D0</td>\n",
       "      <td>NC</td>\n",
       "      <td>NaN</td>\n",
       "      <td>NaN</td>\n",
       "    </tr>\n",
       "    <tr>\n",
       "      <th>4</th>\n",
       "      <td>S276PER002</td>\n",
       "      <td>concentracion_clo2_d0</td>\n",
       "      <td>Concentración ClO2</td>\n",
       "      <td>D0</td>\n",
       "      <td>NC</td>\n",
       "      <td>NaN</td>\n",
       "      <td>NaN</td>\n",
       "    </tr>\n",
       "    <tr>\n",
       "      <th>5</th>\n",
       "      <td>SSTRIPPING015</td>\n",
       "      <td>dqo_evaporadores</td>\n",
       "      <td>DQO Evaporadores</td>\n",
       "      <td>D0</td>\n",
       "      <td>NC</td>\n",
       "      <td>NaN</td>\n",
       "      <td>NaN</td>\n",
       "    </tr>\n",
       "    <tr>\n",
       "      <th>6</th>\n",
       "      <td>240FY050.RO02</td>\n",
       "      <td>especifico_dioxido_d0</td>\n",
       "      <td>Específico ClO2</td>\n",
       "      <td>D0</td>\n",
       "      <td>C</td>\n",
       "      <td>NaN</td>\n",
       "      <td>NaN</td>\n",
       "    </tr>\n",
       "    <tr>\n",
       "      <th>7</th>\n",
       "      <td>240FY11PB.RO01</td>\n",
       "      <td>especifico_peroxido_eop</td>\n",
       "      <td>Esp. Peróxido</td>\n",
       "      <td>EOP</td>\n",
       "      <td>C</td>\n",
       "      <td>NaN</td>\n",
       "      <td>NaN</td>\n",
       "    </tr>\n",
       "    <tr>\n",
       "      <th>8</th>\n",
       "      <td>240FY118B.RO01</td>\n",
       "      <td>especifico_oxigeno_eop</td>\n",
       "      <td>Esp. Oxígeno</td>\n",
       "      <td>EOP</td>\n",
       "      <td>C</td>\n",
       "      <td>NaN</td>\n",
       "      <td>NaN</td>\n",
       "    </tr>\n",
       "    <tr>\n",
       "      <th>9</th>\n",
       "      <td>240FY107A.RO01</td>\n",
       "      <td>especifico_soda_eop</td>\n",
       "      <td>Esp. Soda EOP</td>\n",
       "      <td>EOP</td>\n",
       "      <td>C</td>\n",
       "      <td>NaN</td>\n",
       "      <td>NaN</td>\n",
       "    </tr>\n",
       "    <tr>\n",
       "      <th>10</th>\n",
       "      <td>240AIT225A.PNT</td>\n",
       "      <td>microkappa_d1</td>\n",
       "      <td>mKappa salida EOP (entrada D1 )</td>\n",
       "      <td>D1</td>\n",
       "      <td>R</td>\n",
       "      <td>NaN</td>\n",
       "      <td>NC - D1</td>\n",
       "    </tr>\n",
       "  </tbody>\n",
       "</table>\n",
       "</div>"
      ],
      "text/plain": [
       "               TAG          TAG_DESCRIPTION  \\\n",
       "0     calc_prod_d0             calc_prod_d0   \n",
       "1   240AIC022.MEAS                     ph_a   \n",
       "2   240AIT063B.PNT                brillo_d0   \n",
       "3   240AIT063A.PNT                 kappa_d0   \n",
       "4       S276PER002    concentracion_clo2_d0   \n",
       "5    SSTRIPPING015         dqo_evaporadores   \n",
       "6    240FY050.RO02    especifico_dioxido_d0   \n",
       "7   240FY11PB.RO01  especifico_peroxido_eop   \n",
       "8   240FY118B.RO01   especifico_oxigeno_eop   \n",
       "9   240FY107A.RO01      especifico_soda_eop   \n",
       "10  240AIT225A.PNT            microkappa_d1   \n",
       "\n",
       "                                          DESCRIPCION ETAPA CLASIFICACION  \\\n",
       "0   Producción entrada D0 (prod entrada A dezplazada)    D0            NC   \n",
       "1                             pH  entrada etapa Acida     A            NC   \n",
       "2                  Brillo salida etapa A (entrada D0)    D0            NC   \n",
       "3                   Kappa salida etapa A (entrada D0)    D0            NC   \n",
       "4                                  Concentración ClO2    D0            NC   \n",
       "5                                    DQO Evaporadores    D0            NC   \n",
       "6                                     Específico ClO2    D0             C   \n",
       "7                                       Esp. Peróxido   EOP             C   \n",
       "8                                       Esp. Oxígeno    EOP             C   \n",
       "9                                       Esp. Soda EOP   EOP             C   \n",
       "10                    mKappa salida EOP (entrada D1 )    D1             R   \n",
       "\n",
       "    USE_PREVIOUS_MODEL USE_NEXT_MODEL  \n",
       "0                  NaN            NaN  \n",
       "1                  NaN            NaN  \n",
       "2                  NaN            NaN  \n",
       "3                  NaN            NaN  \n",
       "4                  NaN            NaN  \n",
       "5                  NaN            NaN  \n",
       "6                  NaN            NaN  \n",
       "7                  NaN            NaN  \n",
       "8                  NaN            NaN  \n",
       "9                  NaN            NaN  \n",
       "10                 NaN        NC - D1  "
      ]
     },
     "execution_count": 8,
     "metadata": {},
     "output_type": "execute_result"
    }
   ],
   "source": [
    "######## MODEL: 'd0eop_microkappa' ########\n",
    "\n",
    "# read table master tag\n",
    "name_model = 'd0eop_microkappa'\n",
    "path_list_features_target_to_optimization = f'config/optimization_engine/ml_models/MaestroTags-{name_model}-general.xlsx'\n",
    "master_tags = pd.read_excel(path_list_features_target_to_optimization)\n",
    "\n",
    "# define lists: \"list_features\", \"list_features_controlables\", \"list_target\"\n",
    "list_features_d0eop_microkappa = master_tags[master_tags['CLASIFICACION']!= 'R']['TAG'].tolist()\n",
    "list_features_controlables_d0eop_microkappa = master_tags[master_tags['CLASIFICACION'] == 'C']['TAG'].tolist()\n",
    "list_target_d0eop_microkappa = master_tags[master_tags['CLASIFICACION'] == 'R']['TAG'].tolist()\n",
    "\n",
    "# print master tags\n",
    "master_tags"
   ]
  },
  {
   "cell_type": "code",
   "execution_count": 9,
   "id": "85dcfc58-de8f-4dab-9428-89bed48d4a3c",
   "metadata": {},
   "outputs": [
    {
     "data": {
      "text/html": [
       "<div>\n",
       "<style scoped>\n",
       "    .dataframe tbody tr th:only-of-type {\n",
       "        vertical-align: middle;\n",
       "    }\n",
       "\n",
       "    .dataframe tbody tr th {\n",
       "        vertical-align: top;\n",
       "    }\n",
       "\n",
       "    .dataframe thead th {\n",
       "        text-align: right;\n",
       "    }\n",
       "</style>\n",
       "<table border=\"1\" class=\"dataframe\">\n",
       "  <thead>\n",
       "    <tr style=\"text-align: right;\">\n",
       "      <th></th>\n",
       "      <th>TAG</th>\n",
       "      <th>TAG_DESCRIPTION</th>\n",
       "      <th>DESCRIPCION</th>\n",
       "      <th>ETAPA</th>\n",
       "      <th>CLASIFICACION</th>\n",
       "      <th>USE_PREVIOUS_MODEL</th>\n",
       "      <th>USE_NEXT_MODEL</th>\n",
       "    </tr>\n",
       "  </thead>\n",
       "  <tbody>\n",
       "    <tr>\n",
       "      <th>0</th>\n",
       "      <td>240FI108A.PNT</td>\n",
       "      <td>prod_bypass</td>\n",
       "      <td>Producción by pass</td>\n",
       "      <td>D1</td>\n",
       "      <td>NC</td>\n",
       "      <td>NaN</td>\n",
       "      <td>NaN</td>\n",
       "    </tr>\n",
       "    <tr>\n",
       "      <th>1</th>\n",
       "      <td>calc_prod_d1</td>\n",
       "      <td>calc_prod_d1</td>\n",
       "      <td>Producción entrada D1 (prod entrada A desplazada)</td>\n",
       "      <td>D1</td>\n",
       "      <td>NC</td>\n",
       "      <td>NaN</td>\n",
       "      <td>NaN</td>\n",
       "    </tr>\n",
       "    <tr>\n",
       "      <th>2</th>\n",
       "      <td>240AIT225A.PNT</td>\n",
       "      <td>microkappa_d1</td>\n",
       "      <td>mKappa salida EOP (entrada D1 )</td>\n",
       "      <td>D1</td>\n",
       "      <td>NC</td>\n",
       "      <td>R - D0EOP</td>\n",
       "      <td>NaN</td>\n",
       "    </tr>\n",
       "    <tr>\n",
       "      <th>3</th>\n",
       "      <td>240AIT225B.PNT</td>\n",
       "      <td>blancura_d1</td>\n",
       "      <td>Blancura salida EOP (entrada D1)</td>\n",
       "      <td>D1</td>\n",
       "      <td>NC</td>\n",
       "      <td>R - D0EOP</td>\n",
       "      <td>NaN</td>\n",
       "    </tr>\n",
       "    <tr>\n",
       "      <th>4</th>\n",
       "      <td>240TIT223.PNT</td>\n",
       "      <td>temperatura_d1</td>\n",
       "      <td>T° entrada D1</td>\n",
       "      <td>D1</td>\n",
       "      <td>NC</td>\n",
       "      <td>NaN</td>\n",
       "      <td>NaN</td>\n",
       "    </tr>\n",
       "    <tr>\n",
       "      <th>5</th>\n",
       "      <td>240FY218.RO02</td>\n",
       "      <td>especifico_dioxido_d1</td>\n",
       "      <td>Esp Dióxido</td>\n",
       "      <td>D1</td>\n",
       "      <td>C</td>\n",
       "      <td>NaN</td>\n",
       "      <td>NaN</td>\n",
       "    </tr>\n",
       "    <tr>\n",
       "      <th>6</th>\n",
       "      <td>240FY210A.RO01</td>\n",
       "      <td>especifico_acido_d1</td>\n",
       "      <td>Esp Acido</td>\n",
       "      <td>D1</td>\n",
       "      <td>C</td>\n",
       "      <td>NaN</td>\n",
       "      <td>NaN</td>\n",
       "    </tr>\n",
       "    <tr>\n",
       "      <th>7</th>\n",
       "      <td>240AIT322B.PNT</td>\n",
       "      <td>brillo_entrada_p</td>\n",
       "      <td>Brillo salida D1 (entrada P)</td>\n",
       "      <td>P</td>\n",
       "      <td>R</td>\n",
       "      <td>NaN</td>\n",
       "      <td>NC - P</td>\n",
       "    </tr>\n",
       "  </tbody>\n",
       "</table>\n",
       "</div>"
      ],
      "text/plain": [
       "              TAG        TAG_DESCRIPTION  \\\n",
       "0   240FI108A.PNT            prod_bypass   \n",
       "1    calc_prod_d1           calc_prod_d1   \n",
       "2  240AIT225A.PNT          microkappa_d1   \n",
       "3  240AIT225B.PNT            blancura_d1   \n",
       "4   240TIT223.PNT         temperatura_d1   \n",
       "5   240FY218.RO02  especifico_dioxido_d1   \n",
       "6  240FY210A.RO01    especifico_acido_d1   \n",
       "7  240AIT322B.PNT       brillo_entrada_p   \n",
       "\n",
       "                                         DESCRIPCION ETAPA CLASIFICACION  \\\n",
       "0                                 Producción by pass    D1            NC   \n",
       "1  Producción entrada D1 (prod entrada A desplazada)    D1            NC   \n",
       "2                    mKappa salida EOP (entrada D1 )    D1            NC   \n",
       "3                   Blancura salida EOP (entrada D1)    D1            NC   \n",
       "4                                      T° entrada D1    D1            NC   \n",
       "5                                        Esp Dióxido    D1             C   \n",
       "6                                          Esp Acido    D1             C   \n",
       "7                       Brillo salida D1 (entrada P)     P             R   \n",
       "\n",
       "  USE_PREVIOUS_MODEL USE_NEXT_MODEL  \n",
       "0                NaN            NaN  \n",
       "1                NaN            NaN  \n",
       "2          R - D0EOP            NaN  \n",
       "3          R - D0EOP            NaN  \n",
       "4                NaN            NaN  \n",
       "5                NaN            NaN  \n",
       "6                NaN            NaN  \n",
       "7                NaN         NC - P  "
      ]
     },
     "execution_count": 9,
     "metadata": {},
     "output_type": "execute_result"
    }
   ],
   "source": [
    "######## MODEL: 'd1_brillo' ########\n",
    "\n",
    "# read table master tag\n",
    "name_model = 'd1_brillo'\n",
    "path_list_features_target_to_optimization = f'config/optimization_engine/ml_models/MaestroTags-{name_model}-general.xlsx'\n",
    "master_tags = pd.read_excel(path_list_features_target_to_optimization)\n",
    "\n",
    "# define lists: \"list_features\", \"list_features_controlables\", \"list_target\"\n",
    "list_features_d1_brillo = master_tags[master_tags['CLASIFICACION']!= 'R']['TAG'].tolist()\n",
    "list_features_controlables_d1_brillo = master_tags[master_tags['CLASIFICACION'] == 'C']['TAG'].tolist()\n",
    "list_target_d1_brillo = master_tags[master_tags['CLASIFICACION'] == 'R']['TAG'].tolist()\n",
    "\n",
    "# print master tags\n",
    "master_tags"
   ]
  },
  {
   "cell_type": "code",
   "execution_count": 10,
   "id": "ee616e6a-79e3-4b43-8e1d-b46b7618396d",
   "metadata": {},
   "outputs": [
    {
     "data": {
      "text/html": [
       "<div>\n",
       "<style scoped>\n",
       "    .dataframe tbody tr th:only-of-type {\n",
       "        vertical-align: middle;\n",
       "    }\n",
       "\n",
       "    .dataframe tbody tr th {\n",
       "        vertical-align: top;\n",
       "    }\n",
       "\n",
       "    .dataframe thead th {\n",
       "        text-align: right;\n",
       "    }\n",
       "</style>\n",
       "<table border=\"1\" class=\"dataframe\">\n",
       "  <thead>\n",
       "    <tr style=\"text-align: right;\">\n",
       "      <th></th>\n",
       "      <th>TAG</th>\n",
       "      <th>TAG_DESCRIPTION</th>\n",
       "      <th>DESCRIPCION</th>\n",
       "      <th>ETAPA</th>\n",
       "      <th>CLASIFICACION</th>\n",
       "      <th>USE_PREVIOUS_MODEL</th>\n",
       "      <th>USE_NEXT_MODEL</th>\n",
       "    </tr>\n",
       "  </thead>\n",
       "  <tbody>\n",
       "    <tr>\n",
       "      <th>0</th>\n",
       "      <td>calc_prod_p</td>\n",
       "      <td>calc_prod_p</td>\n",
       "      <td>Producción entrada P (prod entrada A desplazada)</td>\n",
       "      <td>P</td>\n",
       "      <td>NC</td>\n",
       "      <td>NaN</td>\n",
       "      <td>NaN</td>\n",
       "    </tr>\n",
       "    <tr>\n",
       "      <th>1</th>\n",
       "      <td>240AIT322B.PNT</td>\n",
       "      <td>brillo_p</td>\n",
       "      <td>Brillo salida D1 (entrada P)</td>\n",
       "      <td>P</td>\n",
       "      <td>NC</td>\n",
       "      <td>R - D1</td>\n",
       "      <td>NaN</td>\n",
       "    </tr>\n",
       "    <tr>\n",
       "      <th>2</th>\n",
       "      <td>240AIC324.MEAS</td>\n",
       "      <td>ph_p</td>\n",
       "      <td>pH entrada P</td>\n",
       "      <td>P</td>\n",
       "      <td>NC</td>\n",
       "      <td>R - D1</td>\n",
       "      <td>NaN</td>\n",
       "    </tr>\n",
       "    <tr>\n",
       "      <th>3</th>\n",
       "      <td>240FY397.RO01</td>\n",
       "      <td>especifico_peroxido_p</td>\n",
       "      <td>Esp Peróxido P</td>\n",
       "      <td>P</td>\n",
       "      <td>C</td>\n",
       "      <td>NaN</td>\n",
       "      <td>NaN</td>\n",
       "    </tr>\n",
       "    <tr>\n",
       "      <th>4</th>\n",
       "      <td>240FY312.RO01</td>\n",
       "      <td>especifico_soda_p</td>\n",
       "      <td>Esp Soda</td>\n",
       "      <td>P</td>\n",
       "      <td>C</td>\n",
       "      <td>NaN</td>\n",
       "      <td>NaN</td>\n",
       "    </tr>\n",
       "    <tr>\n",
       "      <th>5</th>\n",
       "      <td>240FY430.RO01</td>\n",
       "      <td>especifico_acido_p</td>\n",
       "      <td>Esp Acido tac blanca</td>\n",
       "      <td>P</td>\n",
       "      <td>C</td>\n",
       "      <td>NaN</td>\n",
       "      <td>NaN</td>\n",
       "    </tr>\n",
       "    <tr>\n",
       "      <th>6</th>\n",
       "      <td>240AIT416B.PNT</td>\n",
       "      <td>blancura_salida_p</td>\n",
       "      <td>Blancura Salida P linea</td>\n",
       "      <td>TAC</td>\n",
       "      <td>R</td>\n",
       "      <td>NaN</td>\n",
       "      <td>NaN</td>\n",
       "    </tr>\n",
       "  </tbody>\n",
       "</table>\n",
       "</div>"
      ],
      "text/plain": [
       "              TAG        TAG_DESCRIPTION  \\\n",
       "0     calc_prod_p            calc_prod_p   \n",
       "1  240AIT322B.PNT               brillo_p   \n",
       "2  240AIC324.MEAS                   ph_p   \n",
       "3   240FY397.RO01  especifico_peroxido_p   \n",
       "4   240FY312.RO01      especifico_soda_p   \n",
       "5   240FY430.RO01     especifico_acido_p   \n",
       "6  240AIT416B.PNT      blancura_salida_p   \n",
       "\n",
       "                                        DESCRIPCION ETAPA CLASIFICACION  \\\n",
       "0  Producción entrada P (prod entrada A desplazada)     P            NC   \n",
       "1                      Brillo salida D1 (entrada P)     P            NC   \n",
       "2                                      pH entrada P     P            NC   \n",
       "3                                    Esp Peróxido P     P             C   \n",
       "4                                          Esp Soda     P             C   \n",
       "5                              Esp Acido tac blanca     P             C   \n",
       "6                           Blancura Salida P linea   TAC             R   \n",
       "\n",
       "  USE_PREVIOUS_MODEL  USE_NEXT_MODEL  \n",
       "0                NaN             NaN  \n",
       "1             R - D1             NaN  \n",
       "2             R - D1             NaN  \n",
       "3                NaN             NaN  \n",
       "4                NaN             NaN  \n",
       "5                NaN             NaN  \n",
       "6                NaN             NaN  "
      ]
     },
     "execution_count": 10,
     "metadata": {},
     "output_type": "execute_result"
    }
   ],
   "source": [
    "######## MODEL: 'p_blancura' ########\n",
    "\n",
    "# read table master tag\n",
    "name_model = 'p_blancura'\n",
    "path_list_features_target_to_optimization = f'config/optimization_engine/ml_models/MaestroTags-{name_model}-general.xlsx'\n",
    "master_tags = pd.read_excel(path_list_features_target_to_optimization)\n",
    "\n",
    "# define lists: \"list_features\", \"list_features_controlables\", \"list_target\"\n",
    "list_features_p_blancura = master_tags[master_tags['CLASIFICACION']!= 'R']['TAG'].tolist()\n",
    "list_features_controlables_p_blancura = master_tags[master_tags['CLASIFICACION'] == 'C']['TAG'].tolist()\n",
    "list_target_p_blancura = master_tags[master_tags['CLASIFICACION'] == 'R']['TAG'].tolist()\n",
    "\n",
    "# print master tags\n",
    "master_tags"
   ]
  },
  {
   "cell_type": "code",
   "execution_count": null,
   "id": "b9f16554-3924-4fc7-977c-cde5d3293dd3",
   "metadata": {},
   "outputs": [],
   "source": []
  },
  {
   "cell_type": "code",
   "execution_count": null,
   "id": "42a3e81f-d09c-4594-a2c9-bfbba578df46",
   "metadata": {},
   "outputs": [],
   "source": []
  },
  {
   "cell_type": "markdown",
   "id": "356f3aa5-bc0c-4723-92d4-e2e810d4ffaf",
   "metadata": {},
   "source": [
    "### 4. Load tables parameters for optimization - bounds"
   ]
  },
  {
   "cell_type": "code",
   "execution_count": 11,
   "id": "2c8c8833-4131-403f-b32e-02d1e2279b6a",
   "metadata": {},
   "outputs": [
    {
     "data": {
      "text/html": [
       "<div>\n",
       "<style scoped>\n",
       "    .dataframe tbody tr th:only-of-type {\n",
       "        vertical-align: middle;\n",
       "    }\n",
       "\n",
       "    .dataframe tbody tr th {\n",
       "        vertical-align: top;\n",
       "    }\n",
       "\n",
       "    .dataframe thead th {\n",
       "        text-align: right;\n",
       "    }\n",
       "</style>\n",
       "<table border=\"1\" class=\"dataframe\">\n",
       "  <thead>\n",
       "    <tr style=\"text-align: right;\">\n",
       "      <th></th>\n",
       "      <th>MODEL</th>\n",
       "      <th>TAG</th>\n",
       "      <th>TAG_DESCRIPTION</th>\n",
       "      <th>DESCRIPCION</th>\n",
       "      <th>MIN_VALUE</th>\n",
       "      <th>MAX_VALUE</th>\n",
       "    </tr>\n",
       "  </thead>\n",
       "  <tbody>\n",
       "    <tr>\n",
       "      <th>0</th>\n",
       "      <td>d0eop_microkappa</td>\n",
       "      <td>240FY050.RO02</td>\n",
       "      <td>especifico_dioxido_d0</td>\n",
       "      <td>Específico ClO2</td>\n",
       "      <td>2</td>\n",
       "      <td>11</td>\n",
       "    </tr>\n",
       "    <tr>\n",
       "      <th>1</th>\n",
       "      <td>d0eop_microkappa</td>\n",
       "      <td>240FY118B.RO01</td>\n",
       "      <td>especifico_oxigeno_eop</td>\n",
       "      <td>Esp. Oxígeno</td>\n",
       "      <td>0</td>\n",
       "      <td>2</td>\n",
       "    </tr>\n",
       "    <tr>\n",
       "      <th>2</th>\n",
       "      <td>d0eop_microkappa</td>\n",
       "      <td>240FY11PB.RO01</td>\n",
       "      <td>especifico_peroxido_eop</td>\n",
       "      <td>Esp. Peróxido</td>\n",
       "      <td>1</td>\n",
       "      <td>15</td>\n",
       "    </tr>\n",
       "    <tr>\n",
       "      <th>3</th>\n",
       "      <td>d0eop_microkappa</td>\n",
       "      <td>240FY107A.RO01</td>\n",
       "      <td>especifico_soda_eop</td>\n",
       "      <td>Esp. Soda EOP</td>\n",
       "      <td>4</td>\n",
       "      <td>20</td>\n",
       "    </tr>\n",
       "    <tr>\n",
       "      <th>4</th>\n",
       "      <td>d1_brillo</td>\n",
       "      <td>240FY218.RO02</td>\n",
       "      <td>especifico_dioxido_d1</td>\n",
       "      <td>Esp Dióxido</td>\n",
       "      <td>1</td>\n",
       "      <td>10</td>\n",
       "    </tr>\n",
       "    <tr>\n",
       "      <th>5</th>\n",
       "      <td>d1_brillo</td>\n",
       "      <td>240FY210A.RO01</td>\n",
       "      <td>especifico_acido_d1</td>\n",
       "      <td>Esp Acido</td>\n",
       "      <td>0</td>\n",
       "      <td>10</td>\n",
       "    </tr>\n",
       "    <tr>\n",
       "      <th>6</th>\n",
       "      <td>p_blancura</td>\n",
       "      <td>240FY312.RO01</td>\n",
       "      <td>especifico_soda_p</td>\n",
       "      <td>Esp Soda</td>\n",
       "      <td>0</td>\n",
       "      <td>10</td>\n",
       "    </tr>\n",
       "    <tr>\n",
       "      <th>7</th>\n",
       "      <td>p_blancura</td>\n",
       "      <td>240FY397.RO01</td>\n",
       "      <td>especifico_peroxido_p</td>\n",
       "      <td>Esp Peróxido P</td>\n",
       "      <td>0</td>\n",
       "      <td>10</td>\n",
       "    </tr>\n",
       "    <tr>\n",
       "      <th>8</th>\n",
       "      <td>p_blancura</td>\n",
       "      <td>240FY430.RO01</td>\n",
       "      <td>especifico_acido_p</td>\n",
       "      <td>Esp Acido tac blanca</td>\n",
       "      <td>0</td>\n",
       "      <td>10</td>\n",
       "    </tr>\n",
       "  </tbody>\n",
       "</table>\n",
       "</div>"
      ],
      "text/plain": [
       "              MODEL             TAG          TAG_DESCRIPTION  \\\n",
       "0  d0eop_microkappa   240FY050.RO02    especifico_dioxido_d0   \n",
       "1  d0eop_microkappa  240FY118B.RO01   especifico_oxigeno_eop   \n",
       "2  d0eop_microkappa  240FY11PB.RO01  especifico_peroxido_eop   \n",
       "3  d0eop_microkappa  240FY107A.RO01      especifico_soda_eop   \n",
       "4         d1_brillo   240FY218.RO02    especifico_dioxido_d1   \n",
       "5         d1_brillo  240FY210A.RO01      especifico_acido_d1   \n",
       "6        p_blancura   240FY312.RO01        especifico_soda_p   \n",
       "7        p_blancura   240FY397.RO01    especifico_peroxido_p   \n",
       "8        p_blancura   240FY430.RO01       especifico_acido_p   \n",
       "\n",
       "            DESCRIPCION  MIN_VALUE  MAX_VALUE  \n",
       "0       Específico ClO2          2         11  \n",
       "1         Esp. Oxígeno           0          2  \n",
       "2         Esp. Peróxido          1         15  \n",
       "3         Esp. Soda EOP          4         20  \n",
       "4           Esp Dióxido          1         10  \n",
       "5             Esp Acido          0         10  \n",
       "6              Esp Soda          0         10  \n",
       "7        Esp Peróxido P          0         10  \n",
       "8  Esp Acido tac blanca          0         10  "
      ]
     },
     "execution_count": 11,
     "metadata": {},
     "output_type": "execute_result"
    }
   ],
   "source": [
    "# load bounds of decision variables in optimization that also are FEATURES in machine learning models\n",
    "\n",
    "path_bounds_decision_var_features = 'config/optimization_engine/config_optimization/Bounds-DecisionVar-Features-x.xlsx'\n",
    "bounds_decision_var_features = pd.read_excel(path_bounds_decision_var_features)\n",
    "bounds_decision_var_features"
   ]
  },
  {
   "cell_type": "code",
   "execution_count": 12,
   "id": "6d854e26-d1f4-41f6-bd6a-9c35144208a7",
   "metadata": {},
   "outputs": [
    {
     "data": {
      "text/html": [
       "<div>\n",
       "<style scoped>\n",
       "    .dataframe tbody tr th:only-of-type {\n",
       "        vertical-align: middle;\n",
       "    }\n",
       "\n",
       "    .dataframe tbody tr th {\n",
       "        vertical-align: top;\n",
       "    }\n",
       "\n",
       "    .dataframe thead th {\n",
       "        text-align: right;\n",
       "    }\n",
       "</style>\n",
       "<table border=\"1\" class=\"dataframe\">\n",
       "  <thead>\n",
       "    <tr style=\"text-align: right;\">\n",
       "      <th></th>\n",
       "      <th>MODEL</th>\n",
       "      <th>TAG</th>\n",
       "      <th>TAG_DESCRIPTION</th>\n",
       "      <th>DESCRIPCION</th>\n",
       "      <th>MIN_VALUE</th>\n",
       "      <th>MAX_VALUE</th>\n",
       "    </tr>\n",
       "  </thead>\n",
       "  <tbody>\n",
       "    <tr>\n",
       "      <th>0</th>\n",
       "      <td>d0eop_microkappa</td>\n",
       "      <td>240AIT225A.PNT</td>\n",
       "      <td>microkappa_d1</td>\n",
       "      <td>mKappa salida EOP (entrada D1 )</td>\n",
       "      <td>1.9</td>\n",
       "      <td>2.4</td>\n",
       "    </tr>\n",
       "    <tr>\n",
       "      <th>1</th>\n",
       "      <td>d1_brillo</td>\n",
       "      <td>240AIT322B.PNT</td>\n",
       "      <td>brillo_entrada_p</td>\n",
       "      <td>Brillo salida D1 (entrada P)</td>\n",
       "      <td>89.2</td>\n",
       "      <td>100.0</td>\n",
       "    </tr>\n",
       "    <tr>\n",
       "      <th>2</th>\n",
       "      <td>p_blancura</td>\n",
       "      <td>240AIT416B.PNT</td>\n",
       "      <td>blancura_salida_p</td>\n",
       "      <td>Blancura Salida P linea</td>\n",
       "      <td>90.0</td>\n",
       "      <td>91.0</td>\n",
       "    </tr>\n",
       "  </tbody>\n",
       "</table>\n",
       "</div>"
      ],
      "text/plain": [
       "              MODEL             TAG    TAG_DESCRIPTION  \\\n",
       "0  d0eop_microkappa  240AIT225A.PNT      microkappa_d1   \n",
       "1         d1_brillo  240AIT322B.PNT   brillo_entrada_p   \n",
       "2        p_blancura  240AIT416B.PNT  blancura_salida_p   \n",
       "\n",
       "                       DESCRIPCION  MIN_VALUE  MAX_VALUE  \n",
       "0  mKappa salida EOP (entrada D1 )        1.9        2.4  \n",
       "1     Brillo salida D1 (entrada P)       89.2      100.0  \n",
       "2          Blancura Salida P linea       90.0       91.0  "
      ]
     },
     "execution_count": 12,
     "metadata": {},
     "output_type": "execute_result"
    }
   ],
   "source": [
    "# load bounds of decision variables in optimization that also are TARGETS in machine learning models\n",
    "# obs: the targets of one model are features in the next model. They are defined once\n",
    "\n",
    "path_bounds_decison_var_target = 'config/optimization_engine/config_optimization/Bounds-DecisionVar-Target-y.xlsx'\n",
    "bounds_decison_var_target = pd.read_excel(path_bounds_decison_var_target)\n",
    "bounds_decison_var_target"
   ]
  },
  {
   "cell_type": "code",
   "execution_count": 13,
   "id": "6068516d-6e20-4dbb-ac93-a2c7657ceb4e",
   "metadata": {},
   "outputs": [
    {
     "data": {
      "text/plain": [
       "1.9"
      ]
     },
     "execution_count": 13,
     "metadata": {},
     "output_type": "execute_result"
    }
   ],
   "source": [
    "bounds_decison_var_target[bounds_decison_var_target['TAG_DESCRIPTION'] == 'microkappa_d1']['MIN_VALUE'].values[0]"
   ]
  },
  {
   "cell_type": "code",
   "execution_count": null,
   "id": "ea615e52-57be-4df9-bc96-a0d3d4724fcb",
   "metadata": {},
   "outputs": [],
   "source": []
  },
  {
   "cell_type": "markdown",
   "id": "ac24172a-a3c7-4fae-be99-f418af04c5e7",
   "metadata": {},
   "source": [
    "### 5. Load Prices\n",
    "Parameters in Optimization"
   ]
  },
  {
   "cell_type": "code",
   "execution_count": 14,
   "id": "90b4752f-cd6e-4b5c-9928-ec3502154c62",
   "metadata": {},
   "outputs": [
    {
     "data": {
      "text/html": [
       "<div>\n",
       "<style scoped>\n",
       "    .dataframe tbody tr th:only-of-type {\n",
       "        vertical-align: middle;\n",
       "    }\n",
       "\n",
       "    .dataframe tbody tr th {\n",
       "        vertical-align: top;\n",
       "    }\n",
       "\n",
       "    .dataframe thead th {\n",
       "        text-align: right;\n",
       "    }\n",
       "</style>\n",
       "<table border=\"1\" class=\"dataframe\">\n",
       "  <thead>\n",
       "    <tr style=\"text-align: right;\">\n",
       "      <th></th>\n",
       "      <th>acido</th>\n",
       "      <th>peroxido</th>\n",
       "      <th>soda</th>\n",
       "      <th>oxigeno</th>\n",
       "      <th>dioxido</th>\n",
       "    </tr>\n",
       "  </thead>\n",
       "  <tbody>\n",
       "    <tr>\n",
       "      <th>0</th>\n",
       "      <td>0.275</td>\n",
       "      <td>0.698</td>\n",
       "      <td>0.655</td>\n",
       "      <td>0.092</td>\n",
       "      <td>1.4</td>\n",
       "    </tr>\n",
       "  </tbody>\n",
       "</table>\n",
       "</div>"
      ],
      "text/plain": [
       "   acido  peroxido   soda  oxigeno  dioxido\n",
       "0  0.275     0.698  0.655    0.092      1.4"
      ]
     },
     "execution_count": 14,
     "metadata": {},
     "output_type": "execute_result"
    }
   ],
   "source": [
    "path_prices = 'config/optimization_engine/config_optimization/price-chemicals.xlsx'\n",
    "prices = pd.read_excel(path_prices)\n",
    "prices"
   ]
  },
  {
   "cell_type": "code",
   "execution_count": null,
   "id": "7ce57a80-6acf-4c35-9f54-6ce9c06e0cb1",
   "metadata": {},
   "outputs": [],
   "source": []
  },
  {
   "cell_type": "code",
   "execution_count": null,
   "id": "d7d9d1f1-fee8-4288-b5fc-1be02c1bda94",
   "metadata": {},
   "outputs": [],
   "source": []
  },
  {
   "cell_type": "markdown",
   "id": "dec2d181-1424-455f-b7a1-2b35ad47fbfa",
   "metadata": {},
   "source": [
    "## RUN OPTIMIZATION"
   ]
  },
  {
   "cell_type": "markdown",
   "id": "03bcf94f-2240-4a7a-a6d4-76d869e86a19",
   "metadata": {},
   "source": [
    "### 0. Load transversal params - sets of optimization model\n",
    "Transversal all codes, not only this code. For example order in features in the data.\n",
    "\n",
    "Save the sets of optimization model as pandas index"
   ]
  },
  {
   "cell_type": "code",
   "execution_count": 15,
   "id": "10470f02-cb77-4655-ba50-278846141f50",
   "metadata": {},
   "outputs": [
    {
     "data": {
      "text/plain": [
       "Index(['bleaching'], dtype='object')"
      ]
     },
     "execution_count": 15,
     "metadata": {},
     "output_type": "execute_result"
    }
   ],
   "source": [
    "# define set to models. In this example there is a set with only one element\n",
    "list_bleaching = ['bleaching']\n",
    "index_bleaching = pd.Index(list_bleaching)\n",
    "index_bleaching"
   ]
  },
  {
   "cell_type": "code",
   "execution_count": null,
   "id": "c3f7bd84-3fd6-4fa3-a062-6f1954b52e15",
   "metadata": {},
   "outputs": [],
   "source": []
  },
  {
   "cell_type": "code",
   "execution_count": null,
   "id": "39afd60b-4b57-4787-b53e-ac03d869af21",
   "metadata": {},
   "outputs": [],
   "source": []
  },
  {
   "cell_type": "markdown",
   "id": "3857e7c6-5f08-4220-a4a3-571f29ee9ab1",
   "metadata": {},
   "source": [
    "### 1. Create guroby optimization model\n",
    "Documentation: https://www.gurobi.com/documentation/current/refman/py_model.html"
   ]
  },
  {
   "cell_type": "code",
   "execution_count": 16,
   "id": "d0be0947-0bd6-4f6b-8f12-a9bd8c2ca3ef",
   "metadata": {},
   "outputs": [
    {
     "name": "stdout",
     "output_type": "stream",
     "text": [
      "Restricted license - for non-production use only - expires 2025-11-24\n"
     ]
    }
   ],
   "source": [
    "# env = gp.Env(params=params)\n",
    "\n",
    "#Create the model within the Gurobi environment\n",
    "m = gp.Model(name = \"Bleaching Optimization v1\")"
   ]
  },
  {
   "cell_type": "code",
   "execution_count": null,
   "id": "bdd2ced3-f0fc-45cb-9937-e13280af8a48",
   "metadata": {},
   "outputs": [],
   "source": []
  },
  {
   "cell_type": "markdown",
   "id": "97dec9f4-559b-40dd-98a7-4e4e9fa29cf0",
   "metadata": {},
   "source": [
    "### 2. Upper bounds and lower bounds of decision variables"
   ]
  },
  {
   "cell_type": "code",
   "execution_count": null,
   "id": "8d1e1404-438a-4ec2-9d53-ad90e0015d79",
   "metadata": {},
   "outputs": [],
   "source": []
  },
  {
   "cell_type": "markdown",
   "id": "71476d65-cbb9-4c58-8fbf-48c6bc0a6bae",
   "metadata": {},
   "source": [
    "### 3. Input parameters of optimization model\n",
    "##### That are not decision variables either parameters of machine learning model)"
   ]
  },
  {
   "cell_type": "code",
   "execution_count": 17,
   "id": "349f1935-e96c-4b40-bc22-67c2de1e80ac",
   "metadata": {},
   "outputs": [
    {
     "data": {
      "text/html": [
       "<div>\n",
       "<style scoped>\n",
       "    .dataframe tbody tr th:only-of-type {\n",
       "        vertical-align: middle;\n",
       "    }\n",
       "\n",
       "    .dataframe tbody tr th {\n",
       "        vertical-align: top;\n",
       "    }\n",
       "\n",
       "    .dataframe thead th {\n",
       "        text-align: right;\n",
       "    }\n",
       "</style>\n",
       "<table border=\"1\" class=\"dataframe\">\n",
       "  <thead>\n",
       "    <tr style=\"text-align: right;\">\n",
       "      <th></th>\n",
       "      <th>acido</th>\n",
       "      <th>peroxido</th>\n",
       "      <th>soda</th>\n",
       "      <th>oxigeno</th>\n",
       "      <th>dioxido</th>\n",
       "    </tr>\n",
       "  </thead>\n",
       "  <tbody>\n",
       "    <tr>\n",
       "      <th>0</th>\n",
       "      <td>0.275</td>\n",
       "      <td>0.698</td>\n",
       "      <td>0.655</td>\n",
       "      <td>0.092</td>\n",
       "      <td>1.4</td>\n",
       "    </tr>\n",
       "  </tbody>\n",
       "</table>\n",
       "</div>"
      ],
      "text/plain": [
       "   acido  peroxido   soda  oxigeno  dioxido\n",
       "0  0.275     0.698  0.655    0.092      1.4"
      ]
     },
     "execution_count": 17,
     "metadata": {},
     "output_type": "execute_result"
    }
   ],
   "source": [
    "# price parameters\n",
    "prices"
   ]
  },
  {
   "cell_type": "code",
   "execution_count": null,
   "id": "fbc26f12-9f19-422a-9986-d0e2eeee1171",
   "metadata": {},
   "outputs": [],
   "source": []
  },
  {
   "cell_type": "markdown",
   "id": "c11376a0-0796-4e1c-9c56-5f89e6cbc283",
   "metadata": {},
   "source": [
    "### 4. Features input machine learning model fixed (that are not decision variables or parameters in optimization model)\n",
    "Define the features that are inputs of machine learning model that are not decision variables of optimization model (so this values doesn't change). And also, this features that are not parameters of optimization model, so this values are not used in the restrictions\n",
    "\n",
    "**Generar una instancia a partir de los datos para las feautures de los modelos de ML que no son variables de decisión ni targets. La instancia generada se hace a partir de los datos. Para este ejemplo se va a considerar la media**"
   ]
  },
  {
   "cell_type": "code",
   "execution_count": 18,
   "id": "ece4f27c-884c-4a82-b55b-2a334476c6c4",
   "metadata": {},
   "outputs": [
    {
     "data": {
      "text/html": [
       "<div>\n",
       "<style scoped>\n",
       "    .dataframe tbody tr th:only-of-type {\n",
       "        vertical-align: middle;\n",
       "    }\n",
       "\n",
       "    .dataframe tbody tr th {\n",
       "        vertical-align: top;\n",
       "    }\n",
       "\n",
       "    .dataframe thead th {\n",
       "        text-align: right;\n",
       "    }\n",
       "</style>\n",
       "<table border=\"1\" class=\"dataframe\">\n",
       "  <thead>\n",
       "    <tr style=\"text-align: right;\">\n",
       "      <th></th>\n",
       "      <th>SSTRIPPING015</th>\n",
       "      <th>240AIC022.MEAS</th>\n",
       "      <th>240AIT063B.PNT</th>\n",
       "      <th>calc_prod_d0</th>\n",
       "      <th>240AIT063A.PNT</th>\n",
       "      <th>S276PER002</th>\n",
       "    </tr>\n",
       "  </thead>\n",
       "  <tbody>\n",
       "    <tr>\n",
       "      <th>0</th>\n",
       "      <td>707.378644</td>\n",
       "      <td>2.938413</td>\n",
       "      <td>61.824864</td>\n",
       "      <td>3347.509416</td>\n",
       "      <td>6.349621</td>\n",
       "      <td>11.516687</td>\n",
       "    </tr>\n",
       "  </tbody>\n",
       "</table>\n",
       "</div>"
      ],
      "text/plain": [
       "   SSTRIPPING015  240AIC022.MEAS  240AIT063B.PNT  calc_prod_d0  \\\n",
       "0     707.378644        2.938413       61.824864   3347.509416   \n",
       "\n",
       "   240AIT063A.PNT  S276PER002  \n",
       "0        6.349621   11.516687  "
      ]
     },
     "execution_count": 18,
     "metadata": {},
     "output_type": "execute_result"
    }
   ],
   "source": [
    "######################## generate instance for model d0eop_microkappa ########################\n",
    "\n",
    "# list feature NC\n",
    "list_features_d0eop_microkappa_no_vc = list(set(list_features_d0eop_microkappa) - set(list_features_controlables_d0eop_microkappa))\n",
    "\n",
    "# generate dataframe with the mean\n",
    "instance_no_controlables_d0eop_microkappa = data[list_features_d0eop_microkappa_no_vc].mean().to_frame().T\n",
    "instance_no_controlables_d0eop_microkappa"
   ]
  },
  {
   "cell_type": "code",
   "execution_count": 19,
   "id": "f2c3a5cb-e718-4f55-8fc9-eb9557037801",
   "metadata": {},
   "outputs": [
    {
     "data": {
      "text/html": [
       "<div>\n",
       "<style scoped>\n",
       "    .dataframe tbody tr th:only-of-type {\n",
       "        vertical-align: middle;\n",
       "    }\n",
       "\n",
       "    .dataframe tbody tr th {\n",
       "        vertical-align: top;\n",
       "    }\n",
       "\n",
       "    .dataframe thead th {\n",
       "        text-align: right;\n",
       "    }\n",
       "</style>\n",
       "<table border=\"1\" class=\"dataframe\">\n",
       "  <thead>\n",
       "    <tr style=\"text-align: right;\">\n",
       "      <th></th>\n",
       "      <th>240AIT225B.PNT</th>\n",
       "      <th>240TIT223.PNT</th>\n",
       "      <th>calc_prod_d1</th>\n",
       "      <th>240FI108A.PNT</th>\n",
       "    </tr>\n",
       "  </thead>\n",
       "  <tbody>\n",
       "    <tr>\n",
       "      <th>0</th>\n",
       "      <td>85.050203</td>\n",
       "      <td>77.214156</td>\n",
       "      <td>3348.667487</td>\n",
       "      <td>169.548609</td>\n",
       "    </tr>\n",
       "  </tbody>\n",
       "</table>\n",
       "</div>"
      ],
      "text/plain": [
       "   240AIT225B.PNT  240TIT223.PNT  calc_prod_d1  240FI108A.PNT\n",
       "0       85.050203      77.214156   3348.667487     169.548609"
      ]
     },
     "execution_count": 19,
     "metadata": {},
     "output_type": "execute_result"
    }
   ],
   "source": [
    "######################## generate instance for model d1_brillo ########################\n",
    "\n",
    "# list features NC\n",
    "list_features_d1_brillo_no_vc = list(set(list_features_d1_brillo) - set(list_features_controlables_d1_brillo)) # substract vc d1_brillo\n",
    "list_features_d1_brillo_no_vc = list(set(list_features_d1_brillo_no_vc) - set(list_target_d0eop_microkappa))# substract target d0eop_microkappa\n",
    "\n",
    "# generate dataframe with the mean\n",
    "instance_no_controlables_d1_brillo = data[list_features_d1_brillo_no_vc].mean().to_frame().T\n",
    "instance_no_controlables_d1_brillo"
   ]
  },
  {
   "cell_type": "code",
   "execution_count": 20,
   "id": "9bd3c1ef-d232-477e-9b72-e5b7dcf62c27",
   "metadata": {},
   "outputs": [
    {
     "data": {
      "text/html": [
       "<div>\n",
       "<style scoped>\n",
       "    .dataframe tbody tr th:only-of-type {\n",
       "        vertical-align: middle;\n",
       "    }\n",
       "\n",
       "    .dataframe tbody tr th {\n",
       "        vertical-align: top;\n",
       "    }\n",
       "\n",
       "    .dataframe thead th {\n",
       "        text-align: right;\n",
       "    }\n",
       "</style>\n",
       "<table border=\"1\" class=\"dataframe\">\n",
       "  <thead>\n",
       "    <tr style=\"text-align: right;\">\n",
       "      <th></th>\n",
       "      <th>calc_prod_p</th>\n",
       "      <th>240AIC324.MEAS</th>\n",
       "    </tr>\n",
       "  </thead>\n",
       "  <tbody>\n",
       "    <tr>\n",
       "      <th>0</th>\n",
       "      <td>3347.782721</td>\n",
       "      <td>10.382128</td>\n",
       "    </tr>\n",
       "  </tbody>\n",
       "</table>\n",
       "</div>"
      ],
      "text/plain": [
       "   calc_prod_p  240AIC324.MEAS\n",
       "0  3347.782721       10.382128"
      ]
     },
     "execution_count": 20,
     "metadata": {},
     "output_type": "execute_result"
    }
   ],
   "source": [
    "######################## generate instance for model p_blancura ########################\n",
    "\n",
    "# list features NC\n",
    "list_features_p_blancura_no_vc = list(set(list_features_p_blancura) - set(list_features_controlables_p_blancura)) # substract vc p_blancura\n",
    "list_features_p_blancura_no_vc = list(set(list_features_p_blancura_no_vc) - set(list_target_d1_brillo))# substract target d1_brillo\n",
    "\n",
    "# generate dataframe with the mean\n",
    "instance_no_controlables_p_blancura = data[list_features_p_blancura_no_vc].mean().to_frame().T\n",
    "instance_no_controlables_p_blancura"
   ]
  },
  {
   "cell_type": "markdown",
   "id": "2bb0c10b-a341-468a-a8ce-a33e89f7174e",
   "metadata": {},
   "source": [
    "IMPORTANT: En los modelos de las etapas siguientes se deben borrar las features que son variables controlables (variables de decisión optimizador) y además los target de etapas previas que se vuelven variables no controlables de la etapa siguiente (ya que también son variables de decisión del optimizador)"
   ]
  },
  {
   "cell_type": "code",
   "execution_count": null,
   "id": "f27f2ed8-d4fe-4122-ae6c-02c6a518ccb2",
   "metadata": {},
   "outputs": [],
   "source": []
  },
  {
   "cell_type": "markdown",
   "id": "e03f732d-f128-461c-b30d-2f6908fbcbad",
   "metadata": {},
   "source": [
    "### 5. Decision variables of optimization model\n",
    "\n",
    "Let us now define the decision variables. In our model, we want to store the price and number of avocados allocated to each region. We also want variables that track how many avocados are predicted to be sold and how many are predicted to be wasted. \n",
    "\n",
    "All those variables are created using gurobipy-pandas, with the function `gppd.add_vars`. To use this function it is necessary to define:\n",
    "- model: optimization model of gurobi\n",
    "- index: pandas index. With this index it can defined the sets of the decision variables\n",
    "- name: name of the decision variable\n",
    "- Example: x = gppd.add_vars(model, index, name=\"x\")"
   ]
  },
  {
   "cell_type": "code",
   "execution_count": 21,
   "id": "c362a3d8-bd76-4af5-95ec-55cd7cca7c09",
   "metadata": {},
   "outputs": [],
   "source": [
    "######################## decision variables that are FEATURES in Machiine Learning Models ########################\n",
    "\n",
    "# model d0eop_microkappa\n",
    "especifico_dioxido_d0 = gppd.add_vars(m, index_bleaching, name = \"especifico_dioxido_d0\", \n",
    "                                      lb = bounds_decision_var_features[bounds_decision_var_features['TAG_DESCRIPTION'] == 'especifico_dioxido_d0']['MIN_VALUE'].values[0], \n",
    "                                      ub = bounds_decision_var_features[bounds_decision_var_features['TAG_DESCRIPTION'] == 'especifico_dioxido_d0']['MAX_VALUE'].values[0]\n",
    "                                     )\n",
    "\n",
    "especifico_oxigeno_eop = gppd.add_vars(m, index_bleaching, name = \"especifico_oxigeno_eop\", \n",
    "                                      lb = bounds_decision_var_features[bounds_decision_var_features['TAG_DESCRIPTION'] == 'especifico_oxigeno_eop']['MIN_VALUE'].values[0], \n",
    "                                      ub = bounds_decision_var_features[bounds_decision_var_features['TAG_DESCRIPTION'] == 'especifico_oxigeno_eop']['MAX_VALUE'].values[0]\n",
    "                                     )\n",
    "\n",
    "especifico_peroxido_eop = gppd.add_vars(m, index_bleaching, name = \"especifico_peroxido_eop\", \n",
    "                                      lb = bounds_decision_var_features[bounds_decision_var_features['TAG_DESCRIPTION'] == 'especifico_peroxido_eop']['MIN_VALUE'].values[0], \n",
    "                                      ub = bounds_decision_var_features[bounds_decision_var_features['TAG_DESCRIPTION'] == 'especifico_peroxido_eop']['MAX_VALUE'].values[0]\n",
    "                                     )\n",
    "\n",
    "especifico_soda_eop = gppd.add_vars(m, index_bleaching, name = \"especifico_soda_eop\", \n",
    "                                      lb = bounds_decision_var_features[bounds_decision_var_features['TAG_DESCRIPTION'] == 'especifico_soda_eop']['MIN_VALUE'].values[0], \n",
    "                                      ub = bounds_decision_var_features[bounds_decision_var_features['TAG_DESCRIPTION'] == 'especifico_soda_eop']['MAX_VALUE'].values[0]\n",
    "                                     )\n",
    "\n",
    "\n",
    "\n",
    "# model d1_brillo\n",
    "especifico_dioxido_d1 = gppd.add_vars(m, index_bleaching, name = \"especifico_dioxido_d1\", \n",
    "                                      lb = bounds_decision_var_features[bounds_decision_var_features['TAG_DESCRIPTION'] == 'especifico_dioxido_d1']['MIN_VALUE'].values[0], \n",
    "                                      ub = bounds_decision_var_features[bounds_decision_var_features['TAG_DESCRIPTION'] == 'especifico_dioxido_d1']['MAX_VALUE'].values[0]\n",
    "                                     )\n",
    "\n",
    "especifico_acido_d1 = gppd.add_vars(m, index_bleaching, name = \"especifico_acido_d1\", \n",
    "                                      lb = bounds_decision_var_features[bounds_decision_var_features['TAG_DESCRIPTION'] == 'especifico_acido_d1']['MIN_VALUE'].values[0], \n",
    "                                      ub = bounds_decision_var_features[bounds_decision_var_features['TAG_DESCRIPTION'] == 'especifico_acido_d1']['MAX_VALUE'].values[0]\n",
    "                                     )\n",
    "\n",
    "\n",
    "\n",
    "# model p_blancura\n",
    "especifico_soda_p = gppd.add_vars(m, index_bleaching, name = \"especifico_soda_p\", \n",
    "                                      lb = bounds_decision_var_features[bounds_decision_var_features['TAG_DESCRIPTION'] == 'especifico_soda_p']['MIN_VALUE'].values[0], \n",
    "                                      ub = bounds_decision_var_features[bounds_decision_var_features['TAG_DESCRIPTION'] == 'especifico_soda_p']['MAX_VALUE'].values[0]\n",
    "                                     )\n",
    "\n",
    "especifico_peroxido_p = gppd.add_vars(m, index_bleaching, name = \"especifico_peroxido_p\", \n",
    "                                      lb = bounds_decision_var_features[bounds_decision_var_features['TAG_DESCRIPTION'] == 'especifico_peroxido_p']['MIN_VALUE'].values[0], \n",
    "                                      ub = bounds_decision_var_features[bounds_decision_var_features['TAG_DESCRIPTION'] == 'especifico_peroxido_p']['MAX_VALUE'].values[0]\n",
    "                                     )\n",
    "\n",
    "especifico_acido_p = gppd.add_vars(m, index_bleaching, name = \"especifico_acido_p\", \n",
    "                                      lb = bounds_decision_var_features[bounds_decision_var_features['TAG_DESCRIPTION'] == 'especifico_acido_p']['MIN_VALUE'].values[0], \n",
    "                                      ub = bounds_decision_var_features[bounds_decision_var_features['TAG_DESCRIPTION'] == 'especifico_acido_p']['MAX_VALUE'].values[0]\n",
    "                                     )"
   ]
  },
  {
   "cell_type": "code",
   "execution_count": 22,
   "id": "0cf40168-8031-4120-b89a-66906cfe4821",
   "metadata": {},
   "outputs": [],
   "source": [
    "######################## decision variables that are TARGETS in Machiine Learning Models ########################\n",
    "\n",
    "# model d0eop_microkappa\n",
    "microkappa_d1 = gppd.add_vars(m, index_bleaching, name = \"microkappa_d1\", \n",
    "                                      lb = bounds_decison_var_target[bounds_decison_var_target['TAG_DESCRIPTION'] == 'microkappa_d1']['MIN_VALUE'].values[0], \n",
    "                                      ub = bounds_decison_var_target[bounds_decison_var_target['TAG_DESCRIPTION'] == 'microkappa_d1']['MAX_VALUE'].values[0]\n",
    "                                     )\n",
    "\n",
    "# model d1_brillo\n",
    "brillo_entrada_p = gppd.add_vars(m, index_bleaching, name = \"brillo_entrada_p\", \n",
    "                                      lb = bounds_decison_var_target[bounds_decison_var_target['TAG_DESCRIPTION'] == 'brillo_entrada_p']['MIN_VALUE'].values[0], \n",
    "                                      ub = bounds_decison_var_target[bounds_decison_var_target['TAG_DESCRIPTION'] == 'brillo_entrada_p']['MAX_VALUE'].values[0]\n",
    "                                     )\n",
    "# model p_blancura\n",
    "blancura_salida_p = gppd.add_vars(m, index_bleaching, name = \"blancura_salida_p\", \n",
    "                                      lb = bounds_decison_var_target[bounds_decison_var_target['TAG_DESCRIPTION'] == 'blancura_salida_p']['MIN_VALUE'].values[0], \n",
    "                                      ub = bounds_decison_var_target[bounds_decison_var_target['TAG_DESCRIPTION'] == 'blancura_salida_p']['MAX_VALUE'].values[0]\n",
    "                                     )"
   ]
  },
  {
   "cell_type": "code",
   "execution_count": null,
   "id": "211d78c7-3a62-4221-b08f-5bbded5fd332",
   "metadata": {},
   "outputs": [],
   "source": []
  },
  {
   "cell_type": "markdown",
   "id": "6455507f-2965-48c4-adb4-338b1b80e6f3",
   "metadata": {},
   "source": [
    "### 6. Constraints (constraints that are not generated by a ml model)"
   ]
  },
  {
   "cell_type": "code",
   "execution_count": 23,
   "id": "7982de2f-6bd2-488e-81f7-b31a2def09a3",
   "metadata": {},
   "outputs": [
    {
     "data": {
      "text/plain": [
       "<gurobi.Model Continuous instance Bleaching Optimization v1: 0 constrs, 0 vars, No parameter changes>"
      ]
     },
     "execution_count": 23,
     "metadata": {},
     "output_type": "execute_result"
    }
   ],
   "source": [
    "m"
   ]
  },
  {
   "cell_type": "code",
   "execution_count": 24,
   "id": "031a9e16-a317-483a-840f-de110b8433ad",
   "metadata": {},
   "outputs": [],
   "source": [
    "# update model\n",
    "m.update()"
   ]
  },
  {
   "cell_type": "markdown",
   "id": "d00c9c20-5457-4875-bb44-558c4e010ea4",
   "metadata": {},
   "source": [
    "### 7. Add constraints that are machine learning models\n",
    "To add constraints that have machine learning models it is necessary define a dataframe that are the instance of prediction (it has columns as gurobi decision variables) and then create the constraint in gurobi.\n",
    "\n",
    "In this example, where each region has its own model, the dataframe instance also needs to be defined indidually. For the decision variable that are defined in the set \"regions\" it is important filter the dataframe instance with the correct element of the set region\n",
    "\n",
    "**So, for each element in set region will be defined the instance dataframe and a constraint. Each region has it own model**Also, the instance has only one row, so now it is possible define a optimization model with set \"time\" and each row of the dataframe could be the instance of time t, t+1, t+2, etc\n",
    "\n",
    "\n",
    "**IMPORTANT: LOGICALLY, FOR THIS EXAMPLE, TO DEFINE THE CONSTRAINTS OF ML MODELS, A FOR COULD HAVE BEEN MADE IN THE SET \"REGIONS\" BUT IT WAS NOT DONE CONSCIOUSLY THINKING OF AN EXAMPLE IN WHICH RESTRICTIONS HAVE TO BE DEFINED IN DIFFERENT SETS**"
   ]
  },
  {
   "cell_type": "code",
   "execution_count": 25,
   "id": "f021829e-3c21-47eb-9d62-749a23496458",
   "metadata": {},
   "outputs": [
    {
     "data": {
      "text/plain": [
       "Index(['bleaching'], dtype='object')"
      ]
     },
     "execution_count": 25,
     "metadata": {},
     "output_type": "execute_result"
    }
   ],
   "source": [
    "## show list elements in sets\n",
    "index_bleaching"
   ]
  },
  {
   "cell_type": "markdown",
   "id": "554346ab-7750-4c04-b2cf-7487cfd389f6",
   "metadata": {},
   "source": [
    "#### 7.1 d0eop_microkappa"
   ]
  },
  {
   "cell_type": "code",
   "execution_count": 26,
   "id": "4ae2ac49-132c-4de7-a4d3-60e5b98fbc2c",
   "metadata": {},
   "outputs": [
    {
     "data": {
      "text/html": [
       "<div>\n",
       "<style scoped>\n",
       "    .dataframe tbody tr th:only-of-type {\n",
       "        vertical-align: middle;\n",
       "    }\n",
       "\n",
       "    .dataframe tbody tr th {\n",
       "        vertical-align: top;\n",
       "    }\n",
       "\n",
       "    .dataframe thead th {\n",
       "        text-align: right;\n",
       "    }\n",
       "</style>\n",
       "<table border=\"1\" class=\"dataframe\">\n",
       "  <thead>\n",
       "    <tr style=\"text-align: right;\">\n",
       "      <th></th>\n",
       "      <th>calc_prod_d0</th>\n",
       "      <th>240AIC022.MEAS</th>\n",
       "      <th>240AIT063B.PNT</th>\n",
       "      <th>240AIT063A.PNT</th>\n",
       "      <th>S276PER002</th>\n",
       "      <th>SSTRIPPING015</th>\n",
       "      <th>240FY050.RO02</th>\n",
       "      <th>240FY11PB.RO01</th>\n",
       "      <th>240FY118B.RO01</th>\n",
       "      <th>240FY107A.RO01</th>\n",
       "    </tr>\n",
       "  </thead>\n",
       "  <tbody>\n",
       "    <tr>\n",
       "      <th>bleaching</th>\n",
       "      <td>3347.509416</td>\n",
       "      <td>2.938413</td>\n",
       "      <td>61.824864</td>\n",
       "      <td>6.349621</td>\n",
       "      <td>11.516687</td>\n",
       "      <td>707.378644</td>\n",
       "      <td>&lt;gurobi.Var especifico_dioxido_d0[bleaching]&gt;</td>\n",
       "      <td>&lt;gurobi.Var especifico_oxigeno_eop[bleaching]&gt;</td>\n",
       "      <td>&lt;gurobi.Var especifico_peroxido_eop[bleaching]&gt;</td>\n",
       "      <td>&lt;gurobi.Var especifico_soda_eop[bleaching]&gt;</td>\n",
       "    </tr>\n",
       "  </tbody>\n",
       "</table>\n",
       "</div>"
      ],
      "text/plain": [
       "           calc_prod_d0  240AIC022.MEAS  240AIT063B.PNT  240AIT063A.PNT  \\\n",
       "bleaching   3347.509416        2.938413       61.824864        6.349621   \n",
       "\n",
       "           S276PER002  SSTRIPPING015  \\\n",
       "bleaching   11.516687     707.378644   \n",
       "\n",
       "                                           240FY050.RO02  \\\n",
       "bleaching  <gurobi.Var especifico_dioxido_d0[bleaching]>   \n",
       "\n",
       "                                           240FY11PB.RO01  \\\n",
       "bleaching  <gurobi.Var especifico_oxigeno_eop[bleaching]>   \n",
       "\n",
       "                                            240FY118B.RO01  \\\n",
       "bleaching  <gurobi.Var especifico_peroxido_eop[bleaching]>   \n",
       "\n",
       "                                        240FY107A.RO01  \n",
       "bleaching  <gurobi.Var especifico_soda_eop[bleaching]>  "
      ]
     },
     "execution_count": 26,
     "metadata": {},
     "output_type": "execute_result"
    }
   ],
   "source": [
    "######################## instance model d0eop_microkappa ########################\n",
    "\n",
    "# create instance with controlables variables. sorted according the list of features. ES MUY IMPORTANTE QUE ESTÉ ORDENADO LAS VARIABLES DE DECUISIÓN DE ACUERDO A LA LISTA DE FEATURES\n",
    "instance_controlables_d0eop_microkappa = pd.DataFrame([especifico_dioxido_d0, especifico_oxigeno_eop, especifico_peroxido_eop, especifico_soda_eop]).T\n",
    "instance_controlables_d0eop_microkappa.columns = list_features_controlables_d0eop_microkappa # rename columns\n",
    "instance_controlables_d0eop_microkappa.reset_index(inplace = True)\n",
    "instance_controlables_d0eop_microkappa.drop(columns = 'index', inplace = True)\n",
    "\n",
    "# append features controlables with no controlables\n",
    "instance_d0eop_microkappa = pd.concat([instance_no_controlables_d0eop_microkappa, instance_controlables_d0eop_microkappa], axis = 1)\n",
    "instance_d0eop_microkappa = instance_d0eop_microkappa[list_features_d0eop_microkappa] # sort features\n",
    "\n",
    "# set index - optimization set\n",
    "instance_d0eop_microkappa.index = index_bleaching\n",
    "\n",
    "instance_d0eop_microkappa"
   ]
  },
  {
   "cell_type": "code",
   "execution_count": 27,
   "id": "e5516e3f-dc2b-4d88-8967-6afa5fadc831",
   "metadata": {},
   "outputs": [],
   "source": [
    "# ##### DEBUGGING - SE PODRIA AGREGAR COMO UN ASSERT PARA ASEGURAR QUE LA INSTANCIA ESTÁ BIEN CREADA\n",
    "# # load intance example getting during train\n",
    "# name_model = 'd0eop_microkappa'\n",
    "# path_instance_d0eop_microkappa_example_train = f'config/optimization_engine/ml_models/{name_model}-example-input-model.xlsx'\n",
    "# instance_d0eop_microkappa_example_train = pd.read_excel(path_instance_d0eop_microkappa_example_train)\n",
    "# instance_d0eop_microkappa_example_train.set_index('datetime', inplace = True)\n",
    "# instance_d0eop_microkappa_example_train"
   ]
  },
  {
   "cell_type": "code",
   "execution_count": 28,
   "id": "3ce16bb1-6d83-46ce-a539-3883e6a3e3a1",
   "metadata": {},
   "outputs": [
    {
     "name": "stdout",
     "output_type": "stream",
     "text": [
      "Model for model_predict_d0eop_microkappa:\n",
      "72 variables\n",
      "1 constraints\n",
      "66 quadratic constraints\n",
      "Input has shape (1, 10)\n",
      "Output has shape (1, 1)\n",
      "\n",
      "Pipeline has 2 steps:\n",
      "\n",
      "--------------------------------------------------------------------------------\n",
      "Step            Output Shape    Variables              Constraints              \n",
      "                                                Linear    Quadratic      General\n",
      "================================================================================\n",
      "poly_feat            (1, 66)           72            0           66            0\n",
      "\n",
      "lin_reg               (1, 1)            0            1            0            0\n",
      "\n",
      "--------------------------------------------------------------------------------\n"
     ]
    }
   ],
   "source": [
    "###### load ml constraint ######\n",
    "pred_constr_d0eop_microkappa = add_predictor_constr(gp_model = m, \n",
    "                                   predictor = model_d0eop_microkappa, \n",
    "                                   input_vars = instance_d0eop_microkappa, \n",
    "                                   output_vars = microkappa_d1,\n",
    "                                   name = f'model_predict_d0eop_microkappa'\n",
    "                                  )\n",
    "pred_constr_d0eop_microkappa.print_stats()"
   ]
  },
  {
   "cell_type": "code",
   "execution_count": null,
   "id": "8efe1f77-5367-40bd-b345-ab45f4a3c8ff",
   "metadata": {},
   "outputs": [],
   "source": []
  },
  {
   "cell_type": "markdown",
   "id": "5e55d86d-092a-4dd5-8f56-06a805c48973",
   "metadata": {},
   "source": [
    "#### 7.2 d1_brillo"
   ]
  },
  {
   "cell_type": "code",
   "execution_count": 29,
   "id": "d78c2980-2496-45d2-a943-0fc2e77a383c",
   "metadata": {},
   "outputs": [
    {
     "data": {
      "text/html": [
       "<div>\n",
       "<style scoped>\n",
       "    .dataframe tbody tr th:only-of-type {\n",
       "        vertical-align: middle;\n",
       "    }\n",
       "\n",
       "    .dataframe tbody tr th {\n",
       "        vertical-align: top;\n",
       "    }\n",
       "\n",
       "    .dataframe thead th {\n",
       "        text-align: right;\n",
       "    }\n",
       "</style>\n",
       "<table border=\"1\" class=\"dataframe\">\n",
       "  <thead>\n",
       "    <tr style=\"text-align: right;\">\n",
       "      <th></th>\n",
       "      <th>240FI108A.PNT</th>\n",
       "      <th>calc_prod_d1</th>\n",
       "      <th>240AIT225A.PNT</th>\n",
       "      <th>240AIT225B.PNT</th>\n",
       "      <th>240TIT223.PNT</th>\n",
       "      <th>240FY218.RO02</th>\n",
       "      <th>240FY210A.RO01</th>\n",
       "    </tr>\n",
       "  </thead>\n",
       "  <tbody>\n",
       "    <tr>\n",
       "      <th>bleaching</th>\n",
       "      <td>169.548609</td>\n",
       "      <td>3348.667487</td>\n",
       "      <td>&lt;gurobi.Var microkappa_d1[bleaching]&gt;</td>\n",
       "      <td>85.050203</td>\n",
       "      <td>77.214156</td>\n",
       "      <td>&lt;gurobi.Var especifico_dioxido_d1[bleaching]&gt;</td>\n",
       "      <td>&lt;gurobi.Var especifico_acido_d1[bleaching]&gt;</td>\n",
       "    </tr>\n",
       "  </tbody>\n",
       "</table>\n",
       "</div>"
      ],
      "text/plain": [
       "           240FI108A.PNT  calc_prod_d1                         240AIT225A.PNT  \\\n",
       "bleaching     169.548609   3348.667487  <gurobi.Var microkappa_d1[bleaching]>   \n",
       "\n",
       "           240AIT225B.PNT  240TIT223.PNT  \\\n",
       "bleaching       85.050203      77.214156   \n",
       "\n",
       "                                           240FY218.RO02  \\\n",
       "bleaching  <gurobi.Var especifico_dioxido_d1[bleaching]>   \n",
       "\n",
       "                                        240FY210A.RO01  \n",
       "bleaching  <gurobi.Var especifico_acido_d1[bleaching]>  "
      ]
     },
     "execution_count": 29,
     "metadata": {},
     "output_type": "execute_result"
    }
   ],
   "source": [
    "# (reemplazar \"d0eop_microkappa\" por \"d1_brillo\")\n",
    "######################## instance model d1_brillo ########################\n",
    "\n",
    "# create instance with controlables variables. sorted according the list of features. ES MUY IMPORTANTE QUE ESTÉ ORDENADO LAS VARIABLES DE DECUISIÓN DE ACUERDO A LA LISTA DE FEATURES\n",
    "instance_controlables_d1_brillo = pd.DataFrame([especifico_dioxido_d1, especifico_acido_d1]).T # <---- change ---------<--------<--------\n",
    "instance_controlables_d1_brillo.columns = list_features_controlables_d1_brillo # rename columns\n",
    "instance_controlables_d1_brillo.reset_index(inplace = True)\n",
    "instance_controlables_d1_brillo.drop(columns = 'index', inplace = True)\n",
    "\n",
    "# create instance with target of previos model\n",
    "instance_previos_target_d1_brillo = pd.DataFrame([microkappa_d1]).T # <---- change ---------<--------<--------\n",
    "instance_previos_target_d1_brillo.columns  = list_target_d0eop_microkappa # rename columns\n",
    "instance_previos_target_d1_brillo.reset_index(inplace = True)\n",
    "instance_previos_target_d1_brillo.drop(columns = 'index', inplace = True)\n",
    "\n",
    "# append features controlables with no controlables\n",
    "instance_d1_brillo = pd.concat([instance_no_controlables_d1_brillo, instance_controlables_d1_brillo, instance_previos_target_d1_brillo], axis = 1)\n",
    "instance_d1_brillo = instance_d1_brillo[list_features_d1_brillo] # sort features\n",
    "\n",
    "# set index - optimization set\n",
    "instance_d1_brillo.index = index_bleaching\n",
    "\n",
    "instance_d1_brillo"
   ]
  },
  {
   "cell_type": "code",
   "execution_count": 30,
   "id": "8513c9c0-c82d-4aa6-bdf2-731f538751e7",
   "metadata": {},
   "outputs": [
    {
     "name": "stdout",
     "output_type": "stream",
     "text": [
      "Model for model_predict_d1_brillo:\n",
      "4 variables\n",
      "1 constraints\n",
      "Input has shape (1, 7)\n",
      "Output has shape (1, 1)\n"
     ]
    }
   ],
   "source": [
    "###### load ml constraint ######\n",
    "pred_constr_d1_brillo = add_predictor_constr(gp_model = m, \n",
    "                                   predictor = model_d1_brillo, \n",
    "                                   input_vars = instance_d1_brillo, \n",
    "                                   output_vars = brillo_entrada_p,\n",
    "                                   name = f'model_predict_d1_brillo'\n",
    "                                  )\n",
    "\n",
    "pred_constr_d1_brillo.print_stats()"
   ]
  },
  {
   "cell_type": "code",
   "execution_count": null,
   "id": "739bad78-8c80-4210-a965-0630cd0e664e",
   "metadata": {},
   "outputs": [],
   "source": []
  },
  {
   "cell_type": "markdown",
   "id": "3cfb2c28-dfc5-4be5-a420-df3359e862e0",
   "metadata": {},
   "source": [
    "#### 7.3 model p_blancura"
   ]
  },
  {
   "cell_type": "code",
   "execution_count": 31,
   "id": "3c6545ee-227c-45db-9476-0012b1862846",
   "metadata": {},
   "outputs": [
    {
     "data": {
      "text/html": [
       "<div>\n",
       "<style scoped>\n",
       "    .dataframe tbody tr th:only-of-type {\n",
       "        vertical-align: middle;\n",
       "    }\n",
       "\n",
       "    .dataframe tbody tr th {\n",
       "        vertical-align: top;\n",
       "    }\n",
       "\n",
       "    .dataframe thead th {\n",
       "        text-align: right;\n",
       "    }\n",
       "</style>\n",
       "<table border=\"1\" class=\"dataframe\">\n",
       "  <thead>\n",
       "    <tr style=\"text-align: right;\">\n",
       "      <th></th>\n",
       "      <th>calc_prod_p</th>\n",
       "      <th>240AIT322B.PNT</th>\n",
       "      <th>240AIC324.MEAS</th>\n",
       "      <th>240FY397.RO01</th>\n",
       "      <th>240FY312.RO01</th>\n",
       "      <th>240FY430.RO01</th>\n",
       "    </tr>\n",
       "  </thead>\n",
       "  <tbody>\n",
       "    <tr>\n",
       "      <th>bleaching</th>\n",
       "      <td>3347.782721</td>\n",
       "      <td>&lt;gurobi.Var brillo_entrada_p[bleaching]&gt;</td>\n",
       "      <td>10.382128</td>\n",
       "      <td>&lt;gurobi.Var especifico_soda_p[bleaching]&gt;</td>\n",
       "      <td>&lt;gurobi.Var especifico_peroxido_p[bleaching]&gt;</td>\n",
       "      <td>&lt;gurobi.Var especifico_acido_p[bleaching]&gt;</td>\n",
       "    </tr>\n",
       "  </tbody>\n",
       "</table>\n",
       "</div>"
      ],
      "text/plain": [
       "           calc_prod_p                            240AIT322B.PNT  \\\n",
       "bleaching  3347.782721  <gurobi.Var brillo_entrada_p[bleaching]>   \n",
       "\n",
       "           240AIC324.MEAS                              240FY397.RO01  \\\n",
       "bleaching       10.382128  <gurobi.Var especifico_soda_p[bleaching]>   \n",
       "\n",
       "                                           240FY312.RO01  \\\n",
       "bleaching  <gurobi.Var especifico_peroxido_p[bleaching]>   \n",
       "\n",
       "                                        240FY430.RO01  \n",
       "bleaching  <gurobi.Var especifico_acido_p[bleaching]>  "
      ]
     },
     "execution_count": 31,
     "metadata": {},
     "output_type": "execute_result"
    }
   ],
   "source": [
    "# (reemplazar \"d1_brillo\" por \"p_blancura\")\n",
    "######################## instance model p_blancura ########################\n",
    "\n",
    "# create instance with controlables variables. sorted according the list of features. ES MUY IMPORTANTE QUE ESTÉ ORDENADO LAS VARIABLES DE DECUISIÓN DE ACUERDO A LA LISTA DE FEATURES\n",
    "instance_controlables_p_blancura = pd.DataFrame([especifico_soda_p, especifico_peroxido_p, especifico_acido_p]).T # <---- change ---------<--------<--------\n",
    "instance_controlables_p_blancura.columns = list_features_controlables_p_blancura # rename columns\n",
    "instance_controlables_p_blancura.reset_index(inplace = True)\n",
    "instance_controlables_p_blancura.drop(columns = 'index', inplace = True)\n",
    "\n",
    "# create instance with target of previos model\n",
    "instance_previos_target_p_blancura = pd.DataFrame([brillo_entrada_p]).T # <---- change ---------<--------<--------\n",
    "instance_previos_target_p_blancura.columns  = list_target_d1_brillo # rename columns\n",
    "instance_previos_target_p_blancura.reset_index(inplace = True)\n",
    "instance_previos_target_p_blancura.drop(columns = 'index', inplace = True)\n",
    "\n",
    "# append features controlables with no controlables\n",
    "instance_p_blancura = pd.concat([instance_no_controlables_p_blancura, instance_controlables_p_blancura, instance_previos_target_p_blancura], axis = 1)\n",
    "instance_p_blancura = instance_p_blancura[list_features_p_blancura] # sort features\n",
    "\n",
    "# set index - optimization set\n",
    "instance_p_blancura.index = index_bleaching\n",
    "\n",
    "instance_p_blancura"
   ]
  },
  {
   "cell_type": "code",
   "execution_count": 32,
   "id": "b57bfc75-3015-47cd-b767-9d05590d652a",
   "metadata": {},
   "outputs": [
    {
     "name": "stdout",
     "output_type": "stream",
     "text": [
      "Model for model_predict_p_blancura:\n",
      "30 variables\n",
      "1 constraints\n",
      "28 quadratic constraints\n",
      "Input has shape (1, 6)\n",
      "Output has shape (1, 1)\n",
      "\n",
      "Pipeline has 2 steps:\n",
      "\n",
      "--------------------------------------------------------------------------------\n",
      "Step            Output Shape    Variables              Constraints              \n",
      "                                                Linear    Quadratic      General\n",
      "================================================================================\n",
      "poly_feat            (1, 28)           30            0           28            0\n",
      "\n",
      "lin_reg               (1, 1)            0            1            0            0\n",
      "\n",
      "--------------------------------------------------------------------------------\n"
     ]
    }
   ],
   "source": [
    "###### load ml constraint ######\n",
    "pred_constr_p_blancura = add_predictor_constr(gp_model = m, \n",
    "                                   predictor = model_p_blancura, \n",
    "                                   input_vars = instance_p_blancura, \n",
    "                                   output_vars = blancura_salida_p,\n",
    "                                   name = f'model_predict_p_blancura'\n",
    "                                  )\n",
    "\n",
    "pred_constr_p_blancura.print_stats()"
   ]
  },
  {
   "cell_type": "code",
   "execution_count": null,
   "id": "b49ad44e-06c8-4822-9160-affb4c998334",
   "metadata": {},
   "outputs": [],
   "source": []
  },
  {
   "cell_type": "code",
   "execution_count": null,
   "id": "062476d5-8324-47f4-85b8-dcb2f31f22f8",
   "metadata": {},
   "outputs": [],
   "source": []
  },
  {
   "cell_type": "markdown",
   "id": "2e102749-f327-4307-9608-43fb04c4ed3b",
   "metadata": {},
   "source": [
    "#### DOCUMENTATION GUROBI MACHINE LEARNING\n",
    "\n",
    "Call\n",
    "[add_predictor_constr](https://gurobi-machinelearning.readthedocs.io/en/stable/auto_generated/gurobi_ml.add_predictor_constr.html)\n",
    "to insert the constraints linking the features and the demand into the model `m`.\n",
    "\n",
    "It is important that you keep the columns in the order above, otherwise you will see an error. The columns must be in the same order as the training data.\n",
    "\n",
    "Obs: to add this constraints the way is little different and it is not neccesary call model.update()\n",
    "\n",
    "**Documentation - parameters**\n",
    "\n",
    "- gp_model (gurobipy model) – The gurobipy model where the predictor should be inserted.\n",
    "\n",
    "- predictor – The predictor to insert.\n",
    "\n",
    "- input_vars (mvar_array_like) – Decision variables used as input for predictor in gp_model.\n",
    "\n",
    "- output_vars (mvar_array_like, optional) – Decision variables used as output for predictor in gp_model."
   ]
  },
  {
   "cell_type": "code",
   "execution_count": null,
   "id": "41aad436-b673-4c07-a934-af91312691c2",
   "metadata": {},
   "outputs": [],
   "source": []
  },
  {
   "cell_type": "markdown",
   "id": "eae2618c-b69f-4c54-b63b-91ea6a0f6c56",
   "metadata": {},
   "source": [
    "### 8. Define Objetive Function\n",
    "The goal is to maximize the **net revenue**, which is the product of price and quantity, minus costs over all regions. This model assumes the purchase costs are fixed (since the amount $B$ is fixed) and are therefore not incorporated.\n",
    "\n",
    "\\begin{align} \\textrm{maximize} &  \\sum_{r}  (p_r * s_r - c_{waste} * u_r -\n",
    "c^r_{transport} * x_r)& \\end{align}"
   ]
  },
  {
   "cell_type": "code",
   "execution_count": 33,
   "id": "8c903f49-0303-4ee4-be41-858078a9c0a6",
   "metadata": {},
   "outputs": [],
   "source": [
    "# ######################## define variable of costs of each stage ########################\n",
    "costs_d0 = especifico_dioxido_d0*prices['dioxido'].values[0]\n",
    "costs_eop = especifico_soda_eop*prices['soda'].values[0] + especifico_peroxido_eop*prices['peroxido'].values[0] + especifico_oxigeno_eop*prices['oxigeno'].values[0]\n",
    "costs_d1 = especifico_acido_d1*prices['acido'].values[0] + especifico_dioxido_d1*prices['dioxido'].values[0]\n",
    "costs_p = especifico_acido_p*prices['acido'].values[0] + especifico_soda_p*prices['soda'].values[0] + especifico_peroxido_p*prices['peroxido'].values[0]"
   ]
  },
  {
   "cell_type": "code",
   "execution_count": 34,
   "id": "befdc727-9963-4242-b14b-e29e28508bad",
   "metadata": {},
   "outputs": [
    {
     "data": {
      "text/plain": [
       "bleaching    1.4 especifico_dioxido_d0[bleaching]\n",
       "Name: especifico_dioxido_d0, dtype: object"
      ]
     },
     "execution_count": 34,
     "metadata": {},
     "output_type": "execute_result"
    }
   ],
   "source": [
    "costs_d0"
   ]
  },
  {
   "cell_type": "code",
   "execution_count": 35,
   "id": "3f064e8c-27e3-4456-a2a3-2d5da87be3c5",
   "metadata": {},
   "outputs": [
    {
     "data": {
      "text/plain": [
       "<gurobi.LinExpr: 1.4 especifico_dioxido_d0[bleaching]>"
      ]
     },
     "execution_count": 35,
     "metadata": {},
     "output_type": "execute_result"
    }
   ],
   "source": [
    "costs_d0.sum()"
   ]
  },
  {
   "cell_type": "code",
   "execution_count": 36,
   "id": "51993c17-745d-405c-ac75-091c0017ecc8",
   "metadata": {},
   "outputs": [],
   "source": [
    "######################## set objetive minimize costs ########################\n",
    "\n",
    "# it is necesary define with .sum() to get a guroli linear expression\n",
    "m.setObjective(costs_d0.sum()+ costs_eop.sum() + costs_d1.sum() + costs_p.sum(),\n",
    "               gp.GRB.MAXIMIZE)"
   ]
  },
  {
   "cell_type": "code",
   "execution_count": null,
   "id": "cb95abac-c6f0-4885-915b-9c48b1c9859f",
   "metadata": {},
   "outputs": [],
   "source": []
  },
  {
   "cell_type": "code",
   "execution_count": null,
   "id": "6b02898c-4b8a-4db7-a689-57a3af81904f",
   "metadata": {},
   "outputs": [],
   "source": []
  },
  {
   "cell_type": "markdown",
   "id": "14bfbd7e-ff7a-48b6-8dab-5d5c8e832f8c",
   "metadata": {},
   "source": [
    "### 9. Solve optimization problem\n",
    "The objective is **quadratic** since we take the product of price and the predicted sales, both of which are variables. Maximizing a quadratic\n",
    "term is said to be **non-convex**, and we specify this by setting the value of the [Gurobi NonConvex\n",
    "parameter](https://www.gurobi.com/documentation/10.0/refman/nonconvex.html) to be $2$."
   ]
  },
  {
   "cell_type": "markdown",
   "id": "d35e6d5e-ee76-413e-a02b-6f45d14c382b",
   "metadata": {},
   "source": [
    "#### 9.1 Solve optimization problem"
   ]
  },
  {
   "cell_type": "code",
   "execution_count": 37,
   "id": "d524177d-48cd-4252-b31c-c19c4a03bb36",
   "metadata": {},
   "outputs": [
    {
     "name": "stdout",
     "output_type": "stream",
     "text": [
      "Gurobi Optimizer version 11.0.0 build v11.0.0rc2 (win64 - Windows 10.0 (19043.2))\n",
      "\n",
      "CPU model: Intel(R) Core(TM) i7-10750H CPU @ 2.60GHz, instruction set [SSE2|AVX|AVX2]\n",
      "Thread count: 6 physical cores, 12 logical processors, using up to 12 threads\n",
      "\n",
      "Optimize a model with 3 rows, 118 columns and 104 nonzeros\n",
      "Model fingerprint: 0x2717e8e3\n",
      "Model has 94 quadratic constraints\n",
      "Coefficient statistics:\n",
      "  Matrix range     [9e-09, 3e+01]\n",
      "  QMatrix range    [1e+00, 1e+00]\n",
      "  QLMatrix range   [1e+00, 1e+00]\n",
      "  Objective range  [9e-02, 1e+00]\n",
      "  Bounds range     [1e+00, 3e+03]\n",
      "  RHS range        [1e+01, 4e+02]\n",
      "  QRHS range       [1e+00, 1e+00]\n",
      "Presolve removed 0 rows and 46 columns\n",
      "\n",
      "Continuous model is non-convex -- solving as a MIP\n",
      "\n",
      "Presolve removed 0 rows and 86 columns\n",
      "Presolve time: 0.00s\n",
      "Presolved: 75 rows, 32 columns, 198 nonzeros\n",
      "Presolved model has 20 bilinear constraint(s)\n",
      "Variable types: 32 continuous, 0 integer (0 binary)\n",
      "Found heuristic solution: objective 56.8965416\n",
      "\n",
      "Root relaxation: objective 6.402051e+01, 34 iterations, 0.00 seconds (0.00 work units)\n",
      "\n",
      "    Nodes    |    Current Node    |     Objective Bounds      |     Work\n",
      " Expl Unexpl |  Obj  Depth IntInf | Incumbent    BestBd   Gap | It/Node Time\n",
      "\n",
      "     0     0   64.02051    0    9   56.89654   64.02051  12.5%     -    0s\n",
      "     0     0   60.93957    0    9   56.89654   60.93957  7.11%     -    0s\n",
      "     0     0   60.93947    0    9   56.89654   60.93947  7.11%     -    0s\n",
      "     0     0   60.93565    0    9   56.89654   60.93565  7.10%     -    0s\n",
      "     0     0   60.34862    0    8   56.89654   60.34862  6.07%     -    0s\n",
      "     0     0   60.33710    0    8   56.89654   60.33710  6.05%     -    0s\n",
      "     0     0   59.56515    0    8   56.89654   59.56515  4.69%     -    0s\n",
      "     0     0   59.49143    0    9   56.89654   59.49143  4.56%     -    0s\n",
      "     0     0   59.31710    0    9   56.89654   59.31710  4.25%     -    0s\n",
      "     0     0   58.93381    0   12   56.89654   58.93381  3.58%     -    0s\n",
      "     0     0   58.90596    0    9   56.89654   58.90596  3.53%     -    0s\n",
      "     0     0   58.73963    0    9   56.89654   58.73963  3.24%     -    0s\n",
      "     0     0   58.73630    0    9   56.89654   58.73630  3.23%     -    0s\n",
      "     0     0   58.73630    0    9   56.89654   58.73630  3.23%     -    0s\n",
      "     0     2   58.73630    0    9   56.89654   58.73630  3.23%     -    0s\n",
      "*   82    56               9      58.3804987   58.62574  0.42%   3.1    0s\n",
      "*   84    56              10      58.5692225   58.62574  0.10%   3.1    0s\n",
      "H  101    62                      58.5739947   58.62574  0.09%   2.8    0s\n",
      "*  107    72              12      58.5814363   58.62574  0.08%   2.9    0s\n",
      "*  129    92              15      58.5932578   58.62574  0.06%   2.7    0s\n",
      "*  131    92              16      58.5941532   58.62574  0.05%   2.7    0s\n",
      "*  158    66              17      58.5941692   58.62574  0.05%   2.5    0s\n",
      "*  254    97              13      58.5961188   58.62574  0.05%   2.0    0s\n",
      "*  293   109              16      58.5984394   58.62574  0.05%   1.9    0s\n",
      "*  331   109              22      58.5991047   58.62574  0.05%   1.8    0s\n",
      "*  380    92              24      58.5991215   58.61337  0.02%   1.7    0s\n",
      "*  391    92              23      58.5991218   58.61337  0.02%   1.7    0s\n",
      "*  396    92              22      58.5991236   58.61337  0.02%   1.7    0s\n",
      "*  398    92              23      58.5991401   58.61337  0.02%   1.7    0s\n",
      "*  430    52              17      58.5991505   58.61337  0.02%   1.6    0s\n",
      "*  432    52              17      58.5991711   58.61337  0.02%   1.6    0s\n",
      "*  434    52              18      58.5991715   58.61337  0.02%   1.6    0s\n",
      "*  440    52              18      58.5991848   58.61337  0.02%   1.6    0s\n",
      "*  441    52              18      58.5992153   58.61337  0.02%   1.6    0s\n",
      "*  447    52              19      58.5992646   58.61337  0.02%   1.6    0s\n",
      "*  452    52              20      58.5992735   58.61337  0.02%   1.6    0s\n",
      "*  537    33              23      58.5992757   58.60214  0.00%   1.5    0s\n",
      "*  543    33              22      58.5992765   58.60214  0.00%   1.5    0s\n",
      "\n",
      "Cutting planes:\n",
      "  RLT: 5\n",
      "  PSD: 3\n",
      "\n",
      "Explored 583 nodes (923 simplex iterations) in 0.44 seconds (0.02 work units)\n",
      "Thread count was 12 (of 12 available processors)\n",
      "\n",
      "Solution count 10: 58.5993 58.5993 58.5993 ... 58.5991\n",
      "\n",
      "Optimal solution found (tolerance 1.00e-04)\n",
      "Best objective 5.859927645406e+01, best bound 5.860213547375e+01, gap 0.0049%\n"
     ]
    }
   ],
   "source": [
    "# solve\n",
    "m.optimize()"
   ]
  },
  {
   "cell_type": "code",
   "execution_count": 38,
   "id": "9ae2eaf7-4195-4d5a-8917-cab6bb066be8",
   "metadata": {},
   "outputs": [
    {
     "data": {
      "text/plain": [
       "2"
      ]
     },
     "execution_count": 38,
     "metadata": {},
     "output_type": "execute_result"
    }
   ],
   "source": [
    "#### know the status of the model - 2 a optimal solution was founded\n",
    "# docu: https://www.gurobi.com/documentation/current/refman/optimization_status_codes.html#sec:StatusCodes\n",
    "m.Status"
   ]
  },
  {
   "cell_type": "code",
   "execution_count": null,
   "id": "5d4f53be-760d-444d-b01d-8a7daa75f0da",
   "metadata": {},
   "outputs": [],
   "source": []
  },
  {
   "cell_type": "code",
   "execution_count": null,
   "id": "795d5cc6-07e7-4c5a-9db2-cce34f92cbef",
   "metadata": {},
   "outputs": [],
   "source": []
  },
  {
   "cell_type": "markdown",
   "id": "35408af3-867e-42b7-8191-8b58e237205b",
   "metadata": {},
   "source": [
    "#### 9.2 Save optimal values in a dataframe\n",
    "To get the optimal values of decision variables it is neccesary call \"var.gppd.X\""
   ]
  },
  {
   "cell_type": "code",
   "execution_count": 39,
   "id": "65b34b2c-86a9-409b-b367-d3945290fb67",
   "metadata": {},
   "outputs": [],
   "source": [
    "######## create a dataframe with set as index\n",
    "solution = pd.DataFrame(index = index_bleaching)\n",
    "\n",
    "######################## save optimal values - features of models (only the features) ########################\n",
    "\n",
    "# model d0eop_microkappa\n",
    "solution[\"especifico_dioxido_d0\"] = especifico_dioxido_d0.gppd.X\n",
    "solution[\"especifico_oxigeno_eop\"] = especifico_oxigeno_eop.gppd.X\n",
    "solution[\"especifico_peroxido_eop\"] = especifico_peroxido_eop.gppd.X\n",
    "solution[\"especifico_soda_eop\"] = especifico_soda_eop.gppd.X\n",
    "\n",
    "# model d1_brillo\n",
    "solution[\"especifico_dioxido_d1\"] = especifico_dioxido_d1.gppd.X\n",
    "solution[\"especifico_acido_d1\"] = especifico_acido_d1.gppd.X\n",
    "\n",
    "# model p_blancura\n",
    "solution[\"especifico_soda_p\"] = especifico_soda_p.gppd.X\n",
    "solution[\"especifico_peroxido_p\"] = especifico_peroxido_p.gppd.X\n",
    "solution[\"especifico_acido_p\"] = especifico_acido_p.gppd.X\n",
    "\n",
    "\n",
    "######################## save optimal values - targets of models (some targets are features of the model of the next step) ########################\n",
    "solution[\"microkappa_d1\"] = microkappa_d1.gppd.X  # model d0eop_microkappa\n",
    "solution[\"brillo_entrada_p\"] = brillo_entrada_p.gppd.X  # model d1_brillo\n",
    "solution[\"blancura_salida_p\"] = blancura_salida_p.gppd.X  # model p_blancura\n",
    "\n",
    "\n",
    "######################## round values ########################\n",
    "solution = solution.round(3)\n",
    "\n",
    "\n",
    "######################## # get value objetive function ########################\n",
    "opt_cost = m.ObjVal"
   ]
  },
  {
   "cell_type": "code",
   "execution_count": 40,
   "id": "c542883a-f36d-4efb-a187-601c93760cf9",
   "metadata": {},
   "outputs": [
    {
     "name": "stdout",
     "output_type": "stream",
     "text": [
      "\n",
      " The optimal net revenue: $58.599276 K dolars\n"
     ]
    }
   ],
   "source": [
    "# show value objetive function\n",
    "print(\"\\n The optimal net revenue: $%f K dolars\" % opt_cost)"
   ]
  },
  {
   "cell_type": "code",
   "execution_count": 41,
   "id": "2f72543c-2194-4d7c-acf4-567924fa962c",
   "metadata": {},
   "outputs": [
    {
     "data": {
      "text/html": [
       "<div>\n",
       "<style scoped>\n",
       "    .dataframe tbody tr th:only-of-type {\n",
       "        vertical-align: middle;\n",
       "    }\n",
       "\n",
       "    .dataframe tbody tr th {\n",
       "        vertical-align: top;\n",
       "    }\n",
       "\n",
       "    .dataframe thead th {\n",
       "        text-align: right;\n",
       "    }\n",
       "</style>\n",
       "<table border=\"1\" class=\"dataframe\">\n",
       "  <thead>\n",
       "    <tr style=\"text-align: right;\">\n",
       "      <th></th>\n",
       "      <th>especifico_dioxido_d0</th>\n",
       "      <th>especifico_oxigeno_eop</th>\n",
       "      <th>especifico_peroxido_eop</th>\n",
       "      <th>especifico_soda_eop</th>\n",
       "      <th>especifico_dioxido_d1</th>\n",
       "      <th>especifico_acido_d1</th>\n",
       "      <th>especifico_soda_p</th>\n",
       "      <th>especifico_peroxido_p</th>\n",
       "      <th>especifico_acido_p</th>\n",
       "      <th>microkappa_d1</th>\n",
       "      <th>brillo_entrada_p</th>\n",
       "      <th>blancura_salida_p</th>\n",
       "    </tr>\n",
       "  </thead>\n",
       "  <tbody>\n",
       "    <tr>\n",
       "      <th>bleaching</th>\n",
       "      <td>11.0</td>\n",
       "      <td>2.0</td>\n",
       "      <td>1.558</td>\n",
       "      <td>20.0</td>\n",
       "      <td>10.0</td>\n",
       "      <td>10.0</td>\n",
       "      <td>5.441</td>\n",
       "      <td>10.0</td>\n",
       "      <td>5.579</td>\n",
       "      <td>1.9</td>\n",
       "      <td>90.615</td>\n",
       "      <td>90.0</td>\n",
       "    </tr>\n",
       "  </tbody>\n",
       "</table>\n",
       "</div>"
      ],
      "text/plain": [
       "           especifico_dioxido_d0  especifico_oxigeno_eop  \\\n",
       "bleaching                   11.0                     2.0   \n",
       "\n",
       "           especifico_peroxido_eop  especifico_soda_eop  \\\n",
       "bleaching                    1.558                 20.0   \n",
       "\n",
       "           especifico_dioxido_d1  especifico_acido_d1  especifico_soda_p  \\\n",
       "bleaching                   10.0                 10.0              5.441   \n",
       "\n",
       "           especifico_peroxido_p  especifico_acido_p  microkappa_d1  \\\n",
       "bleaching                   10.0               5.579            1.9   \n",
       "\n",
       "           brillo_entrada_p  blancura_salida_p  \n",
       "bleaching            90.615               90.0  "
      ]
     },
     "execution_count": 41,
     "metadata": {},
     "output_type": "execute_result"
    }
   ],
   "source": [
    "# show value decision variables\n",
    "solution"
   ]
  },
  {
   "cell_type": "markdown",
   "id": "11f207fe-ee4c-4a17-81c7-fd817fe5e6f6",
   "metadata": {},
   "source": [
    "We can also check the error in the estimate of the Gurobi solution for the regression model."
   ]
  },
  {
   "cell_type": "code",
   "execution_count": 42,
   "id": "02c1c2a3-5acd-4f78-bc23-ce45f71d909c",
   "metadata": {},
   "outputs": [
    {
     "name": "stdout",
     "output_type": "stream",
     "text": [
      "Maximum error in approximating the regression 7.12916e-09\n"
     ]
    }
   ],
   "source": [
    "print(\n",
    "    \"Maximum error in approximating the regression {:.6}\".format(\n",
    "        np.max(pred_constr_d0eop_microkappa.get_error())\n",
    "    )\n",
    ")"
   ]
  },
  {
   "cell_type": "code",
   "execution_count": 43,
   "id": "e4e43a54-74bf-4bf4-8fdc-5d2058cbf8aa",
   "metadata": {},
   "outputs": [
    {
     "name": "stdout",
     "output_type": "stream",
     "text": [
      "Maximum error in approximating the regression 0.0\n"
     ]
    }
   ],
   "source": [
    "print(\n",
    "    \"Maximum error in approximating the regression {:.6}\".format(\n",
    "        np.max(pred_constr_d1_brillo.get_error())\n",
    "    )\n",
    ")"
   ]
  },
  {
   "cell_type": "code",
   "execution_count": 44,
   "id": "45247822-4d24-4422-8633-9d203525c2a0",
   "metadata": {},
   "outputs": [
    {
     "name": "stdout",
     "output_type": "stream",
     "text": [
      "Maximum error in approximating the regression 2.73509e-07\n"
     ]
    }
   ],
   "source": [
    "print(\n",
    "    \"Maximum error in approximating the regression {:.6}\".format(\n",
    "        np.max(pred_constr_p_blancura.get_error())\n",
    "    )\n",
    ")"
   ]
  },
  {
   "cell_type": "code",
   "execution_count": 45,
   "id": "d5178463-0160-4445-a0b2-848b47f71cfe",
   "metadata": {},
   "outputs": [
    {
     "data": {
      "text/plain": [
       "[<gurobi.Constr model_predict_d0eop_microkappa.lin_reg.linreg[0,0]>,\n",
       " <gurobi.Constr model_predict_d1_brillo.linreg[0,0]>,\n",
       " <gurobi.Constr model_predict_p_blancura.lin_reg.linreg[0,0]>]"
      ]
     },
     "execution_count": 45,
     "metadata": {},
     "output_type": "execute_result"
    }
   ],
   "source": [
    "# show all constraints\n",
    "m.getConstrs()"
   ]
  },
  {
   "cell_type": "code",
   "execution_count": null,
   "id": "43c1b657-e0f2-48ca-ad6e-c314456e9789",
   "metadata": {},
   "outputs": [],
   "source": []
  },
  {
   "cell_type": "code",
   "execution_count": null,
   "id": "f2446088-9780-4f74-a022-132bc5df1941",
   "metadata": {},
   "outputs": [],
   "source": []
  },
  {
   "cell_type": "markdown",
   "id": "d4c4a8d7-2806-493a-8c3a-450a633a6cad",
   "metadata": {},
   "source": [
    "### TODO FALTANTES - IDEAS POR HACER PARA MEJORAR EL MODELO\n",
    "- Agregar restricciones de que el valor óptimo de las variables se puedan mover solamente un delta de un cierto valor que en estado es la condición actual. Para que no se recomienden cambios bruscos que no se puedan conseguir.\n",
    "- Parametrizar códigos y dejar en una función. Luego si no se encuentra una soluciónn óptima ir relajando las restricciones hasta tener una solución óptima (definir plan para relajar restricciones)\n",
    "- Agregar temporalidad. Que con el mismo modelo de machine learning se utilizen restricciones de variables de decisión que están definidos en un conjunto temporal"
   ]
  },
  {
   "cell_type": "code",
   "execution_count": null,
   "id": "046f981b-c656-4f94-8839-0a5ab9845cca",
   "metadata": {},
   "outputs": [],
   "source": []
  },
  {
   "cell_type": "markdown",
   "id": "6ff929f4-9e93-452b-8909-037f18e595d8",
   "metadata": {},
   "source": [
    "### TODO FALTANTES - TRANSVERSALES EN LOS CÓDIGOS\n",
    "- Las tablas de parámetros/tablas maestras/whatever que sean por modelo. O quizás tener una global. O quizás tener solo una global. No sé. Pensar. Probablemente tiene que ser por modelo (DONE)\n",
    "- Agregar el registro de experimentos de Vertex\n",
    "- Agregar los códigos de validación offline de los modelos de machine learning"
   ]
  },
  {
   "cell_type": "code",
   "execution_count": null,
   "id": "24265fc1-5b3e-4d12-b08e-a56517f778f8",
   "metadata": {},
   "outputs": [],
   "source": []
  }
 ],
 "metadata": {
  "kernelspec": {
   "display_name": "Python 3 (ipykernel)",
   "language": "python",
   "name": "python3"
  },
  "language_info": {
   "codemirror_mode": {
    "name": "ipython",
    "version": 3
   },
   "file_extension": ".py",
   "mimetype": "text/x-python",
   "name": "python",
   "nbconvert_exporter": "python",
   "pygments_lexer": "ipython3",
   "version": "3.10.12"
  }
 },
 "nbformat": 4,
 "nbformat_minor": 5
}
