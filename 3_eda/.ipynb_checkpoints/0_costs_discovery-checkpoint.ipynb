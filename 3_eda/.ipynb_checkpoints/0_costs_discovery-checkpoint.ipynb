{
 "cells": [
  {
   "cell_type": "markdown",
   "id": "c43faa4d-db0f-4cd3-a093-19438ecae397",
   "metadata": {},
   "source": [
    "# Cost Discovery\n",
    "Understand how to cost works and using which features"
   ]
  },
  {
   "cell_type": "markdown",
   "id": "b922bd84-6691-4e5a-92c9-dac5fd7dadbd",
   "metadata": {},
   "source": [
    "## Root folder and read env variables"
   ]
  },
  {
   "cell_type": "code",
   "execution_count": 1,
   "id": "b846b3c3-ef67-4a3c-8b9d-3b3796b61fb3",
   "metadata": {},
   "outputs": [
    {
     "name": "stdout",
     "output_type": "stream",
     "text": [
      "root path:  D:\\github-mi-repo\\Optimization-Industrial-Process\n"
     ]
    }
   ],
   "source": [
    "import os\n",
    "# fix root path to save outputs\n",
    "actual_path = os.path.abspath(os.getcwd())\n",
    "list_root_path = actual_path.split('\\\\')[:-1]\n",
    "root_path = '\\\\'.join(list_root_path)\n",
    "os.chdir(root_path)\n",
    "print('root path: ', root_path)"
   ]
  },
  {
   "cell_type": "code",
   "execution_count": 2,
   "id": "cd3c0576-ebc2-4df8-9bea-50f29844198a",
   "metadata": {},
   "outputs": [],
   "source": [
    "import os\n",
    "from dotenv import load_dotenv, find_dotenv # package used in jupyter notebook to read the variables in file .env\n",
    "\n",
    "\"\"\" get env variable from .env \"\"\"\n",
    "load_dotenv(find_dotenv())\n",
    "\n",
    "\"\"\" Read env variables and save it as python variable \"\"\"\n",
    "PROJECT_GCP = os.environ.get(\"PROJECT_GCP\", \"\")"
   ]
  },
  {
   "cell_type": "code",
   "execution_count": null,
   "id": "e2bab0f8-b9f4-4887-bd70-1790163eab22",
   "metadata": {},
   "outputs": [],
   "source": []
  },
  {
   "cell_type": "markdown",
   "id": "ddd36dbb-2fb7-4476-96ef-b1ef520e3133",
   "metadata": {},
   "source": [
    "## RUN"
   ]
  },
  {
   "cell_type": "code",
   "execution_count": 3,
   "id": "c29ac8e0",
   "metadata": {},
   "outputs": [],
   "source": [
    "import pandas as pd\n",
    "import numpy as np\n",
    "from google.cloud import bigquery\n",
    "import gcsfs\n",
    "import pickle"
   ]
  },
  {
   "cell_type": "code",
   "execution_count": 4,
   "id": "c30fb690",
   "metadata": {},
   "outputs": [
    {
     "name": "stderr",
     "output_type": "stream",
     "text": [
      "Updated property [core/project].\n"
     ]
    }
   ],
   "source": [
    "### desarrollo\n",
    "\n",
    "PROJECT_ID = PROJECT_GCP\n",
    "! gcloud config set project $PROJECT_ID"
   ]
  },
  {
   "cell_type": "code",
   "execution_count": null,
   "id": "330fcbba-795b-4620-9721-aaa3162bd344",
   "metadata": {},
   "outputs": [],
   "source": []
  },
  {
   "cell_type": "markdown",
   "id": "f42f283e-afc8-42bf-b79f-70dd9384f88a",
   "metadata": {},
   "source": [
    "### 1. Read data"
   ]
  },
  {
   "cell_type": "code",
   "execution_count": 5,
   "id": "3ccee55f",
   "metadata": {},
   "outputs": [
    {
     "data": {
      "text/html": [
       "<div>\n",
       "<style scoped>\n",
       "    .dataframe tbody tr th:only-of-type {\n",
       "        vertical-align: middle;\n",
       "    }\n",
       "\n",
       "    .dataframe tbody tr th {\n",
       "        vertical-align: top;\n",
       "    }\n",
       "\n",
       "    .dataframe thead th {\n",
       "        text-align: right;\n",
       "    }\n",
       "</style>\n",
       "<table border=\"1\" class=\"dataframe\">\n",
       "  <thead>\n",
       "    <tr style=\"text-align: right;\">\n",
       "      <th></th>\n",
       "      <th>230AIT446.PNT</th>\n",
       "      <th>240AIC022.MEAS</th>\n",
       "      <th>240AIC126.MEAS</th>\n",
       "      <th>240AIC224.MEAS</th>\n",
       "      <th>240AIC286.MEAS</th>\n",
       "      <th>240AIC324.MEAS</th>\n",
       "      <th>240AIC433.MEAS</th>\n",
       "      <th>240AIT063A.PNT</th>\n",
       "      <th>240AIT063B.PNT</th>\n",
       "      <th>240AIT225A.PNT</th>\n",
       "      <th>...</th>\n",
       "      <th>S240ALDP022</th>\n",
       "      <th>S240ALDP031</th>\n",
       "      <th>S240ALDP032</th>\n",
       "      <th>S276PER002</th>\n",
       "      <th>S2MAQUINAT07</th>\n",
       "      <th>S76ALE017</th>\n",
       "      <th>SSTRIPPING015</th>\n",
       "      <th>calc_prod_d0</th>\n",
       "      <th>calc_prod_d1</th>\n",
       "      <th>calc_prod_p</th>\n",
       "    </tr>\n",
       "    <tr>\n",
       "      <th>datetime</th>\n",
       "      <th></th>\n",
       "      <th></th>\n",
       "      <th></th>\n",
       "      <th></th>\n",
       "      <th></th>\n",
       "      <th></th>\n",
       "      <th></th>\n",
       "      <th></th>\n",
       "      <th></th>\n",
       "      <th></th>\n",
       "      <th></th>\n",
       "      <th></th>\n",
       "      <th></th>\n",
       "      <th></th>\n",
       "      <th></th>\n",
       "      <th></th>\n",
       "      <th></th>\n",
       "      <th></th>\n",
       "      <th></th>\n",
       "      <th></th>\n",
       "      <th></th>\n",
       "    </tr>\n",
       "  </thead>\n",
       "  <tbody>\n",
       "    <tr>\n",
       "      <th>2021-01-01 00:05:00</th>\n",
       "      <td>11.555040</td>\n",
       "      <td>2.983948</td>\n",
       "      <td>11.346645</td>\n",
       "      <td>4.413519</td>\n",
       "      <td>4.352375</td>\n",
       "      <td>10.441675</td>\n",
       "      <td>4.292521</td>\n",
       "      <td>5.869320</td>\n",
       "      <td>62.37495</td>\n",
       "      <td>1.837519</td>\n",
       "      <td>...</td>\n",
       "      <td>91.49</td>\n",
       "      <td>1.8</td>\n",
       "      <td>11.4</td>\n",
       "      <td>11.77</td>\n",
       "      <td>1.5712</td>\n",
       "      <td>173.6</td>\n",
       "      <td>964.0</td>\n",
       "      <td>3240.8635</td>\n",
       "      <td>3313.6215</td>\n",
       "      <td>3259.3745</td>\n",
       "    </tr>\n",
       "    <tr>\n",
       "      <th>2021-01-01 00:10:00</th>\n",
       "      <td>11.552320</td>\n",
       "      <td>3.015669</td>\n",
       "      <td>11.353215</td>\n",
       "      <td>4.413179</td>\n",
       "      <td>4.347186</td>\n",
       "      <td>10.432170</td>\n",
       "      <td>4.289684</td>\n",
       "      <td>5.869320</td>\n",
       "      <td>62.37495</td>\n",
       "      <td>1.814020</td>\n",
       "      <td>...</td>\n",
       "      <td>91.49</td>\n",
       "      <td>1.8</td>\n",
       "      <td>11.4</td>\n",
       "      <td>11.77</td>\n",
       "      <td>1.5712</td>\n",
       "      <td>173.6</td>\n",
       "      <td>964.0</td>\n",
       "      <td>3260.7475</td>\n",
       "      <td>3301.6920</td>\n",
       "      <td>3208.6785</td>\n",
       "    </tr>\n",
       "    <tr>\n",
       "      <th>2021-01-01 00:15:00</th>\n",
       "      <td>11.549955</td>\n",
       "      <td>3.018903</td>\n",
       "      <td>11.355525</td>\n",
       "      <td>4.408321</td>\n",
       "      <td>4.355828</td>\n",
       "      <td>10.410115</td>\n",
       "      <td>4.284427</td>\n",
       "      <td>5.869320</td>\n",
       "      <td>62.37495</td>\n",
       "      <td>1.814020</td>\n",
       "      <td>...</td>\n",
       "      <td>91.49</td>\n",
       "      <td>1.8</td>\n",
       "      <td>11.4</td>\n",
       "      <td>11.77</td>\n",
       "      <td>1.5712</td>\n",
       "      <td>173.6</td>\n",
       "      <td>964.0</td>\n",
       "      <td>3265.5765</td>\n",
       "      <td>3284.1330</td>\n",
       "      <td>3210.7790</td>\n",
       "    </tr>\n",
       "    <tr>\n",
       "      <th>2021-01-01 00:20:00</th>\n",
       "      <td>11.547145</td>\n",
       "      <td>3.001164</td>\n",
       "      <td>11.326725</td>\n",
       "      <td>4.408659</td>\n",
       "      <td>4.361292</td>\n",
       "      <td>10.379145</td>\n",
       "      <td>4.285478</td>\n",
       "      <td>5.835750</td>\n",
       "      <td>62.37495</td>\n",
       "      <td>1.814020</td>\n",
       "      <td>...</td>\n",
       "      <td>91.49</td>\n",
       "      <td>1.7</td>\n",
       "      <td>11.3</td>\n",
       "      <td>11.77</td>\n",
       "      <td>1.5712</td>\n",
       "      <td>173.6</td>\n",
       "      <td>964.0</td>\n",
       "      <td>3253.7750</td>\n",
       "      <td>3271.9260</td>\n",
       "      <td>3221.7745</td>\n",
       "    </tr>\n",
       "    <tr>\n",
       "      <th>2021-01-01 00:25:00</th>\n",
       "      <td>11.543160</td>\n",
       "      <td>3.017393</td>\n",
       "      <td>11.336345</td>\n",
       "      <td>4.408596</td>\n",
       "      <td>4.356374</td>\n",
       "      <td>10.387205</td>\n",
       "      <td>4.304148</td>\n",
       "      <td>5.802179</td>\n",
       "      <td>62.37495</td>\n",
       "      <td>1.814020</td>\n",
       "      <td>...</td>\n",
       "      <td>91.49</td>\n",
       "      <td>1.6</td>\n",
       "      <td>11.2</td>\n",
       "      <td>11.77</td>\n",
       "      <td>1.5712</td>\n",
       "      <td>173.6</td>\n",
       "      <td>964.0</td>\n",
       "      <td>3236.9790</td>\n",
       "      <td>3267.3050</td>\n",
       "      <td>3227.6935</td>\n",
       "    </tr>\n",
       "  </tbody>\n",
       "</table>\n",
       "<p>5 rows × 64 columns</p>\n",
       "</div>"
      ],
      "text/plain": [
       "                     230AIT446.PNT  240AIC022.MEAS  240AIC126.MEAS  \\\n",
       "datetime                                                             \n",
       "2021-01-01 00:05:00      11.555040        2.983948       11.346645   \n",
       "2021-01-01 00:10:00      11.552320        3.015669       11.353215   \n",
       "2021-01-01 00:15:00      11.549955        3.018903       11.355525   \n",
       "2021-01-01 00:20:00      11.547145        3.001164       11.326725   \n",
       "2021-01-01 00:25:00      11.543160        3.017393       11.336345   \n",
       "\n",
       "                     240AIC224.MEAS  240AIC286.MEAS  240AIC324.MEAS  \\\n",
       "datetime                                                              \n",
       "2021-01-01 00:05:00        4.413519        4.352375       10.441675   \n",
       "2021-01-01 00:10:00        4.413179        4.347186       10.432170   \n",
       "2021-01-01 00:15:00        4.408321        4.355828       10.410115   \n",
       "2021-01-01 00:20:00        4.408659        4.361292       10.379145   \n",
       "2021-01-01 00:25:00        4.408596        4.356374       10.387205   \n",
       "\n",
       "                     240AIC433.MEAS  240AIT063A.PNT  240AIT063B.PNT  \\\n",
       "datetime                                                              \n",
       "2021-01-01 00:05:00        4.292521        5.869320        62.37495   \n",
       "2021-01-01 00:10:00        4.289684        5.869320        62.37495   \n",
       "2021-01-01 00:15:00        4.284427        5.869320        62.37495   \n",
       "2021-01-01 00:20:00        4.285478        5.835750        62.37495   \n",
       "2021-01-01 00:25:00        4.304148        5.802179        62.37495   \n",
       "\n",
       "                     240AIT225A.PNT  ...  S240ALDP022  S240ALDP031  \\\n",
       "datetime                             ...                             \n",
       "2021-01-01 00:05:00        1.837519  ...        91.49          1.8   \n",
       "2021-01-01 00:10:00        1.814020  ...        91.49          1.8   \n",
       "2021-01-01 00:15:00        1.814020  ...        91.49          1.8   \n",
       "2021-01-01 00:20:00        1.814020  ...        91.49          1.7   \n",
       "2021-01-01 00:25:00        1.814020  ...        91.49          1.6   \n",
       "\n",
       "                     S240ALDP032  S276PER002  S2MAQUINAT07  S76ALE017  \\\n",
       "datetime                                                                \n",
       "2021-01-01 00:05:00         11.4       11.77        1.5712      173.6   \n",
       "2021-01-01 00:10:00         11.4       11.77        1.5712      173.6   \n",
       "2021-01-01 00:15:00         11.4       11.77        1.5712      173.6   \n",
       "2021-01-01 00:20:00         11.3       11.77        1.5712      173.6   \n",
       "2021-01-01 00:25:00         11.2       11.77        1.5712      173.6   \n",
       "\n",
       "                     SSTRIPPING015  calc_prod_d0  calc_prod_d1  calc_prod_p  \n",
       "datetime                                                                     \n",
       "2021-01-01 00:05:00          964.0     3240.8635     3313.6215    3259.3745  \n",
       "2021-01-01 00:10:00          964.0     3260.7475     3301.6920    3208.6785  \n",
       "2021-01-01 00:15:00          964.0     3265.5765     3284.1330    3210.7790  \n",
       "2021-01-01 00:20:00          964.0     3253.7750     3271.9260    3221.7745  \n",
       "2021-01-01 00:25:00          964.0     3236.9790     3267.3050    3227.6935  \n",
       "\n",
       "[5 rows x 64 columns]"
      ]
     },
     "execution_count": 5,
     "metadata": {},
     "output_type": "execute_result"
    }
   ],
   "source": [
    "path_data = 'artifacts/data/data.pkl'\n",
    "data = pd.read_pickle(path_data)\n",
    "data.head()"
   ]
  },
  {
   "cell_type": "code",
   "execution_count": null,
   "id": "ba82a18c-3fe9-42a7-be19-f1d1b9d51e50",
   "metadata": {},
   "outputs": [],
   "source": []
  },
  {
   "cell_type": "markdown",
   "id": "10e80b24-097b-4bd4-aaca-f7de5730ad30",
   "metadata": {},
   "source": [
    "### 2. Read Prices Chemicals"
   ]
  },
  {
   "cell_type": "code",
   "execution_count": 6,
   "id": "0922202e-2e48-4ea7-9285-9ab7b1ccdbb1",
   "metadata": {},
   "outputs": [
    {
     "data": {
      "text/html": [
       "<div>\n",
       "<style scoped>\n",
       "    .dataframe tbody tr th:only-of-type {\n",
       "        vertical-align: middle;\n",
       "    }\n",
       "\n",
       "    .dataframe tbody tr th {\n",
       "        vertical-align: top;\n",
       "    }\n",
       "\n",
       "    .dataframe thead th {\n",
       "        text-align: right;\n",
       "    }\n",
       "</style>\n",
       "<table border=\"1\" class=\"dataframe\">\n",
       "  <thead>\n",
       "    <tr style=\"text-align: right;\">\n",
       "      <th></th>\n",
       "      <th>acido</th>\n",
       "      <th>peroxido</th>\n",
       "      <th>soda</th>\n",
       "      <th>oxigeno</th>\n",
       "      <th>dioxido</th>\n",
       "    </tr>\n",
       "  </thead>\n",
       "  <tbody>\n",
       "    <tr>\n",
       "      <th>0</th>\n",
       "      <td>0.275</td>\n",
       "      <td>0.698</td>\n",
       "      <td>0.655</td>\n",
       "      <td>0.092</td>\n",
       "      <td>1.4</td>\n",
       "    </tr>\n",
       "  </tbody>\n",
       "</table>\n",
       "</div>"
      ],
      "text/plain": [
       "   acido  peroxido   soda  oxigeno  dioxido\n",
       "0  0.275     0.698  0.655    0.092      1.4"
      ]
     },
     "execution_count": 6,
     "metadata": {},
     "output_type": "execute_result"
    }
   ],
   "source": [
    "# chemicals are used in optimization part\n",
    "path_price_chemicals = 'config/config_optimization/optimization_engine/price-chemicals.xlsx'\n",
    "price_chemicals = pd.read_excel(path_price_chemicals)\n",
    "price_chemicals"
   ]
  },
  {
   "cell_type": "code",
   "execution_count": null,
   "id": "b5f93600-8867-40be-a580-950f88ba7ae1",
   "metadata": {},
   "outputs": [],
   "source": []
  },
  {
   "cell_type": "code",
   "execution_count": null,
   "id": "18e6df51-6b06-4795-bdd3-d0fc2d04fe8b",
   "metadata": {},
   "outputs": [],
   "source": []
  },
  {
   "cell_type": "markdown",
   "id": "206335cf-e090-499e-b97c-19bea56d9c13",
   "metadata": {},
   "source": [
    "### 3. Costs D0EOP"
   ]
  },
  {
   "cell_type": "code",
   "execution_count": 7,
   "id": "fd08d6e9-3b6c-4ad3-a549-e66cfce09e34",
   "metadata": {},
   "outputs": [],
   "source": [
    "def costs_bleaching_sf2_d0eop(df_blanq, df_precios):\n",
    "    '''\n",
    "    calcular costos modelo D0EOP\n",
    "        -df_blanq: dataframe con los consumos\n",
    "        -df_precios: dataframe con los precios\n",
    "    '''\n",
    "    # precios\n",
    "    Precio_Acido = df_precios['acido'].values\n",
    "    Precio_Peroxido = df_precios['peroxido'].values\n",
    "    Precio_Soda = df_precios['soda'].values\n",
    "    Precio_Oxigeno = df_precios['oxigeno'].values\n",
    "    Precio_Dioxido = df_precios['dioxido'].values\n",
    "\n",
    "    # features\n",
    "    especifico_dioxido_d0 = '240FY050.RO02' # vc\n",
    "    especifico_soda_eop = '240FY107A.RO01' # vc\n",
    "    especifico_peroxido_eop = '240FY11PB.RO01' # vc\n",
    "    especifico_oxigeno_eop = '240FY118B.RO01' # vc\n",
    "\n",
    "\n",
    "    # calculate costs\n",
    "    df_blanq['costo_Adt_D0']= (df_blanq[especifico_dioxido_d0] * Precio_Dioxido)\n",
    "    df_blanq['costo_Adt_EOP'] = (df_blanq[especifico_soda_eop]*Precio_Soda + df_blanq[especifico_peroxido_eop]*Precio_Peroxido + df_blanq[especifico_oxigeno_eop]*Precio_Oxigeno)\n",
    "  \n",
    "    df_blanq['costo_Adt_D0EOP'] = df_blanq['costo_Adt_D0'] + df_blanq['costo_Adt_EOP']\n",
    "    return df_blanq['costo_Adt_D0EOP']"
   ]
  },
  {
   "cell_type": "code",
   "execution_count": 8,
   "id": "cec052b6-d381-4e31-8319-1aa0077c4099",
   "metadata": {},
   "outputs": [
    {
     "data": {
      "text/plain": [
       "datetime\n",
       "2021-01-01 00:05:00    18.732232\n",
       "2021-01-01 00:10:00    18.585658\n",
       "2021-01-01 00:15:00    18.529378\n",
       "2021-01-01 00:20:00    18.591321\n",
       "2021-01-01 00:25:00    18.595393\n",
       "                         ...    \n",
       "2022-12-31 23:45:00    22.143516\n",
       "2022-12-31 23:50:00    22.175825\n",
       "2022-12-31 23:55:00    22.288313\n",
       "2023-01-01 00:00:00    22.214813\n",
       "2023-01-01 00:05:00    22.121555\n",
       "Name: costo_Adt_D0EOP, Length: 143200, dtype: float64"
      ]
     },
     "execution_count": 8,
     "metadata": {},
     "output_type": "execute_result"
    }
   ],
   "source": [
    "# evaluate if the code to calculate costs using VC and prices works\n",
    "costs_bleaching_sf2_d0eop(df_blanq = data, \n",
    "                          df_precios = price_chemicals\n",
    "                         )"
   ]
  },
  {
   "cell_type": "code",
   "execution_count": null,
   "id": "9e5c0266-9d09-493f-8158-fc528faa7e55",
   "metadata": {},
   "outputs": [],
   "source": []
  },
  {
   "cell_type": "code",
   "execution_count": null,
   "id": "626384f2-0977-45fe-a9fb-01ef3aff55c6",
   "metadata": {},
   "outputs": [],
   "source": []
  },
  {
   "cell_type": "markdown",
   "id": "9e1eb670-dcef-457a-9f40-9e2385e92b17",
   "metadata": {},
   "source": [
    "### 4. Costs D1"
   ]
  },
  {
   "cell_type": "code",
   "execution_count": 9,
   "id": "98d4ef80-a991-4a85-b618-8a0d16e40ba3",
   "metadata": {},
   "outputs": [],
   "source": [
    "def costs_bleaching_sf2_d1(df_blanq, df_precios):\n",
    "    '''\n",
    "    calcular costos modelo D1\n",
    "        -df_blanq: dataframe con los consumos\n",
    "        -df_precios: dataframe con los precios\n",
    "    '''\n",
    "    # precios\n",
    "    Precio_Acido = df_precios['acido'].values\n",
    "    Precio_Peroxido = df_precios['peroxido'].values\n",
    "    Precio_Soda = df_precios['soda'].values\n",
    "    Precio_Oxigeno = df_precios['oxigeno'].values\n",
    "    Precio_Dioxido = df_precios['dioxido'].values\n",
    "\n",
    "    # features\n",
    "    especifico_acido_d1 = '240FY210A.RO01'\n",
    "    especifico_dioxido_d1 = '240FY218.RO02'\n",
    "\n",
    "    \n",
    "    # calculate costs\n",
    "    df_blanq['costo_Adt_D1'] = (df_blanq[especifico_acido_d1]*Precio_Acido + df_blanq[especifico_dioxido_d1]*Precio_Dioxido)\n",
    "    return df_blanq['costo_Adt_D1']"
   ]
  },
  {
   "cell_type": "code",
   "execution_count": 10,
   "id": "05766aaa-42df-4344-b115-6c4252aa0682",
   "metadata": {},
   "outputs": [
    {
     "data": {
      "text/plain": [
       "datetime\n",
       "2021-01-01 00:05:00    3.878702\n",
       "2021-01-01 00:10:00    3.901367\n",
       "2021-01-01 00:15:00    3.910487\n",
       "2021-01-01 00:20:00    3.937230\n",
       "2021-01-01 00:25:00    3.918317\n",
       "                         ...   \n",
       "2022-12-31 23:45:00    6.480512\n",
       "2022-12-31 23:50:00    6.442193\n",
       "2022-12-31 23:55:00    6.446304\n",
       "2023-01-01 00:00:00    6.509864\n",
       "2023-01-01 00:05:00    6.512968\n",
       "Name: costo_Adt_D1, Length: 143200, dtype: float64"
      ]
     },
     "execution_count": 10,
     "metadata": {},
     "output_type": "execute_result"
    }
   ],
   "source": [
    "# evaluate if the code to calculate costs using VC and prices works\n",
    "costs_bleaching_sf2_d1(df_blanq = data, \n",
    "                       df_precios = price_chemicals\n",
    "                         )"
   ]
  },
  {
   "cell_type": "code",
   "execution_count": null,
   "id": "5b5e1dbd-6b37-44d0-b0c1-e7c54a453bee",
   "metadata": {},
   "outputs": [],
   "source": []
  },
  {
   "cell_type": "code",
   "execution_count": null,
   "id": "9bd3e194-bf36-4e2f-9b7e-385b3ab6bc11",
   "metadata": {},
   "outputs": [],
   "source": []
  },
  {
   "cell_type": "markdown",
   "id": "c636b1e0-085e-4f00-9fc6-2ec0fe34704e",
   "metadata": {},
   "source": [
    "### 5. Costs P"
   ]
  },
  {
   "cell_type": "code",
   "execution_count": 11,
   "id": "265fbf62-f726-41f8-81af-8d0e407ae1f7",
   "metadata": {},
   "outputs": [],
   "source": [
    "def costs_bleaching_sf2_p(df_blanq, df_precios):\n",
    "    '''\n",
    "    calcular costos modelo P\n",
    "        -df_blanq: dataframe con los consumos\n",
    "        -df_precios: dataframe con los precios\n",
    "    '''\n",
    "    # precios\n",
    "    Precio_Acido = df_precios['acido'].values\n",
    "    Precio_Peroxido = df_precios['peroxido'].values\n",
    "    Precio_Soda = df_precios['soda'].values\n",
    "    Precio_Oxigeno = df_precios['oxigeno'].values\n",
    "    Precio_Dioxido = df_precios['dioxido'].values\n",
    "\n",
    "    # features\n",
    "    especifico_acido_p = '240FY430.RO01'\n",
    "    especifico_soda_p = '240FY312.RO01'\n",
    "    especifico_peroxido_p = '240FY397.RO01'\n",
    "\n",
    "    # calculate costs\n",
    "    df_blanq['costo_Adt_P'] = (df_blanq[especifico_acido_p]*Precio_Acido + df_blanq[especifico_soda_p]*Precio_Soda+ df_blanq[especifico_peroxido_p]*Precio_Peroxido)\n",
    "    return df_blanq['costo_Adt_P']"
   ]
  },
  {
   "cell_type": "code",
   "execution_count": 12,
   "id": "00a1c1f9-e01f-443b-92aa-514a13dbecaf",
   "metadata": {
    "scrolled": true
   },
   "outputs": [
    {
     "data": {
      "text/plain": [
       "datetime\n",
       "2021-01-01 00:05:00    2.480980\n",
       "2021-01-01 00:10:00    2.480704\n",
       "2021-01-01 00:15:00    2.469222\n",
       "2021-01-01 00:20:00    2.481941\n",
       "2021-01-01 00:25:00    2.480421\n",
       "                         ...   \n",
       "2022-12-31 23:45:00    5.285881\n",
       "2022-12-31 23:50:00    5.274175\n",
       "2022-12-31 23:55:00    5.250339\n",
       "2023-01-01 00:00:00    5.248585\n",
       "2023-01-01 00:05:00    5.264989\n",
       "Name: costo_Adt_P, Length: 143200, dtype: float64"
      ]
     },
     "execution_count": 12,
     "metadata": {},
     "output_type": "execute_result"
    }
   ],
   "source": [
    "# evaluate if the code to calculate costs using VC and prices works\n",
    "costs_bleaching_sf2_p(df_blanq = data, \n",
    "                      df_precios = price_chemicals\n",
    "                     )"
   ]
  },
  {
   "cell_type": "code",
   "execution_count": null,
   "id": "ff66396d-c45f-4a89-a6ac-e7aed7007571",
   "metadata": {},
   "outputs": [],
   "source": []
  },
  {
   "cell_type": "code",
   "execution_count": null,
   "id": "6ad38aef-fa6c-4dcf-8328-0680720e3e83",
   "metadata": {},
   "outputs": [],
   "source": []
  }
 ],
 "metadata": {
  "kernelspec": {
   "display_name": "Python 3 (ipykernel)",
   "language": "python",
   "name": "python3"
  },
  "language_info": {
   "codemirror_mode": {
    "name": "ipython",
    "version": 3
   },
   "file_extension": ".py",
   "mimetype": "text/x-python",
   "name": "python",
   "nbconvert_exporter": "python",
   "pygments_lexer": "ipython3",
   "version": "3.10.12"
  }
 },
 "nbformat": 4,
 "nbformat_minor": 5
}
