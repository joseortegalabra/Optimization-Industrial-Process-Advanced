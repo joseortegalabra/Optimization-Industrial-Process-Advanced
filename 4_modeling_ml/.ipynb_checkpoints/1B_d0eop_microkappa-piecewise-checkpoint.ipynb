{
 "cells": [
  {
   "cell_type": "markdown",
   "id": "c43faa4d-db0f-4cd3-a093-19438ecae397",
   "metadata": {},
   "source": [
    "# Modeling d0eop_microkappa\n",
    "Using the feautures of the stage d0eop predict the microkappa (target)(of the stage D1 - output stage EOP)\n",
    "\n",
    "**USING THE IDEA OF PIECEWISE FUNCTION - SEGMENTED MODELS. Divide the data according the most important feature and train different models according this split**\n",
    "\n",
    "\n",
    "-------\n",
    "**INFO MODEL**\n",
    "- **stage**: d0eop\n",
    "- **target**: microkappa"
   ]
  },
  {
   "cell_type": "markdown",
   "id": "b922bd84-6691-4e5a-92c9-dac5fd7dadbd",
   "metadata": {},
   "source": [
    "## Root folder and read env variables"
   ]
  },
  {
   "cell_type": "code",
   "execution_count": 1,
   "id": "b846b3c3-ef67-4a3c-8b9d-3b3796b61fb3",
   "metadata": {},
   "outputs": [
    {
     "name": "stdout",
     "output_type": "stream",
     "text": [
      "root path:  D:\\github-mi-repo\\Optimization-Industrial-Process-Advanced\n"
     ]
    }
   ],
   "source": [
    "import os\n",
    "# fix root path to save outputs\n",
    "actual_path = os.path.abspath(os.getcwd())\n",
    "list_root_path = actual_path.split('\\\\')[:-1]\n",
    "root_path = '\\\\'.join(list_root_path)\n",
    "os.chdir(root_path)\n",
    "print('root path: ', root_path)"
   ]
  },
  {
   "cell_type": "code",
   "execution_count": 2,
   "id": "cd3c0576-ebc2-4df8-9bea-50f29844198a",
   "metadata": {},
   "outputs": [],
   "source": [
    "import os\n",
    "from dotenv import load_dotenv, find_dotenv # package used in jupyter notebook to read the variables in file .env\n",
    "\n",
    "\"\"\" get env variable from .env \"\"\"\n",
    "load_dotenv(find_dotenv())\n",
    "\n",
    "\"\"\" Read env variables and save it as python variable \"\"\"\n",
    "PROJECT_GCP = os.environ.get(\"PROJECT_GCP\", \"\")"
   ]
  },
  {
   "cell_type": "code",
   "execution_count": null,
   "id": "e2bab0f8-b9f4-4887-bd70-1790163eab22",
   "metadata": {},
   "outputs": [],
   "source": []
  },
  {
   "cell_type": "markdown",
   "id": "ddd36dbb-2fb7-4476-96ef-b1ef520e3133",
   "metadata": {},
   "source": [
    "## RUN TRAINING"
   ]
  },
  {
   "cell_type": "code",
   "execution_count": 3,
   "id": "c29ac8e0",
   "metadata": {},
   "outputs": [],
   "source": [
    "import pandas as pd\n",
    "import numpy as np\n",
    "from google.cloud import bigquery\n",
    "import gcsfs\n",
    "import pickle\n",
    "\n",
    "from sklearn.model_selection import train_test_split\n",
    "\n",
    "from sklearn.pipeline import Pipeline\n",
    "\n",
    "# transform\n",
    "from sklearn.preprocessing import MinMaxScaler\n",
    "from sklearn.preprocessing import StandardScaler\n",
    "from sklearn.preprocessing import PolynomialFeatures\n",
    "from sklearn.preprocessing import FunctionTransformer\n",
    "from sklearn.compose import ColumnTransformer\n",
    "from sklearn.compose import make_column_transformer\n",
    "\n",
    "# models\n",
    "from sklearn.linear_model import LinearRegression # lr\n",
    "from sklearn.linear_model import Ridge # ridge\n",
    "from sklearn.linear_model import Lasso # lasso\n",
    "from sklearn.tree import DecisionTreeRegressor # tree\n",
    "from sklearn.ensemble import GradientBoostingRegressor #gb\n",
    "from sklearn.ensemble import RandomForestRegressor #rf\n",
    "#from xgboost import XGBRegressor # xgb\n",
    "from  sklearn.neural_network import MLPRegressor # mlp"
   ]
  },
  {
   "cell_type": "code",
   "execution_count": 4,
   "id": "c30fb690",
   "metadata": {},
   "outputs": [],
   "source": [
    "# ### desarrollo\n",
    "\n",
    "# PROJECT_ID = PROJECT_GCP\n",
    "# ! gcloud config set project $PROJECT_ID"
   ]
  },
  {
   "cell_type": "code",
   "execution_count": null,
   "id": "330fcbba-795b-4620-9721-aaa3162bd344",
   "metadata": {},
   "outputs": [],
   "source": []
  },
  {
   "cell_type": "markdown",
   "id": "f42f283e-afc8-42bf-b79f-70dd9384f88a",
   "metadata": {},
   "source": [
    "### 1. Read data"
   ]
  },
  {
   "cell_type": "code",
   "execution_count": 5,
   "id": "3ccee55f",
   "metadata": {},
   "outputs": [
    {
     "data": {
      "text/html": [
       "<div>\n",
       "<style scoped>\n",
       "    .dataframe tbody tr th:only-of-type {\n",
       "        vertical-align: middle;\n",
       "    }\n",
       "\n",
       "    .dataframe tbody tr th {\n",
       "        vertical-align: top;\n",
       "    }\n",
       "\n",
       "    .dataframe thead th {\n",
       "        text-align: right;\n",
       "    }\n",
       "</style>\n",
       "<table border=\"1\" class=\"dataframe\">\n",
       "  <thead>\n",
       "    <tr style=\"text-align: right;\">\n",
       "      <th></th>\n",
       "      <th>230AIT446.PNT</th>\n",
       "      <th>240AIC022.MEAS</th>\n",
       "      <th>240AIC126.MEAS</th>\n",
       "      <th>240AIC224.MEAS</th>\n",
       "      <th>240AIC286.MEAS</th>\n",
       "      <th>240AIC324.MEAS</th>\n",
       "      <th>240AIC433.MEAS</th>\n",
       "      <th>240AIT063A.PNT</th>\n",
       "      <th>240AIT063B.PNT</th>\n",
       "      <th>240AIT225A.PNT</th>\n",
       "      <th>...</th>\n",
       "      <th>S240ALDP022</th>\n",
       "      <th>S240ALDP031</th>\n",
       "      <th>S240ALDP032</th>\n",
       "      <th>S276PER002</th>\n",
       "      <th>S2MAQUINAT07</th>\n",
       "      <th>S76ALE017</th>\n",
       "      <th>SSTRIPPING015</th>\n",
       "      <th>calc_prod_d0</th>\n",
       "      <th>calc_prod_d1</th>\n",
       "      <th>calc_prod_p</th>\n",
       "    </tr>\n",
       "    <tr>\n",
       "      <th>datetime</th>\n",
       "      <th></th>\n",
       "      <th></th>\n",
       "      <th></th>\n",
       "      <th></th>\n",
       "      <th></th>\n",
       "      <th></th>\n",
       "      <th></th>\n",
       "      <th></th>\n",
       "      <th></th>\n",
       "      <th></th>\n",
       "      <th></th>\n",
       "      <th></th>\n",
       "      <th></th>\n",
       "      <th></th>\n",
       "      <th></th>\n",
       "      <th></th>\n",
       "      <th></th>\n",
       "      <th></th>\n",
       "      <th></th>\n",
       "      <th></th>\n",
       "      <th></th>\n",
       "    </tr>\n",
       "  </thead>\n",
       "  <tbody>\n",
       "    <tr>\n",
       "      <th>2021-01-01 00:05:00</th>\n",
       "      <td>11.555040</td>\n",
       "      <td>2.983948</td>\n",
       "      <td>11.346645</td>\n",
       "      <td>4.413519</td>\n",
       "      <td>4.352375</td>\n",
       "      <td>10.441675</td>\n",
       "      <td>4.292521</td>\n",
       "      <td>5.869320</td>\n",
       "      <td>62.37495</td>\n",
       "      <td>1.837519</td>\n",
       "      <td>...</td>\n",
       "      <td>91.49</td>\n",
       "      <td>1.8</td>\n",
       "      <td>11.4</td>\n",
       "      <td>11.77</td>\n",
       "      <td>1.5712</td>\n",
       "      <td>173.6</td>\n",
       "      <td>964.0</td>\n",
       "      <td>3240.8635</td>\n",
       "      <td>3313.6215</td>\n",
       "      <td>3259.3745</td>\n",
       "    </tr>\n",
       "    <tr>\n",
       "      <th>2021-01-01 00:10:00</th>\n",
       "      <td>11.552320</td>\n",
       "      <td>3.015669</td>\n",
       "      <td>11.353215</td>\n",
       "      <td>4.413179</td>\n",
       "      <td>4.347186</td>\n",
       "      <td>10.432170</td>\n",
       "      <td>4.289684</td>\n",
       "      <td>5.869320</td>\n",
       "      <td>62.37495</td>\n",
       "      <td>1.814020</td>\n",
       "      <td>...</td>\n",
       "      <td>91.49</td>\n",
       "      <td>1.8</td>\n",
       "      <td>11.4</td>\n",
       "      <td>11.77</td>\n",
       "      <td>1.5712</td>\n",
       "      <td>173.6</td>\n",
       "      <td>964.0</td>\n",
       "      <td>3260.7475</td>\n",
       "      <td>3301.6920</td>\n",
       "      <td>3208.6785</td>\n",
       "    </tr>\n",
       "    <tr>\n",
       "      <th>2021-01-01 00:15:00</th>\n",
       "      <td>11.549955</td>\n",
       "      <td>3.018903</td>\n",
       "      <td>11.355525</td>\n",
       "      <td>4.408321</td>\n",
       "      <td>4.355828</td>\n",
       "      <td>10.410115</td>\n",
       "      <td>4.284427</td>\n",
       "      <td>5.869320</td>\n",
       "      <td>62.37495</td>\n",
       "      <td>1.814020</td>\n",
       "      <td>...</td>\n",
       "      <td>91.49</td>\n",
       "      <td>1.8</td>\n",
       "      <td>11.4</td>\n",
       "      <td>11.77</td>\n",
       "      <td>1.5712</td>\n",
       "      <td>173.6</td>\n",
       "      <td>964.0</td>\n",
       "      <td>3265.5765</td>\n",
       "      <td>3284.1330</td>\n",
       "      <td>3210.7790</td>\n",
       "    </tr>\n",
       "    <tr>\n",
       "      <th>2021-01-01 00:20:00</th>\n",
       "      <td>11.547145</td>\n",
       "      <td>3.001164</td>\n",
       "      <td>11.326725</td>\n",
       "      <td>4.408659</td>\n",
       "      <td>4.361292</td>\n",
       "      <td>10.379145</td>\n",
       "      <td>4.285478</td>\n",
       "      <td>5.835750</td>\n",
       "      <td>62.37495</td>\n",
       "      <td>1.814020</td>\n",
       "      <td>...</td>\n",
       "      <td>91.49</td>\n",
       "      <td>1.7</td>\n",
       "      <td>11.3</td>\n",
       "      <td>11.77</td>\n",
       "      <td>1.5712</td>\n",
       "      <td>173.6</td>\n",
       "      <td>964.0</td>\n",
       "      <td>3253.7750</td>\n",
       "      <td>3271.9260</td>\n",
       "      <td>3221.7745</td>\n",
       "    </tr>\n",
       "    <tr>\n",
       "      <th>2021-01-01 00:25:00</th>\n",
       "      <td>11.543160</td>\n",
       "      <td>3.017393</td>\n",
       "      <td>11.336345</td>\n",
       "      <td>4.408596</td>\n",
       "      <td>4.356374</td>\n",
       "      <td>10.387205</td>\n",
       "      <td>4.304148</td>\n",
       "      <td>5.802179</td>\n",
       "      <td>62.37495</td>\n",
       "      <td>1.814020</td>\n",
       "      <td>...</td>\n",
       "      <td>91.49</td>\n",
       "      <td>1.6</td>\n",
       "      <td>11.2</td>\n",
       "      <td>11.77</td>\n",
       "      <td>1.5712</td>\n",
       "      <td>173.6</td>\n",
       "      <td>964.0</td>\n",
       "      <td>3236.9790</td>\n",
       "      <td>3267.3050</td>\n",
       "      <td>3227.6935</td>\n",
       "    </tr>\n",
       "  </tbody>\n",
       "</table>\n",
       "<p>5 rows × 64 columns</p>\n",
       "</div>"
      ],
      "text/plain": [
       "                     230AIT446.PNT  240AIC022.MEAS  240AIC126.MEAS  \\\n",
       "datetime                                                             \n",
       "2021-01-01 00:05:00      11.555040        2.983948       11.346645   \n",
       "2021-01-01 00:10:00      11.552320        3.015669       11.353215   \n",
       "2021-01-01 00:15:00      11.549955        3.018903       11.355525   \n",
       "2021-01-01 00:20:00      11.547145        3.001164       11.326725   \n",
       "2021-01-01 00:25:00      11.543160        3.017393       11.336345   \n",
       "\n",
       "                     240AIC224.MEAS  240AIC286.MEAS  240AIC324.MEAS  \\\n",
       "datetime                                                              \n",
       "2021-01-01 00:05:00        4.413519        4.352375       10.441675   \n",
       "2021-01-01 00:10:00        4.413179        4.347186       10.432170   \n",
       "2021-01-01 00:15:00        4.408321        4.355828       10.410115   \n",
       "2021-01-01 00:20:00        4.408659        4.361292       10.379145   \n",
       "2021-01-01 00:25:00        4.408596        4.356374       10.387205   \n",
       "\n",
       "                     240AIC433.MEAS  240AIT063A.PNT  240AIT063B.PNT  \\\n",
       "datetime                                                              \n",
       "2021-01-01 00:05:00        4.292521        5.869320        62.37495   \n",
       "2021-01-01 00:10:00        4.289684        5.869320        62.37495   \n",
       "2021-01-01 00:15:00        4.284427        5.869320        62.37495   \n",
       "2021-01-01 00:20:00        4.285478        5.835750        62.37495   \n",
       "2021-01-01 00:25:00        4.304148        5.802179        62.37495   \n",
       "\n",
       "                     240AIT225A.PNT  ...  S240ALDP022  S240ALDP031  \\\n",
       "datetime                             ...                             \n",
       "2021-01-01 00:05:00        1.837519  ...        91.49          1.8   \n",
       "2021-01-01 00:10:00        1.814020  ...        91.49          1.8   \n",
       "2021-01-01 00:15:00        1.814020  ...        91.49          1.8   \n",
       "2021-01-01 00:20:00        1.814020  ...        91.49          1.7   \n",
       "2021-01-01 00:25:00        1.814020  ...        91.49          1.6   \n",
       "\n",
       "                     S240ALDP032  S276PER002  S2MAQUINAT07  S76ALE017  \\\n",
       "datetime                                                                \n",
       "2021-01-01 00:05:00         11.4       11.77        1.5712      173.6   \n",
       "2021-01-01 00:10:00         11.4       11.77        1.5712      173.6   \n",
       "2021-01-01 00:15:00         11.4       11.77        1.5712      173.6   \n",
       "2021-01-01 00:20:00         11.3       11.77        1.5712      173.6   \n",
       "2021-01-01 00:25:00         11.2       11.77        1.5712      173.6   \n",
       "\n",
       "                     SSTRIPPING015  calc_prod_d0  calc_prod_d1  calc_prod_p  \n",
       "datetime                                                                     \n",
       "2021-01-01 00:05:00          964.0     3240.8635     3313.6215    3259.3745  \n",
       "2021-01-01 00:10:00          964.0     3260.7475     3301.6920    3208.6785  \n",
       "2021-01-01 00:15:00          964.0     3265.5765     3284.1330    3210.7790  \n",
       "2021-01-01 00:20:00          964.0     3253.7750     3271.9260    3221.7745  \n",
       "2021-01-01 00:25:00          964.0     3236.9790     3267.3050    3227.6935  \n",
       "\n",
       "[5 rows x 64 columns]"
      ]
     },
     "execution_count": 5,
     "metadata": {},
     "output_type": "execute_result"
    }
   ],
   "source": [
    "path_data = 'artifacts/data/data.pkl'\n",
    "data = pd.read_pickle(path_data)\n",
    "data.head()"
   ]
  },
  {
   "cell_type": "code",
   "execution_count": null,
   "id": "18e6df51-6b06-4795-bdd3-d0fc2d04fe8b",
   "metadata": {},
   "outputs": [],
   "source": []
  },
  {
   "cell_type": "code",
   "execution_count": null,
   "id": "6f660d3f-0848-4a12-ac70-d0f88aa6f148",
   "metadata": {},
   "outputs": [],
   "source": []
  },
  {
   "cell_type": "markdown",
   "id": "7adbc044-96f3-41a2-bc18-9b86a76d7db4",
   "metadata": {},
   "source": [
    "### 2. Define target\n",
    "All the stages could have multiple targets. But with the models supported by gurobi only accept models that predict one target"
   ]
  },
  {
   "cell_type": "code",
   "execution_count": 6,
   "id": "2f508ccb-1084-4f61-9ff8-ac426855b56d",
   "metadata": {},
   "outputs": [],
   "source": [
    "list_target = ['240AIT225A.PNT'] # microkappa_d1"
   ]
  },
  {
   "cell_type": "code",
   "execution_count": null,
   "id": "34554a77-fca0-454a-b4b5-8e270b1c3a7d",
   "metadata": {},
   "outputs": [],
   "source": []
  },
  {
   "cell_type": "markdown",
   "id": "6c936d94-063c-48e3-a82a-15088a90dbe4",
   "metadata": {},
   "source": [
    "### 3. Define features\n",
    "In the exploratory data analysis you should select the features that will be use to predict the target. In this example, this features are defined manually in a list\n",
    "\n",
    "In stage DOEOP, there are 4 VC - features controlables\n",
    "- dioxido d0\n",
    "- oxigeno eop\n",
    "- peroxido eop\n",
    "- soda eop\n",
    "\n",
    "See the list of features controlables is a subset of list features controlables"
   ]
  },
  {
   "cell_type": "code",
   "execution_count": 7,
   "id": "25dff5a7-942e-4ae0-9ba5-d6e1a96b8d98",
   "metadata": {},
   "outputs": [],
   "source": [
    "list_features = [\n",
    "    \"240AIT063A.PNT\", #kappa_d0\n",
    "    \"240AIT063B.PNT\", #brillo_d0\n",
    "    \"calc_prod_d0\", #calc_prod_d0\n",
    "    \"240FY050.RO02\", #especifico_dioxido_d0 - VC\n",
    "    \"SSTRIPPING015\", #dqo_evaporadores\n",
    "    \"S276PER002\", #concentracion_clo2_d0\n",
    "    \"240AIC022.MEAS\", #ph_a\n",
    "    \"240FY118B.RO01\", #especifico_oxigeno_eop - VC\n",
    "    \"240FY11PB.RO01\", #especifico_peroxido_eop - VC\n",
    "    \"240FY107A.RO01\", #especifico_soda_eop - VC\n",
    "]"
   ]
  },
  {
   "cell_type": "code",
   "execution_count": 8,
   "id": "98d4ef80-a991-4a85-b618-8a0d16e40ba3",
   "metadata": {},
   "outputs": [],
   "source": [
    "# list_features_controlables = [\n",
    "#     \"240FY050.RO02\", #especifico_dioxido_d0 - VC,\n",
    "#     \"240FY118B.RO01\", #especifico_oxigeno_eop - VC\n",
    "#     \"240FY11PB.RO01\", #especifico_peroxido_eop - VC\n",
    "#     \"240FY107A.RO01\", #especifico_soda_eop - VC\n",
    "# ]"
   ]
  },
  {
   "cell_type": "code",
   "execution_count": null,
   "id": "12703298-52f0-47dd-8297-9cda36f67ba4",
   "metadata": {},
   "outputs": [],
   "source": []
  },
  {
   "cell_type": "code",
   "execution_count": null,
   "id": "46308fa5-181b-481e-b30b-c09660ca3bd5",
   "metadata": {},
   "outputs": [],
   "source": []
  },
  {
   "cell_type": "code",
   "execution_count": null,
   "id": "730d6b66-ceaf-4ac8-a833-cfa42ee56232",
   "metadata": {},
   "outputs": [],
   "source": []
  },
  {
   "cell_type": "markdown",
   "id": "b6353cbf-2a2a-4332-8193-4c06b61732c5",
   "metadata": {},
   "source": [
    "### 4. Read master tags data for this stage. Sort features used to train according this order"
   ]
  },
  {
   "cell_type": "code",
   "execution_count": 9,
   "id": "3a753c32-4a67-4414-90bc-f97fb826ab7e",
   "metadata": {},
   "outputs": [
    {
     "data": {
      "text/html": [
       "<div>\n",
       "<style scoped>\n",
       "    .dataframe tbody tr th:only-of-type {\n",
       "        vertical-align: middle;\n",
       "    }\n",
       "\n",
       "    .dataframe tbody tr th {\n",
       "        vertical-align: top;\n",
       "    }\n",
       "\n",
       "    .dataframe thead th {\n",
       "        text-align: right;\n",
       "    }\n",
       "</style>\n",
       "<table border=\"1\" class=\"dataframe\">\n",
       "  <thead>\n",
       "    <tr style=\"text-align: right;\">\n",
       "      <th></th>\n",
       "      <th>TAG</th>\n",
       "      <th>TAG_DESCRIPTION</th>\n",
       "      <th>DESCRIPCION</th>\n",
       "      <th>ETAPA</th>\n",
       "      <th>CLASIFICACION</th>\n",
       "      <th>USE_PREVIOUS_MODEL</th>\n",
       "      <th>USE_NEXT_MODEL</th>\n",
       "    </tr>\n",
       "  </thead>\n",
       "  <tbody>\n",
       "    <tr>\n",
       "      <th>0</th>\n",
       "      <td>240FI020A.PNT</td>\n",
       "      <td>prod_total</td>\n",
       "      <td>Producción Total</td>\n",
       "      <td>A</td>\n",
       "      <td>NC</td>\n",
       "      <td>NaN</td>\n",
       "      <td>NaN</td>\n",
       "    </tr>\n",
       "    <tr>\n",
       "      <th>1</th>\n",
       "      <td>calc_prod_d0</td>\n",
       "      <td>calc_prod_d0</td>\n",
       "      <td>Producción entrada D0 (prod entrada A dezplazada)</td>\n",
       "      <td>D0</td>\n",
       "      <td>NC</td>\n",
       "      <td>NaN</td>\n",
       "      <td>NaN</td>\n",
       "    </tr>\n",
       "    <tr>\n",
       "      <th>2</th>\n",
       "      <td>240FI020B.PNT</td>\n",
       "      <td>prod_eop</td>\n",
       "      <td>Prod entrada EOP</td>\n",
       "      <td>EOP</td>\n",
       "      <td>NC</td>\n",
       "      <td>NaN</td>\n",
       "      <td>NaN</td>\n",
       "    </tr>\n",
       "    <tr>\n",
       "      <th>3</th>\n",
       "      <td>240LIT010.PNT</td>\n",
       "      <td>nivel_tac_cafe</td>\n",
       "      <td>Nivel torre TAC Café</td>\n",
       "      <td>A</td>\n",
       "      <td>NC</td>\n",
       "      <td>NaN</td>\n",
       "      <td>NaN</td>\n",
       "    </tr>\n",
       "    <tr>\n",
       "      <th>4</th>\n",
       "      <td>240AIC022.MEAS</td>\n",
       "      <td>ph_a</td>\n",
       "      <td>pH  entrada etapa Acida</td>\n",
       "      <td>A</td>\n",
       "      <td>NC</td>\n",
       "      <td>NaN</td>\n",
       "      <td>NaN</td>\n",
       "    </tr>\n",
       "    <tr>\n",
       "      <th>5</th>\n",
       "      <td>240TIC023.MEAS</td>\n",
       "      <td>temperatura_a</td>\n",
       "      <td>Temperatura etapa Acida</td>\n",
       "      <td>A</td>\n",
       "      <td>NC</td>\n",
       "      <td>NaN</td>\n",
       "      <td>NaN</td>\n",
       "    </tr>\n",
       "    <tr>\n",
       "      <th>6</th>\n",
       "      <td>240FY024A.RO01</td>\n",
       "      <td>especifico_acido_a</td>\n",
       "      <td>Específico Acido sulfúrico</td>\n",
       "      <td>A</td>\n",
       "      <td>NC</td>\n",
       "      <td>NaN</td>\n",
       "      <td>NaN</td>\n",
       "    </tr>\n",
       "    <tr>\n",
       "      <th>7</th>\n",
       "      <td>240AIT063B.PNT</td>\n",
       "      <td>brillo_d0</td>\n",
       "      <td>Brillo salida etapa A (entrada D0)</td>\n",
       "      <td>D0</td>\n",
       "      <td>NC</td>\n",
       "      <td>NaN</td>\n",
       "      <td>NaN</td>\n",
       "    </tr>\n",
       "    <tr>\n",
       "      <th>8</th>\n",
       "      <td>240AIT063A.PNT</td>\n",
       "      <td>kappa_d0</td>\n",
       "      <td>Kappa salida etapa A (entrada D0)</td>\n",
       "      <td>D0</td>\n",
       "      <td>NC</td>\n",
       "      <td>NaN</td>\n",
       "      <td>NaN</td>\n",
       "    </tr>\n",
       "    <tr>\n",
       "      <th>9</th>\n",
       "      <td>S276PER002</td>\n",
       "      <td>concentracion_clo2_d0</td>\n",
       "      <td>Concentración ClO2</td>\n",
       "      <td>D0</td>\n",
       "      <td>NC</td>\n",
       "      <td>NaN</td>\n",
       "      <td>NaN</td>\n",
       "    </tr>\n",
       "    <tr>\n",
       "      <th>10</th>\n",
       "      <td>SSTRIPPING015</td>\n",
       "      <td>dqo_evaporadores</td>\n",
       "      <td>DQO Evaporadores</td>\n",
       "      <td>D0</td>\n",
       "      <td>NC</td>\n",
       "      <td>NaN</td>\n",
       "      <td>NaN</td>\n",
       "    </tr>\n",
       "    <tr>\n",
       "      <th>11</th>\n",
       "      <td>240FY050.RO02</td>\n",
       "      <td>especifico_dioxido_d0</td>\n",
       "      <td>Específico ClO2</td>\n",
       "      <td>D0</td>\n",
       "      <td>C</td>\n",
       "      <td>NaN</td>\n",
       "      <td>NaN</td>\n",
       "    </tr>\n",
       "    <tr>\n",
       "      <th>12</th>\n",
       "      <td>240TI139.PNT</td>\n",
       "      <td>tempratura_eop</td>\n",
       "      <td>T° entrada EOP</td>\n",
       "      <td>EOP</td>\n",
       "      <td>NC</td>\n",
       "      <td>NaN</td>\n",
       "      <td>NaN</td>\n",
       "    </tr>\n",
       "    <tr>\n",
       "      <th>13</th>\n",
       "      <td>240AIC126.MEAS</td>\n",
       "      <td>ph_eop</td>\n",
       "      <td>pH entrada EOP</td>\n",
       "      <td>EOP</td>\n",
       "      <td>NC</td>\n",
       "      <td>NaN</td>\n",
       "      <td>NaN</td>\n",
       "    </tr>\n",
       "    <tr>\n",
       "      <th>14</th>\n",
       "      <td>240FY11PB.RO01</td>\n",
       "      <td>especifico_peroxido_eop</td>\n",
       "      <td>Esp. Peróxido</td>\n",
       "      <td>EOP</td>\n",
       "      <td>C</td>\n",
       "      <td>NaN</td>\n",
       "      <td>NaN</td>\n",
       "    </tr>\n",
       "    <tr>\n",
       "      <th>15</th>\n",
       "      <td>240FY118B.RO01</td>\n",
       "      <td>especifico_oxigeno_eop</td>\n",
       "      <td>Esp. Oxígeno</td>\n",
       "      <td>EOP</td>\n",
       "      <td>C</td>\n",
       "      <td>NaN</td>\n",
       "      <td>NaN</td>\n",
       "    </tr>\n",
       "    <tr>\n",
       "      <th>16</th>\n",
       "      <td>240FY107A.RO01</td>\n",
       "      <td>especifico_soda_eop</td>\n",
       "      <td>Esp. Soda EOP</td>\n",
       "      <td>EOP</td>\n",
       "      <td>C</td>\n",
       "      <td>NaN</td>\n",
       "      <td>NaN</td>\n",
       "    </tr>\n",
       "    <tr>\n",
       "      <th>17</th>\n",
       "      <td>240AIT225A.PNT</td>\n",
       "      <td>microkappa_d1</td>\n",
       "      <td>mKappa salida EOP (entrada D1 )</td>\n",
       "      <td>D1</td>\n",
       "      <td>R</td>\n",
       "      <td>NaN</td>\n",
       "      <td>NC - D1</td>\n",
       "    </tr>\n",
       "    <tr>\n",
       "      <th>18</th>\n",
       "      <td>240AIT225B.PNT</td>\n",
       "      <td>blancura_d1</td>\n",
       "      <td>Blancura salida EOP (entrada D1)</td>\n",
       "      <td>D1</td>\n",
       "      <td>R</td>\n",
       "      <td>NaN</td>\n",
       "      <td>NC - D1</td>\n",
       "    </tr>\n",
       "    <tr>\n",
       "      <th>19</th>\n",
       "      <td>240AIC224.MEAS</td>\n",
       "      <td>ph_d1</td>\n",
       "      <td>pH entrada  D1</td>\n",
       "      <td>D1</td>\n",
       "      <td>R</td>\n",
       "      <td>NaN</td>\n",
       "      <td>NC - D1</td>\n",
       "    </tr>\n",
       "  </tbody>\n",
       "</table>\n",
       "</div>"
      ],
      "text/plain": [
       "               TAG          TAG_DESCRIPTION  \\\n",
       "0    240FI020A.PNT               prod_total   \n",
       "1     calc_prod_d0             calc_prod_d0   \n",
       "2    240FI020B.PNT                 prod_eop   \n",
       "3    240LIT010.PNT           nivel_tac_cafe   \n",
       "4   240AIC022.MEAS                     ph_a   \n",
       "5   240TIC023.MEAS            temperatura_a   \n",
       "6   240FY024A.RO01       especifico_acido_a   \n",
       "7   240AIT063B.PNT                brillo_d0   \n",
       "8   240AIT063A.PNT                 kappa_d0   \n",
       "9       S276PER002    concentracion_clo2_d0   \n",
       "10   SSTRIPPING015         dqo_evaporadores   \n",
       "11   240FY050.RO02    especifico_dioxido_d0   \n",
       "12    240TI139.PNT           tempratura_eop   \n",
       "13  240AIC126.MEAS                   ph_eop   \n",
       "14  240FY11PB.RO01  especifico_peroxido_eop   \n",
       "15  240FY118B.RO01   especifico_oxigeno_eop   \n",
       "16  240FY107A.RO01      especifico_soda_eop   \n",
       "17  240AIT225A.PNT            microkappa_d1   \n",
       "18  240AIT225B.PNT              blancura_d1   \n",
       "19  240AIC224.MEAS                    ph_d1   \n",
       "\n",
       "                                          DESCRIPCION ETAPA CLASIFICACION  \\\n",
       "0                                    Producción Total     A            NC   \n",
       "1   Producción entrada D0 (prod entrada A dezplazada)    D0            NC   \n",
       "2                                    Prod entrada EOP   EOP            NC   \n",
       "3                                Nivel torre TAC Café     A            NC   \n",
       "4                             pH  entrada etapa Acida     A            NC   \n",
       "5                             Temperatura etapa Acida     A            NC   \n",
       "6                          Específico Acido sulfúrico     A            NC   \n",
       "7                  Brillo salida etapa A (entrada D0)    D0            NC   \n",
       "8                   Kappa salida etapa A (entrada D0)    D0            NC   \n",
       "9                                  Concentración ClO2    D0            NC   \n",
       "10                                   DQO Evaporadores    D0            NC   \n",
       "11                                    Específico ClO2    D0             C   \n",
       "12                                     T° entrada EOP   EOP            NC   \n",
       "13                                     pH entrada EOP   EOP            NC   \n",
       "14                                      Esp. Peróxido   EOP             C   \n",
       "15                                      Esp. Oxígeno    EOP             C   \n",
       "16                                      Esp. Soda EOP   EOP             C   \n",
       "17                    mKappa salida EOP (entrada D1 )    D1             R   \n",
       "18                   Blancura salida EOP (entrada D1)    D1             R   \n",
       "19                                     pH entrada  D1    D1             R   \n",
       "\n",
       "    USE_PREVIOUS_MODEL USE_NEXT_MODEL  \n",
       "0                  NaN            NaN  \n",
       "1                  NaN            NaN  \n",
       "2                  NaN            NaN  \n",
       "3                  NaN            NaN  \n",
       "4                  NaN            NaN  \n",
       "5                  NaN            NaN  \n",
       "6                  NaN            NaN  \n",
       "7                  NaN            NaN  \n",
       "8                  NaN            NaN  \n",
       "9                  NaN            NaN  \n",
       "10                 NaN            NaN  \n",
       "11                 NaN            NaN  \n",
       "12                 NaN            NaN  \n",
       "13                 NaN            NaN  \n",
       "14                 NaN            NaN  \n",
       "15                 NaN            NaN  \n",
       "16                 NaN            NaN  \n",
       "17                 NaN        NC - D1  \n",
       "18                 NaN        NC - D1  \n",
       "19                 NaN        NC - D1  "
      ]
     },
     "execution_count": 9,
     "metadata": {},
     "output_type": "execute_result"
    }
   ],
   "source": [
    "### read master table - list tags\n",
    "stage = 'd0eop'\n",
    "path_maestro_tags_d0eop = f'config/config_ml_models_development/MaestroTags-{stage}-general.xlsx'\n",
    "maestro_tags = pd.read_excel(path_maestro_tags_d0eop)\n",
    "maestro_tags"
   ]
  },
  {
   "cell_type": "code",
   "execution_count": 10,
   "id": "9c5f0b98-c897-4d1b-98d8-1ca6619ded36",
   "metadata": {},
   "outputs": [],
   "source": [
    "### sort list of features according the order in master table\n",
    "\n",
    "list_features = [tag for tag in maestro_tags['TAG'].tolist() if tag in list_features]\n",
    "#list_features_controlables = [tag for tag in maestro_tags['TAG'].tolist() if tag in list_features_controlables]"
   ]
  },
  {
   "cell_type": "code",
   "execution_count": null,
   "id": "c6185b3f-462f-48f7-8dd1-c18114777153",
   "metadata": {},
   "outputs": [],
   "source": []
  },
  {
   "cell_type": "code",
   "execution_count": null,
   "id": "9db433ea-3217-4d5b-96cd-27b64a6c0747",
   "metadata": {},
   "outputs": [],
   "source": []
  },
  {
   "cell_type": "markdown",
   "id": "b26e2651-81fa-4644-8d55-88cf41de0220",
   "metadata": {},
   "source": [
    "### 5. Split train test"
   ]
  },
  {
   "cell_type": "code",
   "execution_count": 11,
   "id": "34caae76-693c-4351-ba2c-ec647857cf25",
   "metadata": {},
   "outputs": [],
   "source": [
    "# RANDOM split train test\n",
    "X_train, X_test, y_train, y_test = train_test_split(data[list_features], \n",
    "                                                    data[list_target], \n",
    "                                                    test_size = 0.2, \n",
    "                                                    random_state=42\n",
    "                                                   )"
   ]
  },
  {
   "cell_type": "code",
   "execution_count": 12,
   "id": "02aa5eba-5014-4030-ba97-9aec00769af8",
   "metadata": {},
   "outputs": [],
   "source": [
    "# # TIME SERIES SPLIT\n",
    "# X_train, X_test, y_train, y_test = train_test_split(data[list_features], \n",
    "#                                                     data[list_target], \n",
    "#                                                     test_size = 0.2, \n",
    "#                                                     shuffle = False\n",
    "#                                                    )"
   ]
  },
  {
   "cell_type": "code",
   "execution_count": 13,
   "id": "57a7dd31-13bd-4cac-8236-313d91febcae",
   "metadata": {},
   "outputs": [],
   "source": [
    "### save data TRAIN - TEST\n",
    "name_model = 'd0eop_microkappa'\n",
    "\n",
    "\n",
    "# ---\n",
    "# save X_train\n",
    "path_X_train = f'artifacts/data_training/{name_model}/X_train.pkl'\n",
    "with open(path_X_train, \"wb\") as output:\n",
    "    pickle.dump(X_train, output)\n",
    "    output.close()\n",
    "\n",
    "# save y_train\n",
    "path_y_train = f'artifacts/data_training/{name_model}/y_train.pkl'\n",
    "with open(path_y_train, \"wb\") as output:\n",
    "    pickle.dump(y_train, output)\n",
    "    output.close()\n",
    "\n",
    "\n",
    "# ---\n",
    "# save X_test\n",
    "path_X_test = f'artifacts/data_training/{name_model}/X_test.pkl'\n",
    "with open(path_X_test, \"wb\") as output:\n",
    "    pickle.dump(X_test, output)\n",
    "    output.close()\n",
    "\n",
    "# save y_test\n",
    "path_y_test = f'artifacts/data_training/{name_model}/y_test.pkl'\n",
    "with open(path_y_test, \"wb\") as output:\n",
    "    pickle.dump(y_test, output)\n",
    "    output.close()"
   ]
  },
  {
   "cell_type": "code",
   "execution_count": null,
   "id": "f12d9f37-84a2-406d-ae6f-24d79a450a09",
   "metadata": {},
   "outputs": [],
   "source": []
  },
  {
   "cell_type": "markdown",
   "id": "a30daded-646f-4219-9872-776b65eb0cfe",
   "metadata": {},
   "source": [
    "## PIECEWISE\n",
    "Divide data according the most important feature to predict microkappa (or some feature important to improve the capacity of the models)"
   ]
  },
  {
   "cell_type": "markdown",
   "id": "8ed9061a-d92f-449c-a4b1-659d7514d0ef",
   "metadata": {},
   "source": [
    "### I) Generate threshold"
   ]
  },
  {
   "cell_type": "code",
   "execution_count": 14,
   "id": "6eeebecb-71ac-4a2d-8502-3bd7704725b2",
   "metadata": {},
   "outputs": [],
   "source": [
    "# tag_segment_data = '240AIT063A.PNT' # kappa\n",
    "tag_segment_data = 'calc_prod_d0' # production"
   ]
  },
  {
   "cell_type": "code",
   "execution_count": 15,
   "id": "e4c853bc-b54b-49e0-b119-9e27ebdc1a82",
   "metadata": {},
   "outputs": [
    {
     "data": {
      "text/plain": [
       "count    114560.000000\n",
       "mean       3347.454799\n",
       "std         200.428784\n",
       "min        2402.488000\n",
       "25%        3231.930750\n",
       "50%        3388.352000\n",
       "75%        3497.427500\n",
       "max        3756.465500\n",
       "Name: calc_prod_d0, dtype: float64"
      ]
     },
     "execution_count": 15,
     "metadata": {},
     "output_type": "execute_result"
    }
   ],
   "source": [
    "X_train[tag_segment_data].describe()"
   ]
  },
  {
   "cell_type": "code",
   "execution_count": 16,
   "id": "e05c6a4b-2bf0-4179-bd5b-42ba4a8be8c6",
   "metadata": {},
   "outputs": [
    {
     "data": {
      "text/plain": [
       "<Axes: >"
      ]
     },
     "execution_count": 16,
     "metadata": {},
     "output_type": "execute_result"
    },
    {
     "data": {
      "image/png": "[encoded data removed]",
      "text/plain": [
       "<Figure size 640x480 with 1 Axes>"
      ]
     },
     "metadata": {},
     "output_type": "display_data"
    }
   ],
   "source": [
    "X_train[tag_segment_data].hist(bins = 30)"
   ]
  },
  {
   "cell_type": "code",
   "execution_count": 17,
   "id": "dd7233b6-8351-4f32-8d6c-378c394bc9f0",
   "metadata": {},
   "outputs": [],
   "source": [
    "####### THRESHOLD SPLIT DATA\n",
    "threshold_segment_data = 3300"
   ]
  },
  {
   "cell_type": "code",
   "execution_count": null,
   "id": "fbb45a9e-f832-48af-a0a7-8fa701ab434b",
   "metadata": {},
   "outputs": [],
   "source": []
  },
  {
   "cell_type": "code",
   "execution_count": null,
   "id": "d2998fac-24ba-4f83-b659-44a6fb7c194e",
   "metadata": {},
   "outputs": [],
   "source": []
  },
  {
   "cell_type": "markdown",
   "id": "16d2e987-5a56-41f4-bbf7-70f3b6466439",
   "metadata": {},
   "source": [
    "### II) Generate data X_train, y_train, X_test, y_test according threshold - PIECEWISE MODEL"
   ]
  },
  {
   "cell_type": "code",
   "execution_count": 18,
   "id": "18f7efc6-82ab-4e64-bc0c-6363920b9af4",
   "metadata": {},
   "outputs": [],
   "source": [
    "# split X_train\n",
    "X_train_low = X_train[X_train[tag_segment_data] <= threshold_segment_data]\n",
    "X_train_high = X_train[X_train[tag_segment_data] > threshold_segment_data]\n",
    "\n",
    "# split X_test\n",
    "X_test_low = X_test[X_test[tag_segment_data] <= threshold_segment_data]\n",
    "X_test_high = X_test[X_test[tag_segment_data] > threshold_segment_data]\n",
    "\n",
    "##--------\n",
    "##--------\n",
    "\n",
    "# split y_train\n",
    "y_train_low = y_train.loc[X_train_low.index]\n",
    "y_train_high = y_train.loc[X_train_high.index]\n",
    "\n",
    "# split y_test\n",
    "y_test_low = y_test.loc[X_test_low.index]\n",
    "y_test_high = y_test.loc[X_test_high.index]"
   ]
  },
  {
   "cell_type": "code",
   "execution_count": 19,
   "id": "fe571067-a4f4-4820-9cc3-314939ddbec1",
   "metadata": {},
   "outputs": [
    {
     "name": "stdout",
     "output_type": "stream",
     "text": [
      "-----------------------------------\n",
      "X_train_low:  (38486, 10)\n",
      "X_train_high:  (76074, 10)\n",
      "X_test_low:  (9637, 10)\n",
      "X_test_high:  (19003, 10)\n",
      "-----------------------------------\n",
      "y_train_low:  (38486, 1)\n",
      "y_train_high:  (76074, 1)\n",
      "y_test_low:  (9637, 1)\n",
      "y_test_high:  (19003, 1)\n"
     ]
    }
   ],
   "source": [
    "print('-----------------------------------')\n",
    "print('X_train_low: ', X_train_low.shape)\n",
    "print('X_train_high: ', X_train_high.shape)\n",
    "print('X_test_low: ', X_test_low.shape)\n",
    "print('X_test_high: ', X_test_high.shape)\n",
    "\n",
    "print('-----------------------------------')\n",
    "print('y_train_low: ', y_train_low.shape)\n",
    "print('y_train_high: ', y_train_high.shape)\n",
    "print('y_test_low: ', y_test_low.shape)\n",
    "print('y_test_high: ', y_test_high.shape)"
   ]
  },
  {
   "cell_type": "code",
   "execution_count": null,
   "id": "c195cc99-256c-4dbc-8b4f-61466303e68a",
   "metadata": {},
   "outputs": [],
   "source": []
  },
  {
   "cell_type": "markdown",
   "id": "a45ff8fc-2bd1-4ab4-863c-dfa05947bd39",
   "metadata": {},
   "source": [
    "### 6. Train lr and evaluate R2"
   ]
  },
  {
   "cell_type": "markdown",
   "id": "f1244c56-86cc-4743-b5bf-b369339a8184",
   "metadata": {},
   "source": [
    "#### LR segment low"
   ]
  },
  {
   "cell_type": "code",
   "execution_count": 20,
   "id": "39f9fb1c-3bc2-40bb-b5e7-0693348c7496",
   "metadata": {},
   "outputs": [
    {
     "data": {
      "text/html": [
       "<style>#sk-container-id-1 {color: black;}#sk-container-id-1 pre{padding: 0;}#sk-container-id-1 div.sk-toggleable {background-color: white;}#sk-container-id-1 label.sk-toggleable__label {cursor: pointer;display: block;width: 100%;margin-bottom: 0;padding: 0.3em;box-sizing: border-box;text-align: center;}#sk-container-id-1 label.sk-toggleable__label-arrow:before {content: \"▸\";float: left;margin-right: 0.25em;color: #696969;}#sk-container-id-1 label.sk-toggleable__label-arrow:hover:before {color: black;}#sk-container-id-1 div.sk-estimator:hover label.sk-toggleable__label-arrow:before {color: black;}#sk-container-id-1 div.sk-toggleable__content {max-height: 0;max-width: 0;overflow: hidden;text-align: left;background-color: #f0f8ff;}#sk-container-id-1 div.sk-toggleable__content pre {margin: 0.2em;color: black;border-radius: 0.25em;background-color: #f0f8ff;}#sk-container-id-1 input.sk-toggleable__control:checked~div.sk-toggleable__content {max-height: 200px;max-width: 100%;overflow: auto;}#sk-container-id-1 input.sk-toggleable__control:checked~label.sk-toggleable__label-arrow:before {content: \"▾\";}#sk-container-id-1 div.sk-estimator input.sk-toggleable__control:checked~label.sk-toggleable__label {background-color: #d4ebff;}#sk-container-id-1 div.sk-label input.sk-toggleable__control:checked~label.sk-toggleable__label {background-color: #d4ebff;}#sk-container-id-1 input.sk-hidden--visually {border: 0;clip: rect(1px 1px 1px 1px);clip: rect(1px, 1px, 1px, 1px);height: 1px;margin: -1px;overflow: hidden;padding: 0;position: absolute;width: 1px;}#sk-container-id-1 div.sk-estimator {font-family: monospace;background-color: #f0f8ff;border: 1px dotted black;border-radius: 0.25em;box-sizing: border-box;margin-bottom: 0.5em;}#sk-container-id-1 div.sk-estimator:hover {background-color: #d4ebff;}#sk-container-id-1 div.sk-parallel-item::after {content: \"\";width: 100%;border-bottom: 1px solid gray;flex-grow: 1;}#sk-container-id-1 div.sk-label:hover label.sk-toggleable__label {background-color: #d4ebff;}#sk-container-id-1 div.sk-serial::before {content: \"\";position: absolute;border-left: 1px solid gray;box-sizing: border-box;top: 0;bottom: 0;left: 50%;z-index: 0;}#sk-container-id-1 div.sk-serial {display: flex;flex-direction: column;align-items: center;background-color: white;padding-right: 0.2em;padding-left: 0.2em;position: relative;}#sk-container-id-1 div.sk-item {position: relative;z-index: 1;}#sk-container-id-1 div.sk-parallel {display: flex;align-items: stretch;justify-content: center;background-color: white;position: relative;}#sk-container-id-1 div.sk-item::before, #sk-container-id-1 div.sk-parallel-item::before {content: \"\";position: absolute;border-left: 1px solid gray;box-sizing: border-box;top: 0;bottom: 0;left: 50%;z-index: -1;}#sk-container-id-1 div.sk-parallel-item {display: flex;flex-direction: column;z-index: 1;position: relative;background-color: white;}#sk-container-id-1 div.sk-parallel-item:first-child::after {align-self: flex-end;width: 50%;}#sk-container-id-1 div.sk-parallel-item:last-child::after {align-self: flex-start;width: 50%;}#sk-container-id-1 div.sk-parallel-item:only-child::after {width: 0;}#sk-container-id-1 div.sk-dashed-wrapped {border: 1px dashed gray;margin: 0 0.4em 0.5em 0.4em;box-sizing: border-box;padding-bottom: 0.4em;background-color: white;}#sk-container-id-1 div.sk-label label {font-family: monospace;font-weight: bold;display: inline-block;line-height: 1.2em;}#sk-container-id-1 div.sk-label-container {text-align: center;}#sk-container-id-1 div.sk-container {/* jupyter's `normalize.less` sets `[hidden] { display: none; }` but bootstrap.min.css set `[hidden] { display: none !important; }` so we also need the `!important` here to be able to override the default hidden behavior on the sphinx rendered scikit-learn.org. See: https://github.com/scikit-learn/scikit-learn/issues/21755 */display: inline-block !important;position: relative;}#sk-container-id-1 div.sk-text-repr-fallback {display: none;}</style><div id=\"sk-container-id-1\" class=\"sk-top-container\"><div class=\"sk-text-repr-fallback\"><pre>Pipeline(steps=[(&#x27;scaler&#x27;, StandardScaler()),\n",
       "                (&#x27;poly_feature_2&#x27;, PolynomialFeatures(degree=3)),\n",
       "                (&#x27;lr_low&#x27;, LinearRegression())])</pre><b>In a Jupyter environment, please rerun this cell to show the HTML representation or trust the notebook. <br />On GitHub, the HTML representation is unable to render, please try loading this page with nbviewer.org.</b></div><div class=\"sk-container\" hidden><div class=\"sk-item sk-dashed-wrapped\"><div class=\"sk-label-container\"><div class=\"sk-label sk-toggleable\"><input class=\"sk-toggleable__control sk-hidden--visually\" id=\"sk-estimator-id-1\" type=\"checkbox\" ><label for=\"sk-estimator-id-1\" class=\"sk-toggleable__label sk-toggleable__label-arrow\">Pipeline</label><div class=\"sk-toggleable__content\"><pre>Pipeline(steps=[(&#x27;scaler&#x27;, StandardScaler()),\n",
       "                (&#x27;poly_feature_2&#x27;, PolynomialFeatures(degree=3)),\n",
       "                (&#x27;lr_low&#x27;, LinearRegression())])</pre></div></div></div><div class=\"sk-serial\"><div class=\"sk-item\"><div class=\"sk-estimator sk-toggleable\"><input class=\"sk-toggleable__control sk-hidden--visually\" id=\"sk-estimator-id-2\" type=\"checkbox\" ><label for=\"sk-estimator-id-2\" class=\"sk-toggleable__label sk-toggleable__label-arrow\">StandardScaler</label><div class=\"sk-toggleable__content\"><pre>StandardScaler()</pre></div></div></div><div class=\"sk-item\"><div class=\"sk-estimator sk-toggleable\"><input class=\"sk-toggleable__control sk-hidden--visually\" id=\"sk-estimator-id-3\" type=\"checkbox\" ><label for=\"sk-estimator-id-3\" class=\"sk-toggleable__label sk-toggleable__label-arrow\">PolynomialFeatures</label><div class=\"sk-toggleable__content\"><pre>PolynomialFeatures(degree=3)</pre></div></div></div><div class=\"sk-item\"><div class=\"sk-estimator sk-toggleable\"><input class=\"sk-toggleable__control sk-hidden--visually\" id=\"sk-estimator-id-4\" type=\"checkbox\" ><label for=\"sk-estimator-id-4\" class=\"sk-toggleable__label sk-toggleable__label-arrow\">LinearRegression</label><div class=\"sk-toggleable__content\"><pre>LinearRegression()</pre></div></div></div></div></div></div></div>"
      ],
      "text/plain": [
       "Pipeline(steps=[('scaler', StandardScaler()),\n",
       "                ('poly_feature_2', PolynomialFeatures(degree=3)),\n",
       "                ('lr_low', LinearRegression())])"
      ]
     },
     "execution_count": 20,
     "metadata": {},
     "output_type": "execute_result"
    }
   ],
   "source": [
    "# train lr\n",
    "lr_low_model = LinearRegression()\n",
    "\n",
    "lr_low = Pipeline([\n",
    "    ('scaler', StandardScaler() ), # minmax scaler its not supported by gurobi\n",
    "    ('poly_feature_2', PolynomialFeatures(3)),\n",
    "    ('lr_low',  lr_low_model)\n",
    "])\n",
    "\n",
    "lr_low.fit(X_train_low, y_train_low)"
   ]
  },
  {
   "cell_type": "code",
   "execution_count": 21,
   "id": "403e3764-7b4b-4035-82ac-63f57a5f563e",
   "metadata": {},
   "outputs": [
    {
     "name": "stdout",
     "output_type": "stream",
     "text": [
      "r2_train:  0.7654719959123631\n",
      "r2_test:  0.7638923480987189\n"
     ]
    }
   ],
   "source": [
    "# r2 score\n",
    "r2_lr_low_train = lr_low.score(X_train_low, y_train_low)\n",
    "r2_lr_low_test = lr_low.score(X_test_low, y_test_low)\n",
    "\n",
    "print('r2_train: ', r2_lr_low_train)\n",
    "print('r2_test: ', r2_lr_low_test)"
   ]
  },
  {
   "cell_type": "markdown",
   "id": "a16a2e66-a59b-441c-b8ba-95c0a87f9c2c",
   "metadata": {},
   "source": [
    "#### LR segment high"
   ]
  },
  {
   "cell_type": "code",
   "execution_count": 22,
   "id": "c39fe238-3e37-4319-82c1-77b7ee4ff370",
   "metadata": {},
   "outputs": [
    {
     "data": {
      "text/html": [
       "<style>#sk-container-id-2 {color: black;}#sk-container-id-2 pre{padding: 0;}#sk-container-id-2 div.sk-toggleable {background-color: white;}#sk-container-id-2 label.sk-toggleable__label {cursor: pointer;display: block;width: 100%;margin-bottom: 0;padding: 0.3em;box-sizing: border-box;text-align: center;}#sk-container-id-2 label.sk-toggleable__label-arrow:before {content: \"▸\";float: left;margin-right: 0.25em;color: #696969;}#sk-container-id-2 label.sk-toggleable__label-arrow:hover:before {color: black;}#sk-container-id-2 div.sk-estimator:hover label.sk-toggleable__label-arrow:before {color: black;}#sk-container-id-2 div.sk-toggleable__content {max-height: 0;max-width: 0;overflow: hidden;text-align: left;background-color: #f0f8ff;}#sk-container-id-2 div.sk-toggleable__content pre {margin: 0.2em;color: black;border-radius: 0.25em;background-color: #f0f8ff;}#sk-container-id-2 input.sk-toggleable__control:checked~div.sk-toggleable__content {max-height: 200px;max-width: 100%;overflow: auto;}#sk-container-id-2 input.sk-toggleable__control:checked~label.sk-toggleable__label-arrow:before {content: \"▾\";}#sk-container-id-2 div.sk-estimator input.sk-toggleable__control:checked~label.sk-toggleable__label {background-color: #d4ebff;}#sk-container-id-2 div.sk-label input.sk-toggleable__control:checked~label.sk-toggleable__label {background-color: #d4ebff;}#sk-container-id-2 input.sk-hidden--visually {border: 0;clip: rect(1px 1px 1px 1px);clip: rect(1px, 1px, 1px, 1px);height: 1px;margin: -1px;overflow: hidden;padding: 0;position: absolute;width: 1px;}#sk-container-id-2 div.sk-estimator {font-family: monospace;background-color: #f0f8ff;border: 1px dotted black;border-radius: 0.25em;box-sizing: border-box;margin-bottom: 0.5em;}#sk-container-id-2 div.sk-estimator:hover {background-color: #d4ebff;}#sk-container-id-2 div.sk-parallel-item::after {content: \"\";width: 100%;border-bottom: 1px solid gray;flex-grow: 1;}#sk-container-id-2 div.sk-label:hover label.sk-toggleable__label {background-color: #d4ebff;}#sk-container-id-2 div.sk-serial::before {content: \"\";position: absolute;border-left: 1px solid gray;box-sizing: border-box;top: 0;bottom: 0;left: 50%;z-index: 0;}#sk-container-id-2 div.sk-serial {display: flex;flex-direction: column;align-items: center;background-color: white;padding-right: 0.2em;padding-left: 0.2em;position: relative;}#sk-container-id-2 div.sk-item {position: relative;z-index: 1;}#sk-container-id-2 div.sk-parallel {display: flex;align-items: stretch;justify-content: center;background-color: white;position: relative;}#sk-container-id-2 div.sk-item::before, #sk-container-id-2 div.sk-parallel-item::before {content: \"\";position: absolute;border-left: 1px solid gray;box-sizing: border-box;top: 0;bottom: 0;left: 50%;z-index: -1;}#sk-container-id-2 div.sk-parallel-item {display: flex;flex-direction: column;z-index: 1;position: relative;background-color: white;}#sk-container-id-2 div.sk-parallel-item:first-child::after {align-self: flex-end;width: 50%;}#sk-container-id-2 div.sk-parallel-item:last-child::after {align-self: flex-start;width: 50%;}#sk-container-id-2 div.sk-parallel-item:only-child::after {width: 0;}#sk-container-id-2 div.sk-dashed-wrapped {border: 1px dashed gray;margin: 0 0.4em 0.5em 0.4em;box-sizing: border-box;padding-bottom: 0.4em;background-color: white;}#sk-container-id-2 div.sk-label label {font-family: monospace;font-weight: bold;display: inline-block;line-height: 1.2em;}#sk-container-id-2 div.sk-label-container {text-align: center;}#sk-container-id-2 div.sk-container {/* jupyter's `normalize.less` sets `[hidden] { display: none; }` but bootstrap.min.css set `[hidden] { display: none !important; }` so we also need the `!important` here to be able to override the default hidden behavior on the sphinx rendered scikit-learn.org. See: https://github.com/scikit-learn/scikit-learn/issues/21755 */display: inline-block !important;position: relative;}#sk-container-id-2 div.sk-text-repr-fallback {display: none;}</style><div id=\"sk-container-id-2\" class=\"sk-top-container\"><div class=\"sk-text-repr-fallback\"><pre>Pipeline(steps=[(&#x27;scaler&#x27;, StandardScaler()),\n",
       "                (&#x27;poly_feature_2&#x27;, PolynomialFeatures(degree=3)),\n",
       "                (&#x27;lr_high&#x27;, LinearRegression())])</pre><b>In a Jupyter environment, please rerun this cell to show the HTML representation or trust the notebook. <br />On GitHub, the HTML representation is unable to render, please try loading this page with nbviewer.org.</b></div><div class=\"sk-container\" hidden><div class=\"sk-item sk-dashed-wrapped\"><div class=\"sk-label-container\"><div class=\"sk-label sk-toggleable\"><input class=\"sk-toggleable__control sk-hidden--visually\" id=\"sk-estimator-id-5\" type=\"checkbox\" ><label for=\"sk-estimator-id-5\" class=\"sk-toggleable__label sk-toggleable__label-arrow\">Pipeline</label><div class=\"sk-toggleable__content\"><pre>Pipeline(steps=[(&#x27;scaler&#x27;, StandardScaler()),\n",
       "                (&#x27;poly_feature_2&#x27;, PolynomialFeatures(degree=3)),\n",
       "                (&#x27;lr_high&#x27;, LinearRegression())])</pre></div></div></div><div class=\"sk-serial\"><div class=\"sk-item\"><div class=\"sk-estimator sk-toggleable\"><input class=\"sk-toggleable__control sk-hidden--visually\" id=\"sk-estimator-id-6\" type=\"checkbox\" ><label for=\"sk-estimator-id-6\" class=\"sk-toggleable__label sk-toggleable__label-arrow\">StandardScaler</label><div class=\"sk-toggleable__content\"><pre>StandardScaler()</pre></div></div></div><div class=\"sk-item\"><div class=\"sk-estimator sk-toggleable\"><input class=\"sk-toggleable__control sk-hidden--visually\" id=\"sk-estimator-id-7\" type=\"checkbox\" ><label for=\"sk-estimator-id-7\" class=\"sk-toggleable__label sk-toggleable__label-arrow\">PolynomialFeatures</label><div class=\"sk-toggleable__content\"><pre>PolynomialFeatures(degree=3)</pre></div></div></div><div class=\"sk-item\"><div class=\"sk-estimator sk-toggleable\"><input class=\"sk-toggleable__control sk-hidden--visually\" id=\"sk-estimator-id-8\" type=\"checkbox\" ><label for=\"sk-estimator-id-8\" class=\"sk-toggleable__label sk-toggleable__label-arrow\">LinearRegression</label><div class=\"sk-toggleable__content\"><pre>LinearRegression()</pre></div></div></div></div></div></div></div>"
      ],
      "text/plain": [
       "Pipeline(steps=[('scaler', StandardScaler()),\n",
       "                ('poly_feature_2', PolynomialFeatures(degree=3)),\n",
       "                ('lr_high', LinearRegression())])"
      ]
     },
     "execution_count": 22,
     "metadata": {},
     "output_type": "execute_result"
    }
   ],
   "source": [
    "# train lr\n",
    "lr_high_model = LinearRegression()\n",
    "\n",
    "lr_high = Pipeline([\n",
    "    ('scaler', StandardScaler() ), # minmax scaler its not supported by gurobi\n",
    "    ('poly_feature_2', PolynomialFeatures(3)),\n",
    "    ('lr_high',  lr_high_model)\n",
    "])\n",
    "\n",
    "lr_high.fit(X_train_high, y_train_high)"
   ]
  },
  {
   "cell_type": "code",
   "execution_count": 23,
   "id": "3bca81c2-d795-4353-9d96-62da51336d1f",
   "metadata": {},
   "outputs": [
    {
     "name": "stdout",
     "output_type": "stream",
     "text": [
      "r2_train:  0.6213938270578336\n",
      "r2_test:  0.6191127631385778\n"
     ]
    }
   ],
   "source": [
    "# r2 score\n",
    "r2_lr_high_train = lr_high.score(X_train_high, y_train_high)\n",
    "r2_lr_high_test = lr_high.score(X_test_high, y_test_high)\n",
    "\n",
    "print('r2_train: ', r2_lr_high_train)\n",
    "print('r2_test: ', r2_lr_high_test)"
   ]
  },
  {
   "cell_type": "code",
   "execution_count": null,
   "id": "bf5b8713-9ee4-4a17-9731-93b4f30188c4",
   "metadata": {},
   "outputs": [],
   "source": []
  },
  {
   "cell_type": "code",
   "execution_count": null,
   "id": "e3481a88-d416-46a4-b76c-e8a3023312a3",
   "metadata": {},
   "outputs": [],
   "source": []
  },
  {
   "cell_type": "code",
   "execution_count": null,
   "id": "8a5e76ca-65ea-425f-b9d9-9129c004d096",
   "metadata": {},
   "outputs": [],
   "source": []
  },
  {
   "cell_type": "code",
   "execution_count": null,
   "id": "61ad8408-6148-4b3c-847a-56a33af4c905",
   "metadata": {},
   "outputs": [],
   "source": []
  },
  {
   "cell_type": "markdown",
   "id": "47eebc67-c7d0-4c0c-a527-876df22d0231",
   "metadata": {},
   "source": [
    "## SAVE OUTPUTS TRAINING\n",
    "\n",
    "Al terminar el entrenamiento, los siguientes outputs deben de ser generados:\n",
    "\n",
    "----\n",
    "#### Artefacto Analitico:\n",
    "- **modelo entrenado** y guardado como pkl\n",
    "\n",
    "----\n",
    "#### Listado de features:\n",
    "- **listado de features** (listado de todas las features que ve el modelo)\n",
    "\n",
    "- **listado de features variables controlables** (listado de todas las features que ve el modelo y que son variables controlables y por lo tanto\n",
    "variables de decisión en un modelo de optimización)\n",
    "\n",
    "- **listado de target** (lista con el target del modelo)\n",
    "\n",
    "\n",
    "----\n",
    "#### Example Input:\n",
    "- **X_train.head(1)**: se necesita saber el orden de las features utilizadas y los nombres de las columnas. Ambos se deben de respetar. Con el listado de features se debe de poder deducir, pero de todas formas se guarda un ejemplo de la instancia de entrenamiento X"
   ]
  },
  {
   "cell_type": "code",
   "execution_count": 24,
   "id": "e9b1060a-ec0e-4430-a9e1-bbb70678b326",
   "metadata": {},
   "outputs": [],
   "source": [
    "name_model = 'd0eop_microkappa'"
   ]
  },
  {
   "cell_type": "code",
   "execution_count": null,
   "id": "d4f6ab2d-3668-4d60-9448-18859bc29351",
   "metadata": {},
   "outputs": [],
   "source": []
  },
  {
   "cell_type": "markdown",
   "id": "704ef282-86db-4bec-8d86-d8417d714799",
   "metadata": {},
   "source": [
    "### 1. Save artifact model\n",
    "Versioning of models are not development in this example"
   ]
  },
  {
   "cell_type": "markdown",
   "id": "399b4a47-ef25-4ebf-a509-cc1f35d5d7ee",
   "metadata": {},
   "source": [
    "#### 1.1 model low"
   ]
  },
  {
   "cell_type": "code",
   "execution_count": 25,
   "id": "07cf62ee-8006-4a37-8676-876a82b8f97a",
   "metadata": {},
   "outputs": [],
   "source": [
    "artifact_model_to_save_low = lr_low\n",
    "\n",
    "# save model\n",
    "path_model_low = f'artifacts/models/{name_model}/model_low.pkl'\n",
    "with open(path_model_low, \"wb\") as output:\n",
    "    pickle.dump(artifact_model_to_save_low, output)\n",
    "    output.close()"
   ]
  },
  {
   "cell_type": "code",
   "execution_count": 26,
   "id": "3fbc0fee-f911-40d2-becf-de1ed974f359",
   "metadata": {},
   "outputs": [
    {
     "data": {
      "text/html": [
       "<style>#sk-container-id-3 {color: black;}#sk-container-id-3 pre{padding: 0;}#sk-container-id-3 div.sk-toggleable {background-color: white;}#sk-container-id-3 label.sk-toggleable__label {cursor: pointer;display: block;width: 100%;margin-bottom: 0;padding: 0.3em;box-sizing: border-box;text-align: center;}#sk-container-id-3 label.sk-toggleable__label-arrow:before {content: \"▸\";float: left;margin-right: 0.25em;color: #696969;}#sk-container-id-3 label.sk-toggleable__label-arrow:hover:before {color: black;}#sk-container-id-3 div.sk-estimator:hover label.sk-toggleable__label-arrow:before {color: black;}#sk-container-id-3 div.sk-toggleable__content {max-height: 0;max-width: 0;overflow: hidden;text-align: left;background-color: #f0f8ff;}#sk-container-id-3 div.sk-toggleable__content pre {margin: 0.2em;color: black;border-radius: 0.25em;background-color: #f0f8ff;}#sk-container-id-3 input.sk-toggleable__control:checked~div.sk-toggleable__content {max-height: 200px;max-width: 100%;overflow: auto;}#sk-container-id-3 input.sk-toggleable__control:checked~label.sk-toggleable__label-arrow:before {content: \"▾\";}#sk-container-id-3 div.sk-estimator input.sk-toggleable__control:checked~label.sk-toggleable__label {background-color: #d4ebff;}#sk-container-id-3 div.sk-label input.sk-toggleable__control:checked~label.sk-toggleable__label {background-color: #d4ebff;}#sk-container-id-3 input.sk-hidden--visually {border: 0;clip: rect(1px 1px 1px 1px);clip: rect(1px, 1px, 1px, 1px);height: 1px;margin: -1px;overflow: hidden;padding: 0;position: absolute;width: 1px;}#sk-container-id-3 div.sk-estimator {font-family: monospace;background-color: #f0f8ff;border: 1px dotted black;border-radius: 0.25em;box-sizing: border-box;margin-bottom: 0.5em;}#sk-container-id-3 div.sk-estimator:hover {background-color: #d4ebff;}#sk-container-id-3 div.sk-parallel-item::after {content: \"\";width: 100%;border-bottom: 1px solid gray;flex-grow: 1;}#sk-container-id-3 div.sk-label:hover label.sk-toggleable__label {background-color: #d4ebff;}#sk-container-id-3 div.sk-serial::before {content: \"\";position: absolute;border-left: 1px solid gray;box-sizing: border-box;top: 0;bottom: 0;left: 50%;z-index: 0;}#sk-container-id-3 div.sk-serial {display: flex;flex-direction: column;align-items: center;background-color: white;padding-right: 0.2em;padding-left: 0.2em;position: relative;}#sk-container-id-3 div.sk-item {position: relative;z-index: 1;}#sk-container-id-3 div.sk-parallel {display: flex;align-items: stretch;justify-content: center;background-color: white;position: relative;}#sk-container-id-3 div.sk-item::before, #sk-container-id-3 div.sk-parallel-item::before {content: \"\";position: absolute;border-left: 1px solid gray;box-sizing: border-box;top: 0;bottom: 0;left: 50%;z-index: -1;}#sk-container-id-3 div.sk-parallel-item {display: flex;flex-direction: column;z-index: 1;position: relative;background-color: white;}#sk-container-id-3 div.sk-parallel-item:first-child::after {align-self: flex-end;width: 50%;}#sk-container-id-3 div.sk-parallel-item:last-child::after {align-self: flex-start;width: 50%;}#sk-container-id-3 div.sk-parallel-item:only-child::after {width: 0;}#sk-container-id-3 div.sk-dashed-wrapped {border: 1px dashed gray;margin: 0 0.4em 0.5em 0.4em;box-sizing: border-box;padding-bottom: 0.4em;background-color: white;}#sk-container-id-3 div.sk-label label {font-family: monospace;font-weight: bold;display: inline-block;line-height: 1.2em;}#sk-container-id-3 div.sk-label-container {text-align: center;}#sk-container-id-3 div.sk-container {/* jupyter's `normalize.less` sets `[hidden] { display: none; }` but bootstrap.min.css set `[hidden] { display: none !important; }` so we also need the `!important` here to be able to override the default hidden behavior on the sphinx rendered scikit-learn.org. See: https://github.com/scikit-learn/scikit-learn/issues/21755 */display: inline-block !important;position: relative;}#sk-container-id-3 div.sk-text-repr-fallback {display: none;}</style><div id=\"sk-container-id-3\" class=\"sk-top-container\"><div class=\"sk-text-repr-fallback\"><pre>Pipeline(steps=[(&#x27;scaler&#x27;, StandardScaler()),\n",
       "                (&#x27;poly_feature_2&#x27;, PolynomialFeatures(degree=3)),\n",
       "                (&#x27;lr_low&#x27;, LinearRegression())])</pre><b>In a Jupyter environment, please rerun this cell to show the HTML representation or trust the notebook. <br />On GitHub, the HTML representation is unable to render, please try loading this page with nbviewer.org.</b></div><div class=\"sk-container\" hidden><div class=\"sk-item sk-dashed-wrapped\"><div class=\"sk-label-container\"><div class=\"sk-label sk-toggleable\"><input class=\"sk-toggleable__control sk-hidden--visually\" id=\"sk-estimator-id-9\" type=\"checkbox\" ><label for=\"sk-estimator-id-9\" class=\"sk-toggleable__label sk-toggleable__label-arrow\">Pipeline</label><div class=\"sk-toggleable__content\"><pre>Pipeline(steps=[(&#x27;scaler&#x27;, StandardScaler()),\n",
       "                (&#x27;poly_feature_2&#x27;, PolynomialFeatures(degree=3)),\n",
       "                (&#x27;lr_low&#x27;, LinearRegression())])</pre></div></div></div><div class=\"sk-serial\"><div class=\"sk-item\"><div class=\"sk-estimator sk-toggleable\"><input class=\"sk-toggleable__control sk-hidden--visually\" id=\"sk-estimator-id-10\" type=\"checkbox\" ><label for=\"sk-estimator-id-10\" class=\"sk-toggleable__label sk-toggleable__label-arrow\">StandardScaler</label><div class=\"sk-toggleable__content\"><pre>StandardScaler()</pre></div></div></div><div class=\"sk-item\"><div class=\"sk-estimator sk-toggleable\"><input class=\"sk-toggleable__control sk-hidden--visually\" id=\"sk-estimator-id-11\" type=\"checkbox\" ><label for=\"sk-estimator-id-11\" class=\"sk-toggleable__label sk-toggleable__label-arrow\">PolynomialFeatures</label><div class=\"sk-toggleable__content\"><pre>PolynomialFeatures(degree=3)</pre></div></div></div><div class=\"sk-item\"><div class=\"sk-estimator sk-toggleable\"><input class=\"sk-toggleable__control sk-hidden--visually\" id=\"sk-estimator-id-12\" type=\"checkbox\" ><label for=\"sk-estimator-id-12\" class=\"sk-toggleable__label sk-toggleable__label-arrow\">LinearRegression</label><div class=\"sk-toggleable__content\"><pre>LinearRegression()</pre></div></div></div></div></div></div></div>"
      ],
      "text/plain": [
       "Pipeline(steps=[('scaler', StandardScaler()),\n",
       "                ('poly_feature_2', PolynomialFeatures(degree=3)),\n",
       "                ('lr_low', LinearRegression())])"
      ]
     },
     "execution_count": 26,
     "metadata": {},
     "output_type": "execute_result"
    }
   ],
   "source": [
    "# print model saved to gurobi\n",
    "artifact_model_to_save_low"
   ]
  },
  {
   "cell_type": "code",
   "execution_count": null,
   "id": "3f8ab2c6-8ac2-4679-a6fd-814c22478d52",
   "metadata": {},
   "outputs": [],
   "source": []
  },
  {
   "cell_type": "markdown",
   "id": "c0b127fb-1a49-4c10-b427-f68432335c37",
   "metadata": {},
   "source": [
    "#### 1.2 model high"
   ]
  },
  {
   "cell_type": "code",
   "execution_count": 27,
   "id": "8c51697b-5c9a-4060-8165-c89ba9388a00",
   "metadata": {},
   "outputs": [],
   "source": [
    "artifact_model_to_save_high = lr_high\n",
    "\n",
    "# save model\n",
    "path_model_high = f'artifacts/models/{name_model}/model_high.pkl'\n",
    "with open(path_model_high, \"wb\") as output:\n",
    "    pickle.dump(artifact_model_to_save_high, output)\n",
    "    output.close()"
   ]
  },
  {
   "cell_type": "code",
   "execution_count": 28,
   "id": "c19197b6-468d-4b46-b6c0-cc8cb5931aea",
   "metadata": {},
   "outputs": [
    {
     "data": {
      "text/html": [
       "<style>#sk-container-id-4 {color: black;}#sk-container-id-4 pre{padding: 0;}#sk-container-id-4 div.sk-toggleable {background-color: white;}#sk-container-id-4 label.sk-toggleable__label {cursor: pointer;display: block;width: 100%;margin-bottom: 0;padding: 0.3em;box-sizing: border-box;text-align: center;}#sk-container-id-4 label.sk-toggleable__label-arrow:before {content: \"▸\";float: left;margin-right: 0.25em;color: #696969;}#sk-container-id-4 label.sk-toggleable__label-arrow:hover:before {color: black;}#sk-container-id-4 div.sk-estimator:hover label.sk-toggleable__label-arrow:before {color: black;}#sk-container-id-4 div.sk-toggleable__content {max-height: 0;max-width: 0;overflow: hidden;text-align: left;background-color: #f0f8ff;}#sk-container-id-4 div.sk-toggleable__content pre {margin: 0.2em;color: black;border-radius: 0.25em;background-color: #f0f8ff;}#sk-container-id-4 input.sk-toggleable__control:checked~div.sk-toggleable__content {max-height: 200px;max-width: 100%;overflow: auto;}#sk-container-id-4 input.sk-toggleable__control:checked~label.sk-toggleable__label-arrow:before {content: \"▾\";}#sk-container-id-4 div.sk-estimator input.sk-toggleable__control:checked~label.sk-toggleable__label {background-color: #d4ebff;}#sk-container-id-4 div.sk-label input.sk-toggleable__control:checked~label.sk-toggleable__label {background-color: #d4ebff;}#sk-container-id-4 input.sk-hidden--visually {border: 0;clip: rect(1px 1px 1px 1px);clip: rect(1px, 1px, 1px, 1px);height: 1px;margin: -1px;overflow: hidden;padding: 0;position: absolute;width: 1px;}#sk-container-id-4 div.sk-estimator {font-family: monospace;background-color: #f0f8ff;border: 1px dotted black;border-radius: 0.25em;box-sizing: border-box;margin-bottom: 0.5em;}#sk-container-id-4 div.sk-estimator:hover {background-color: #d4ebff;}#sk-container-id-4 div.sk-parallel-item::after {content: \"\";width: 100%;border-bottom: 1px solid gray;flex-grow: 1;}#sk-container-id-4 div.sk-label:hover label.sk-toggleable__label {background-color: #d4ebff;}#sk-container-id-4 div.sk-serial::before {content: \"\";position: absolute;border-left: 1px solid gray;box-sizing: border-box;top: 0;bottom: 0;left: 50%;z-index: 0;}#sk-container-id-4 div.sk-serial {display: flex;flex-direction: column;align-items: center;background-color: white;padding-right: 0.2em;padding-left: 0.2em;position: relative;}#sk-container-id-4 div.sk-item {position: relative;z-index: 1;}#sk-container-id-4 div.sk-parallel {display: flex;align-items: stretch;justify-content: center;background-color: white;position: relative;}#sk-container-id-4 div.sk-item::before, #sk-container-id-4 div.sk-parallel-item::before {content: \"\";position: absolute;border-left: 1px solid gray;box-sizing: border-box;top: 0;bottom: 0;left: 50%;z-index: -1;}#sk-container-id-4 div.sk-parallel-item {display: flex;flex-direction: column;z-index: 1;position: relative;background-color: white;}#sk-container-id-4 div.sk-parallel-item:first-child::after {align-self: flex-end;width: 50%;}#sk-container-id-4 div.sk-parallel-item:last-child::after {align-self: flex-start;width: 50%;}#sk-container-id-4 div.sk-parallel-item:only-child::after {width: 0;}#sk-container-id-4 div.sk-dashed-wrapped {border: 1px dashed gray;margin: 0 0.4em 0.5em 0.4em;box-sizing: border-box;padding-bottom: 0.4em;background-color: white;}#sk-container-id-4 div.sk-label label {font-family: monospace;font-weight: bold;display: inline-block;line-height: 1.2em;}#sk-container-id-4 div.sk-label-container {text-align: center;}#sk-container-id-4 div.sk-container {/* jupyter's `normalize.less` sets `[hidden] { display: none; }` but bootstrap.min.css set `[hidden] { display: none !important; }` so we also need the `!important` here to be able to override the default hidden behavior on the sphinx rendered scikit-learn.org. See: https://github.com/scikit-learn/scikit-learn/issues/21755 */display: inline-block !important;position: relative;}#sk-container-id-4 div.sk-text-repr-fallback {display: none;}</style><div id=\"sk-container-id-4\" class=\"sk-top-container\"><div class=\"sk-text-repr-fallback\"><pre>Pipeline(steps=[(&#x27;scaler&#x27;, StandardScaler()),\n",
       "                (&#x27;poly_feature_2&#x27;, PolynomialFeatures(degree=3)),\n",
       "                (&#x27;lr_high&#x27;, LinearRegression())])</pre><b>In a Jupyter environment, please rerun this cell to show the HTML representation or trust the notebook. <br />On GitHub, the HTML representation is unable to render, please try loading this page with nbviewer.org.</b></div><div class=\"sk-container\" hidden><div class=\"sk-item sk-dashed-wrapped\"><div class=\"sk-label-container\"><div class=\"sk-label sk-toggleable\"><input class=\"sk-toggleable__control sk-hidden--visually\" id=\"sk-estimator-id-13\" type=\"checkbox\" ><label for=\"sk-estimator-id-13\" class=\"sk-toggleable__label sk-toggleable__label-arrow\">Pipeline</label><div class=\"sk-toggleable__content\"><pre>Pipeline(steps=[(&#x27;scaler&#x27;, StandardScaler()),\n",
       "                (&#x27;poly_feature_2&#x27;, PolynomialFeatures(degree=3)),\n",
       "                (&#x27;lr_high&#x27;, LinearRegression())])</pre></div></div></div><div class=\"sk-serial\"><div class=\"sk-item\"><div class=\"sk-estimator sk-toggleable\"><input class=\"sk-toggleable__control sk-hidden--visually\" id=\"sk-estimator-id-14\" type=\"checkbox\" ><label for=\"sk-estimator-id-14\" class=\"sk-toggleable__label sk-toggleable__label-arrow\">StandardScaler</label><div class=\"sk-toggleable__content\"><pre>StandardScaler()</pre></div></div></div><div class=\"sk-item\"><div class=\"sk-estimator sk-toggleable\"><input class=\"sk-toggleable__control sk-hidden--visually\" id=\"sk-estimator-id-15\" type=\"checkbox\" ><label for=\"sk-estimator-id-15\" class=\"sk-toggleable__label sk-toggleable__label-arrow\">PolynomialFeatures</label><div class=\"sk-toggleable__content\"><pre>PolynomialFeatures(degree=3)</pre></div></div></div><div class=\"sk-item\"><div class=\"sk-estimator sk-toggleable\"><input class=\"sk-toggleable__control sk-hidden--visually\" id=\"sk-estimator-id-16\" type=\"checkbox\" ><label for=\"sk-estimator-id-16\" class=\"sk-toggleable__label sk-toggleable__label-arrow\">LinearRegression</label><div class=\"sk-toggleable__content\"><pre>LinearRegression()</pre></div></div></div></div></div></div></div>"
      ],
      "text/plain": [
       "Pipeline(steps=[('scaler', StandardScaler()),\n",
       "                ('poly_feature_2', PolynomialFeatures(degree=3)),\n",
       "                ('lr_high', LinearRegression())])"
      ]
     },
     "execution_count": 28,
     "metadata": {},
     "output_type": "execute_result"
    }
   ],
   "source": [
    "# print model saved to gurobi\n",
    "artifact_model_to_save_high"
   ]
  },
  {
   "cell_type": "code",
   "execution_count": null,
   "id": "51781b65-8f6e-4c66-b742-1d0a9fdcb1cb",
   "metadata": {},
   "outputs": [],
   "source": []
  },
  {
   "cell_type": "markdown",
   "id": "427d2071-8574-4723-8064-23117ddd440e",
   "metadata": {},
   "source": [
    "### 2. Save list of features\n",
    "Save table master tag only with the tags used to train the model. \n",
    "\n",
    "OBS IMPORTANT: remember that the list of features was sorted according the master table so this order was used to train. Also this table has the differentation between no-controlable, controlable and targer variables"
   ]
  },
  {
   "cell_type": "code",
   "execution_count": 29,
   "id": "72ec53d7-f0e8-4fe5-a786-ca6c8da83e24",
   "metadata": {},
   "outputs": [],
   "source": [
    "# generate a list of features + target\n",
    "list_features_target = list_features + list_target\n",
    "\n",
    "# filter master tag with only the features+target used to train the ml models\n",
    "maestro_tags = maestro_tags[maestro_tags['TAG'].isin(list_features_target)]\n",
    "maestro_tags = maestro_tags.reset_index().drop(columns = 'index')"
   ]
  },
  {
   "cell_type": "code",
   "execution_count": 30,
   "id": "e804afc5-c724-484d-80a8-0f8d8695322b",
   "metadata": {},
   "outputs": [],
   "source": [
    "# save master in config folder that will used to create the optimization engine\n",
    "path_list_features_target_to_optimization = f'config/optimization_engine/ml_models/MaestroTags-{name_model}-general.xlsx'\n",
    "maestro_tags.to_excel(path_list_features_target_to_optimization, index = False)"
   ]
  },
  {
   "cell_type": "code",
   "execution_count": null,
   "id": "af99df27-9771-47d7-9ad8-d54a133b7991",
   "metadata": {},
   "outputs": [],
   "source": []
  },
  {
   "cell_type": "markdown",
   "id": "7d378abe-4dec-4e1b-8710-4bd1f5644eed",
   "metadata": {},
   "source": [
    "### 3. Save example input"
   ]
  },
  {
   "cell_type": "code",
   "execution_count": 31,
   "id": "e424962b-9c4e-4120-8d8c-bc0ea1886b08",
   "metadata": {},
   "outputs": [
    {
     "data": {
      "text/html": [
       "<div>\n",
       "<style scoped>\n",
       "    .dataframe tbody tr th:only-of-type {\n",
       "        vertical-align: middle;\n",
       "    }\n",
       "\n",
       "    .dataframe tbody tr th {\n",
       "        vertical-align: top;\n",
       "    }\n",
       "\n",
       "    .dataframe thead th {\n",
       "        text-align: right;\n",
       "    }\n",
       "</style>\n",
       "<table border=\"1\" class=\"dataframe\">\n",
       "  <thead>\n",
       "    <tr style=\"text-align: right;\">\n",
       "      <th></th>\n",
       "      <th>calc_prod_d0</th>\n",
       "      <th>240AIC022.MEAS</th>\n",
       "      <th>240AIT063B.PNT</th>\n",
       "      <th>240AIT063A.PNT</th>\n",
       "      <th>S276PER002</th>\n",
       "      <th>SSTRIPPING015</th>\n",
       "      <th>240FY050.RO02</th>\n",
       "      <th>240FY11PB.RO01</th>\n",
       "      <th>240FY118B.RO01</th>\n",
       "      <th>240FY107A.RO01</th>\n",
       "    </tr>\n",
       "    <tr>\n",
       "      <th>datetime</th>\n",
       "      <th></th>\n",
       "      <th></th>\n",
       "      <th></th>\n",
       "      <th></th>\n",
       "      <th></th>\n",
       "      <th></th>\n",
       "      <th></th>\n",
       "      <th></th>\n",
       "      <th></th>\n",
       "      <th></th>\n",
       "    </tr>\n",
       "  </thead>\n",
       "  <tbody>\n",
       "    <tr>\n",
       "      <th>2022-05-19 06:10:00</th>\n",
       "      <td>3666.8315</td>\n",
       "      <td>3.018025</td>\n",
       "      <td>61.48198</td>\n",
       "      <td>6.910001</td>\n",
       "      <td>11.28</td>\n",
       "      <td>489.0</td>\n",
       "      <td>6.656102</td>\n",
       "      <td>5.811579</td>\n",
       "      <td>0.999272</td>\n",
       "      <td>9.314641</td>\n",
       "    </tr>\n",
       "  </tbody>\n",
       "</table>\n",
       "</div>"
      ],
      "text/plain": [
       "                     calc_prod_d0  240AIC022.MEAS  240AIT063B.PNT  \\\n",
       "datetime                                                            \n",
       "2022-05-19 06:10:00     3666.8315        3.018025        61.48198   \n",
       "\n",
       "                     240AIT063A.PNT  S276PER002  SSTRIPPING015  240FY050.RO02  \\\n",
       "datetime                                                                        \n",
       "2022-05-19 06:10:00        6.910001       11.28          489.0       6.656102   \n",
       "\n",
       "                     240FY11PB.RO01  240FY118B.RO01  240FY107A.RO01  \n",
       "datetime                                                             \n",
       "2022-05-19 06:10:00        5.811579        0.999272        9.314641  "
      ]
     },
     "execution_count": 31,
     "metadata": {},
     "output_type": "execute_result"
    }
   ],
   "source": [
    "# example input\n",
    "example_input = X_train.head(1)\n",
    "example_input"
   ]
  },
  {
   "cell_type": "code",
   "execution_count": 32,
   "id": "c0ade7dc-f52c-4057-8f42-6f45a26cb561",
   "metadata": {},
   "outputs": [],
   "source": [
    "# save example input\n",
    "\n",
    "path_example_input_ml_model = f'config/optimization_engine/ml_models/ExampleInputsModels-{name_model}.xlsx'\n",
    "example_input.to_excel(path_example_input_ml_model)"
   ]
  },
  {
   "cell_type": "code",
   "execution_count": null,
   "id": "d8960452-e789-4dab-99ea-0070a0da6e38",
   "metadata": {},
   "outputs": [],
   "source": []
  },
  {
   "cell_type": "markdown",
   "id": "a276b61d-62c3-491f-ad8e-c78784d41ab6",
   "metadata": {},
   "source": [
    "### 4. Save configuration piecewise model\n",
    "Save the tag, threshold that divide the data to use differents models. Also save the name of the model used. This output is usefull when a piecewise model is trained (segmented models acording a threshold in one or more features)\n",
    "\n",
    "**This output need to be always generated to connect to the optimization engine. Only it is usefull when a piecewise model was trained, but in order to conserve the same structure across all models, this file needs to be generated always**"
   ]
  },
  {
   "cell_type": "code",
   "execution_count": 35,
   "id": "de28ff1b-dcbf-496e-8dc6-b9a37c19ca1b",
   "metadata": {},
   "outputs": [
    {
     "data": {
      "text/plain": [
       "{'Segmentation_Production': {'tag': 'calc_prod_d0',\n",
       "  'threshold': [3300],\n",
       "  'names_pkl_models': ['model_low', 'model_high']}}"
      ]
     },
     "execution_count": 35,
     "metadata": {},
     "output_type": "execute_result"
    }
   ],
   "source": [
    "# generate a dictionary with all model info\n",
    "dict_model_info = {}\n",
    "\n",
    "# generate a dictionary with info specific segmentation. Conserve the lists structure (list to multiple threshold into multiple models)\n",
    "info_piecewise = {\"tag\": tag_segment_data,\n",
    "                 \"threshold\": [threshold_segment_data], \n",
    "                 \"names_pkl_models\": [\"model_low\", \"model_high\"] # names of pkl of models trained. Altough no segmentation trained, this name is important to save correctly\n",
    "                }\n",
    "\n",
    "# append into global dict\n",
    "dict_model_info[\"Segmentation_Production\"] = info_piecewise\n",
    "\n",
    "dict_model_info"
   ]
  },
  {
   "cell_type": "code",
   "execution_count": 36,
   "id": "fe01a93e-c973-46af-a072-09235b5d3d22",
   "metadata": {},
   "outputs": [],
   "source": [
    "import json\n",
    "path_json_info_model = f'config/optimization_engine/ml_models/InfoModel-{name_model}.json'\n",
    "with open(path_json_info_model, 'w') as archivo:\n",
    "    json.dump(dict_model_info, archivo)"
   ]
  },
  {
   "cell_type": "code",
   "execution_count": null,
   "id": "a1436f3a-6663-45ee-88df-0fb9e80855e2",
   "metadata": {},
   "outputs": [],
   "source": []
  }
 ],
 "metadata": {
  "kernelspec": {
   "display_name": "Python 3 (ipykernel)",
   "language": "python",
   "name": "python3"
  },
  "language_info": {
   "codemirror_mode": {
    "name": "ipython",
    "version": 3
   },
   "file_extension": ".py",
   "mimetype": "text/x-python",
   "name": "python",
   "nbconvert_exporter": "python",
   "pygments_lexer": "ipython3",
   "version": "3.10.12"
  }
 },
 "nbformat": 4,
 "nbformat_minor": 5
}
