{
 "cells": [
  {
   "cell_type": "markdown",
   "id": "c43faa4d-db0f-4cd3-a093-19438ecae397",
   "metadata": {},
   "source": [
    "# Modeling d0eop_microkappa\n",
    "Using the feautures of the stage p predict the blancura salida etapa P - blancura en línea\n",
    "\n",
    "-------\n",
    "**INFO MODEL**\n",
    "- **stage**: p\n",
    "- **target**: blancura"
   ]
  },
  {
   "cell_type": "markdown",
   "id": "b922bd84-6691-4e5a-92c9-dac5fd7dadbd",
   "metadata": {},
   "source": [
    "## Root folder and read env variables"
   ]
  },
  {
   "cell_type": "code",
   "execution_count": 1,
   "id": "b846b3c3-ef67-4a3c-8b9d-3b3796b61fb3",
   "metadata": {},
   "outputs": [
    {
     "name": "stdout",
     "output_type": "stream",
     "text": [
      "root path:  D:\\github-mi-repo\\Optimization-Industrial-Process-Advanced\n"
     ]
    }
   ],
   "source": [
    "import os\n",
    "# fix root path to save outputs\n",
    "actual_path = os.path.abspath(os.getcwd())\n",
    "list_root_path = actual_path.split('\\\\')[:-1]\n",
    "root_path = '\\\\'.join(list_root_path)\n",
    "os.chdir(root_path)\n",
    "print('root path: ', root_path)"
   ]
  },
  {
   "cell_type": "code",
   "execution_count": 2,
   "id": "cd3c0576-ebc2-4df8-9bea-50f29844198a",
   "metadata": {},
   "outputs": [],
   "source": [
    "import os\n",
    "from dotenv import load_dotenv, find_dotenv # package used in jupyter notebook to read the variables in file .env\n",
    "\n",
    "\"\"\" get env variable from .env \"\"\"\n",
    "load_dotenv(find_dotenv())\n",
    "\n",
    "\"\"\" Read env variables and save it as python variable \"\"\"\n",
    "PROJECT_GCP = os.environ.get(\"PROJECT_GCP\", \"\")"
   ]
  },
  {
   "cell_type": "code",
   "execution_count": null,
   "id": "e2bab0f8-b9f4-4887-bd70-1790163eab22",
   "metadata": {},
   "outputs": [],
   "source": []
  },
  {
   "cell_type": "markdown",
   "id": "ddd36dbb-2fb7-4476-96ef-b1ef520e3133",
   "metadata": {},
   "source": [
    "## RUN TRAINING"
   ]
  },
  {
   "cell_type": "code",
   "execution_count": 3,
   "id": "c29ac8e0",
   "metadata": {},
   "outputs": [],
   "source": [
    "import pandas as pd\n",
    "import numpy as np\n",
    "from google.cloud import bigquery\n",
    "import gcsfs\n",
    "import pickle\n",
    "\n",
    "from sklearn.model_selection import train_test_split\n",
    "\n",
    "from sklearn.pipeline import Pipeline\n",
    "\n",
    "# transform\n",
    "from sklearn.preprocessing import MinMaxScaler\n",
    "from sklearn.preprocessing import StandardScaler\n",
    "from sklearn.preprocessing import PolynomialFeatures\n",
    "\n",
    "# models\n",
    "from sklearn.linear_model import LinearRegression # lr\n",
    "from sklearn.linear_model import Ridge # ridge\n",
    "from sklearn.linear_model import Lasso # lasso\n",
    "from sklearn.tree import DecisionTreeRegressor # tree\n",
    "from sklearn.ensemble import GradientBoostingRegressor #gb\n",
    "from sklearn.ensemble import RandomForestRegressor #rf\n",
    "#from xgboost import XGBRegressor # xgb\n",
    "from  sklearn.neural_network import MLPRegressor # mlp"
   ]
  },
  {
   "cell_type": "code",
   "execution_count": 4,
   "id": "c30fb690",
   "metadata": {},
   "outputs": [],
   "source": [
    "# ### desarrollo\n",
    "\n",
    "# PROJECT_ID = PROJECT_GCP\n",
    "# ! gcloud config set project $PROJECT_ID"
   ]
  },
  {
   "cell_type": "code",
   "execution_count": null,
   "id": "330fcbba-795b-4620-9721-aaa3162bd344",
   "metadata": {},
   "outputs": [],
   "source": []
  },
  {
   "cell_type": "markdown",
   "id": "f42f283e-afc8-42bf-b79f-70dd9384f88a",
   "metadata": {},
   "source": [
    "### 1. Read data"
   ]
  },
  {
   "cell_type": "code",
   "execution_count": 5,
   "id": "3ccee55f",
   "metadata": {},
   "outputs": [
    {
     "data": {
      "text/html": [
       "<div>\n",
       "<style scoped>\n",
       "    .dataframe tbody tr th:only-of-type {\n",
       "        vertical-align: middle;\n",
       "    }\n",
       "\n",
       "    .dataframe tbody tr th {\n",
       "        vertical-align: top;\n",
       "    }\n",
       "\n",
       "    .dataframe thead th {\n",
       "        text-align: right;\n",
       "    }\n",
       "</style>\n",
       "<table border=\"1\" class=\"dataframe\">\n",
       "  <thead>\n",
       "    <tr style=\"text-align: right;\">\n",
       "      <th></th>\n",
       "      <th>230AIT446.PNT</th>\n",
       "      <th>240AIC022.MEAS</th>\n",
       "      <th>240AIC126.MEAS</th>\n",
       "      <th>240AIC224.MEAS</th>\n",
       "      <th>240AIC286.MEAS</th>\n",
       "      <th>240AIC324.MEAS</th>\n",
       "      <th>240AIC433.MEAS</th>\n",
       "      <th>240AIT063A.PNT</th>\n",
       "      <th>240AIT063B.PNT</th>\n",
       "      <th>240AIT225A.PNT</th>\n",
       "      <th>...</th>\n",
       "      <th>S240ALDP022</th>\n",
       "      <th>S240ALDP031</th>\n",
       "      <th>S240ALDP032</th>\n",
       "      <th>S276PER002</th>\n",
       "      <th>S2MAQUINAT07</th>\n",
       "      <th>S76ALE017</th>\n",
       "      <th>SSTRIPPING015</th>\n",
       "      <th>calc_prod_d0</th>\n",
       "      <th>calc_prod_d1</th>\n",
       "      <th>calc_prod_p</th>\n",
       "    </tr>\n",
       "    <tr>\n",
       "      <th>datetime</th>\n",
       "      <th></th>\n",
       "      <th></th>\n",
       "      <th></th>\n",
       "      <th></th>\n",
       "      <th></th>\n",
       "      <th></th>\n",
       "      <th></th>\n",
       "      <th></th>\n",
       "      <th></th>\n",
       "      <th></th>\n",
       "      <th></th>\n",
       "      <th></th>\n",
       "      <th></th>\n",
       "      <th></th>\n",
       "      <th></th>\n",
       "      <th></th>\n",
       "      <th></th>\n",
       "      <th></th>\n",
       "      <th></th>\n",
       "      <th></th>\n",
       "      <th></th>\n",
       "    </tr>\n",
       "  </thead>\n",
       "  <tbody>\n",
       "    <tr>\n",
       "      <th>2021-01-01 00:05:00</th>\n",
       "      <td>11.555040</td>\n",
       "      <td>2.983948</td>\n",
       "      <td>11.346645</td>\n",
       "      <td>4.413519</td>\n",
       "      <td>4.352375</td>\n",
       "      <td>10.441675</td>\n",
       "      <td>4.292521</td>\n",
       "      <td>5.869320</td>\n",
       "      <td>62.37495</td>\n",
       "      <td>1.837519</td>\n",
       "      <td>...</td>\n",
       "      <td>91.49</td>\n",
       "      <td>1.8</td>\n",
       "      <td>11.4</td>\n",
       "      <td>11.77</td>\n",
       "      <td>1.5712</td>\n",
       "      <td>173.6</td>\n",
       "      <td>964.0</td>\n",
       "      <td>3240.8635</td>\n",
       "      <td>3313.6215</td>\n",
       "      <td>3259.3745</td>\n",
       "    </tr>\n",
       "    <tr>\n",
       "      <th>2021-01-01 00:10:00</th>\n",
       "      <td>11.552320</td>\n",
       "      <td>3.015669</td>\n",
       "      <td>11.353215</td>\n",
       "      <td>4.413179</td>\n",
       "      <td>4.347186</td>\n",
       "      <td>10.432170</td>\n",
       "      <td>4.289684</td>\n",
       "      <td>5.869320</td>\n",
       "      <td>62.37495</td>\n",
       "      <td>1.814020</td>\n",
       "      <td>...</td>\n",
       "      <td>91.49</td>\n",
       "      <td>1.8</td>\n",
       "      <td>11.4</td>\n",
       "      <td>11.77</td>\n",
       "      <td>1.5712</td>\n",
       "      <td>173.6</td>\n",
       "      <td>964.0</td>\n",
       "      <td>3260.7475</td>\n",
       "      <td>3301.6920</td>\n",
       "      <td>3208.6785</td>\n",
       "    </tr>\n",
       "    <tr>\n",
       "      <th>2021-01-01 00:15:00</th>\n",
       "      <td>11.549955</td>\n",
       "      <td>3.018903</td>\n",
       "      <td>11.355525</td>\n",
       "      <td>4.408321</td>\n",
       "      <td>4.355828</td>\n",
       "      <td>10.410115</td>\n",
       "      <td>4.284427</td>\n",
       "      <td>5.869320</td>\n",
       "      <td>62.37495</td>\n",
       "      <td>1.814020</td>\n",
       "      <td>...</td>\n",
       "      <td>91.49</td>\n",
       "      <td>1.8</td>\n",
       "      <td>11.4</td>\n",
       "      <td>11.77</td>\n",
       "      <td>1.5712</td>\n",
       "      <td>173.6</td>\n",
       "      <td>964.0</td>\n",
       "      <td>3265.5765</td>\n",
       "      <td>3284.1330</td>\n",
       "      <td>3210.7790</td>\n",
       "    </tr>\n",
       "    <tr>\n",
       "      <th>2021-01-01 00:20:00</th>\n",
       "      <td>11.547145</td>\n",
       "      <td>3.001164</td>\n",
       "      <td>11.326725</td>\n",
       "      <td>4.408659</td>\n",
       "      <td>4.361292</td>\n",
       "      <td>10.379145</td>\n",
       "      <td>4.285478</td>\n",
       "      <td>5.835750</td>\n",
       "      <td>62.37495</td>\n",
       "      <td>1.814020</td>\n",
       "      <td>...</td>\n",
       "      <td>91.49</td>\n",
       "      <td>1.7</td>\n",
       "      <td>11.3</td>\n",
       "      <td>11.77</td>\n",
       "      <td>1.5712</td>\n",
       "      <td>173.6</td>\n",
       "      <td>964.0</td>\n",
       "      <td>3253.7750</td>\n",
       "      <td>3271.9260</td>\n",
       "      <td>3221.7745</td>\n",
       "    </tr>\n",
       "    <tr>\n",
       "      <th>2021-01-01 00:25:00</th>\n",
       "      <td>11.543160</td>\n",
       "      <td>3.017393</td>\n",
       "      <td>11.336345</td>\n",
       "      <td>4.408596</td>\n",
       "      <td>4.356374</td>\n",
       "      <td>10.387205</td>\n",
       "      <td>4.304148</td>\n",
       "      <td>5.802179</td>\n",
       "      <td>62.37495</td>\n",
       "      <td>1.814020</td>\n",
       "      <td>...</td>\n",
       "      <td>91.49</td>\n",
       "      <td>1.6</td>\n",
       "      <td>11.2</td>\n",
       "      <td>11.77</td>\n",
       "      <td>1.5712</td>\n",
       "      <td>173.6</td>\n",
       "      <td>964.0</td>\n",
       "      <td>3236.9790</td>\n",
       "      <td>3267.3050</td>\n",
       "      <td>3227.6935</td>\n",
       "    </tr>\n",
       "  </tbody>\n",
       "</table>\n",
       "<p>5 rows × 64 columns</p>\n",
       "</div>"
      ],
      "text/plain": [
       "                     230AIT446.PNT  240AIC022.MEAS  240AIC126.MEAS  \\\n",
       "datetime                                                             \n",
       "2021-01-01 00:05:00      11.555040        2.983948       11.346645   \n",
       "2021-01-01 00:10:00      11.552320        3.015669       11.353215   \n",
       "2021-01-01 00:15:00      11.549955        3.018903       11.355525   \n",
       "2021-01-01 00:20:00      11.547145        3.001164       11.326725   \n",
       "2021-01-01 00:25:00      11.543160        3.017393       11.336345   \n",
       "\n",
       "                     240AIC224.MEAS  240AIC286.MEAS  240AIC324.MEAS  \\\n",
       "datetime                                                              \n",
       "2021-01-01 00:05:00        4.413519        4.352375       10.441675   \n",
       "2021-01-01 00:10:00        4.413179        4.347186       10.432170   \n",
       "2021-01-01 00:15:00        4.408321        4.355828       10.410115   \n",
       "2021-01-01 00:20:00        4.408659        4.361292       10.379145   \n",
       "2021-01-01 00:25:00        4.408596        4.356374       10.387205   \n",
       "\n",
       "                     240AIC433.MEAS  240AIT063A.PNT  240AIT063B.PNT  \\\n",
       "datetime                                                              \n",
       "2021-01-01 00:05:00        4.292521        5.869320        62.37495   \n",
       "2021-01-01 00:10:00        4.289684        5.869320        62.37495   \n",
       "2021-01-01 00:15:00        4.284427        5.869320        62.37495   \n",
       "2021-01-01 00:20:00        4.285478        5.835750        62.37495   \n",
       "2021-01-01 00:25:00        4.304148        5.802179        62.37495   \n",
       "\n",
       "                     240AIT225A.PNT  ...  S240ALDP022  S240ALDP031  \\\n",
       "datetime                             ...                             \n",
       "2021-01-01 00:05:00        1.837519  ...        91.49          1.8   \n",
       "2021-01-01 00:10:00        1.814020  ...        91.49          1.8   \n",
       "2021-01-01 00:15:00        1.814020  ...        91.49          1.8   \n",
       "2021-01-01 00:20:00        1.814020  ...        91.49          1.7   \n",
       "2021-01-01 00:25:00        1.814020  ...        91.49          1.6   \n",
       "\n",
       "                     S240ALDP032  S276PER002  S2MAQUINAT07  S76ALE017  \\\n",
       "datetime                                                                \n",
       "2021-01-01 00:05:00         11.4       11.77        1.5712      173.6   \n",
       "2021-01-01 00:10:00         11.4       11.77        1.5712      173.6   \n",
       "2021-01-01 00:15:00         11.4       11.77        1.5712      173.6   \n",
       "2021-01-01 00:20:00         11.3       11.77        1.5712      173.6   \n",
       "2021-01-01 00:25:00         11.2       11.77        1.5712      173.6   \n",
       "\n",
       "                     SSTRIPPING015  calc_prod_d0  calc_prod_d1  calc_prod_p  \n",
       "datetime                                                                     \n",
       "2021-01-01 00:05:00          964.0     3240.8635     3313.6215    3259.3745  \n",
       "2021-01-01 00:10:00          964.0     3260.7475     3301.6920    3208.6785  \n",
       "2021-01-01 00:15:00          964.0     3265.5765     3284.1330    3210.7790  \n",
       "2021-01-01 00:20:00          964.0     3253.7750     3271.9260    3221.7745  \n",
       "2021-01-01 00:25:00          964.0     3236.9790     3267.3050    3227.6935  \n",
       "\n",
       "[5 rows x 64 columns]"
      ]
     },
     "execution_count": 5,
     "metadata": {},
     "output_type": "execute_result"
    }
   ],
   "source": [
    "path_data = 'artifacts/data/data.pkl'\n",
    "data = pd.read_pickle(path_data)\n",
    "data.head()"
   ]
  },
  {
   "cell_type": "code",
   "execution_count": null,
   "id": "a0b48266-914b-4ae0-a2dd-91a659d1637b",
   "metadata": {},
   "outputs": [],
   "source": []
  },
  {
   "cell_type": "code",
   "execution_count": null,
   "id": "6f660d3f-0848-4a12-ac70-d0f88aa6f148",
   "metadata": {},
   "outputs": [],
   "source": []
  },
  {
   "cell_type": "markdown",
   "id": "7adbc044-96f3-41a2-bc18-9b86a76d7db4",
   "metadata": {},
   "source": [
    "### 2. Define target\n",
    "All the stages could have multiple targets. But with the models supported by gurobi only accept models that predict one target"
   ]
  },
  {
   "cell_type": "code",
   "execution_count": 6,
   "id": "2f508ccb-1084-4f61-9ff8-ac426855b56d",
   "metadata": {},
   "outputs": [],
   "source": [
    "list_target = ['240AIT416B.PNT'] #blancura_salida_p"
   ]
  },
  {
   "cell_type": "code",
   "execution_count": null,
   "id": "34554a77-fca0-454a-b4b5-8e270b1c3a7d",
   "metadata": {},
   "outputs": [],
   "source": []
  },
  {
   "cell_type": "markdown",
   "id": "6c936d94-063c-48e3-a82a-15088a90dbe4",
   "metadata": {},
   "source": [
    "### 3. Define features\n",
    "In the exploratory data analysis you should select the features that will be use to predict the target. In this example, this features are defined manually in a list\n",
    "\n",
    "In stage D1, there are 2 VC - features controlables\n",
    "- peroxido p\n",
    "- soda p\n",
    "- acido p (obs see the correlation, this feature has no correlation but it is used in the costs of p stage)\n",
    "\n",
    "See the list of features controlables is a subset of list features controlables"
   ]
  },
  {
   "cell_type": "code",
   "execution_count": 7,
   "id": "25dff5a7-942e-4ae0-9ba5-d6e1a96b8d98",
   "metadata": {},
   "outputs": [],
   "source": [
    "list_features = [\n",
    "    \"240AIT322B.PNT\", #brillo_p\n",
    "    \"calc_prod_p\", #calc_prod_p\n",
    "    \"240FY312.RO01\", # especifico_soda_p - VC\n",
    "    \"240FY397.RO01\", #especifico_peroxido_p - VC\n",
    "    \"240AIC324.MEAS\", #ph_p,\n",
    "    \"240FY430.RO01\", #especifico_acido_p - VC\n",
    "]"
   ]
  },
  {
   "cell_type": "code",
   "execution_count": 8,
   "id": "dcedb4e4-ccb7-4152-9d0f-4e0d99b538ad",
   "metadata": {},
   "outputs": [],
   "source": [
    "# list_features_controlables = [    \n",
    "#     \"240FY312.RO01\", # especifico_soda_p - VC\n",
    "#     \"240FY397.RO01\", #especifico_peroxido_p - VC\n",
    "#     \"240FY430.RO01\", #especifico_acido_p - VC\n",
    "# ]"
   ]
  },
  {
   "cell_type": "code",
   "execution_count": null,
   "id": "836b2bd4-297b-4c80-8119-850248419a5c",
   "metadata": {},
   "outputs": [],
   "source": []
  },
  {
   "cell_type": "markdown",
   "id": "4379ff5f-2fa3-4c40-9877-fa53bd16eeb5",
   "metadata": {},
   "source": [
    "### 4. Read master tags data for this stage. Sort features used to train according this order"
   ]
  },
  {
   "cell_type": "code",
   "execution_count": 9,
   "id": "84153820-6137-4870-88dd-8dfc180b0e1d",
   "metadata": {},
   "outputs": [
    {
     "data": {
      "text/html": [
       "<div>\n",
       "<style scoped>\n",
       "    .dataframe tbody tr th:only-of-type {\n",
       "        vertical-align: middle;\n",
       "    }\n",
       "\n",
       "    .dataframe tbody tr th {\n",
       "        vertical-align: top;\n",
       "    }\n",
       "\n",
       "    .dataframe thead th {\n",
       "        text-align: right;\n",
       "    }\n",
       "</style>\n",
       "<table border=\"1\" class=\"dataframe\">\n",
       "  <thead>\n",
       "    <tr style=\"text-align: right;\">\n",
       "      <th></th>\n",
       "      <th>TAG</th>\n",
       "      <th>TAG_DESCRIPTION</th>\n",
       "      <th>DESCRIPCION</th>\n",
       "      <th>ETAPA</th>\n",
       "      <th>CLASIFICACION</th>\n",
       "      <th>USE_PREVIOUS_MODEL</th>\n",
       "      <th>USE_NEXT_MODEL</th>\n",
       "    </tr>\n",
       "  </thead>\n",
       "  <tbody>\n",
       "    <tr>\n",
       "      <th>0</th>\n",
       "      <td>240FI020A.PNT</td>\n",
       "      <td>prod_total</td>\n",
       "      <td>Producción Total</td>\n",
       "      <td>A</td>\n",
       "      <td>NC</td>\n",
       "      <td>NaN</td>\n",
       "      <td>NaN</td>\n",
       "    </tr>\n",
       "    <tr>\n",
       "      <th>1</th>\n",
       "      <td>calc_prod_p</td>\n",
       "      <td>calc_prod_p</td>\n",
       "      <td>Producción entrada P (prod entrada A desplazada)</td>\n",
       "      <td>P</td>\n",
       "      <td>NC</td>\n",
       "      <td>NaN</td>\n",
       "      <td>NaN</td>\n",
       "    </tr>\n",
       "    <tr>\n",
       "      <th>2</th>\n",
       "      <td>240AIT322A.PNT</td>\n",
       "      <td>kappa_p</td>\n",
       "      <td>Kppa salida D1 (entrada P)</td>\n",
       "      <td>P</td>\n",
       "      <td>NC</td>\n",
       "      <td>R - D1</td>\n",
       "      <td>NaN</td>\n",
       "    </tr>\n",
       "    <tr>\n",
       "      <th>3</th>\n",
       "      <td>240AIT322B.PNT</td>\n",
       "      <td>brillo_p</td>\n",
       "      <td>Brillo salida D1 (entrada P)</td>\n",
       "      <td>P</td>\n",
       "      <td>NC</td>\n",
       "      <td>R - D1</td>\n",
       "      <td>NaN</td>\n",
       "    </tr>\n",
       "    <tr>\n",
       "      <th>4</th>\n",
       "      <td>240AIC324.MEAS</td>\n",
       "      <td>ph_p</td>\n",
       "      <td>pH entrada P</td>\n",
       "      <td>P</td>\n",
       "      <td>NC</td>\n",
       "      <td>R - D1</td>\n",
       "      <td>NaN</td>\n",
       "    </tr>\n",
       "    <tr>\n",
       "      <th>5</th>\n",
       "      <td>240TIT323.PNT</td>\n",
       "      <td>temperatura_p</td>\n",
       "      <td>T° entrada P</td>\n",
       "      <td>P</td>\n",
       "      <td>NC</td>\n",
       "      <td>NaN</td>\n",
       "      <td>NaN</td>\n",
       "    </tr>\n",
       "    <tr>\n",
       "      <th>6</th>\n",
       "      <td>240FY397.RO01</td>\n",
       "      <td>especifico_peroxido_p</td>\n",
       "      <td>Esp Peróxido P</td>\n",
       "      <td>P</td>\n",
       "      <td>C</td>\n",
       "      <td>NaN</td>\n",
       "      <td>NaN</td>\n",
       "    </tr>\n",
       "    <tr>\n",
       "      <th>7</th>\n",
       "      <td>240FY312.RO01</td>\n",
       "      <td>especifico_soda_p</td>\n",
       "      <td>Esp Soda</td>\n",
       "      <td>P</td>\n",
       "      <td>C</td>\n",
       "      <td>NaN</td>\n",
       "      <td>NaN</td>\n",
       "    </tr>\n",
       "    <tr>\n",
       "      <th>8</th>\n",
       "      <td>240FY430.RO01</td>\n",
       "      <td>especifico_acido_p</td>\n",
       "      <td>Esp Acido tac blanca</td>\n",
       "      <td>P</td>\n",
       "      <td>C</td>\n",
       "      <td>NaN</td>\n",
       "      <td>NaN</td>\n",
       "    </tr>\n",
       "    <tr>\n",
       "      <th>9</th>\n",
       "      <td>240AIT416B.PNT</td>\n",
       "      <td>blancura_salida_p</td>\n",
       "      <td>Blancura Salida P linea</td>\n",
       "      <td>TAC</td>\n",
       "      <td>R</td>\n",
       "      <td>NaN</td>\n",
       "      <td>NaN</td>\n",
       "    </tr>\n",
       "  </tbody>\n",
       "</table>\n",
       "</div>"
      ],
      "text/plain": [
       "              TAG        TAG_DESCRIPTION  \\\n",
       "0   240FI020A.PNT             prod_total   \n",
       "1     calc_prod_p            calc_prod_p   \n",
       "2  240AIT322A.PNT                kappa_p   \n",
       "3  240AIT322B.PNT               brillo_p   \n",
       "4  240AIC324.MEAS                   ph_p   \n",
       "5   240TIT323.PNT          temperatura_p   \n",
       "6   240FY397.RO01  especifico_peroxido_p   \n",
       "7   240FY312.RO01      especifico_soda_p   \n",
       "8   240FY430.RO01     especifico_acido_p   \n",
       "9  240AIT416B.PNT      blancura_salida_p   \n",
       "\n",
       "                                        DESCRIPCION ETAPA CLASIFICACION  \\\n",
       "0                                  Producción Total     A            NC   \n",
       "1  Producción entrada P (prod entrada A desplazada)     P            NC   \n",
       "2                        Kppa salida D1 (entrada P)     P            NC   \n",
       "3                      Brillo salida D1 (entrada P)     P            NC   \n",
       "4                                      pH entrada P     P            NC   \n",
       "5                                      T° entrada P     P            NC   \n",
       "6                                    Esp Peróxido P     P             C   \n",
       "7                                          Esp Soda     P             C   \n",
       "8                              Esp Acido tac blanca     P             C   \n",
       "9                           Blancura Salida P linea   TAC             R   \n",
       "\n",
       "  USE_PREVIOUS_MODEL  USE_NEXT_MODEL  \n",
       "0                NaN             NaN  \n",
       "1                NaN             NaN  \n",
       "2             R - D1             NaN  \n",
       "3             R - D1             NaN  \n",
       "4             R - D1             NaN  \n",
       "5                NaN             NaN  \n",
       "6                NaN             NaN  \n",
       "7                NaN             NaN  \n",
       "8                NaN             NaN  \n",
       "9                NaN             NaN  "
      ]
     },
     "execution_count": 9,
     "metadata": {},
     "output_type": "execute_result"
    }
   ],
   "source": [
    "### read master table - list tags\n",
    "stage = 'p'\n",
    "path_maestro_tags_d0eop = f'config/config_ml_models_development/MaestroTags-{stage}-general.xlsx'\n",
    "maestro_tags = pd.read_excel(path_maestro_tags_d0eop)\n",
    "maestro_tags"
   ]
  },
  {
   "cell_type": "code",
   "execution_count": 10,
   "id": "60a872c7-4ae0-408a-b6fd-61c12d617304",
   "metadata": {},
   "outputs": [],
   "source": [
    "### sort list of features according the order in master table\n",
    "\n",
    "list_features = [tag for tag in maestro_tags['TAG'].tolist() if tag in list_features]\n",
    "#list_features_controlables = [tag for tag in maestro_tags['TAG'].tolist() if tag in list_features_controlables]"
   ]
  },
  {
   "cell_type": "code",
   "execution_count": null,
   "id": "4d48ba47-cdc3-44a7-ad78-bf42111389cb",
   "metadata": {},
   "outputs": [],
   "source": []
  },
  {
   "cell_type": "code",
   "execution_count": null,
   "id": "46308fa5-181b-481e-b30b-c09660ca3bd5",
   "metadata": {},
   "outputs": [],
   "source": []
  },
  {
   "cell_type": "markdown",
   "id": "b26e2651-81fa-4644-8d55-88cf41de0220",
   "metadata": {},
   "source": [
    "### 5. Split train test"
   ]
  },
  {
   "cell_type": "code",
   "execution_count": 11,
   "id": "34caae76-693c-4351-ba2c-ec647857cf25",
   "metadata": {},
   "outputs": [],
   "source": [
    "# RANDOM split train test\n",
    "X_train, X_test, y_train, y_test = train_test_split(data[list_features], \n",
    "                                                    data[list_target], \n",
    "                                                    test_size = 0.2, \n",
    "                                                    random_state=42\n",
    "                                                   )"
   ]
  },
  {
   "cell_type": "code",
   "execution_count": 12,
   "id": "73e09f05-e647-4c7f-a77a-d3aec0fd7d86",
   "metadata": {},
   "outputs": [
    {
     "data": {
      "text/plain": [
       "(28640, 1)"
      ]
     },
     "execution_count": 12,
     "metadata": {},
     "output_type": "execute_result"
    }
   ],
   "source": [
    "y_test.shape"
   ]
  },
  {
   "cell_type": "code",
   "execution_count": 13,
   "id": "45980a68-3b62-42ca-9689-2406f3355a37",
   "metadata": {},
   "outputs": [
    {
     "ename": "NameError",
     "evalue": "name 'stop' is not defined",
     "output_type": "error",
     "traceback": [
      "\u001b[1;31m---------------------------------------------------------------------------\u001b[0m",
      "\u001b[1;31mNameError\u001b[0m                                 Traceback (most recent call last)",
      "Cell \u001b[1;32mIn[13], line 1\u001b[0m\n\u001b[1;32m----> 1\u001b[0m \u001b[43mstop\u001b[49m\n",
      "\u001b[1;31mNameError\u001b[0m: name 'stop' is not defined"
     ]
    }
   ],
   "source": [
    "stop"
   ]
  },
  {
   "cell_type": "code",
   "execution_count": null,
   "id": "bb83b8e8-8032-420f-85c8-81d2752ebe6e",
   "metadata": {},
   "outputs": [],
   "source": [
    "# # TIME SERIES SPLIT\n",
    "# X_train, X_test, y_train, y_test = train_test_split(data[list_features], \n",
    "#                                                     data[list_target], \n",
    "#                                                     test_size = 0.2, \n",
    "#                                                     shuffle = False\n",
    "#                                                    )"
   ]
  },
  {
   "cell_type": "code",
   "execution_count": null,
   "id": "2c8a40bc-f2d6-46a6-b044-bd55605116df",
   "metadata": {},
   "outputs": [],
   "source": [
    "### save data TRAIN - TEST\n",
    "name_model = 'p_blancura'\n",
    "\n",
    "\n",
    "# ---\n",
    "# save X_train\n",
    "path_X_train = f'artifacts/data_training/{name_model}/X_train.pkl'\n",
    "with open(path_X_train, \"wb\") as output:\n",
    "    pickle.dump(X_train, output)\n",
    "    output.close()\n",
    "\n",
    "# save y_train\n",
    "path_y_train = f'artifacts/data_training/{name_model}/y_train.pkl'\n",
    "with open(path_y_train, \"wb\") as output:\n",
    "    pickle.dump(y_train, output)\n",
    "    output.close()\n",
    "\n",
    "\n",
    "# ---\n",
    "# save X_test\n",
    "path_X_test = f'artifacts/data_training/{name_model}/X_test.pkl'\n",
    "with open(path_X_test, \"wb\") as output:\n",
    "    pickle.dump(X_test, output)\n",
    "    output.close()\n",
    "\n",
    "# save y_test\n",
    "path_y_test = f'artifacts/data_training/{name_model}/y_test.pkl'\n",
    "with open(path_y_test, \"wb\") as output:\n",
    "    pickle.dump(y_test, output)\n",
    "    output.close()"
   ]
  },
  {
   "cell_type": "code",
   "execution_count": null,
   "id": "f65b2692-ffd7-497a-876a-5a351467cae8",
   "metadata": {},
   "outputs": [],
   "source": []
  },
  {
   "cell_type": "code",
   "execution_count": null,
   "id": "f1f79193-b3a4-410f-b619-23015c986e57",
   "metadata": {},
   "outputs": [],
   "source": []
  },
  {
   "cell_type": "code",
   "execution_count": null,
   "id": "f12d9f37-84a2-406d-ae6f-24d79a450a09",
   "metadata": {},
   "outputs": [],
   "source": []
  },
  {
   "cell_type": "markdown",
   "id": "a45ff8fc-2bd1-4ab4-863c-dfa05947bd39",
   "metadata": {},
   "source": [
    "### 6. Train lr and evaluate R2"
   ]
  },
  {
   "cell_type": "code",
   "execution_count": null,
   "id": "24fc282c-f78d-40a3-97ae-00adac18efc5",
   "metadata": {},
   "outputs": [],
   "source": [
    "# train lr\n",
    "lr_model = LinearRegression()\n",
    "\n",
    "lr = Pipeline([\n",
    "    ('scaler', StandardScaler() ), # minmax scaler its not supported by gurobi\n",
    "    ('poly_feature_2', PolynomialFeatures(2)),\n",
    "    ('lr',  lr_model)\n",
    "])\n",
    "\n",
    "lr.fit(X_train, y_train)"
   ]
  },
  {
   "cell_type": "code",
   "execution_count": null,
   "id": "833b7633-c32a-42c6-b03c-a5203cdb9921",
   "metadata": {},
   "outputs": [],
   "source": [
    "# r2 score\n",
    "r2_lr_train = lr.score(X_train, y_train)\n",
    "r2_lr_test = lr.score(X_test, y_test)\n",
    "\n",
    "print('r2_train: ', r2_lr_train)\n",
    "print('r2_test: ', r2_lr_test)"
   ]
  },
  {
   "cell_type": "code",
   "execution_count": null,
   "id": "61ad8408-6148-4b3c-847a-56a33af4c905",
   "metadata": {},
   "outputs": [],
   "source": []
  },
  {
   "cell_type": "markdown",
   "id": "30ed1698-c840-4091-a76b-22b48f7cb541",
   "metadata": {},
   "source": [
    "### 7. Train Gradient Boosting and evaluate R2"
   ]
  },
  {
   "cell_type": "code",
   "execution_count": null,
   "id": "cabb7faa-a98e-4625-8522-e6b87051e72d",
   "metadata": {},
   "outputs": [],
   "source": [
    "# train\n",
    "param_n_estimators = 100\n",
    "gb_simple_model = GradientBoostingRegressor(random_state = 42,\n",
    "                                     n_estimators = param_n_estimators,\n",
    "                                      min_samples_split = 0.05,\n",
    "                                    min_samples_leaf = 0.05,\n",
    "                                    #max_depth = 2)\n",
    "                                     )\n",
    "\n",
    "gb_simple = Pipeline([\n",
    "    ('poly_feature_2', PolynomialFeatures(2)),\n",
    "    ('scaler', StandardScaler() ), # minmax scaler its not supported by gurobi\n",
    "    ('gb_simple',  gb_simple_model)\n",
    "])\n",
    "\n",
    "gb_simple.fit(X_train, y_train)"
   ]
  },
  {
   "cell_type": "code",
   "execution_count": null,
   "id": "2399a57a-520a-4143-8697-905d54bf7115",
   "metadata": {},
   "outputs": [],
   "source": [
    "# r2 score\n",
    "r2_gb_simple_train = gb_simple.score(X_train, y_train)\n",
    "r2_gb_simple_test = gb_simple.score(X_test, y_test)\n",
    "\n",
    "print('r2_train: ', r2_gb_simple_train)\n",
    "print('r2_test: ', r2_gb_simple_test)"
   ]
  },
  {
   "cell_type": "code",
   "execution_count": null,
   "id": "81f70089-30e8-4794-84f3-4ce97295970b",
   "metadata": {},
   "outputs": [],
   "source": []
  },
  {
   "cell_type": "markdown",
   "id": "dbdcbfeb-8694-48f6-9274-0ad7a9b1cc8e",
   "metadata": {},
   "source": [
    "### 7. Train Random Forest and evaluate R2"
   ]
  },
  {
   "cell_type": "code",
   "execution_count": null,
   "id": "24ed4e02-3efe-42c8-9ed2-33220b516ebd",
   "metadata": {},
   "outputs": [],
   "source": [
    "# train\n",
    "param_n_trees = 100\n",
    "rf_simple_model = RandomForestRegressor(n_estimators = param_n_trees,\n",
    "                                  random_state = 42,\n",
    "                                 min_samples_split = 0.1,\n",
    "                                    min_samples_leaf = 0.1)\n",
    "                                   #max_depth = 2)\n",
    "\n",
    "rf_simple = Pipeline([\n",
    "    ('poly_feature_2', PolynomialFeatures(2)),\n",
    "    ('scaler', StandardScaler() ), # minmax scaler its not supported by gurobi\n",
    "    ('rf_simple',  rf_simple_model)\n",
    "])\n",
    "\n",
    "rf_simple.fit(X_train, y_train)"
   ]
  },
  {
   "cell_type": "code",
   "execution_count": null,
   "id": "c8d70e11-26bd-4dea-8e6e-8eea72fde69b",
   "metadata": {},
   "outputs": [],
   "source": [
    "# r2 score\n",
    "r2_rf_simple_train = rf_simple.score(X_train, y_train)\n",
    "r2_rf_simple_test = rf_simple.score(X_test, y_test)\n",
    "\n",
    "print('r2_train: ', r2_rf_simple_train)\n",
    "print('r2_test: ', r2_rf_simple_test)"
   ]
  },
  {
   "cell_type": "code",
   "execution_count": null,
   "id": "59b3a4c4-49a1-44c8-9e37-cfe28e52a59f",
   "metadata": {},
   "outputs": [],
   "source": []
  },
  {
   "cell_type": "markdown",
   "id": "abe18d46-177c-4ef9-b0fb-1243b1fda8f7",
   "metadata": {},
   "source": [
    "### 7. Train Random Forest V2 and evaluate R2"
   ]
  },
  {
   "cell_type": "code",
   "execution_count": null,
   "id": "87bbb0f5-5cdb-4b40-b8d6-808a054666b7",
   "metadata": {},
   "outputs": [],
   "source": [
    "# train\n",
    "rf_default_model = RandomForestRegressor(random_state = 42)\n",
    "\n",
    "rf_default = Pipeline([\n",
    "    ('poly_feature_2', PolynomialFeatures(2)),\n",
    "    ('scaler', StandardScaler() ), # minmax scaler its not supported by gurobi\n",
    "    ('rf_default',  rf_default_model)\n",
    "])\n",
    "\n",
    "rf_default.fit(X_train, y_train)"
   ]
  },
  {
   "cell_type": "code",
   "execution_count": null,
   "id": "ae250c12-5c56-4c75-834a-fd153fb05696",
   "metadata": {},
   "outputs": [],
   "source": [
    "# r2 score\n",
    "r2_rf_default_train = rf_default.score(X_train, y_train)\n",
    "r2_rf_default_test = rf_default.score(X_test, y_test)\n",
    "\n",
    "print('r2_train: ', r2_rf_default_train)\n",
    "print('r2_test: ', r2_rf_default_test)"
   ]
  },
  {
   "cell_type": "code",
   "execution_count": null,
   "id": "1eb01ce6-f112-451c-a463-9e78cd56056d",
   "metadata": {},
   "outputs": [],
   "source": []
  },
  {
   "cell_type": "code",
   "execution_count": null,
   "id": "3958fbec-e478-455e-8e57-3e2fcbcd7ec1",
   "metadata": {},
   "outputs": [],
   "source": []
  },
  {
   "cell_type": "code",
   "execution_count": null,
   "id": "23250403-fe7c-43f3-ae25-1c1a6af4ccfa",
   "metadata": {},
   "outputs": [],
   "source": []
  },
  {
   "cell_type": "code",
   "execution_count": null,
   "id": "ff369c6f-5e88-4f2f-8f29-7164eed1fee8",
   "metadata": {},
   "outputs": [],
   "source": []
  },
  {
   "cell_type": "markdown",
   "id": "98e70714-7d1f-4522-83c3-5506188ef1a8",
   "metadata": {},
   "source": [
    "## SAVE OUTPUTS TRAINING\n",
    "\n",
    "Al terminar el entrenamiento, los siguientes outputs deben de ser generados:\n",
    "\n",
    "----\n",
    "#### Artefacto Analitico:\n",
    "- **modelo entrenado** y guardado como pkl\n",
    "\n",
    "----\n",
    "#### Listado de features:\n",
    "- **listado de features** (listado de todas las features que ve el modelo)\n",
    "\n",
    "- **listado de features variables controlables** (listado de todas las features que ve el modelo y que son variables controlables y por lo tanto\n",
    "variables de decisión en un modelo de optimización)\n",
    "\n",
    "- **listado de target** (lista con el target del modelo)\n",
    "\n",
    "\n",
    "----\n",
    "#### Example Input:\n",
    "- **X_train.head(1)**: se necesita saber el orden de las features utilizadas y los nombres de las columnas. Ambos se deben de respetar. Con el listado de features se debe de poder deducir, pero de todas formas se guarda un ejemplo de la instancia de entrenamiento X"
   ]
  },
  {
   "cell_type": "code",
   "execution_count": null,
   "id": "7afe560e-184d-4ccf-b2e5-6dd5e9519a72",
   "metadata": {},
   "outputs": [],
   "source": [
    "name_model = 'p_blancura'"
   ]
  },
  {
   "cell_type": "code",
   "execution_count": null,
   "id": "68b0e196-1bfa-439a-8440-4e32590baf73",
   "metadata": {},
   "outputs": [],
   "source": []
  },
  {
   "cell_type": "markdown",
   "id": "704ef282-86db-4bec-8d86-d8417d714799",
   "metadata": {},
   "source": [
    "### 1. Save artifact model\n",
    "Versioning of models are not development in this example"
   ]
  },
  {
   "cell_type": "code",
   "execution_count": null,
   "id": "c4525f28-d11a-44e3-9be2-1e5714e01008",
   "metadata": {},
   "outputs": [],
   "source": [
    "artifact_model_to_save = gb_simple\n",
    "\n",
    "# save model\n",
    "path_model = f'artifacts/models/{name_model}/model.pkl'\n",
    "with open(path_model, \"wb\") as output:\n",
    "    pickle.dump(artifact_model_to_save, output)\n",
    "    output.close()"
   ]
  },
  {
   "cell_type": "code",
   "execution_count": null,
   "id": "1a38a404-8bdd-40bf-8e87-f4367dd38e87",
   "metadata": {},
   "outputs": [],
   "source": [
    "# print model saved to gurobi\n",
    "artifact_model_to_save"
   ]
  },
  {
   "cell_type": "code",
   "execution_count": null,
   "id": "a329170d-f6aa-4465-9cbd-a0cb60084bda",
   "metadata": {},
   "outputs": [],
   "source": []
  },
  {
   "cell_type": "markdown",
   "id": "9f30f056-537d-4971-99f9-ac1a5a05bab2",
   "metadata": {},
   "source": [
    "### 2. Save list of features\n",
    "Save table master tag only with the tags used to train the model. \n",
    "\n",
    "OBS IMPORTANT: remember that the list of features was sorted according the master table so this order was used to train. Also this table has the differentation between no-controlable, controlable and targer variables"
   ]
  },
  {
   "cell_type": "code",
   "execution_count": null,
   "id": "9f540ce0-959f-454f-aca2-ffe401ff7117",
   "metadata": {},
   "outputs": [],
   "source": [
    "# generate a list of features + target\n",
    "list_features_target = list_features + list_target\n",
    "\n",
    "# filter master tag with only the features+target used to train the ml models\n",
    "maestro_tags = maestro_tags[maestro_tags['TAG'].isin(list_features_target)]\n",
    "maestro_tags = maestro_tags.reset_index().drop(columns = 'index')"
   ]
  },
  {
   "cell_type": "code",
   "execution_count": null,
   "id": "2136a65a-fb0c-4d2c-be65-4fbcb9b5603e",
   "metadata": {},
   "outputs": [],
   "source": [
    "# save master in config folder that will used to create the optimization engine\n",
    "path_list_features_target_to_optimization = f'config/optimization_engine/ml_models/MaestroTags-{name_model}-general.xlsx'\n",
    "maestro_tags.to_excel(path_list_features_target_to_optimization, index = False)"
   ]
  },
  {
   "cell_type": "code",
   "execution_count": null,
   "id": "97691b92-4150-437f-a795-989566695468",
   "metadata": {},
   "outputs": [],
   "source": []
  },
  {
   "cell_type": "markdown",
   "id": "048366a3-8855-42a0-a203-6fcd7bfd6720",
   "metadata": {},
   "source": [
    "### 3. Save example input"
   ]
  },
  {
   "cell_type": "code",
   "execution_count": null,
   "id": "e424962b-9c4e-4120-8d8c-bc0ea1886b08",
   "metadata": {},
   "outputs": [],
   "source": [
    "# example input\n",
    "example_input = X_train.head(1)\n",
    "example_input"
   ]
  },
  {
   "cell_type": "code",
   "execution_count": null,
   "id": "c0ade7dc-f52c-4057-8f42-6f45a26cb561",
   "metadata": {},
   "outputs": [],
   "source": [
    "# save example input\n",
    "\n",
    "path_example_input_ml_model = f'config/optimization_engine/ml_models/ExampleInputsModels-{name_model}.xlsx'\n",
    "example_input.to_excel(path_example_input_ml_model)"
   ]
  },
  {
   "cell_type": "code",
   "execution_count": null,
   "id": "3b6bd295-cc34-46e5-a7a1-631a94433125",
   "metadata": {},
   "outputs": [],
   "source": []
  },
  {
   "cell_type": "markdown",
   "id": "6e424745-b5fd-4327-b217-4751728246fd",
   "metadata": {},
   "source": [
    "### 4. Save configuration piecewise model\n",
    "Save the tag, threshold that divide the data to use differents models. Also save the name of the model used. This output is usefull when a piecewise model is trained (segmented models acording a threshold in one or more features)\n",
    "\n",
    "**This output need to be always generated to connect to the optimization engine. Only it is usefull when a piecewise model was trained, but in order to conserve the same structure across all models, this file needs to be generated always**"
   ]
  },
  {
   "cell_type": "code",
   "execution_count": null,
   "id": "ae84d80d-e4e8-49a6-bc0a-d167cc618723",
   "metadata": {},
   "outputs": [],
   "source": [
    "# values by default to save when no segmentation is trained\n",
    "no_apply_segmentation_string = 'no_apply'\n",
    "no_apply_segmentation_number = 0"
   ]
  },
  {
   "cell_type": "code",
   "execution_count": null,
   "id": "299297cc-388b-4d9e-9f06-8570961f5b38",
   "metadata": {},
   "outputs": [],
   "source": [
    "# generate a dictionary with all model info\n",
    "dict_model_info = {}\n",
    "\n",
    "# generate a dictionary with info specific segmentation. Conserve the lists structure (list to multiple threshold into multiple models)\n",
    "info_piecewise = {\"tag\": no_apply_segmentation_string,\n",
    "                 \"thresohold\": [no_apply_segmentation_number], \n",
    "                 \"names_pkl_models\": [\"model\"] # names of pkl of models trained. Altough no segmentation trained, this name is important to save correctly\n",
    "                }\n",
    "\n",
    "# append into global dict\n",
    "dict_model_info[\"threshold\"] = info_piecewise\n",
    "\n",
    "dict_model_info"
   ]
  },
  {
   "cell_type": "code",
   "execution_count": null,
   "id": "9acde9af-e154-45a4-bd4e-6e6a2e418150",
   "metadata": {},
   "outputs": [],
   "source": [
    "import json\n",
    "path_json_info_model = f'config/optimization_engine/ml_models/InfoModel-{name_model}.json'\n",
    "with open(path_json_info_model, 'w') as archivo:\n",
    "    json.dump(dict_model_info, archivo)"
   ]
  },
  {
   "cell_type": "code",
   "execution_count": null,
   "id": "f5246c73-e328-49e4-84ae-2b1e5523705c",
   "metadata": {},
   "outputs": [],
   "source": []
  },
  {
   "cell_type": "code",
   "execution_count": null,
   "id": "7e63ef56-8e52-4b3a-b37a-3abb693acb77",
   "metadata": {},
   "outputs": [],
   "source": []
  }
 ],
 "metadata": {
  "kernelspec": {
   "display_name": "Python 3 (ipykernel)",
   "language": "python",
   "name": "python3"
  },
  "language_info": {
   "codemirror_mode": {
    "name": "ipython",
    "version": 3
   },
   "file_extension": ".py",
   "mimetype": "text/x-python",
   "name": "python",
   "nbconvert_exporter": "python",
   "pygments_lexer": "ipython3",
   "version": "3.10.12"
  }
 },
 "nbformat": 4,
 "nbformat_minor": 5
}
