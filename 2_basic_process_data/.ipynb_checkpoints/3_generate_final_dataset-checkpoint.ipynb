{
 "cells": [
  {
   "cell_type": "markdown",
   "id": "4a82ba84",
   "metadata": {},
   "source": [
    "# Limpieza data raw \"correcta\"\n",
    "\n",
    "- Se toma la data raw \"correcta\", la data preprocessed, que como dice el nombre es la data raw correguido valores nulos por fallas de conexión con PI, setear segundos a cero, etc.\n",
    "\n",
    "- **Limpiezas hechas**:\n",
    "    - Eliminar puntos atípicos - Limpieza por límites operacionales - ej producciones bajas - errores sensores, etc\n",
    "    - Delete null values (generated in the previous steps)\n",
    "\n",
    "-------\n",
    "**DATA**:\n",
    "- INPUT: \"data_raw_processed.pkl\"\n",
    "- OUTPUT: \"data.pkl\""
   ]
  },
  {
   "cell_type": "markdown",
   "id": "62d92244-23e9-46d3-b9d2-155e140b5d19",
   "metadata": {},
   "source": [
    "## Root folder and read env variables"
   ]
  },
  {
   "cell_type": "code",
   "execution_count": 1,
   "id": "5d542e20-ba04-4c72-b5b6-8bdc3101d6a1",
   "metadata": {},
   "outputs": [
    {
     "name": "stdout",
     "output_type": "stream",
     "text": [
      "root path:  D:\\github-mi-repo\\Optimization-Industrial-Process\n"
     ]
    }
   ],
   "source": [
    "import os\n",
    "# fix root path to save outputs\n",
    "actual_path = os.path.abspath(os.getcwd())\n",
    "list_root_path = actual_path.split('\\\\')[:-1]\n",
    "root_path = '\\\\'.join(list_root_path)\n",
    "os.chdir(root_path)\n",
    "print('root path: ', root_path)"
   ]
  },
  {
   "cell_type": "code",
   "execution_count": 2,
   "id": "6e3ec078-792a-408f-af8c-128ad4e31adc",
   "metadata": {},
   "outputs": [],
   "source": [
    "import os\n",
    "from dotenv import load_dotenv, find_dotenv # package used in jupyter notebook to read the variables in file .env\n",
    "\n",
    "\"\"\" get env variable from .env \"\"\"\n",
    "load_dotenv(find_dotenv())\n",
    "\n",
    "\"\"\" Read env variables and save it as python variable \"\"\"\n",
    "PROJECT_GCP = os.environ.get(\"PROJECT_GCP\", \"\")"
   ]
  },
  {
   "cell_type": "code",
   "execution_count": null,
   "id": "edb59fec-8a93-48e8-aa3c-7ab3c2d88f86",
   "metadata": {},
   "outputs": [],
   "source": []
  },
  {
   "cell_type": "markdown",
   "id": "bab3cfcf-5a89-44ca-a2fd-52b9870675cd",
   "metadata": {},
   "source": [
    "## RUN"
   ]
  },
  {
   "cell_type": "code",
   "execution_count": 3,
   "id": "bfccca91",
   "metadata": {},
   "outputs": [],
   "source": [
    "import pandas as pd\n",
    "import numpy as np\n",
    "import datetime as dt\n",
    "import json\n",
    "import pickle\n",
    "from sklearn.pipeline import Pipeline\n",
    "import sys\n",
    "import os\n",
    "import matplotlib.pyplot as plt\n",
    "import gcsfs\n",
    "\n",
    "import warnings\n",
    "warnings.filterwarnings(\"ignore\")\n",
    "\n",
    "from sklearn.base import BaseEstimator, TransformerMixin"
   ]
  },
  {
   "cell_type": "code",
   "execution_count": null,
   "id": "680b5680",
   "metadata": {},
   "outputs": [],
   "source": []
  },
  {
   "cell_type": "code",
   "execution_count": null,
   "id": "29e4eae2",
   "metadata": {},
   "outputs": [],
   "source": []
  },
  {
   "cell_type": "code",
   "execution_count": null,
   "id": "3ec560d4",
   "metadata": {},
   "outputs": [],
   "source": []
  },
  {
   "cell_type": "markdown",
   "id": "748d224d",
   "metadata": {},
   "source": [
    "### 0. Funciones Auxiliares"
   ]
  },
  {
   "cell_type": "code",
   "execution_count": 4,
   "id": "437d587b",
   "metadata": {},
   "outputs": [],
   "source": [
    "# funciones auxiliares\n",
    "def load_all_parameterstags_tagclassification(model_name):\n",
    "    \"\"\"\n",
    "    Read a dictionary with all parameters filtered by model (d0eop, d1d2, d2, etc) located in TagClassification \n",
    "    \"\"\"\n",
    "    path_json = 'config/params.json'\n",
    "    with open(\"{path}\".format(path=path_json)) as json_file:\n",
    "        tag_classification_pars = json.load(json_file)\n",
    "\n",
    "    return tag_classification_pars[model_name]"
   ]
  },
  {
   "cell_type": "code",
   "execution_count": 5,
   "id": "6156ab73",
   "metadata": {},
   "outputs": [],
   "source": [
    "# define name of model - transversal model for this example\n",
    "general_params_models = 'blanqueo_santafe_all'"
   ]
  },
  {
   "cell_type": "code",
   "execution_count": null,
   "id": "a5210237",
   "metadata": {},
   "outputs": [],
   "source": []
  },
  {
   "cell_type": "markdown",
   "id": "3c9e3bbc",
   "metadata": {},
   "source": [
    "### 1. Leer data raw - datalake\n",
    "### 1. Read data raw datalake - preprocessed\n",
    "- Data get in the previous notebook\n",
    "- Data without nulls - filled in previous step for problems in upload data, no conextion PI-datalake, etc"
   ]
  },
  {
   "cell_type": "code",
   "execution_count": 6,
   "id": "f79fbc31",
   "metadata": {},
   "outputs": [
    {
     "data": {
      "text/html": [
       "<div>\n",
       "<style scoped>\n",
       "    .dataframe tbody tr th:only-of-type {\n",
       "        vertical-align: middle;\n",
       "    }\n",
       "\n",
       "    .dataframe tbody tr th {\n",
       "        vertical-align: top;\n",
       "    }\n",
       "\n",
       "    .dataframe thead th {\n",
       "        text-align: right;\n",
       "    }\n",
       "</style>\n",
       "<table border=\"1\" class=\"dataframe\">\n",
       "  <thead>\n",
       "    <tr style=\"text-align: right;\">\n",
       "      <th></th>\n",
       "      <th>230AIT446.PNT</th>\n",
       "      <th>240AIC022.MEAS</th>\n",
       "      <th>240AIC126.MEAS</th>\n",
       "      <th>240AIC224.MEAS</th>\n",
       "      <th>240AIC286.MEAS</th>\n",
       "      <th>240AIC324.MEAS</th>\n",
       "      <th>240AIC433.MEAS</th>\n",
       "      <th>240AIT063A.PNT</th>\n",
       "      <th>240AIT063B.PNT</th>\n",
       "      <th>240AIT225A.PNT</th>\n",
       "      <th>...</th>\n",
       "      <th>S240ALDP022</th>\n",
       "      <th>S240ALDP031</th>\n",
       "      <th>S240ALDP032</th>\n",
       "      <th>S276PER002</th>\n",
       "      <th>S2MAQUINAT07</th>\n",
       "      <th>S76ALE017</th>\n",
       "      <th>SSTRIPPING015</th>\n",
       "      <th>calc_prod_d0</th>\n",
       "      <th>calc_prod_d1</th>\n",
       "      <th>calc_prod_p</th>\n",
       "    </tr>\n",
       "    <tr>\n",
       "      <th>datetime</th>\n",
       "      <th></th>\n",
       "      <th></th>\n",
       "      <th></th>\n",
       "      <th></th>\n",
       "      <th></th>\n",
       "      <th></th>\n",
       "      <th></th>\n",
       "      <th></th>\n",
       "      <th></th>\n",
       "      <th></th>\n",
       "      <th></th>\n",
       "      <th></th>\n",
       "      <th></th>\n",
       "      <th></th>\n",
       "      <th></th>\n",
       "      <th></th>\n",
       "      <th></th>\n",
       "      <th></th>\n",
       "      <th></th>\n",
       "      <th></th>\n",
       "      <th></th>\n",
       "    </tr>\n",
       "  </thead>\n",
       "  <tbody>\n",
       "    <tr>\n",
       "      <th>2021-01-01 00:05:00</th>\n",
       "      <td>11.555040</td>\n",
       "      <td>2.983948</td>\n",
       "      <td>11.346645</td>\n",
       "      <td>4.413519</td>\n",
       "      <td>4.352375</td>\n",
       "      <td>10.441675</td>\n",
       "      <td>4.292521</td>\n",
       "      <td>5.86932</td>\n",
       "      <td>62.37495</td>\n",
       "      <td>1.837519</td>\n",
       "      <td>...</td>\n",
       "      <td>91.49</td>\n",
       "      <td>1.8</td>\n",
       "      <td>11.4</td>\n",
       "      <td>11.77</td>\n",
       "      <td>1.5712</td>\n",
       "      <td>173.6</td>\n",
       "      <td>964.0</td>\n",
       "      <td>3240.8635</td>\n",
       "      <td>3313.6215</td>\n",
       "      <td>3259.3745</td>\n",
       "    </tr>\n",
       "    <tr>\n",
       "      <th>2021-01-01 00:10:00</th>\n",
       "      <td>11.552320</td>\n",
       "      <td>3.015669</td>\n",
       "      <td>11.353215</td>\n",
       "      <td>4.413179</td>\n",
       "      <td>4.347186</td>\n",
       "      <td>10.432170</td>\n",
       "      <td>4.289684</td>\n",
       "      <td>5.86932</td>\n",
       "      <td>62.37495</td>\n",
       "      <td>1.814020</td>\n",
       "      <td>...</td>\n",
       "      <td>91.49</td>\n",
       "      <td>1.8</td>\n",
       "      <td>11.4</td>\n",
       "      <td>11.77</td>\n",
       "      <td>1.5712</td>\n",
       "      <td>173.6</td>\n",
       "      <td>964.0</td>\n",
       "      <td>3260.7475</td>\n",
       "      <td>3301.6920</td>\n",
       "      <td>3208.6785</td>\n",
       "    </tr>\n",
       "    <tr>\n",
       "      <th>2021-01-01 00:15:00</th>\n",
       "      <td>11.549955</td>\n",
       "      <td>3.018903</td>\n",
       "      <td>11.355525</td>\n",
       "      <td>4.408321</td>\n",
       "      <td>4.355828</td>\n",
       "      <td>10.410115</td>\n",
       "      <td>4.284427</td>\n",
       "      <td>5.86932</td>\n",
       "      <td>62.37495</td>\n",
       "      <td>1.814020</td>\n",
       "      <td>...</td>\n",
       "      <td>91.49</td>\n",
       "      <td>1.8</td>\n",
       "      <td>11.4</td>\n",
       "      <td>11.77</td>\n",
       "      <td>1.5712</td>\n",
       "      <td>173.6</td>\n",
       "      <td>964.0</td>\n",
       "      <td>3265.5765</td>\n",
       "      <td>3284.1330</td>\n",
       "      <td>3210.7790</td>\n",
       "    </tr>\n",
       "  </tbody>\n",
       "</table>\n",
       "<p>3 rows × 64 columns</p>\n",
       "</div>"
      ],
      "text/plain": [
       "                     230AIT446.PNT  240AIC022.MEAS  240AIC126.MEAS  \\\n",
       "datetime                                                             \n",
       "2021-01-01 00:05:00      11.555040        2.983948       11.346645   \n",
       "2021-01-01 00:10:00      11.552320        3.015669       11.353215   \n",
       "2021-01-01 00:15:00      11.549955        3.018903       11.355525   \n",
       "\n",
       "                     240AIC224.MEAS  240AIC286.MEAS  240AIC324.MEAS  \\\n",
       "datetime                                                              \n",
       "2021-01-01 00:05:00        4.413519        4.352375       10.441675   \n",
       "2021-01-01 00:10:00        4.413179        4.347186       10.432170   \n",
       "2021-01-01 00:15:00        4.408321        4.355828       10.410115   \n",
       "\n",
       "                     240AIC433.MEAS  240AIT063A.PNT  240AIT063B.PNT  \\\n",
       "datetime                                                              \n",
       "2021-01-01 00:05:00        4.292521         5.86932        62.37495   \n",
       "2021-01-01 00:10:00        4.289684         5.86932        62.37495   \n",
       "2021-01-01 00:15:00        4.284427         5.86932        62.37495   \n",
       "\n",
       "                     240AIT225A.PNT  ...  S240ALDP022  S240ALDP031  \\\n",
       "datetime                             ...                             \n",
       "2021-01-01 00:05:00        1.837519  ...        91.49          1.8   \n",
       "2021-01-01 00:10:00        1.814020  ...        91.49          1.8   \n",
       "2021-01-01 00:15:00        1.814020  ...        91.49          1.8   \n",
       "\n",
       "                     S240ALDP032  S276PER002  S2MAQUINAT07  S76ALE017  \\\n",
       "datetime                                                                \n",
       "2021-01-01 00:05:00         11.4       11.77        1.5712      173.6   \n",
       "2021-01-01 00:10:00         11.4       11.77        1.5712      173.6   \n",
       "2021-01-01 00:15:00         11.4       11.77        1.5712      173.6   \n",
       "\n",
       "                     SSTRIPPING015  calc_prod_d0  calc_prod_d1  calc_prod_p  \n",
       "datetime                                                                     \n",
       "2021-01-01 00:05:00          964.0     3240.8635     3313.6215    3259.3745  \n",
       "2021-01-01 00:10:00          964.0     3260.7475     3301.6920    3208.6785  \n",
       "2021-01-01 00:15:00          964.0     3265.5765     3284.1330    3210.7790  \n",
       "\n",
       "[3 rows x 64 columns]"
      ]
     },
     "execution_count": 6,
     "metadata": {},
     "output_type": "execute_result"
    }
   ],
   "source": [
    "path_raw_processed_data = f'artifacts/data/data_raw_processed.pkl'\n",
    "processed_data = pd.read_pickle(path_raw_processed_data)\n",
    "processed_data.head(3)"
   ]
  },
  {
   "cell_type": "code",
   "execution_count": null,
   "id": "608e676f",
   "metadata": {},
   "outputs": [],
   "source": []
  },
  {
   "cell_type": "markdown",
   "id": "6f6a0b4e",
   "metadata": {},
   "source": [
    "## FINAL STEP: DELETE OUTLIERS\n",
    "Filters:\n",
    "- Operational Limits of the industrial process\n",
    "- other thecniques to delete outliers"
   ]
  },
  {
   "cell_type": "code",
   "execution_count": null,
   "id": "c0984ac2",
   "metadata": {},
   "outputs": [],
   "source": []
  },
  {
   "cell_type": "code",
   "execution_count": null,
   "id": "a29c8da6",
   "metadata": {},
   "outputs": [],
   "source": []
  },
  {
   "cell_type": "markdown",
   "id": "13165fd4",
   "metadata": {},
   "source": [
    "### 9. Cleaning data according operational ranges - delete outliers"
   ]
  },
  {
   "cell_type": "code",
   "execution_count": 7,
   "id": "f8dacc52",
   "metadata": {},
   "outputs": [],
   "source": [
    "class OperationalRange(BaseEstimator,TransformerMixin):\n",
    "    '''\n",
    "    A class to delete the observations when a value of a certain tags is out of the range defined in the plant. Its is realized for each column independently\n",
    "    '''\n",
    "    def __init__(self, RangeDataFrame,outputCol):\n",
    "        super(OperationalRange,self).__init__()\n",
    "        self.RangeDataFrame = RangeDataFrame\n",
    "        self.tags = RangeDataFrame[\"Tag\"].tolist()\n",
    "        self.outputCol = outputCol\n",
    "    \n",
    "    def fit(self,DataFrame):\n",
    "        return self\n",
    "    \n",
    "    def intersection(self, lst1, lst2):\n",
    "        '''\n",
    "        Auxiliar function\n",
    "        Return the intersection of strings between two diferents lists\n",
    "        '''\n",
    "        return [value for value in lst1 if value in lst2]\n",
    "    \n",
    "    def transform(self,DataFrame):\n",
    "        print('\\naplicando limpieza de acuerdo a los rangos operacionales')\n",
    "        \n",
    "        tagsList = self.intersection(lst1 = DataFrame.columns.to_list(),\n",
    "                                     lst2 = self.tags)\n",
    "        for tag in tagsList:\n",
    "            lim_inf = self.RangeDataFrame[\"lim_inf\"][self.RangeDataFrame[\"Tag\"]==tag].tolist()[0]\n",
    "            lim_sup = self.RangeDataFrame[\"lim_sup\"][self.RangeDataFrame[\"Tag\"]==tag].tolist()[0]\n",
    "            cond = np.logical_or(DataFrame[tag]<lim_inf, DataFrame[tag]>lim_sup)\n",
    "            DataFrame[tag] = np.where(cond, np.nan, DataFrame[tag])\n",
    "            DataFrame[self.outputCol] = np.where(cond, False, True)\n",
    "            \n",
    "        #info\n",
    "        print('tamaño data: ', DataFrame.shape)\n",
    "        print('\\n% de nulos hasta el momento: ', 100 * (DataFrame.isnull().sum() / DataFrame.shape[0]))\n",
    "        \n",
    "        return DataFrame"
   ]
  },
  {
   "cell_type": "code",
   "execution_count": 8,
   "id": "4a5b2111-97ce-42d4-a2bf-075046e044d6",
   "metadata": {},
   "outputs": [],
   "source": [
    "############ limpieza limites operacionales - definir limites ############\n",
    "\n",
    "# path_operational_limits_df = 'config/limites_operacionales.xlsx'\n",
    "# operational_limits_df = pd.read_excel(path_operational_limits_df)\n",
    "\n",
    "# d0eop\n",
    "path_operational_limits_df_d0eop = 'config/config_ml_models_development/Limites_operacionales-d0eop-general.xlsx'\n",
    "operational_limits_df_d0eop = pd.read_excel(path_operational_limits_df_d0eop)\n",
    "\n",
    "# d1\n",
    "path_operational_limits_df_d1 = 'config/config_ml_models_development/Limites_operacionales-d1-general.xlsx'\n",
    "operational_limits_df_d1 = pd.read_excel(path_operational_limits_df_d1)\n",
    "\n",
    "# p\n",
    "path_operational_limits_df_p = 'config/config_ml_models_development/Limites_operacionales-p-general.xlsx'\n",
    "operational_limits_df_p = pd.read_excel(path_operational_limits_df_p)\n",
    "\n",
    "# join df\n",
    "operational_limits_df = pd.concat([operational_limits_df_d0eop, operational_limits_df_d1, operational_limits_df_p], axis=0)\n",
    "operational_limits_df = operational_limits_df.drop_duplicates(subset=['Tag'])#.set_index('Tag')\n",
    "operational_limits_df = operational_limits_df.reset_index().drop(columns = ['index'])"
   ]
  },
  {
   "cell_type": "code",
   "execution_count": 9,
   "id": "4b071d30",
   "metadata": {},
   "outputs": [],
   "source": [
    "############ limpieza limites operacionales - realizar limpieza ############\n",
    "\n",
    "pars_operational_range = {\n",
    "        \"RangeDataFrame\": operational_limits_df,\n",
    "        \"outputCol\": \"OperationalRange\",\n",
    "    }"
   ]
  },
  {
   "cell_type": "code",
   "execution_count": 10,
   "id": "4a8cfb66",
   "metadata": {},
   "outputs": [
    {
     "name": "stdout",
     "output_type": "stream",
     "text": [
      "\n",
      "aplicando limpieza de acuerdo a los rangos operacionales\n",
      "tamaño data:  (197568, 65)\n",
      "\n",
      "% de nulos hasta el momento:  230AIT446.PNT       0.000000\n",
      "240AIC022.MEAS      2.800049\n",
      "240AIC126.MEAS      0.405936\n",
      "240AIC224.MEAS      2.484714\n",
      "240AIC286.MEAS      0.024295\n",
      "                      ...   \n",
      "SSTRIPPING015       0.009111\n",
      "calc_prod_d0        7.477425\n",
      "calc_prod_d1        7.483499\n",
      "calc_prod_p         7.492610\n",
      "OperationalRange    0.000000\n",
      "Length: 65, dtype: float64\n"
     ]
    }
   ],
   "source": [
    "# instancia de la clase\n",
    "droper_out_operational_range = OperationalRange(**pars_operational_range)\n",
    "\n",
    "# limpieza\n",
    "processed_data = droper_out_operational_range.transform(processed_data)"
   ]
  },
  {
   "cell_type": "code",
   "execution_count": 11,
   "id": "212e2674-38d0-42d3-b8c0-4b1284646ba7",
   "metadata": {},
   "outputs": [
    {
     "data": {
      "text/html": [
       "<div>\n",
       "<style scoped>\n",
       "    .dataframe tbody tr th:only-of-type {\n",
       "        vertical-align: middle;\n",
       "    }\n",
       "\n",
       "    .dataframe tbody tr th {\n",
       "        vertical-align: top;\n",
       "    }\n",
       "\n",
       "    .dataframe thead th {\n",
       "        text-align: right;\n",
       "    }\n",
       "</style>\n",
       "<table border=\"1\" class=\"dataframe\">\n",
       "  <thead>\n",
       "    <tr style=\"text-align: right;\">\n",
       "      <th></th>\n",
       "      <th>230AIT446.PNT</th>\n",
       "      <th>240AIC022.MEAS</th>\n",
       "      <th>240AIC126.MEAS</th>\n",
       "      <th>240AIC224.MEAS</th>\n",
       "      <th>240AIC286.MEAS</th>\n",
       "      <th>240AIC324.MEAS</th>\n",
       "      <th>240AIC433.MEAS</th>\n",
       "      <th>240AIT063A.PNT</th>\n",
       "      <th>240AIT063B.PNT</th>\n",
       "      <th>240AIT225A.PNT</th>\n",
       "      <th>...</th>\n",
       "      <th>S240ALDP022</th>\n",
       "      <th>S240ALDP031</th>\n",
       "      <th>S240ALDP032</th>\n",
       "      <th>S276PER002</th>\n",
       "      <th>S2MAQUINAT07</th>\n",
       "      <th>S76ALE017</th>\n",
       "      <th>SSTRIPPING015</th>\n",
       "      <th>calc_prod_d0</th>\n",
       "      <th>calc_prod_d1</th>\n",
       "      <th>calc_prod_p</th>\n",
       "    </tr>\n",
       "    <tr>\n",
       "      <th>datetime</th>\n",
       "      <th></th>\n",
       "      <th></th>\n",
       "      <th></th>\n",
       "      <th></th>\n",
       "      <th></th>\n",
       "      <th></th>\n",
       "      <th></th>\n",
       "      <th></th>\n",
       "      <th></th>\n",
       "      <th></th>\n",
       "      <th></th>\n",
       "      <th></th>\n",
       "      <th></th>\n",
       "      <th></th>\n",
       "      <th></th>\n",
       "      <th></th>\n",
       "      <th></th>\n",
       "      <th></th>\n",
       "      <th></th>\n",
       "      <th></th>\n",
       "      <th></th>\n",
       "    </tr>\n",
       "  </thead>\n",
       "  <tbody>\n",
       "    <tr>\n",
       "      <th>2021-01-01 00:05:00</th>\n",
       "      <td>11.555040</td>\n",
       "      <td>2.983948</td>\n",
       "      <td>11.346645</td>\n",
       "      <td>4.413519</td>\n",
       "      <td>4.352375</td>\n",
       "      <td>10.441675</td>\n",
       "      <td>4.292521</td>\n",
       "      <td>5.86932</td>\n",
       "      <td>62.37495</td>\n",
       "      <td>1.837519</td>\n",
       "      <td>...</td>\n",
       "      <td>91.49</td>\n",
       "      <td>1.8</td>\n",
       "      <td>11.4</td>\n",
       "      <td>11.77</td>\n",
       "      <td>1.5712</td>\n",
       "      <td>173.6</td>\n",
       "      <td>964.0</td>\n",
       "      <td>3240.8635</td>\n",
       "      <td>3313.6215</td>\n",
       "      <td>3259.3745</td>\n",
       "    </tr>\n",
       "    <tr>\n",
       "      <th>2021-01-01 00:10:00</th>\n",
       "      <td>11.552320</td>\n",
       "      <td>3.015669</td>\n",
       "      <td>11.353215</td>\n",
       "      <td>4.413179</td>\n",
       "      <td>4.347186</td>\n",
       "      <td>10.432170</td>\n",
       "      <td>4.289684</td>\n",
       "      <td>5.86932</td>\n",
       "      <td>62.37495</td>\n",
       "      <td>1.814020</td>\n",
       "      <td>...</td>\n",
       "      <td>91.49</td>\n",
       "      <td>1.8</td>\n",
       "      <td>11.4</td>\n",
       "      <td>11.77</td>\n",
       "      <td>1.5712</td>\n",
       "      <td>173.6</td>\n",
       "      <td>964.0</td>\n",
       "      <td>3260.7475</td>\n",
       "      <td>3301.6920</td>\n",
       "      <td>3208.6785</td>\n",
       "    </tr>\n",
       "    <tr>\n",
       "      <th>2021-01-01 00:15:00</th>\n",
       "      <td>11.549955</td>\n",
       "      <td>3.018903</td>\n",
       "      <td>11.355525</td>\n",
       "      <td>4.408321</td>\n",
       "      <td>4.355828</td>\n",
       "      <td>10.410115</td>\n",
       "      <td>4.284427</td>\n",
       "      <td>5.86932</td>\n",
       "      <td>62.37495</td>\n",
       "      <td>1.814020</td>\n",
       "      <td>...</td>\n",
       "      <td>91.49</td>\n",
       "      <td>1.8</td>\n",
       "      <td>11.4</td>\n",
       "      <td>11.77</td>\n",
       "      <td>1.5712</td>\n",
       "      <td>173.6</td>\n",
       "      <td>964.0</td>\n",
       "      <td>3265.5765</td>\n",
       "      <td>3284.1330</td>\n",
       "      <td>3210.7790</td>\n",
       "    </tr>\n",
       "  </tbody>\n",
       "</table>\n",
       "<p>3 rows × 64 columns</p>\n",
       "</div>"
      ],
      "text/plain": [
       "                     230AIT446.PNT  240AIC022.MEAS  240AIC126.MEAS  \\\n",
       "datetime                                                             \n",
       "2021-01-01 00:05:00      11.555040        2.983948       11.346645   \n",
       "2021-01-01 00:10:00      11.552320        3.015669       11.353215   \n",
       "2021-01-01 00:15:00      11.549955        3.018903       11.355525   \n",
       "\n",
       "                     240AIC224.MEAS  240AIC286.MEAS  240AIC324.MEAS  \\\n",
       "datetime                                                              \n",
       "2021-01-01 00:05:00        4.413519        4.352375       10.441675   \n",
       "2021-01-01 00:10:00        4.413179        4.347186       10.432170   \n",
       "2021-01-01 00:15:00        4.408321        4.355828       10.410115   \n",
       "\n",
       "                     240AIC433.MEAS  240AIT063A.PNT  240AIT063B.PNT  \\\n",
       "datetime                                                              \n",
       "2021-01-01 00:05:00        4.292521         5.86932        62.37495   \n",
       "2021-01-01 00:10:00        4.289684         5.86932        62.37495   \n",
       "2021-01-01 00:15:00        4.284427         5.86932        62.37495   \n",
       "\n",
       "                     240AIT225A.PNT  ...  S240ALDP022  S240ALDP031  \\\n",
       "datetime                             ...                             \n",
       "2021-01-01 00:05:00        1.837519  ...        91.49          1.8   \n",
       "2021-01-01 00:10:00        1.814020  ...        91.49          1.8   \n",
       "2021-01-01 00:15:00        1.814020  ...        91.49          1.8   \n",
       "\n",
       "                     S240ALDP032  S276PER002  S2MAQUINAT07  S76ALE017  \\\n",
       "datetime                                                                \n",
       "2021-01-01 00:05:00         11.4       11.77        1.5712      173.6   \n",
       "2021-01-01 00:10:00         11.4       11.77        1.5712      173.6   \n",
       "2021-01-01 00:15:00         11.4       11.77        1.5712      173.6   \n",
       "\n",
       "                     SSTRIPPING015  calc_prod_d0  calc_prod_d1  calc_prod_p  \n",
       "datetime                                                                     \n",
       "2021-01-01 00:05:00          964.0     3240.8635     3313.6215    3259.3745  \n",
       "2021-01-01 00:10:00          964.0     3260.7475     3301.6920    3208.6785  \n",
       "2021-01-01 00:15:00          964.0     3265.5765     3284.1330    3210.7790  \n",
       "\n",
       "[3 rows x 64 columns]"
      ]
     },
     "execution_count": 11,
     "metadata": {},
     "output_type": "execute_result"
    }
   ],
   "source": [
    "# delete column OperationalRange\n",
    "processed_data = processed_data.drop('OperationalRange', axis = 1)\n",
    "processed_data.head(3)"
   ]
  },
  {
   "cell_type": "code",
   "execution_count": 12,
   "id": "84e0572e",
   "metadata": {},
   "outputs": [
    {
     "name": "stdout",
     "output_type": "stream",
     "text": [
      "tamaño data processed:  197568\n"
     ]
    }
   ],
   "source": [
    "print('tamaño data processed: ', processed_data.shape[0])"
   ]
  },
  {
   "cell_type": "code",
   "execution_count": null,
   "id": "86a9f289",
   "metadata": {},
   "outputs": [],
   "source": []
  },
  {
   "cell_type": "markdown",
   "id": "30063a5d",
   "metadata": {},
   "source": [
    "### 10. Eliminar nulos\n",
    "Drop null values por:\n",
    "- timegap\n",
    "- fuera de rango operacional"
   ]
  },
  {
   "cell_type": "code",
   "execution_count": 13,
   "id": "49499d8e",
   "metadata": {},
   "outputs": [
    {
     "data": {
      "text/plain": [
       "8.234126984126984"
      ]
     },
     "execution_count": 13,
     "metadata": {},
     "output_type": "execute_result"
    }
   ],
   "source": [
    "# porcentaje de nulos de un tag\n",
    "percent_null = 100 * (processed_data.isnull().sum() / processed_data.shape[0])\n",
    "percent_null.max()"
   ]
  },
  {
   "cell_type": "code",
   "execution_count": 14,
   "id": "72809490",
   "metadata": {},
   "outputs": [
    {
     "name": "stdout",
     "output_type": "stream",
     "text": [
      "tamaño dataset antes de borrar nulos:  (197568, 64)\n",
      "tamaño dataset luego de borrar nulos:  (167457, 64)\n"
     ]
    }
   ],
   "source": [
    "# drop null values\n",
    "print('tamaño dataset antes de borrar nulos: ', processed_data.shape)\n",
    "processed_data = processed_data.dropna()\n",
    "print('tamaño dataset luego de borrar nulos: ', processed_data.shape)"
   ]
  },
  {
   "cell_type": "code",
   "execution_count": null,
   "id": "21ae003b-1a90-4d90-b6a1-49f97822852f",
   "metadata": {},
   "outputs": [],
   "source": []
  },
  {
   "cell_type": "markdown",
   "id": "d9786c66-69ac-49b6-8de5-fec34fcbb980",
   "metadata": {},
   "source": [
    "### 11. Limpieza puntos atípicos por IQR\n",
    "- IMPORTANTE: solo se hace esta limpieza para tener mejores datos para el ejemplo y obtener mejores modelos. Analizar si aplicar esta limpieza de outliers u otras limpiezas o ninguna\n",
    "\n",
    "- IMPORTANTE 2: el factor fue modificado para que no se fueran tantos datos por IQR, porque se iban demasiados"
   ]
  },
  {
   "cell_type": "code",
   "execution_count": 15,
   "id": "d5914989-1a17-4ee0-a9f1-80fb6a36edd0",
   "metadata": {},
   "outputs": [
    {
     "name": "stdout",
     "output_type": "stream",
     "text": [
      "len data:  167457\n"
     ]
    }
   ],
   "source": [
    "len_processed_data = processed_data.shape[0]\n",
    "print('len data: ', len_processed_data)"
   ]
  },
  {
   "cell_type": "code",
   "execution_count": 16,
   "id": "aaddbfa1-0271-4953-8886-16cce003e82d",
   "metadata": {},
   "outputs": [],
   "source": [
    "# Calcular el primer y tercer cuartil para cada característica\n",
    "Q1 = processed_data.quantile(0.25)\n",
    "Q3 = processed_data.quantile(0.75)"
   ]
  },
  {
   "cell_type": "code",
   "execution_count": 17,
   "id": "147970b6-e874-46ab-b788-2725b1b2c1a7",
   "metadata": {},
   "outputs": [],
   "source": [
    "# Calcular el rango intercuartílico (IQR) para cada característica\n",
    "IQR = Q3 - Q1"
   ]
  },
  {
   "cell_type": "code",
   "execution_count": 18,
   "id": "7078e75d-7ffd-4b3c-b8b0-9e45fd32ddf7",
   "metadata": {},
   "outputs": [],
   "source": [
    "# Definir los límites para identificar valores atípicos para cada característica\n",
    "factor_iqr = 5\n",
    "lower_bound = Q1 - factor_iqr * IQR\n",
    "upper_bound = Q3 + factor_iqr * IQR"
   ]
  },
  {
   "cell_type": "code",
   "execution_count": 19,
   "id": "e68f261d-d5fa-438a-a0e3-7cefc1592b07",
   "metadata": {},
   "outputs": [],
   "source": [
    "# Identificar valores atípicos para cada característica\n",
    "outliers = (processed_data < lower_bound) | (processed_data > upper_bound)"
   ]
  },
  {
   "cell_type": "code",
   "execution_count": 20,
   "id": "12eba300-21c5-4a22-a8b5-16cf91e26b97",
   "metadata": {},
   "outputs": [
    {
     "name": "stdout",
     "output_type": "stream",
     "text": [
      "percent outliers using IQR:  240FY212.RO01     6.999409\n",
      "240AIC324.MEAS    4.528327\n",
      "S2MAQUINAT07      1.418872\n",
      "240FY430.RO01     0.632401\n",
      "240FIC236.MEAS    0.567907\n",
      "                    ...   \n",
      "240FY050.RO02     0.000000\n",
      "240FY039.RO01     0.000000\n",
      "240FY024A.RO01    0.000000\n",
      "240FIC440.MEAS    0.000000\n",
      "calc_prod_p       0.000000\n",
      "Length: 64, dtype: float64\n"
     ]
    }
   ],
   "source": [
    "# Calcular el percentaje de outlier de cada feature\n",
    "percent_outliers = (100 * (outliers.sum() / len_processed_data)).sort_values(ascending = False)\n",
    "print('percent outliers using IQR: ', percent_outliers)"
   ]
  },
  {
   "cell_type": "code",
   "execution_count": 21,
   "id": "30db62aa-fdaa-411b-b1e0-7a8e7f5bea5e",
   "metadata": {},
   "outputs": [],
   "source": [
    "# delete outliers\n",
    "df_processed_cleaned = processed_data[~outliers.any(axis=1)]"
   ]
  },
  {
   "cell_type": "code",
   "execution_count": 22,
   "id": "4843b7ac-4b72-4f0c-86fe-5839fba8d710",
   "metadata": {},
   "outputs": [
    {
     "name": "stdout",
     "output_type": "stream",
     "text": [
      "len data:  167457\n",
      "len data cleaned:  143200\n",
      "porcentaje disminución data por limpieza IQR:  14.486\n"
     ]
    }
   ],
   "source": [
    "# calcular tamaño del nuevo dataframe con los valores atipicos por IQR borrados\n",
    "len_processed_cleaned = df_processed_cleaned.shape[0]\n",
    "\n",
    "print('len data: ', len_processed_data)\n",
    "print('len data cleaned: ', len_processed_cleaned)\n",
    "percent_change_iqr = -100*((len_processed_cleaned - len_processed_data) / len_processed_data)\n",
    "print('porcentaje disminución data por limpieza IQR: ', round(percent_change_iqr, 3))"
   ]
  },
  {
   "cell_type": "code",
   "execution_count": null,
   "id": "d306b2ef-f6df-42af-9b7b-d57a881c757d",
   "metadata": {},
   "outputs": [],
   "source": []
  },
  {
   "cell_type": "code",
   "execution_count": null,
   "id": "c37648e5",
   "metadata": {},
   "outputs": [],
   "source": []
  },
  {
   "cell_type": "markdown",
   "id": "2f6efd3b",
   "metadata": {},
   "source": [
    "### 12. GUARDAR PKL PROCESSED"
   ]
  },
  {
   "cell_type": "code",
   "execution_count": 23,
   "id": "a8774eb9-130a-43dc-823f-4af189b13a8e",
   "metadata": {},
   "outputs": [
    {
     "data": {
      "text/html": [
       "<div>\n",
       "<style scoped>\n",
       "    .dataframe tbody tr th:only-of-type {\n",
       "        vertical-align: middle;\n",
       "    }\n",
       "\n",
       "    .dataframe tbody tr th {\n",
       "        vertical-align: top;\n",
       "    }\n",
       "\n",
       "    .dataframe thead th {\n",
       "        text-align: right;\n",
       "    }\n",
       "</style>\n",
       "<table border=\"1\" class=\"dataframe\">\n",
       "  <thead>\n",
       "    <tr style=\"text-align: right;\">\n",
       "      <th></th>\n",
       "      <th>230AIT446.PNT</th>\n",
       "      <th>240AIC022.MEAS</th>\n",
       "      <th>240AIC126.MEAS</th>\n",
       "      <th>240AIC224.MEAS</th>\n",
       "      <th>240AIC286.MEAS</th>\n",
       "      <th>240AIC324.MEAS</th>\n",
       "      <th>240AIC433.MEAS</th>\n",
       "      <th>240AIT063A.PNT</th>\n",
       "      <th>240AIT063B.PNT</th>\n",
       "      <th>240AIT225A.PNT</th>\n",
       "      <th>...</th>\n",
       "      <th>S240ALDP022</th>\n",
       "      <th>S240ALDP031</th>\n",
       "      <th>S240ALDP032</th>\n",
       "      <th>S276PER002</th>\n",
       "      <th>S2MAQUINAT07</th>\n",
       "      <th>S76ALE017</th>\n",
       "      <th>SSTRIPPING015</th>\n",
       "      <th>calc_prod_d0</th>\n",
       "      <th>calc_prod_d1</th>\n",
       "      <th>calc_prod_p</th>\n",
       "    </tr>\n",
       "    <tr>\n",
       "      <th>datetime</th>\n",
       "      <th></th>\n",
       "      <th></th>\n",
       "      <th></th>\n",
       "      <th></th>\n",
       "      <th></th>\n",
       "      <th></th>\n",
       "      <th></th>\n",
       "      <th></th>\n",
       "      <th></th>\n",
       "      <th></th>\n",
       "      <th></th>\n",
       "      <th></th>\n",
       "      <th></th>\n",
       "      <th></th>\n",
       "      <th></th>\n",
       "      <th></th>\n",
       "      <th></th>\n",
       "      <th></th>\n",
       "      <th></th>\n",
       "      <th></th>\n",
       "      <th></th>\n",
       "    </tr>\n",
       "  </thead>\n",
       "  <tbody>\n",
       "    <tr>\n",
       "      <th>2021-01-01 00:05:00</th>\n",
       "      <td>11.555040</td>\n",
       "      <td>2.983948</td>\n",
       "      <td>11.346645</td>\n",
       "      <td>4.413519</td>\n",
       "      <td>4.352375</td>\n",
       "      <td>10.441675</td>\n",
       "      <td>4.292521</td>\n",
       "      <td>5.86932</td>\n",
       "      <td>62.37495</td>\n",
       "      <td>1.837519</td>\n",
       "      <td>...</td>\n",
       "      <td>91.49</td>\n",
       "      <td>1.8</td>\n",
       "      <td>11.4</td>\n",
       "      <td>11.77</td>\n",
       "      <td>1.5712</td>\n",
       "      <td>173.6</td>\n",
       "      <td>964.0</td>\n",
       "      <td>3240.8635</td>\n",
       "      <td>3313.6215</td>\n",
       "      <td>3259.3745</td>\n",
       "    </tr>\n",
       "    <tr>\n",
       "      <th>2021-01-01 00:10:00</th>\n",
       "      <td>11.552320</td>\n",
       "      <td>3.015669</td>\n",
       "      <td>11.353215</td>\n",
       "      <td>4.413179</td>\n",
       "      <td>4.347186</td>\n",
       "      <td>10.432170</td>\n",
       "      <td>4.289684</td>\n",
       "      <td>5.86932</td>\n",
       "      <td>62.37495</td>\n",
       "      <td>1.814020</td>\n",
       "      <td>...</td>\n",
       "      <td>91.49</td>\n",
       "      <td>1.8</td>\n",
       "      <td>11.4</td>\n",
       "      <td>11.77</td>\n",
       "      <td>1.5712</td>\n",
       "      <td>173.6</td>\n",
       "      <td>964.0</td>\n",
       "      <td>3260.7475</td>\n",
       "      <td>3301.6920</td>\n",
       "      <td>3208.6785</td>\n",
       "    </tr>\n",
       "    <tr>\n",
       "      <th>2021-01-01 00:15:00</th>\n",
       "      <td>11.549955</td>\n",
       "      <td>3.018903</td>\n",
       "      <td>11.355525</td>\n",
       "      <td>4.408321</td>\n",
       "      <td>4.355828</td>\n",
       "      <td>10.410115</td>\n",
       "      <td>4.284427</td>\n",
       "      <td>5.86932</td>\n",
       "      <td>62.37495</td>\n",
       "      <td>1.814020</td>\n",
       "      <td>...</td>\n",
       "      <td>91.49</td>\n",
       "      <td>1.8</td>\n",
       "      <td>11.4</td>\n",
       "      <td>11.77</td>\n",
       "      <td>1.5712</td>\n",
       "      <td>173.6</td>\n",
       "      <td>964.0</td>\n",
       "      <td>3265.5765</td>\n",
       "      <td>3284.1330</td>\n",
       "      <td>3210.7790</td>\n",
       "    </tr>\n",
       "  </tbody>\n",
       "</table>\n",
       "<p>3 rows × 64 columns</p>\n",
       "</div>"
      ],
      "text/plain": [
       "                     230AIT446.PNT  240AIC022.MEAS  240AIC126.MEAS  \\\n",
       "datetime                                                             \n",
       "2021-01-01 00:05:00      11.555040        2.983948       11.346645   \n",
       "2021-01-01 00:10:00      11.552320        3.015669       11.353215   \n",
       "2021-01-01 00:15:00      11.549955        3.018903       11.355525   \n",
       "\n",
       "                     240AIC224.MEAS  240AIC286.MEAS  240AIC324.MEAS  \\\n",
       "datetime                                                              \n",
       "2021-01-01 00:05:00        4.413519        4.352375       10.441675   \n",
       "2021-01-01 00:10:00        4.413179        4.347186       10.432170   \n",
       "2021-01-01 00:15:00        4.408321        4.355828       10.410115   \n",
       "\n",
       "                     240AIC433.MEAS  240AIT063A.PNT  240AIT063B.PNT  \\\n",
       "datetime                                                              \n",
       "2021-01-01 00:05:00        4.292521         5.86932        62.37495   \n",
       "2021-01-01 00:10:00        4.289684         5.86932        62.37495   \n",
       "2021-01-01 00:15:00        4.284427         5.86932        62.37495   \n",
       "\n",
       "                     240AIT225A.PNT  ...  S240ALDP022  S240ALDP031  \\\n",
       "datetime                             ...                             \n",
       "2021-01-01 00:05:00        1.837519  ...        91.49          1.8   \n",
       "2021-01-01 00:10:00        1.814020  ...        91.49          1.8   \n",
       "2021-01-01 00:15:00        1.814020  ...        91.49          1.8   \n",
       "\n",
       "                     S240ALDP032  S276PER002  S2MAQUINAT07  S76ALE017  \\\n",
       "datetime                                                                \n",
       "2021-01-01 00:05:00         11.4       11.77        1.5712      173.6   \n",
       "2021-01-01 00:10:00         11.4       11.77        1.5712      173.6   \n",
       "2021-01-01 00:15:00         11.4       11.77        1.5712      173.6   \n",
       "\n",
       "                     SSTRIPPING015  calc_prod_d0  calc_prod_d1  calc_prod_p  \n",
       "datetime                                                                     \n",
       "2021-01-01 00:05:00          964.0     3240.8635     3313.6215    3259.3745  \n",
       "2021-01-01 00:10:00          964.0     3260.7475     3301.6920    3208.6785  \n",
       "2021-01-01 00:15:00          964.0     3265.5765     3284.1330    3210.7790  \n",
       "\n",
       "[3 rows x 64 columns]"
      ]
     },
     "execution_count": 23,
     "metadata": {},
     "output_type": "execute_result"
    }
   ],
   "source": [
    "# show data\n",
    "df_processed_cleaned.head(3)"
   ]
  },
  {
   "cell_type": "code",
   "execution_count": 24,
   "id": "d1cdc838",
   "metadata": {},
   "outputs": [],
   "source": [
    "# save data pkl cloud\n",
    "path_raw_data_processed = 'artifacts/data/data.pkl'\n",
    "with open(path_raw_data_processed, \"wb\") as output:\n",
    "    pickle.dump(df_processed_cleaned, output)\n",
    "    output.close()"
   ]
  },
  {
   "cell_type": "code",
   "execution_count": null,
   "id": "678388dc-0baf-499d-aef3-079666afa336",
   "metadata": {},
   "outputs": [],
   "source": []
  },
  {
   "cell_type": "code",
   "execution_count": null,
   "id": "48ca009b",
   "metadata": {},
   "outputs": [],
   "source": []
  }
 ],
 "metadata": {
  "kernelspec": {
   "display_name": "Python 3 (ipykernel)",
   "language": "python",
   "name": "python3"
  },
  "language_info": {
   "codemirror_mode": {
    "name": "ipython",
    "version": 3
   },
   "file_extension": ".py",
   "mimetype": "text/x-python",
   "name": "python",
   "nbconvert_exporter": "python",
   "pygments_lexer": "ipython3",
   "version": "3.10.12"
  }
 },
 "nbformat": 4,
 "nbformat_minor": 5
}
