{
 "cells": [
  {
   "cell_type": "markdown",
   "id": "c43faa4d-db0f-4cd3-a093-19438ecae397",
   "metadata": {},
   "source": [
    "# DOWNLOAD RAW DATA\n",
    "Download raw data between a time range\n",
    "\n",
    "-------\n",
    "**DATA**:\n",
    "- INPUT: nothing - query datalake\n",
    "- OUTPUT: \"data_raw_bigquery.pkl\""
   ]
  },
  {
   "cell_type": "markdown",
   "id": "b922bd84-6691-4e5a-92c9-dac5fd7dadbd",
   "metadata": {},
   "source": [
    "## Root folder and read env variables"
   ]
  },
  {
   "cell_type": "code",
   "execution_count": 1,
   "id": "b846b3c3-ef67-4a3c-8b9d-3b3796b61fb3",
   "metadata": {},
   "outputs": [
    {
     "name": "stdout",
     "output_type": "stream",
     "text": [
      "root path:  D:\\github-mi-repo\\Optimization-Industrial-Process\n"
     ]
    }
   ],
   "source": [
    "import os\n",
    "# fix root path to save outputs\n",
    "actual_path = os.path.abspath(os.getcwd())\n",
    "list_root_path = actual_path.split('\\\\')[:-1]\n",
    "root_path = '\\\\'.join(list_root_path)\n",
    "os.chdir(root_path)\n",
    "print('root path: ', root_path)"
   ]
  },
  {
   "cell_type": "code",
   "execution_count": 2,
   "id": "cd3c0576-ebc2-4df8-9bea-50f29844198a",
   "metadata": {},
   "outputs": [],
   "source": [
    "import os\n",
    "from dotenv import load_dotenv, find_dotenv # package used in jupyter notebook to read the variables in file .env\n",
    "\n",
    "\"\"\" get env variable from .env \"\"\"\n",
    "load_dotenv(find_dotenv())\n",
    "\n",
    "\"\"\" Read env variables and save it as python variable \"\"\"\n",
    "PROJECT_GCP = os.environ.get(\"PROJECT_GCP\", \"\")\n",
    "\n",
    "\"\"\" Get dataset and table of bigquery where the data is located \"\"\"\n",
    "URI_TABLE_DATALAKE = os.environ.get(\"URI_TABLE_DATALAKE\", \"\")"
   ]
  },
  {
   "cell_type": "code",
   "execution_count": null,
   "id": "8c838e5b-11f5-4eb1-8691-a12b0c11db19",
   "metadata": {},
   "outputs": [],
   "source": []
  },
  {
   "cell_type": "markdown",
   "id": "5b932a6a-e43e-498a-a4c6-338ec4858286",
   "metadata": {},
   "source": [
    "## RUN"
   ]
  },
  {
   "cell_type": "code",
   "execution_count": 3,
   "id": "c29ac8e0",
   "metadata": {},
   "outputs": [],
   "source": [
    "import pandas as pd\n",
    "import numpy as np\n",
    "from google.cloud import bigquery\n",
    "import gcsfs\n",
    "import pickle\n",
    "import json"
   ]
  },
  {
   "cell_type": "code",
   "execution_count": 4,
   "id": "c30fb690",
   "metadata": {},
   "outputs": [
    {
     "name": "stderr",
     "output_type": "stream",
     "text": [
      "Updated property [core/project].\n"
     ]
    }
   ],
   "source": [
    "### desarrollo\n",
    "\n",
    "PROJECT_ID = PROJECT_GCP\n",
    "! gcloud config set project $PROJECT_ID"
   ]
  },
  {
   "cell_type": "markdown",
   "id": "6077aebf-0666-4bbb-ae25-5e51b842abf8",
   "metadata": {},
   "source": [
    "### 1. Read parameters to read data"
   ]
  },
  {
   "cell_type": "code",
   "execution_count": 5,
   "id": "f36f9725-9a64-4ef3-a9c2-be412df57d23",
   "metadata": {},
   "outputs": [],
   "source": [
    "# read json parameters\n",
    "json_params = 'config/params.json'\n",
    "with open(json_params, 'r') as file:\n",
    "    params = json.load(file)"
   ]
  },
  {
   "cell_type": "code",
   "execution_count": 6,
   "id": "ce5345ce-3b00-4359-a90f-74dd858d39aa",
   "metadata": {},
   "outputs": [
    {
     "name": "stdout",
     "output_type": "stream",
     "text": [
      "start_date:  2021-01-01\n",
      "end_date:  2023-01-01\n"
     ]
    }
   ],
   "source": [
    "# get start and end date train\n",
    "start_date = params['blanqueo_santafe_all']['data_train']['start_date_train']\n",
    "end_date = params['blanqueo_santafe_all']['data_train']['end_date_train']\n",
    "\n",
    "print('start_date: ',start_date)\n",
    "print('end_date: ', end_date)"
   ]
  },
  {
   "cell_type": "markdown",
   "id": "ffc08753-647d-42cf-846f-2989c86f58e3",
   "metadata": {},
   "source": [
    "### 2. Read table master tags\n",
    "Where is located a list of all features to get from bq"
   ]
  },
  {
   "cell_type": "code",
   "execution_count": 7,
   "id": "073df56a-52c8-4489-9772-d668371c730d",
   "metadata": {},
   "outputs": [
    {
     "data": {
      "text/html": [
       "<div>\n",
       "<style scoped>\n",
       "    .dataframe tbody tr th:only-of-type {\n",
       "        vertical-align: middle;\n",
       "    }\n",
       "\n",
       "    .dataframe tbody tr th {\n",
       "        vertical-align: top;\n",
       "    }\n",
       "\n",
       "    .dataframe thead th {\n",
       "        text-align: right;\n",
       "    }\n",
       "</style>\n",
       "<table border=\"1\" class=\"dataframe\">\n",
       "  <thead>\n",
       "    <tr style=\"text-align: right;\">\n",
       "      <th></th>\n",
       "      <th>TAG</th>\n",
       "      <th>TAG_DESCRIPTION</th>\n",
       "      <th>DESCRIPCION</th>\n",
       "      <th>ETAPA</th>\n",
       "      <th>CLASIFICACION</th>\n",
       "      <th>var_calc</th>\n",
       "    </tr>\n",
       "  </thead>\n",
       "  <tbody>\n",
       "    <tr>\n",
       "      <th>0</th>\n",
       "      <td>240FI020A.PNT</td>\n",
       "      <td>prod_total</td>\n",
       "      <td>Producción Total</td>\n",
       "      <td>A</td>\n",
       "      <td>NC</td>\n",
       "      <td>NaN</td>\n",
       "    </tr>\n",
       "    <tr>\n",
       "      <th>1</th>\n",
       "      <td>calc_prod_d0</td>\n",
       "      <td>calc_prod_d0</td>\n",
       "      <td>Producción entrada D0 (prod entrada A dezplazada)</td>\n",
       "      <td>D0</td>\n",
       "      <td>NC</td>\n",
       "      <td>True</td>\n",
       "    </tr>\n",
       "    <tr>\n",
       "      <th>2</th>\n",
       "      <td>240FI020B.PNT</td>\n",
       "      <td>prod_eop</td>\n",
       "      <td>Prod entrada EOP</td>\n",
       "      <td>EOP</td>\n",
       "      <td>NC</td>\n",
       "      <td>NaN</td>\n",
       "    </tr>\n",
       "    <tr>\n",
       "      <th>3</th>\n",
       "      <td>240FI108A.PNT</td>\n",
       "      <td>prod_bypass</td>\n",
       "      <td>Producción by pass</td>\n",
       "      <td>D1</td>\n",
       "      <td>NC</td>\n",
       "      <td>NaN</td>\n",
       "    </tr>\n",
       "    <tr>\n",
       "      <th>4</th>\n",
       "      <td>calc_prod_d1</td>\n",
       "      <td>calc_prod_d1</td>\n",
       "      <td>Producción entrada D1 (prod entrada A desplazada)</td>\n",
       "      <td>D1</td>\n",
       "      <td>NC</td>\n",
       "      <td>True</td>\n",
       "    </tr>\n",
       "  </tbody>\n",
       "</table>\n",
       "</div>"
      ],
      "text/plain": [
       "             TAG TAG_DESCRIPTION  \\\n",
       "0  240FI020A.PNT      prod_total   \n",
       "1   calc_prod_d0    calc_prod_d0   \n",
       "2  240FI020B.PNT        prod_eop   \n",
       "3  240FI108A.PNT     prod_bypass   \n",
       "4   calc_prod_d1    calc_prod_d1   \n",
       "\n",
       "                                         DESCRIPCION ETAPA CLASIFICACION  \\\n",
       "0                                   Producción Total     A            NC   \n",
       "1  Producción entrada D0 (prod entrada A dezplazada)    D0            NC   \n",
       "2                                   Prod entrada EOP   EOP            NC   \n",
       "3                                 Producción by pass    D1            NC   \n",
       "4  Producción entrada D1 (prod entrada A desplazada)    D1            NC   \n",
       "\n",
       "  var_calc  \n",
       "0      NaN  \n",
       "1     True  \n",
       "2      NaN  \n",
       "3      NaN  \n",
       "4     True  "
      ]
     },
     "execution_count": 7,
     "metadata": {},
     "output_type": "execute_result"
    }
   ],
   "source": [
    "path_master_tags = 'config/MaestroTagsGlobal.xlsx'\n",
    "master_tags = pd.read_excel(path_master_tags)\n",
    "master_tags.head()"
   ]
  },
  {
   "cell_type": "code",
   "execution_count": 8,
   "id": "bb9af85c-414e-42b5-9f76-0f8d5e63da3e",
   "metadata": {},
   "outputs": [],
   "source": [
    "# filter list ALL features to download data\n",
    "list_features = master_tags['TAG'].tolist()"
   ]
  },
  {
   "cell_type": "code",
   "execution_count": null,
   "id": "0068bd45-b978-4958-87c8-ac72e0c50670",
   "metadata": {},
   "outputs": [],
   "source": []
  },
  {
   "cell_type": "markdown",
   "id": "8ac28cb1-f7a7-461f-bae2-cc2e73dc7400",
   "metadata": {},
   "source": [
    "### 3. Download data from datalake where the data is located"
   ]
  },
  {
   "cell_type": "code",
   "execution_count": 9,
   "id": "7bac4524",
   "metadata": {},
   "outputs": [],
   "source": [
    "# define query\n",
    "query = f'''\n",
    "SELECT DISTINCT\n",
    "tag_name AS Tag,\n",
    "tag_value AS PV,\n",
    "CAST( CONCAT(tag_date, 'T', tag_tm) AS DATETIME ) AS datetime\n",
    "FROM `{URI_TABLE_DATALAKE}`\n",
    "where tag_date >= \"{start_date}\"\n",
    "and tag_date <= \"{end_date}\"\n",
    "and tag_name in {tuple(list_features)}\n",
    "ORDER BY datetime asc\n",
    "'''"
   ]
  },
  {
   "cell_type": "code",
   "execution_count": 10,
   "id": "82b3687f",
   "metadata": {},
   "outputs": [
    {
     "data": {
      "text/html": [
       "<div>\n",
       "<style scoped>\n",
       "    .dataframe tbody tr th:only-of-type {\n",
       "        vertical-align: middle;\n",
       "    }\n",
       "\n",
       "    .dataframe tbody tr th {\n",
       "        vertical-align: top;\n",
       "    }\n",
       "\n",
       "    .dataframe thead th {\n",
       "        text-align: right;\n",
       "    }\n",
       "</style>\n",
       "<table border=\"1\" class=\"dataframe\">\n",
       "  <thead>\n",
       "    <tr style=\"text-align: right;\">\n",
       "      <th></th>\n",
       "      <th>Tag</th>\n",
       "      <th>PV</th>\n",
       "      <th>datetime</th>\n",
       "    </tr>\n",
       "  </thead>\n",
       "  <tbody>\n",
       "    <tr>\n",
       "      <th>0</th>\n",
       "      <td>240FI020A_HRS_EOP.C</td>\n",
       "      <td>46.999200</td>\n",
       "      <td>2021-01-01 00:00:00</td>\n",
       "    </tr>\n",
       "    <tr>\n",
       "      <th>1</th>\n",
       "      <td>240FI020A_HRS_DO.C</td>\n",
       "      <td>11.483770</td>\n",
       "      <td>2021-01-01 00:00:00</td>\n",
       "    </tr>\n",
       "    <tr>\n",
       "      <th>2</th>\n",
       "      <td>230AIT446.PNT</td>\n",
       "      <td>11.556540</td>\n",
       "      <td>2021-01-01 00:00:00</td>\n",
       "    </tr>\n",
       "    <tr>\n",
       "      <th>3</th>\n",
       "      <td>240FIC440.MEAS</td>\n",
       "      <td>0.023512</td>\n",
       "      <td>2021-01-01 00:00:00</td>\n",
       "    </tr>\n",
       "    <tr>\n",
       "      <th>4</th>\n",
       "      <td>240FIC236.MEAS</td>\n",
       "      <td>0.000117</td>\n",
       "      <td>2021-01-01 00:00:00</td>\n",
       "    </tr>\n",
       "    <tr>\n",
       "      <th>...</th>\n",
       "      <td>...</td>\n",
       "      <td>...</td>\n",
       "      <td>...</td>\n",
       "    </tr>\n",
       "    <tr>\n",
       "      <th>13352524</th>\n",
       "      <td>240FI020A_HRS_DO.C</td>\n",
       "      <td>10.446980</td>\n",
       "      <td>2023-01-01 23:55:02</td>\n",
       "    </tr>\n",
       "    <tr>\n",
       "      <th>13352525</th>\n",
       "      <td>S276PER002</td>\n",
       "      <td>11.210000</td>\n",
       "      <td>2023-01-01 23:55:02</td>\n",
       "    </tr>\n",
       "    <tr>\n",
       "      <th>13352526</th>\n",
       "      <td>S2MAQUINAT07</td>\n",
       "      <td>3.977046</td>\n",
       "      <td>2023-01-01 23:55:02</td>\n",
       "    </tr>\n",
       "    <tr>\n",
       "      <th>13352527</th>\n",
       "      <td>240FIC110.MEAS</td>\n",
       "      <td>0.091055</td>\n",
       "      <td>2023-01-01 23:55:02</td>\n",
       "    </tr>\n",
       "    <tr>\n",
       "      <th>13352528</th>\n",
       "      <td>240FY039.RO01</td>\n",
       "      <td>0.000000</td>\n",
       "      <td>2023-01-01 23:55:02</td>\n",
       "    </tr>\n",
       "  </tbody>\n",
       "</table>\n",
       "<p>13352529 rows × 3 columns</p>\n",
       "</div>"
      ],
      "text/plain": [
       "                          Tag         PV            datetime\n",
       "0         240FI020A_HRS_EOP.C  46.999200 2021-01-01 00:00:00\n",
       "1          240FI020A_HRS_DO.C  11.483770 2021-01-01 00:00:00\n",
       "2               230AIT446.PNT  11.556540 2021-01-01 00:00:00\n",
       "3              240FIC440.MEAS   0.023512 2021-01-01 00:00:00\n",
       "4              240FIC236.MEAS   0.000117 2021-01-01 00:00:00\n",
       "...                       ...        ...                 ...\n",
       "13352524   240FI020A_HRS_DO.C  10.446980 2023-01-01 23:55:02\n",
       "13352525           S276PER002  11.210000 2023-01-01 23:55:02\n",
       "13352526         S2MAQUINAT07   3.977046 2023-01-01 23:55:02\n",
       "13352527       240FIC110.MEAS   0.091055 2023-01-01 23:55:02\n",
       "13352528        240FY039.RO01   0.000000 2023-01-01 23:55:02\n",
       "\n",
       "[13352529 rows x 3 columns]"
      ]
     },
     "execution_count": 10,
     "metadata": {},
     "output_type": "execute_result"
    }
   ],
   "source": [
    "# query datalake\n",
    "def query_bq_to_dataframe(Project,InputQuery):\n",
    "    '''\n",
    "    Query a table of bq and return a dataframe with the output\n",
    "    '''\n",
    "    client = bigquery.Client(project = Project)\n",
    "    query_job = client.query(InputQuery)\n",
    "    results = query_job.result()\n",
    "    results = results.to_dataframe()\n",
    "    return results\n",
    "\n",
    "data = query_bq_to_dataframe(PROJECT_ID, query)\n",
    "data"
   ]
  },
  {
   "cell_type": "code",
   "execution_count": 11,
   "id": "392d1f87",
   "metadata": {},
   "outputs": [],
   "source": [
    "# save locally\n",
    "with open('artifacts/data/data_raw_bigquery.pkl', 'wb') as handle:\n",
    "    pickle.dump(data, handle)"
   ]
  },
  {
   "cell_type": "code",
   "execution_count": null,
   "id": "3ccee55f",
   "metadata": {},
   "outputs": [],
   "source": []
  },
  {
   "cell_type": "code",
   "execution_count": null,
   "id": "5cc92225-ca4a-4868-a003-ac0d104966b0",
   "metadata": {},
   "outputs": [],
   "source": []
  },
  {
   "cell_type": "code",
   "execution_count": null,
   "id": "beabd222-f440-4085-a75a-f0a8b1836075",
   "metadata": {},
   "outputs": [],
   "source": []
  }
 ],
 "metadata": {
  "kernelspec": {
   "display_name": "Python 3 (ipykernel)",
   "language": "python",
   "name": "python3"
  },
  "language_info": {
   "codemirror_mode": {
    "name": "ipython",
    "version": 3
   },
   "file_extension": ".py",
   "mimetype": "text/x-python",
   "name": "python",
   "nbconvert_exporter": "python",
   "pygments_lexer": "ipython3",
   "version": "3.10.12"
  }
 },
 "nbformat": 4,
 "nbformat_minor": 5
}
